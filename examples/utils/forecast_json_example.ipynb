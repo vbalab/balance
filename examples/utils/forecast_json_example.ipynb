{
 "cells": [
  {
   "cell_type": "code",
   "execution_count": 1,
   "id": "a64ec341-9ec8-4ba2-b1c9-a903ffee2b5b",
   "metadata": {},
   "outputs": [],
   "source": [
    "#!pip install scikit-learn --force\n",
    "#!pip install catboost"
   ]
  },
  {
   "cell_type": "code",
   "execution_count": 2,
   "id": "532f9d68-b0fc-4a7b-b166-b60981a74909",
   "metadata": {},
   "outputs": [],
   "source": [
    "import sys\n",
    "sys.path.append('..')\n",
    "import pandas as pd\n",
    "import numpy as np\n",
    "from pandas.tseries.offsets import MonthEnd\n",
    "from datetime import datetime\n",
    "import os\n",
    "import importlib\n",
    "\n",
    "pd.set_option('display.max.columns', 300)\n",
    "\n",
    "from core.calculator.storage import ModelDB\n",
    "from core.calculator.core import ForecastConfig\n",
    "from core.calculator.core import TrainingManager\n",
    "from core.calculator.core import ForecastConfig\n",
    "from core.calculator.core import ForecastEngine\n",
    "\n",
    "from core.calculator.deposits import DepositsCalculationType\n",
    "from core.calculator.deposits import DepositIterativeCalculator\n",
    "\n",
    "from core.definitions import *\n",
    "from core.project_update import load_portfolio\n",
    "\n",
    "from core.models import DepositModels\n",
    "from warnings import filterwarnings\n",
    "filterwarnings('ignore')"
   ]
  },
  {
   "cell_type": "code",
   "execution_count": 3,
   "id": "c383b536-75c4-4ccd-9bd1-a0b5958a84ee",
   "metadata": {},
   "outputs": [],
   "source": [
    "# Дата из который мы прогнозируем (пока что не меняется)\n",
    "train_end = datetime(year=2023, month=8, day=31)\n",
    "\n",
    "# Горизонт прогноза в месяцах\n",
    "horizon = 3"
   ]
  },
  {
   "cell_type": "code",
   "execution_count": null,
   "id": "065b9c28-48a6-43f0-99f2-c8d041d20abb",
   "metadata": {},
   "outputs": [],
   "source": []
  },
  {
   "cell_type": "code",
   "execution_count": 4,
   "id": "be494a64-38f3-41d8-b3b5-f89427739a12",
   "metadata": {},
   "outputs": [],
   "source": [
    "# Данные для прогноза\n",
    "scenario_data = {\n",
    "    # Ожидаемый баланс на первую дату прогноза, задавать необязательно\n",
    "     'expected_amount':      [np.nan for h in range(horizon)],\n",
    "    # ССВ\n",
    "     'SSV':                  [0.48 for h in range(horizon)],\n",
    "    # ФОР\n",
    "     'FOR':                  [4.5 for h in range(horizon)],\n",
    "    # Трансфертные ставки\n",
    "     'VTB_ftp_rate_[90d]':   [12.3 for h in range(horizon)],\n",
    "     'VTB_ftp_rate_[180d]':  [12 for h in range(horizon)],\n",
    "     'VTB_ftp_rate_[365d]':  [12 for h in range(horizon)],\n",
    "     'VTB_ftp_rate_[548d]':  [12 for h in range(horizon)],\n",
    "     'VTB_ftp_rate_[730d]':  [12 for h in range(horizon)],\n",
    "     'VTB_ftp_rate_[1095d]': [12 for h in range(horizon)],\n",
    "    \n",
    "    # Маржа бизнеса по срочностям\n",
    "     'margin_[90d]':         [0.1 for h in range(horizon)],\n",
    "     'margin_[180d]':        [0.1 for h in range(horizon)],\n",
    "     'margin_[365d]':        [0.1 for h in range(horizon)],\n",
    "     'margin_[548d]':        [0.1 for h in range(horizon)],\n",
    "     'margin_[730d]':        [0.2 for h in range(horizon)],\n",
    "     'margin_[1095d]':       [0.2 for h in range(horizon)],\n",
    "    \n",
    "    # Спред Привилегия - Массовый (на сколько в среднем ставки по сегменту Привилегия больше чем ставки по массовому сегменту)\n",
    "     'priv_spread':          [0.4 for h in range(horizon)],\n",
    "    # Спред ВИП - Массовый (на сколько в среднем ставки по сегменту ВИП больше чем ставки по массовому сегменту)\n",
    "     'vip_spread':           [0.8 for h in range(horizon)],\n",
    "    \n",
    "    # Ниже три спреда по разным типам опциональности по отношению к безопциональным вкладам (Подразумевается, что они, как правило, отрицательные)\n",
    "    # r - возможности пополнения, s - возможность расходных операций\n",
    "    \n",
    "    # На сколько ставка по расходным вкладам выше чем ставка по безопциональным вкладам (Если ниже - то со знаком минус)\n",
    "     'r0s1_spread':          [-1 for h in range(horizon)],\n",
    "    \n",
    "    # На сколько ставка по пополняемым вкладам выше чем ставка по безопциональным вкладам (Если ниже - то со знаком минус)\n",
    "     'r1s0_spread':          [-1 for h in range(horizon)],\n",
    "    \n",
    "    # На сколько ставка по расходно-пополняемым вкладам выше чем ставка по безопциональным вкладам (Если ниже - то со знаком минус)\n",
    "     'r1s1_spread':          [-1.2 for h in range(horizon)],\n",
    "    \n",
    "    # Ставка по лучшему предложению сбера\n",
    "     'SBER_max_rate':        [11.2, 11.2, 11.2],\n",
    "    \n",
    "    # Базовая ставка по НС\n",
    "     'SA_rate':              [5 for h in range(horizon)]\n",
    "}\n"
   ]
  },
  {
   "cell_type": "markdown",
   "id": "4d97273b-0121-4813-88e5-e8f6717a8664",
   "metadata": {},
   "source": [
    "## Пример создания JSON"
   ]
  },
  {
   "cell_type": "code",
   "execution_count": 5,
   "id": "794005a8-b122-4705-8751-7aea22ade907",
   "metadata": {},
   "outputs": [],
   "source": [
    "# scenario_data - наш словарь с данными\n",
    "\n",
    "d1 = {\"forecast_params\": \n",
    "     [\n",
    "    {\"currency\": \"RUB\",\n",
    "      \"params\": scenario_data\n",
    "      },\n",
    "    {\"currency\": \"CNY\",\n",
    "      \"params\": 'test'\n",
    "      },\n",
    "  ]}"
   ]
  },
  {
   "cell_type": "code",
   "execution_count": 6,
   "id": "63f60c6a-babf-443b-8856-57ed492cb3b3",
   "metadata": {},
   "outputs": [],
   "source": [
    "import json"
   ]
  },
  {
   "cell_type": "code",
   "execution_count": 7,
   "id": "926387db-c290-46ed-8e08-45552a218ea1",
   "metadata": {},
   "outputs": [],
   "source": [
    "# запись \n",
    "with open('sc_example.json', 'w') as outfile:\n",
    "    json.dump(d1, outfile)"
   ]
  },
  {
   "cell_type": "code",
   "execution_count": 8,
   "id": "ba533153-212e-4559-a4ad-254d4a513d20",
   "metadata": {},
   "outputs": [],
   "source": [
    "# чтение\n",
    "with open('sc_example.json', 'r') as openfile:\n",
    "    d1 = json.load(openfile)"
   ]
  },
  {
   "cell_type": "code",
   "execution_count": 9,
   "id": "b5924756-d7cf-4cd9-9440-04bc6a55253a",
   "metadata": {},
   "outputs": [
    {
     "name": "stdout",
     "output_type": "stream",
     "text": [
      "{'expected_amount': [nan, nan, nan], 'SSV': [0.48, 0.48, 0.48], 'FOR': [4.5, 4.5, 4.5], 'VTB_ftp_rate_[90d]': [12.3, 12.3, 12.3], 'VTB_ftp_rate_[180d]': [12, 12, 12], 'VTB_ftp_rate_[365d]': [12, 12, 12], 'VTB_ftp_rate_[548d]': [12, 12, 12], 'VTB_ftp_rate_[730d]': [12, 12, 12], 'VTB_ftp_rate_[1095d]': [12, 12, 12], 'margin_[90d]': [0.1, 0.1, 0.1], 'margin_[180d]': [0.1, 0.1, 0.1], 'margin_[365d]': [0.1, 0.1, 0.1], 'margin_[548d]': [0.1, 0.1, 0.1], 'margin_[730d]': [0.2, 0.2, 0.2], 'margin_[1095d]': [0.2, 0.2, 0.2], 'priv_spread': [0.4, 0.4, 0.4], 'vip_spread': [0.8, 0.8, 0.8], 'r0s1_spread': [-1, -1, -1], 'r1s0_spread': [-1, -1, -1], 'r1s1_spread': [-1.2, -1.2, -1.2], 'SBER_max_rate': [11.2, 11.2, 11.2], 'SA_rate': [5, 5, 5]}\n"
     ]
    }
   ],
   "source": [
    "if (d1[\"forecast_params\"][0]['currency']=='RUB'):\n",
    "    print(d1[\"forecast_params\"][0]['params'])"
   ]
  },
  {
   "cell_type": "markdown",
   "id": "5ca06195-9420-4e03-9387-7a13059cb34a",
   "metadata": {},
   "source": [
    "### Возможная альтернатива (более удобный словарь)"
   ]
  },
  {
   "cell_type": "code",
   "execution_count": 10,
   "id": "e053617f-b40a-48c1-a0b0-ded13769188c",
   "metadata": {},
   "outputs": [],
   "source": [
    "d2 = {\"forecast_params\": \n",
    "      {\"currency\": {'RUB':  {\"params\": scenario_data},\n",
    "                   'CNY': {\"params\": 'scenario_data_CNY_example'} }}}"
   ]
  },
  {
   "cell_type": "code",
   "execution_count": 11,
   "id": "3f6aa00d-354f-48e6-8e96-faebe99addd8",
   "metadata": {},
   "outputs": [
    {
     "data": {
      "text/plain": [
       "{'expected_amount': [nan, nan, nan],\n",
       " 'SSV': [0.48, 0.48, 0.48],\n",
       " 'FOR': [4.5, 4.5, 4.5],\n",
       " 'VTB_ftp_rate_[90d]': [12.3, 12.3, 12.3],\n",
       " 'VTB_ftp_rate_[180d]': [12, 12, 12],\n",
       " 'VTB_ftp_rate_[365d]': [12, 12, 12],\n",
       " 'VTB_ftp_rate_[548d]': [12, 12, 12],\n",
       " 'VTB_ftp_rate_[730d]': [12, 12, 12],\n",
       " 'VTB_ftp_rate_[1095d]': [12, 12, 12],\n",
       " 'margin_[90d]': [0.1, 0.1, 0.1],\n",
       " 'margin_[180d]': [0.1, 0.1, 0.1],\n",
       " 'margin_[365d]': [0.1, 0.1, 0.1],\n",
       " 'margin_[548d]': [0.1, 0.1, 0.1],\n",
       " 'margin_[730d]': [0.2, 0.2, 0.2],\n",
       " 'margin_[1095d]': [0.2, 0.2, 0.2],\n",
       " 'priv_spread': [0.4, 0.4, 0.4],\n",
       " 'vip_spread': [0.8, 0.8, 0.8],\n",
       " 'r0s1_spread': [-1, -1, -1],\n",
       " 'r1s0_spread': [-1, -1, -1],\n",
       " 'r1s1_spread': [-1.2, -1.2, -1.2],\n",
       " 'SBER_max_rate': [11.2, 11.2, 11.2],\n",
       " 'SA_rate': [5, 5, 5]}"
      ]
     },
     "execution_count": 11,
     "metadata": {},
     "output_type": "execute_result"
    }
   ],
   "source": [
    "d2['forecast_params']['currency']['RUB']['params']"
   ]
  },
  {
   "cell_type": "markdown",
   "id": "95c32a22-f525-4c9a-89f0-c11ec73025d9",
   "metadata": {},
   "source": [
    "### Прогноз модели"
   ]
  },
  {
   "cell_type": "code",
   "execution_count": 12,
   "id": "a0f499f4-accb-47a5-9af5-595f400ccf37",
   "metadata": {},
   "outputs": [],
   "source": [
    "scenario_data = (d1[\"forecast_params\"][0]['params'])"
   ]
  },
  {
   "cell_type": "code",
   "execution_count": null,
   "id": "9571c759-fcb0-4011-b642-8482eba8822c",
   "metadata": {},
   "outputs": [],
   "source": []
  },
  {
   "cell_type": "code",
   "execution_count": null,
   "id": "c46b1858-5ae6-49a0-a51c-408e0e7b08ec",
   "metadata": {},
   "outputs": [],
   "source": []
  },
  {
   "cell_type": "code",
   "execution_count": 13,
   "id": "1d4e145a-c51e-406a-a2e3-026e7330bbc8",
   "metadata": {},
   "outputs": [],
   "source": [
    "scenario_df_user = pd.DataFrame(scenario_data)"
   ]
  },
  {
   "cell_type": "code",
   "execution_count": 14,
   "id": "1f28a7a1-4415-4565-a1b8-c381e3e014e1",
   "metadata": {},
   "outputs": [],
   "source": [
    "scenario_df = preprocess_scenario(scenario_df_user, train_end, horizon)"
   ]
  },
  {
   "cell_type": "code",
   "execution_count": 15,
   "id": "b18ad21b-7aeb-49f8-b8d9-09ac58a60745",
   "metadata": {},
   "outputs": [],
   "source": [
    "port_folder = '../data/portfolio_data'\n",
    "portfolio = load_portfolio(train_end, port_folder)"
   ]
  },
  {
   "cell_type": "code",
   "execution_count": 16,
   "id": "355543ef-240d-4e09-8d1f-f377ced1575e",
   "metadata": {},
   "outputs": [],
   "source": [
    "# если хотим обучить модели\n",
    "\n",
    "from core.models.utils import run_spark_session\n",
    "#spark = run_spark_session('check_calc')\n",
    "\n",
    "spark = None #если без обучения"
   ]
  },
  {
   "cell_type": "code",
   "execution_count": 17,
   "id": "a199523b-de08-4f70-87ec-d3e662856a68",
   "metadata": {},
   "outputs": [],
   "source": [
    "folder = '../data/trained_models'\n",
    "\n",
    "sqlite_filepath = os.path.join(folder, 'modeldb_test.bin')\n",
    "\n",
    "DB_URL = f\"sqlite:///{sqlite_filepath}\"\n",
    "model_db = ModelDB(DB_URL)\n"
   ]
  },
  {
   "cell_type": "code",
   "execution_count": 18,
   "id": "594f13d4-9b9d-446a-9198-32f9f17d2055",
   "metadata": {},
   "outputs": [],
   "source": [
    "ENV_NAME = 'hmelevskoi_env'\n",
    "\n",
    "os.environ['CC'] = 'x86_64-conda-linux-gnu-gcc'\n",
    "os.environ['CXX'] = 'x86_64-conda-linux-gnu-g++'\n",
    "os.environ['PATH'] = os.path.abspath(f'/tmp/envs/{ENV_NAME}/bin') + ':' + os.environ['PATH']"
   ]
  },
  {
   "cell_type": "code",
   "execution_count": null,
   "id": "b3ebb93f-59ed-4ab5-b5bd-a3a071a00cc2",
   "metadata": {},
   "outputs": [],
   "source": []
  },
  {
   "cell_type": "code",
   "execution_count": 19,
   "id": "28ad1c65-9821-47cb-8c14-7b521c172e93",
   "metadata": {},
   "outputs": [],
   "source": [
    "config: ForecastConfig = ForecastConfig(\n",
    "    first_train_end_dt = train_end,\n",
    "    horizon = horizon,\n",
    "    trainers = DepositModels.trainers,\n",
    "    data_loaders = DepositModels.dataloaders,\n",
    "    calculator_type = DepositIterativeCalculator,\n",
    "    calc_type = DepositsCalculationType,\n",
    "    adapter_types = DepositModels.adapter_types,\n",
    "    scenario_data = scenario_df,\n",
    "    portfolio = portfolio\n",
    ")\n",
    "    \n",
    "training_manager = TrainingManager(spark, config.trainers, folder, model_db)   \n",
    "engine: ForecastEngine = ForecastEngine(spark, config, training_manager, overwrite_models=False)"
   ]
  },
  {
   "cell_type": "code",
   "execution_count": 20,
   "id": "47d2f4a9-0f50-4029-8eda-6e7f6ae384d2",
   "metadata": {},
   "outputs": [
    {
     "name": "stderr",
     "output_type": "stream",
     "text": [
      "INFO:core:missing models: []\n",
      "INFO:core:add_models_from_bytes\n",
      "INFO:core:plan_close_201402_202308 - adapter <class 'core.models.plan_close.plan_close_model.PlanCloseModelAdapter'>\n",
      "INFO:core:renewal_model_201401_202308 - adapter <class 'core.models.renewal.renewal_model.RenewalModelAdapter'>\n",
      "INFO:core:maturity_structure_mass_r0s0_201401_202308 - adapter <class 'core.models.newbusiness.maturity_structure.maturity_structure_mass_model.MaturityStructureMassR0S0ModelAdapter'>\n",
      "INFO:core:maturity_structure_mass_r0s1_202001_202308 - adapter <class 'core.models.newbusiness.maturity_structure.maturity_structure_mass_model.MaturityStructureMassR0S1ModelAdapter'>\n",
      "INFO:core:maturity_structure_mass_r1s0_201401_202308 - adapter <class 'core.models.newbusiness.maturity_structure.maturity_structure_mass_model.MaturityStructureMassR1S0ModelAdapter'>\n",
      "INFO:core:maturity_structure_mass_r1s1_201401_202308 - adapter <class 'core.models.newbusiness.maturity_structure.maturity_structure_mass_model.MaturityStructureMassR1S1ModelAdapter'>\n",
      "INFO:core:maturity_structure_priv_r0s0_201401_202308 - adapter <class 'core.models.newbusiness.maturity_structure.maturity_structure_priv_model.MaturityStructurePrivR0S0ModelAdapter'>\n",
      "INFO:core:maturity_structure_priv_r0s1_202001_202308 - adapter <class 'core.models.newbusiness.maturity_structure.maturity_structure_priv_model.MaturityStructurePrivR0S1ModelAdapter'>\n",
      "INFO:core:maturity_structure_priv_r1s0_201401_202308 - adapter <class 'core.models.newbusiness.maturity_structure.maturity_structure_priv_model.MaturityStructurePrivR1S0ModelAdapter'>\n",
      "INFO:core:maturity_structure_priv_r1s1_201401_202308 - adapter <class 'core.models.newbusiness.maturity_structure.maturity_structure_priv_model.MaturityStructurePrivR1S1ModelAdapter'>\n",
      "INFO:core:maturity_structure_vip_r0s0_201401_202308 - adapter <class 'core.models.newbusiness.maturity_structure.maturity_structure_vip_model.MaturityStructureVipR0S0ModelAdapter'>\n",
      "INFO:core:maturity_structure_vip_r0s1_202001_202308 - adapter <class 'core.models.newbusiness.maturity_structure.maturity_structure_vip_model.MaturityStructureVipR0S1ModelAdapter'>\n",
      "INFO:core:maturity_structure_vip_r1s0_201401_202308 - adapter <class 'core.models.newbusiness.maturity_structure.maturity_structure_vip_model.MaturityStructureVipR1S0ModelAdapter'>\n",
      "INFO:core:maturity_structure_vip_r1s1_201401_202308 - adapter <class 'core.models.newbusiness.maturity_structure.maturity_structure_vip_model.MaturityStructureVipR1S1ModelAdapter'>\n",
      "INFO:core:opt_structure_mass_201401_202308 - adapter <class 'core.models.newbusiness.opt_structure.opt_structure_mass_model.OptStructureMassModelAdapter'>\n",
      "INFO:core:opt_structure_priv_201610_202308 - adapter <class 'core.models.newbusiness.opt_structure.opt_structure_priv_model.OptStructurePrivModelAdapter'>\n",
      "INFO:core:opt_structure_svip_201701_202308 - adapter <class 'core.models.newbusiness.opt_structure.opt_structure_svip_model.OptStructureSvipModelAdapter'>\n",
      "INFO:core:opt_structure_bvip_201401_202308 - adapter <class 'core.models.newbusiness.opt_structure.opt_structure_bvip_model.OptStructureBvipModelAdapter'>\n",
      "INFO:core:newbusiness_mass_201401_202308 - adapter <class 'core.models.newbusiness.newbiz.newbusiness_mass_model.NewbusinessMassModelAdapter'>\n",
      "INFO:core:newbusiness_priv_201401_202308 - adapter <class 'core.models.newbusiness.newbiz.newbusiness_priv_model.NewbusinessPrivModelAdapter'>\n",
      "INFO:core:newbusiness_svip_201402_202308 - adapter <class 'core.models.newbusiness.newbiz.newbusiness_svip_model.NewbusinessSvipModelAdapter'>\n",
      "INFO:core:newbusiness_bvip_201402_202308 - adapter <class 'core.models.newbusiness.newbiz.newbusiness_bvip_model.NewbusinessBvipModelAdapter'>\n",
      "INFO:core:deposit_earlyredemption_mass_R0S0_RUR_201401_202308 - adapter <class 'core.models.early_withdrawal.meta_model.EarlyRedemptionMassR0S0RURAdapter'>\n",
      "INFO:core:deposit_earlyredemption_mass_R0S1_RUR_201401_202308 - adapter <class 'core.models.early_withdrawal.meta_model.EarlyRedemptionMassR0S1RURAdapter'>\n",
      "INFO:core:deposit_earlyredemption_mass_R1S0_RUR_201401_202308 - adapter <class 'core.models.early_withdrawal.meta_model.EarlyRedemptionMassR1S0RURAdapter'>\n",
      "INFO:core:deposit_earlyredemption_mass_R1S1_RUR_201401_202308 - adapter <class 'core.models.early_withdrawal.meta_model.EarlyRedemptionMassR1S1RURAdapter'>\n",
      "INFO:core:deposit_earlyredemption_priv_R0S0_RUR_201401_202308 - adapter <class 'core.models.early_withdrawal.meta_model.EarlyRedemptionPrivR0S0RURAdapter'>\n",
      "INFO:core:deposit_earlyredemption_priv_R0S1_RUR_201401_202308 - adapter <class 'core.models.early_withdrawal.meta_model.EarlyRedemptionPrivR0S1RURAdapter'>\n",
      "INFO:core:deposit_earlyredemption_priv_R1S0_RUR_201401_202308 - adapter <class 'core.models.early_withdrawal.meta_model.EarlyRedemptionPrivR1S0RURAdapter'>\n",
      "INFO:core:deposit_earlyredemption_priv_R1S1_RUR_201401_202308 - adapter <class 'core.models.early_withdrawal.meta_model.EarlyRedemptionPrivR1S1RURAdapter'>\n",
      "INFO:core:deposit_earlyredemption_vip_R0S0_RUR_201401_202308 - adapter <class 'core.models.early_withdrawal.meta_model.EarlyRedemptionVipR0S0RURAdapter'>\n",
      "INFO:core:deposit_earlyredemption_vip_R0S1_RUR_201401_202308 - adapter <class 'core.models.early_withdrawal.meta_model.EarlyRedemptionVipR0S1RURAdapter'>\n",
      "INFO:core:deposit_earlyredemption_vip_R1S0_RUR_201401_202308 - adapter <class 'core.models.early_withdrawal.meta_model.EarlyRedemptionVipR1S0RURAdapter'>\n",
      "INFO:core:deposit_earlyredemption_vip_R1S1_RUR_201401_202308 - adapter <class 'core.models.early_withdrawal.meta_model.EarlyRedemptionVipR1S1RURAdapter'>\n",
      "INFO:core:sa_general_avg_balance_mass_201801_202308 - adapter <class 'core.models.sa_balance.general_models.sa_mass_model_orbit.SaBalanceMassModelAdapter'>\n",
      "INFO:core:sa_kopilka_avg_balance_mass_201903_202308 - adapter <class 'core.models.sa_balance.product_models.sa_mass_kopilka_model.SaKopilkaMassModelAdapter'>\n",
      "INFO:core:sa_general_avg_balance_priv_201801_202308 - adapter <class 'core.models.sa_balance.general_models.sa_priv_model_orbit.SaBalancePrivModelAdapter'>\n",
      "INFO:core:sa_kopilka_avg_balance_priv_201902_202308 - adapter <class 'core.models.sa_balance.product_models.sa_priv_kopilka_model.SaKopilkaPrivModelAdapter'>\n",
      "INFO:core:sa_general_avg_balance_vip_201801_202308 - adapter <class 'core.models.sa_balance.general_models.sa_vip_model_orbit.SaBalanceVipModelAdapter'>\n",
      "INFO:core:sa_kopilka_avg_balance_vip_201903_202308 - adapter <class 'core.models.sa_balance.product_models.sa_vip_kopilka_model.SaKopilkaVipModelAdapter'>\n",
      "INFO:core:current_accounts_model_201110_202308 - adapter <class 'core.models.current_accounts.general_balance.current_accounts_model.CurrentAccountsModelAdapter'>\n",
      "INFO:core:current_accounts_segment_structure_model_201903_202308 - adapter <class 'core.models.current_accounts.segment_structure.segment_structure_model.CaSegmentStructureModelAdapter'>\n",
      "INFO:core:training models completed\n",
      "INFO:core:calculation started\n"
     ]
    },
    {
     "name": "stdout",
     "output_type": "stream",
     "text": [
      "CPU times: user 37.6 s, sys: 4.42 s, total: 42.1 s\n",
      "Wall time: 22.1 s\n"
     ]
    }
   ],
   "source": [
    "%%time\n",
    "engine.run_all()"
   ]
  },
  {
   "cell_type": "code",
   "execution_count": 21,
   "id": "a399e7ee-f2e1-4c12-91ab-b0d07745ad75",
   "metadata": {},
   "outputs": [],
   "source": [
    "# вывод\n",
    "portfolio_res = engine.calc_results['Deposits']['portfolio'] \n",
    "agg_res = engine.calc_results['Deposits']['agg_data']\n",
    "maturity = engine.calc_results['Deposits']['maturity']\n",
    "CurrentAccounts = engine.calc_results['CurrentAccounts']\n",
    "SavingAccounts = engine.calc_results['SavingAccounts']\n",
    "volumes = engine.calc_results['Volumes']"
   ]
  },
  {
   "cell_type": "code",
   "execution_count": 22,
   "id": "5dc80698-873c-4052-96d8-74e13e221cb3",
   "metadata": {},
   "outputs": [
    {
     "data": {
      "text/html": [
       "<div>\n",
       "<style scoped>\n",
       "    .dataframe tbody tr th:only-of-type {\n",
       "        vertical-align: middle;\n",
       "    }\n",
       "\n",
       "    .dataframe tbody tr th {\n",
       "        vertical-align: top;\n",
       "    }\n",
       "\n",
       "    .dataframe thead th {\n",
       "        text-align: right;\n",
       "    }\n",
       "</style>\n",
       "<table border=\"1\" class=\"dataframe\">\n",
       "  <thead>\n",
       "    <tr style=\"text-align: right;\">\n",
       "      <th></th>\n",
       "      <th>replenishable_flg</th>\n",
       "      <th>subtraction_flg</th>\n",
       "      <th>month_maturity</th>\n",
       "      <th>target_maturity_days</th>\n",
       "      <th>balance_start</th>\n",
       "      <th>balance_gain</th>\n",
       "      <th>balance</th>\n",
       "      <th>newbusiness</th>\n",
       "      <th>contract_close</th>\n",
       "      <th>early_withdrawal</th>\n",
       "      <th>operations</th>\n",
       "      <th>interests</th>\n",
       "      <th>renewal</th>\n",
       "      <th>universal_weight_id</th>\n",
       "    </tr>\n",
       "    <tr>\n",
       "      <th>report_dt</th>\n",
       "      <th></th>\n",
       "      <th></th>\n",
       "      <th></th>\n",
       "      <th></th>\n",
       "      <th></th>\n",
       "      <th></th>\n",
       "      <th></th>\n",
       "      <th></th>\n",
       "      <th></th>\n",
       "      <th></th>\n",
       "      <th></th>\n",
       "      <th></th>\n",
       "      <th></th>\n",
       "      <th></th>\n",
       "    </tr>\n",
       "  </thead>\n",
       "  <tbody>\n",
       "    <tr>\n",
       "      <th>2023-09-30</th>\n",
       "      <td>32</td>\n",
       "      <td>27</td>\n",
       "      <td>1065</td>\n",
       "      <td>32373</td>\n",
       "      <td>3.295017e+12</td>\n",
       "      <td>3.364565e+11</td>\n",
       "      <td>3.631474e+12</td>\n",
       "      <td>7.608403e+11</td>\n",
       "      <td>-3.777930e+11</td>\n",
       "      <td>-4.511836e+10</td>\n",
       "      <td>-2.186902e+10</td>\n",
       "      <td>2.039656e+10</td>\n",
       "      <td>6.550854e+10</td>\n",
       "      <td>304</td>\n",
       "    </tr>\n",
       "    <tr>\n",
       "      <th>2023-10-31</th>\n",
       "      <td>31</td>\n",
       "      <td>26</td>\n",
       "      <td>1041</td>\n",
       "      <td>31643</td>\n",
       "      <td>3.631474e+12</td>\n",
       "      <td>2.075367e+11</td>\n",
       "      <td>3.839010e+12</td>\n",
       "      <td>5.142912e+11</td>\n",
       "      <td>-2.880336e+11</td>\n",
       "      <td>-2.411135e+10</td>\n",
       "      <td>-1.986457e+10</td>\n",
       "      <td>2.525495e+10</td>\n",
       "      <td>4.261724e+10</td>\n",
       "      <td>294</td>\n",
       "    </tr>\n",
       "    <tr>\n",
       "      <th>2023-11-30</th>\n",
       "      <td>30</td>\n",
       "      <td>25</td>\n",
       "      <td>1017</td>\n",
       "      <td>30913</td>\n",
       "      <td>3.839010e+12</td>\n",
       "      <td>3.927319e+10</td>\n",
       "      <td>3.878284e+12</td>\n",
       "      <td>8.075086e+11</td>\n",
       "      <td>-7.642714e+11</td>\n",
       "      <td>-2.114475e+10</td>\n",
       "      <td>-4.718331e+09</td>\n",
       "      <td>2.189902e+10</td>\n",
       "      <td>2.644586e+11</td>\n",
       "      <td>284</td>\n",
       "    </tr>\n",
       "  </tbody>\n",
       "</table>\n",
       "</div>"
      ],
      "text/plain": [
       "            replenishable_flg  subtraction_flg  month_maturity  \\\n",
       "report_dt                                                        \n",
       "2023-09-30                 32               27            1065   \n",
       "2023-10-31                 31               26            1041   \n",
       "2023-11-30                 30               25            1017   \n",
       "\n",
       "            target_maturity_days  balance_start  balance_gain       balance  \\\n",
       "report_dt                                                                     \n",
       "2023-09-30                 32373   3.295017e+12  3.364565e+11  3.631474e+12   \n",
       "2023-10-31                 31643   3.631474e+12  2.075367e+11  3.839010e+12   \n",
       "2023-11-30                 30913   3.839010e+12  3.927319e+10  3.878284e+12   \n",
       "\n",
       "             newbusiness  contract_close  early_withdrawal    operations  \\\n",
       "report_dt                                                                  \n",
       "2023-09-30  7.608403e+11   -3.777930e+11     -4.511836e+10 -2.186902e+10   \n",
       "2023-10-31  5.142912e+11   -2.880336e+11     -2.411135e+10 -1.986457e+10   \n",
       "2023-11-30  8.075086e+11   -7.642714e+11     -2.114475e+10 -4.718331e+09   \n",
       "\n",
       "               interests       renewal  universal_weight_id  \n",
       "report_dt                                                    \n",
       "2023-09-30  2.039656e+10  6.550854e+10                  304  \n",
       "2023-10-31  2.525495e+10  4.261724e+10                  294  \n",
       "2023-11-30  2.189902e+10  2.644586e+11                  284  "
      ]
     },
     "execution_count": 22,
     "metadata": {},
     "output_type": "execute_result"
    }
   ],
   "source": [
    "agg_res.groupby('report_dt').sum()"
   ]
  },
  {
   "cell_type": "code",
   "execution_count": 23,
   "id": "ee9a94d9-8b65-42d0-99ff-3367a60a5d9f",
   "metadata": {},
   "outputs": [],
   "source": [
    "# для записи и чтения экселя\n",
    "# import pip\n",
    "# pip.main(['install', 'openpyxl'])"
   ]
  },
  {
   "cell_type": "code",
   "execution_count": 24,
   "id": "a22f264a-7b47-4f3f-b6d2-bb717b61ec25",
   "metadata": {},
   "outputs": [],
   "source": [
    "# import openpyxl"
   ]
  },
  {
   "cell_type": "code",
   "execution_count": 25,
   "id": "6b0d8e9e-b0fe-41d9-93c4-4ef4b8bb41c4",
   "metadata": {},
   "outputs": [],
   "source": [
    "# with pd.ExcelWriter(\"august_res_v2.xlsx\") as writer:\n",
    "#     portfolio_res.to_excel(writer, sheet_name='portfolio_res', index=False)\n",
    "#     agg_res.to_excel(writer, sheet_name='agg_res', index=False)\n",
    "#     maturity.to_excel(writer, sheet_name='maturity', index=False)\n",
    "#     CurrentAccounts.to_excel(writer, sheet_name='CurrentAccounts', index=False)\n",
    "#     SavingAccounts.to_excel(writer, sheet_name='SavingAccounts', index=False)\n",
    "#     volumes.to_excel(writer, sheet_name='volumes', index=False)\n",
    "#     pd.DataFrame(scenario_data).to_excel(writer, sheet_name='scenario', index=False)"
   ]
  },
  {
   "cell_type": "code",
   "execution_count": null,
   "id": "a07ba09c-01f0-40bb-b6f4-c1ff81ba2ac6",
   "metadata": {},
   "outputs": [],
   "source": []
  }
 ],
 "metadata": {
  "kernelspec": {
   "display_name": "hmelevskoi_env",
   "language": "python",
   "name": "hmelevskoi_env"
  },
  "language_info": {
   "codemirror_mode": {
    "name": "ipython",
    "version": 3
   },
   "file_extension": ".py",
   "mimetype": "text/x-python",
   "name": "python",
   "nbconvert_exporter": "python",
   "pygments_lexer": "ipython3",
   "version": "3.7.16"
  }
 },
 "nbformat": 4,
 "nbformat_minor": 5
}
