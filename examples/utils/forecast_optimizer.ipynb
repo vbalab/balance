{
 "cells": [
  {
   "cell_type": "code",
   "execution_count": 1,
   "id": "a64ec341-9ec8-4ba2-b1c9-a903ffee2b5b",
   "metadata": {},
   "outputs": [],
   "source": [
    "# если выдает ошибку с пакетами\n",
    "# установить пакеты и перезапустить ядро\n",
    "# TODO: сделать установку окружений\n",
    "\n",
    "# !pip install scikit-learn --force\n",
    "# !pip install catboost\n",
    "# !pip install sktime==0.15.1\n",
    "# !pip install pandas==1.3.5"
   ]
  },
  {
   "cell_type": "code",
   "execution_count": 2,
   "id": "532f9d68-b0fc-4a7b-b166-b60981a74909",
   "metadata": {},
   "outputs": [],
   "source": [
    "import sys\n",
    "sys.path.append('../..')\n",
    "import pandas as pd\n",
    "import numpy as np\n",
    "from pandas.tseries.offsets import MonthEnd\n",
    "from datetime import datetime\n",
    "import os\n",
    "import importlib\n",
    "\n",
    "pd.set_option('display.max.columns', 300)\n",
    "\n",
    "from core.calculator.storage import ModelDB\n",
    "from core.calculator.core import ForecastConfig\n",
    "from core.calculator.core import TrainingManager\n",
    "from core.calculator.core import ForecastConfig\n",
    "from core.calculator.core import ForecastEngine\n",
    "\n",
    "from core.calculator.deposits import DepositsCalculationType\n",
    "from core.calculator.deposits import DepositIterativeCalculator\n",
    "\n",
    "from core.definitions import *\n",
    "from core.project_update import load_portfolio\n",
    "\n",
    "from core.models import DepositModels\n",
    "from warnings import filterwarnings\n",
    "filterwarnings('ignore')"
   ]
  },
  {
   "cell_type": "markdown",
   "id": "b8b9484e-36ff-42a4-b9f1-44b9db7328b2",
   "metadata": {},
   "source": [
    "## Подгрузка сценария"
   ]
  },
  {
   "cell_type": "markdown",
   "id": "7712b425-7e74-493f-9f04-5af3463e5c7a",
   "metadata": {},
   "source": [
    "Нам необходимо сделать прогноз баланса для Казначейства. С этого месяца прогнозы для Казначейства станут ежемесячными.  \n",
    "Необходимо сделать прогноз  от 31 мая на 7 месяцев.  \n",
    "\n",
    "Данные по прогнозу макро показателей в приложении (лист «Макро от 21_05_Основные», строки 20-21, либо ставки и индикаторы «Ставки_New»). Изменения затронули КС, текущий прогноз – 16,00% до конца года.  \n",
    "Опционы и надбавки остаются прежними, данные по прогнозу ТС коллеги обещали скинуть в ближайшее время.  "
   ]
  },
  {
   "cell_type": "markdown",
   "id": "90b3bdf8-0cce-4d4f-9ed0-dd79d56a8f4e",
   "metadata": {},
   "source": [
    "## Постановка задачи\n",
    "\n",
    "Я правильно понял, что в калькулятор передаётся сетка по марже? Давай попробуем для каждого продукта и сегмента сдвинуть кривую маржи на +10, +20, -10, -20 бп. Тогда получится 6*3*5=90 (вклады) + 15 (НС) сценариев.\n"
   ]
  },
  {
   "cell_type": "code",
   "execution_count": 3,
   "id": "ce149df8-95de-473d-8ec5-e604ce8450d0",
   "metadata": {},
   "outputs": [],
   "source": [
    "# spark"
   ]
  },
  {
   "cell_type": "code",
   "execution_count": 4,
   "id": "92661a94-6894-426b-a474-2eb31f9c1314",
   "metadata": {},
   "outputs": [],
   "source": [
    "# df1 = spark.table('prod_dadm_alm_sbx.almde_fl_dpst_scenario')"
   ]
  },
  {
   "cell_type": "code",
   "execution_count": 5,
   "id": "984fa6ea-8fe8-4c6e-b295-b562a0f4435e",
   "metadata": {},
   "outputs": [],
   "source": [
    "# df2 = df1.toPandas()"
   ]
  },
  {
   "cell_type": "code",
   "execution_count": 6,
   "id": "53bfa3a2-d5d0-47fe-aa4b-fc12e684baf7",
   "metadata": {},
   "outputs": [],
   "source": [
    "# df2.tail()"
   ]
  },
  {
   "cell_type": "code",
   "execution_count": 7,
   "id": "e011c32d-5bd3-468d-8d36-c5e0fa0f287c",
   "metadata": {},
   "outputs": [],
   "source": [
    "# df2.to_csv('scenario.csv')"
   ]
  },
  {
   "cell_type": "markdown",
   "id": "2e3e0d9a-05c4-4738-afae-ca1807c5e941",
   "metadata": {},
   "source": [
    "### Подготовка сценария"
   ]
  },
  {
   "cell_type": "code",
   "execution_count": 8,
   "id": "c383b536-75c4-4ccd-9bd1-a0b5958a84ee",
   "metadata": {},
   "outputs": [],
   "source": [
    "# Дата из который мы прогнозируем\n",
    "train_end = datetime(year=2024, month=5, day=31)\n",
    "\n",
    "# Горизонт прогноза в месяцах\n",
    "horizon = 7"
   ]
  },
  {
   "cell_type": "code",
   "execution_count": 9,
   "id": "be494a64-38f3-41d8-b3b5-f89427739a12",
   "metadata": {},
   "outputs": [],
   "source": [
    "# Данные для прогноза\n",
    "scenario_data = {\n",
    "    # Ожидаемый баланс на первую дату прогноза, задавать необязательно\n",
    "     'expected_amount':      [np.nan for h in range(horizon)],\n",
    "    # ССВ\n",
    "     'SSV':                  [0.48 for h in range(horizon)],\n",
    "    # ФОР\n",
    "     'FOR':                  [4.5 for h in range(horizon)],\n",
    "    # Трансфертные ставки\n",
    "     'VTB_ftp_rate_[90d]':   [12.3 for h in range(horizon)],\n",
    "     'VTB_ftp_rate_[180d]':  [12 for h in range(horizon)],\n",
    "     'VTB_ftp_rate_[365d]':  [12 for h in range(horizon)],\n",
    "     'VTB_ftp_rate_[548d]':  [12 for h in range(horizon)],\n",
    "     'VTB_ftp_rate_[730d]':  [12 for h in range(horizon)],\n",
    "     'VTB_ftp_rate_[1095d]': [12 for h in range(horizon)],\n",
    "    \n",
    "    # Маржа бизнеса по срочностям\n",
    "     'margin_[90d]':         [0.1 for h in range(horizon)],\n",
    "     'margin_[180d]':        [0.1 for h in range(horizon)],\n",
    "     'margin_[365d]':        [0.1 for h in range(horizon)],\n",
    "     'margin_[548d]':        [0.1 for h in range(horizon)],\n",
    "     'margin_[730d]':        [0.2 for h in range(horizon)],\n",
    "     'margin_[1095d]':       [0.2 for h in range(horizon)],\n",
    "    \n",
    "    # Спред Привилегия - Массовый (на сколько в среднем ставки по сегменту Привилегия больше чем ставки по массовому сегменту)\n",
    "     'priv_spread':          [0.4 for h in range(horizon)],\n",
    "    # Спред ВИП - Массовый (на сколько в среднем ставки по сегменту ВИП больше чем ставки по массовому сегменту)\n",
    "     'vip_spread':           [0.8 for h in range(horizon)],\n",
    "    \n",
    "    # Ниже три спреда по разным типам опциональности по отношению к безопциональным вкладам (Подразумевается, что они, как правило, отрицательные)\n",
    "    # r - возможности пополнения, s - возможность расходных операций\n",
    "    \n",
    "    # На сколько ставка по расходным вкладам выше чем ставка по безопциональным вкладам (Если ниже - то со знаком минус)\n",
    "     'r0s1_spread':          [-1 for h in range(horizon)],\n",
    "    \n",
    "    # На сколько ставка по пополняемым вкладам выше чем ставка по безопциональным вкладам (Если ниже - то со знаком минус)\n",
    "     'r1s0_spread':          [-1 for h in range(horizon)],\n",
    "    \n",
    "    # На сколько ставка по расходно-пополняемым вкладам выше чем ставка по безопциональным вкладам (Если ниже - то со знаком минус)\n",
    "     'r1s1_spread':          [-1.2 for h in range(horizon)],\n",
    "    \n",
    "    # Ставка по лучшему предложению сбера\n",
    "     'SBER_max_rate':        [11.2 for h in range(horizon)],\n",
    "    \n",
    "    # Базовая ставка по НС\n",
    "     'SA_rate':              [5 for h in range(horizon)]\n",
    "}\n",
    "scenario_df_user = pd.DataFrame(scenario_data)"
   ]
  },
  {
   "cell_type": "code",
   "execution_count": 10,
   "id": "1f28a7a1-4415-4565-a1b8-c381e3e014e1",
   "metadata": {},
   "outputs": [],
   "source": [
    "scenario_df = preprocess_scenario(scenario_df_user, train_end, horizon)"
   ]
  },
  {
   "cell_type": "markdown",
   "id": "2eee37d0-9a2a-4d49-8402-e1c4fd8f1680",
   "metadata": {},
   "source": [
    "## Готовим сценарий"
   ]
  },
  {
   "cell_type": "code",
   "execution_count": 11,
   "id": "ba2c943a-6db9-4939-ac32-c09fd399d699",
   "metadata": {},
   "outputs": [],
   "source": [
    "sc_new = pd.read_csv('scenario.csv', index_col='Unnamed: 0')"
   ]
  },
  {
   "cell_type": "code",
   "execution_count": 12,
   "id": "5d4105b3-2c05-48a5-a4f8-43accdcf5827",
   "metadata": {},
   "outputs": [],
   "source": [
    "sc_new = sc_new.tail().iloc[-1]"
   ]
  },
  {
   "cell_type": "code",
   "execution_count": 13,
   "id": "8f7a8081-8a6b-4286-813c-15621c096dfd",
   "metadata": {},
   "outputs": [
    {
     "data": {
      "text/plain": [
       "17.1"
      ]
     },
     "execution_count": 13,
     "metadata": {},
     "output_type": "execute_result"
    }
   ],
   "source": [
    "sc_new['VTB_ftp_rate_[90d]']"
   ]
  },
  {
   "cell_type": "code",
   "execution_count": 14,
   "id": "f486f0b7-3c73-4ea4-9338-a9213d8f720f",
   "metadata": {},
   "outputs": [],
   "source": [
    "for col in scenario_df.columns:\n",
    "    \n",
    "    try:\n",
    "        scenario_df[col] = sc_new[col]\n",
    "        \n",
    "    except KeyError:\n",
    "        scenario_df[col] = np.nan"
   ]
  },
  {
   "cell_type": "code",
   "execution_count": 15,
   "id": "d35adcd0-985d-4210-a0e3-54ac0e890753",
   "metadata": {},
   "outputs": [],
   "source": [
    "scenario_df['SBER_max_rate'] = 16"
   ]
  },
  {
   "cell_type": "markdown",
   "id": "463e5e64-c338-425e-b1d9-5ea090870474",
   "metadata": {},
   "source": [
    "### Коррекция на обновленные FTP ставки"
   ]
  },
  {
   "attachments": {
    "fd4ba126-cabb-4d44-83ec-9e4e5d9e4429.png": {
     "image/png": "[encoded data removed]"
    }
   },
   "cell_type": "markdown",
   "id": "beb3068b-f1d5-4e8a-bac9-4804d2fb59f3",
   "metadata": {},
   "source": [
    "![image.png](attachment:fd4ba126-cabb-4d44-83ec-9e4e5d9e4429.png)"
   ]
  },
  {
   "cell_type": "markdown",
   "id": "436fd055-3f60-4193-93c5-7f09ac73f2d7",
   "metadata": {},
   "source": [
    "Ищем "
   ]
  },
  {
   "cell_type": "code",
   "execution_count": 16,
   "id": "394e4c72-7637-4809-9040-1a0a03ab838e",
   "metadata": {},
   "outputs": [],
   "source": [
    "d = {'VTB_ftp_rate_[90d]': [17.1, 17.1, 17.1, 17.1, 17.08, 17.08, 17.08], \n",
    "     'VTB_ftp_rate_[180d]': [17.19, 17.19, 17.19, 17.19, 16.99, 16.99, 16.99],\n",
    "     'VTB_ftp_rate_[365d]': [17.04, 17.04, 17.04, 17.04, 16.45, 16.45, 16.45],\n",
    "     'VTB_ftp_rate_[548d]': [16.61, 16.61, 16.61, 16.61, 16.26, 16.26, 16.26],\n",
    "     'VTB_ftp_rate_[730d]': [16.17, 16.17, 16.17, 16.17, 15.96, 15.96, 15.96],\n",
    "     'VTB_ftp_rate_[1095d]': [15.83, 15.83, 15.83, 15.83, 15.83, 15.83, 15.83]\n",
    "    }\n",
    "\n",
    "ftp_new = pd.DataFrame(data=d)\n",
    "ftp_new.index = scenario_df.index"
   ]
  },
  {
   "cell_type": "code",
   "execution_count": 19,
   "id": "2bca3ff3-6fbe-483f-b55c-30c843bb2c6e",
   "metadata": {},
   "outputs": [],
   "source": [
    "coefs = ftp_new / scenario_df[ftp_new.columns]"
   ]
  },
  {
   "cell_type": "code",
   "execution_count": 20,
   "id": "9f9408ff-5fae-43de-942d-409f1b4ff569",
   "metadata": {},
   "outputs": [],
   "source": [
    "coefs.columns = ['90d', '180d', '365d', '548d', '730d', '1095d']"
   ]
  },
  {
   "cell_type": "code",
   "execution_count": 22,
   "id": "385377d1-241e-4c12-9fac-cce06f87da9d",
   "metadata": {},
   "outputs": [],
   "source": [
    "for coef_col in coefs.columns:\n",
    "    for sc_col in scenario_df.columns:\n",
    "        \n",
    "        if coef_col in sc_col:\n",
    "            scenario_df[sc_col] = scenario_df[sc_col] * coefs[coef_col]"
   ]
  },
  {
   "cell_type": "code",
   "execution_count": 24,
   "id": "ecd80397-22f3-49f3-8683-127bbd067d0e",
   "metadata": {},
   "outputs": [],
   "source": [
    "scenario_df = scenario_df.fillna(0.01)"
   ]
  },
  {
   "cell_type": "code",
   "execution_count": 25,
   "id": "c2e9b8dd-5f90-431d-a6fc-6bcee4970b94",
   "metadata": {},
   "outputs": [],
   "source": [
    "scenario_df['expected_amount'] = np.nan"
   ]
  },
  {
   "cell_type": "markdown",
   "id": "43ae1f9c-cae5-422e-9f44-c59ef4db508e",
   "metadata": {},
   "source": [
    "## Задаем оптимизатор для маржи"
   ]
  },
  {
   "cell_type": "code",
   "execution_count": 29,
   "id": "20623f13-66b5-4db3-a5ce-b10992cc8148",
   "metadata": {},
   "outputs": [],
   "source": [
    "import random"
   ]
  },
  {
   "cell_type": "code",
   "execution_count": 35,
   "id": "3568e145-62ea-40cb-b322-c76e2f66f8e4",
   "metadata": {},
   "outputs": [],
   "source": [
    "def random_search(num_iterations):\n",
    "    \n",
    "    d = {}\n",
    "    \n",
    "    segments = ['mass', 'priv', 'vip']\n",
    "    options = ['r0s0', 'r1s0', 'r1s1']\n",
    "    rates = [-2, 2]\n",
    "    \n",
    "    # генерируем пары сегмент-опция\n",
    "    \n",
    "    for iteration in range(num_iterations):\n",
    "        d_res = {}\n",
    "        for segm in segments:\n",
    "            for opt in options:\n",
    "                \n",
    "                name = segm + '_' + opt\n",
    "                rate = random.uniform(rates[0], rates[1])\n",
    "                \n",
    "                d_res[name] = rate\n",
    "                \n",
    "        d[iteration+1] = d_res\n",
    "        \n",
    "        \n",
    "    return d"
   ]
  },
  {
   "cell_type": "code",
   "execution_count": 47,
   "id": "b3f094cc-66a8-4356-adeb-4f53ba8e50f9",
   "metadata": {},
   "outputs": [],
   "source": [
    "def change_scenario(orig_sc, change_dict):\n",
    "    \n",
    "    \"\"\"\n",
    "    Добавляем один сценарий - на выходе один сценарий, чтобы не было утечки памяти. \n",
    "    Далее - итерируем.\n",
    "    \"\"\"\n",
    "    \n",
    "    fix_sc = orig_sc.copy()\n",
    "    \n",
    "    for key in change_dict.keys():\n",
    "        \n",
    "        segm = key.split('_')[0]\n",
    "        opt = key.split('_')[1]\n",
    "        \n",
    "        diff_rate = change_dict[key]\n",
    "        \n",
    "        for col in fix_sc.columns:\n",
    "            if ((segm in col)&(opt in col)):\n",
    "                fix_sc[col] =  fix_sc[col] + diff_rate\n",
    "    \n",
    "    return fix_sc"
   ]
  },
  {
   "cell_type": "markdown",
   "id": "58639919-268a-441f-9526-4d66857830f2",
   "metadata": {},
   "source": [
    "### Чтение портфеля и моделей"
   ]
  },
  {
   "cell_type": "code",
   "execution_count": 51,
   "id": "b18ad21b-7aeb-49f8-b8d9-09ac58a60745",
   "metadata": {},
   "outputs": [],
   "source": [
    "port_folder = '../../data'\n",
    "portfolio = load_portfolio(train_end, port_folder)"
   ]
  },
  {
   "cell_type": "code",
   "execution_count": 52,
   "id": "355543ef-240d-4e09-8d1f-f377ced1575e",
   "metadata": {},
   "outputs": [],
   "source": [
    "# если хотим обучить модели - инициализировать спарк\n",
    "\n",
    "from core.models.utils import run_spark_session\n",
    "#spark = run_spark_session('check_calc')\n",
    "\n",
    "# spark = None #если без обучения"
   ]
  },
  {
   "cell_type": "code",
   "execution_count": 54,
   "id": "a199523b-de08-4f70-87ec-d3e662856a68",
   "metadata": {},
   "outputs": [],
   "source": [
    "folder = '../data/trained_models'\n",
    "folder = '/home/vtb70186744/volumes/nfs_ssdp_upfm/modeldb_submodule'\n",
    "\n",
    "sqlite_filepath = os.path.join(folder, 'modeldb_test.bin')\n",
    "\n",
    "DB_URL = f\"sqlite:///{sqlite_filepath}\"\n",
    "model_db = ModelDB(DB_URL)"
   ]
  },
  {
   "cell_type": "code",
   "execution_count": 55,
   "id": "3cc2db1a-9585-4670-954b-bf502c98902c",
   "metadata": {},
   "outputs": [],
   "source": [
    "# важная ячейка, необходимая для обучения моделей orbit\n",
    "\n",
    "ENV_NAME = 'hmelevskoi_env'\n",
    "\n",
    "os.environ['CC'] = 'x86_64-conda-linux-gnu-gcc'\n",
    "os.environ['CXX'] = 'x86_64-conda-linux-gnu-g++'\n",
    "os.environ['PATH'] = os.path.abspath(f'/tmp/envs/{ENV_NAME}/bin') + ':' + os.environ['PATH']"
   ]
  },
  {
   "cell_type": "markdown",
   "id": "7b5c35ec-90a9-48d1-94be-62d0a9c01e01",
   "metadata": {},
   "source": [
    "### Старт расчетов"
   ]
  },
  {
   "cell_type": "markdown",
   "id": "aa57207e-7034-4861-b378-c9c07d440960",
   "metadata": {},
   "source": [
    "Обернем в цикл"
   ]
  },
  {
   "cell_type": "code",
   "execution_count": null,
   "id": "28ad1c65-9821-47cb-8c14-7b521c172e93",
   "metadata": {},
   "outputs": [
    {
     "name": "stdout",
     "output_type": "stream",
     "text": [
      "1\n"
     ]
    },
    {
     "name": "stderr",
     "output_type": "stream",
     "text": [
      "INFO:core:missing models: []\n",
      "INFO:core:add_models_from_bytes\n",
      "INFO:core:plan_close_201402_202405 - adapter <class 'core.models.plan_close.plan_close_model.PlanCloseModelAdapter'>\n",
      "INFO:core:renewal_model_201401_202405 - adapter <class 'core.models.renewal.renewal_model.RenewalModelAdapter'>\n",
      "INFO:core:maturity_structure_mass_r0s0_201401_202405 - adapter <class 'core.models.newbusiness.maturity_structure.maturity_structure_mass_model.MaturityStructureMassR0S0ModelAdapter'>\n",
      "INFO:core:maturity_structure_mass_r0s1_202001_202405 - adapter <class 'core.models.newbusiness.maturity_structure.maturity_structure_mass_model.MaturityStructureMassR0S1ModelAdapter'>\n",
      "INFO:core:maturity_structure_mass_r1s0_201401_202405 - adapter <class 'core.models.newbusiness.maturity_structure.maturity_structure_mass_model.MaturityStructureMassR1S0ModelAdapter'>\n",
      "INFO:core:maturity_structure_mass_r1s1_201401_202405 - adapter <class 'core.models.newbusiness.maturity_structure.maturity_structure_mass_model.MaturityStructureMassR1S1ModelAdapter'>\n",
      "INFO:core:maturity_structure_priv_r0s0_201401_202405 - adapter <class 'core.models.newbusiness.maturity_structure.maturity_structure_priv_model.MaturityStructurePrivR0S0ModelAdapter'>\n",
      "INFO:core:maturity_structure_priv_r0s1_202001_202405 - adapter <class 'core.models.newbusiness.maturity_structure.maturity_structure_priv_model.MaturityStructurePrivR0S1ModelAdapter'>\n",
      "INFO:core:maturity_structure_priv_r1s0_201401_202405 - adapter <class 'core.models.newbusiness.maturity_structure.maturity_structure_priv_model.MaturityStructurePrivR1S0ModelAdapter'>\n",
      "INFO:core:maturity_structure_priv_r1s1_201401_202405 - adapter <class 'core.models.newbusiness.maturity_structure.maturity_structure_priv_model.MaturityStructurePrivR1S1ModelAdapter'>\n",
      "INFO:core:maturity_structure_vip_r0s0_201401_202405 - adapter <class 'core.models.newbusiness.maturity_structure.maturity_structure_vip_model.MaturityStructureVipR0S0ModelAdapter'>\n",
      "INFO:core:maturity_structure_vip_r0s1_202001_202405 - adapter <class 'core.models.newbusiness.maturity_structure.maturity_structure_vip_model.MaturityStructureVipR0S1ModelAdapter'>\n",
      "INFO:core:maturity_structure_vip_r1s0_201401_202405 - adapter <class 'core.models.newbusiness.maturity_structure.maturity_structure_vip_model.MaturityStructureVipR1S0ModelAdapter'>\n",
      "INFO:core:maturity_structure_vip_r1s1_201401_202405 - adapter <class 'core.models.newbusiness.maturity_structure.maturity_structure_vip_model.MaturityStructureVipR1S1ModelAdapter'>\n",
      "INFO:core:opt_structure_mass_201401_202405 - adapter <class 'core.models.newbusiness.opt_structure.opt_structure_mass_model.OptStructureMassModelAdapter'>\n",
      "INFO:core:opt_structure_priv_201610_202405 - adapter <class 'core.models.newbusiness.opt_structure.opt_structure_priv_model.OptStructurePrivModelAdapter'>\n",
      "INFO:core:opt_structure_svip_201701_202405 - adapter <class 'core.models.newbusiness.opt_structure.opt_structure_svip_model.OptStructureSvipModelAdapter'>\n",
      "INFO:core:opt_structure_bvip_201401_202405 - adapter <class 'core.models.newbusiness.opt_structure.opt_structure_bvip_model.OptStructureBvipModelAdapter'>\n",
      "INFO:core:newbusiness_mass_201401_202405 - adapter <class 'core.models.newbusiness.newbiz.newbusiness_mass_model.NewbusinessMassModelAdapter'>\n",
      "INFO:core:newbusiness_priv_201401_202405 - adapter <class 'core.models.newbusiness.newbiz.newbusiness_priv_model.NewbusinessPrivModelAdapter'>\n",
      "INFO:core:newbusiness_svip_201402_202405 - adapter <class 'core.models.newbusiness.newbiz.newbusiness_svip_model.NewbusinessSvipModelAdapter'>\n",
      "INFO:core:newbusiness_bvip_201402_202405 - adapter <class 'core.models.newbusiness.newbiz.newbusiness_bvip_model.NewbusinessBvipModelAdapter'>\n",
      "INFO:core:deposit_earlyredemption_mass_R0S0_RUR_201401_202405 - adapter <class 'core.models.early_withdrawal.meta_model.EarlyRedemptionMassR0S0RURAdapter'>\n",
      "INFO:core:deposit_earlyredemption_mass_R0S1_RUR_201401_202405 - adapter <class 'core.models.early_withdrawal.meta_model.EarlyRedemptionMassR0S1RURAdapter'>\n",
      "INFO:core:deposit_earlyredemption_mass_R1S0_RUR_201401_202405 - adapter <class 'core.models.early_withdrawal.meta_model.EarlyRedemptionMassR1S0RURAdapter'>\n",
      "INFO:core:deposit_earlyredemption_mass_R1S1_RUR_201401_202405 - adapter <class 'core.models.early_withdrawal.meta_model.EarlyRedemptionMassR1S1RURAdapter'>\n",
      "INFO:core:deposit_earlyredemption_priv_R0S0_RUR_201401_202405 - adapter <class 'core.models.early_withdrawal.meta_model.EarlyRedemptionPrivR0S0RURAdapter'>\n",
      "INFO:core:deposit_earlyredemption_priv_R0S1_RUR_201401_202405 - adapter <class 'core.models.early_withdrawal.meta_model.EarlyRedemptionPrivR0S1RURAdapter'>\n",
      "INFO:core:deposit_earlyredemption_priv_R1S0_RUR_201401_202405 - adapter <class 'core.models.early_withdrawal.meta_model.EarlyRedemptionPrivR1S0RURAdapter'>\n",
      "INFO:core:deposit_earlyredemption_priv_R1S1_RUR_201401_202405 - adapter <class 'core.models.early_withdrawal.meta_model.EarlyRedemptionPrivR1S1RURAdapter'>\n",
      "INFO:core:deposit_earlyredemption_vip_R0S0_RUR_201401_202405 - adapter <class 'core.models.early_withdrawal.meta_model.EarlyRedemptionVipR0S0RURAdapter'>\n",
      "INFO:core:deposit_earlyredemption_vip_R0S1_RUR_201401_202405 - adapter <class 'core.models.early_withdrawal.meta_model.EarlyRedemptionVipR0S1RURAdapter'>\n",
      "INFO:core:deposit_earlyredemption_vip_R1S0_RUR_201401_202405 - adapter <class 'core.models.early_withdrawal.meta_model.EarlyRedemptionVipR1S0RURAdapter'>\n",
      "INFO:core:deposit_earlyredemption_vip_R1S1_RUR_201401_202405 - adapter <class 'core.models.early_withdrawal.meta_model.EarlyRedemptionVipR1S1RURAdapter'>\n",
      "INFO:core:sa_general_avg_balance_mass_201801_202405 - adapter <class 'core.models.sa_balance.general_models.sa_mass_model_orbit.SaBalanceMassModelAdapter'>\n",
      "INFO:core:sa_kopilka_avg_balance_mass_201903_202405 - adapter <class 'core.models.sa_balance.product_models.sa_mass_kopilka_model.SaKopilkaMassModelAdapter'>\n",
      "INFO:core:sa_general_avg_balance_priv_201801_202405 - adapter <class 'core.models.sa_balance.general_models.sa_priv_model_orbit.SaBalancePrivModelAdapter'>\n",
      "INFO:core:sa_kopilka_avg_balance_priv_201902_202405 - adapter <class 'core.models.sa_balance.product_models.sa_priv_kopilka_model.SaKopilkaPrivModelAdapter'>\n",
      "INFO:core:sa_general_avg_balance_vip_201801_202405 - adapter <class 'core.models.sa_balance.general_models.sa_vip_model_orbit.SaBalanceVipModelAdapter'>\n",
      "INFO:core:sa_kopilka_avg_balance_vip_201903_202405 - adapter <class 'core.models.sa_balance.product_models.sa_vip_kopilka_model.SaKopilkaVipModelAdapter'>\n",
      "INFO:core:current_accounts_model_201110_202405 - adapter <class 'core.models.current_accounts.general_balance.current_accounts_model.CurrentAccountsModelAdapter'>\n",
      "INFO:core:current_accounts_segment_structure_model_201903_202405 - adapter <class 'core.models.current_accounts.segment_structure.segment_structure_model.CaSegmentStructureModelAdapter'>\n",
      "INFO:core:training models completed\n",
      "INFO:core:calculation started\n"
     ]
    },
    {
     "name": "stdout",
     "output_type": "stream",
     "text": [
      "2\n"
     ]
    },
    {
     "name": "stderr",
     "output_type": "stream",
     "text": [
      "INFO:core:missing models: []\n",
      "INFO:core:add_models_from_bytes\n",
      "INFO:core:plan_close_201402_202405 - adapter <class 'core.models.plan_close.plan_close_model.PlanCloseModelAdapter'>\n",
      "INFO:core:renewal_model_201401_202405 - adapter <class 'core.models.renewal.renewal_model.RenewalModelAdapter'>\n",
      "INFO:core:maturity_structure_mass_r0s0_201401_202405 - adapter <class 'core.models.newbusiness.maturity_structure.maturity_structure_mass_model.MaturityStructureMassR0S0ModelAdapter'>\n",
      "INFO:core:maturity_structure_mass_r0s1_202001_202405 - adapter <class 'core.models.newbusiness.maturity_structure.maturity_structure_mass_model.MaturityStructureMassR0S1ModelAdapter'>\n",
      "INFO:core:maturity_structure_mass_r1s0_201401_202405 - adapter <class 'core.models.newbusiness.maturity_structure.maturity_structure_mass_model.MaturityStructureMassR1S0ModelAdapter'>\n",
      "INFO:core:maturity_structure_mass_r1s1_201401_202405 - adapter <class 'core.models.newbusiness.maturity_structure.maturity_structure_mass_model.MaturityStructureMassR1S1ModelAdapter'>\n",
      "INFO:core:maturity_structure_priv_r0s0_201401_202405 - adapter <class 'core.models.newbusiness.maturity_structure.maturity_structure_priv_model.MaturityStructurePrivR0S0ModelAdapter'>\n",
      "INFO:core:maturity_structure_priv_r0s1_202001_202405 - adapter <class 'core.models.newbusiness.maturity_structure.maturity_structure_priv_model.MaturityStructurePrivR0S1ModelAdapter'>\n",
      "INFO:core:maturity_structure_priv_r1s0_201401_202405 - adapter <class 'core.models.newbusiness.maturity_structure.maturity_structure_priv_model.MaturityStructurePrivR1S0ModelAdapter'>\n",
      "INFO:core:maturity_structure_priv_r1s1_201401_202405 - adapter <class 'core.models.newbusiness.maturity_structure.maturity_structure_priv_model.MaturityStructurePrivR1S1ModelAdapter'>\n",
      "INFO:core:maturity_structure_vip_r0s0_201401_202405 - adapter <class 'core.models.newbusiness.maturity_structure.maturity_structure_vip_model.MaturityStructureVipR0S0ModelAdapter'>\n",
      "INFO:core:maturity_structure_vip_r0s1_202001_202405 - adapter <class 'core.models.newbusiness.maturity_structure.maturity_structure_vip_model.MaturityStructureVipR0S1ModelAdapter'>\n",
      "INFO:core:maturity_structure_vip_r1s0_201401_202405 - adapter <class 'core.models.newbusiness.maturity_structure.maturity_structure_vip_model.MaturityStructureVipR1S0ModelAdapter'>\n",
      "INFO:core:maturity_structure_vip_r1s1_201401_202405 - adapter <class 'core.models.newbusiness.maturity_structure.maturity_structure_vip_model.MaturityStructureVipR1S1ModelAdapter'>\n",
      "INFO:core:opt_structure_mass_201401_202405 - adapter <class 'core.models.newbusiness.opt_structure.opt_structure_mass_model.OptStructureMassModelAdapter'>\n",
      "INFO:core:opt_structure_priv_201610_202405 - adapter <class 'core.models.newbusiness.opt_structure.opt_structure_priv_model.OptStructurePrivModelAdapter'>\n",
      "INFO:core:opt_structure_svip_201701_202405 - adapter <class 'core.models.newbusiness.opt_structure.opt_structure_svip_model.OptStructureSvipModelAdapter'>\n",
      "INFO:core:opt_structure_bvip_201401_202405 - adapter <class 'core.models.newbusiness.opt_structure.opt_structure_bvip_model.OptStructureBvipModelAdapter'>\n",
      "INFO:core:newbusiness_mass_201401_202405 - adapter <class 'core.models.newbusiness.newbiz.newbusiness_mass_model.NewbusinessMassModelAdapter'>\n",
      "INFO:core:newbusiness_priv_201401_202405 - adapter <class 'core.models.newbusiness.newbiz.newbusiness_priv_model.NewbusinessPrivModelAdapter'>\n",
      "INFO:core:newbusiness_svip_201402_202405 - adapter <class 'core.models.newbusiness.newbiz.newbusiness_svip_model.NewbusinessSvipModelAdapter'>\n",
      "INFO:core:newbusiness_bvip_201402_202405 - adapter <class 'core.models.newbusiness.newbiz.newbusiness_bvip_model.NewbusinessBvipModelAdapter'>\n",
      "INFO:core:deposit_earlyredemption_mass_R0S0_RUR_201401_202405 - adapter <class 'core.models.early_withdrawal.meta_model.EarlyRedemptionMassR0S0RURAdapter'>\n",
      "INFO:core:deposit_earlyredemption_mass_R0S1_RUR_201401_202405 - adapter <class 'core.models.early_withdrawal.meta_model.EarlyRedemptionMassR0S1RURAdapter'>\n",
      "INFO:core:deposit_earlyredemption_mass_R1S0_RUR_201401_202405 - adapter <class 'core.models.early_withdrawal.meta_model.EarlyRedemptionMassR1S0RURAdapter'>\n",
      "INFO:core:deposit_earlyredemption_mass_R1S1_RUR_201401_202405 - adapter <class 'core.models.early_withdrawal.meta_model.EarlyRedemptionMassR1S1RURAdapter'>\n",
      "INFO:core:deposit_earlyredemption_priv_R0S0_RUR_201401_202405 - adapter <class 'core.models.early_withdrawal.meta_model.EarlyRedemptionPrivR0S0RURAdapter'>\n",
      "INFO:core:deposit_earlyredemption_priv_R0S1_RUR_201401_202405 - adapter <class 'core.models.early_withdrawal.meta_model.EarlyRedemptionPrivR0S1RURAdapter'>\n",
      "INFO:core:deposit_earlyredemption_priv_R1S0_RUR_201401_202405 - adapter <class 'core.models.early_withdrawal.meta_model.EarlyRedemptionPrivR1S0RURAdapter'>\n",
      "INFO:core:deposit_earlyredemption_priv_R1S1_RUR_201401_202405 - adapter <class 'core.models.early_withdrawal.meta_model.EarlyRedemptionPrivR1S1RURAdapter'>\n",
      "INFO:core:deposit_earlyredemption_vip_R0S0_RUR_201401_202405 - adapter <class 'core.models.early_withdrawal.meta_model.EarlyRedemptionVipR0S0RURAdapter'>\n",
      "INFO:core:deposit_earlyredemption_vip_R0S1_RUR_201401_202405 - adapter <class 'core.models.early_withdrawal.meta_model.EarlyRedemptionVipR0S1RURAdapter'>\n",
      "INFO:core:deposit_earlyredemption_vip_R1S0_RUR_201401_202405 - adapter <class 'core.models.early_withdrawal.meta_model.EarlyRedemptionVipR1S0RURAdapter'>\n",
      "INFO:core:deposit_earlyredemption_vip_R1S1_RUR_201401_202405 - adapter <class 'core.models.early_withdrawal.meta_model.EarlyRedemptionVipR1S1RURAdapter'>\n",
      "INFO:core:sa_general_avg_balance_mass_201801_202405 - adapter <class 'core.models.sa_balance.general_models.sa_mass_model_orbit.SaBalanceMassModelAdapter'>\n",
      "INFO:core:sa_kopilka_avg_balance_mass_201903_202405 - adapter <class 'core.models.sa_balance.product_models.sa_mass_kopilka_model.SaKopilkaMassModelAdapter'>\n",
      "INFO:core:sa_general_avg_balance_priv_201801_202405 - adapter <class 'core.models.sa_balance.general_models.sa_priv_model_orbit.SaBalancePrivModelAdapter'>\n",
      "INFO:core:sa_kopilka_avg_balance_priv_201902_202405 - adapter <class 'core.models.sa_balance.product_models.sa_priv_kopilka_model.SaKopilkaPrivModelAdapter'>\n",
      "INFO:core:sa_general_avg_balance_vip_201801_202405 - adapter <class 'core.models.sa_balance.general_models.sa_vip_model_orbit.SaBalanceVipModelAdapter'>\n",
      "INFO:core:sa_kopilka_avg_balance_vip_201903_202405 - adapter <class 'core.models.sa_balance.product_models.sa_vip_kopilka_model.SaKopilkaVipModelAdapter'>\n",
      "INFO:core:current_accounts_model_201110_202405 - adapter <class 'core.models.current_accounts.general_balance.current_accounts_model.CurrentAccountsModelAdapter'>\n",
      "INFO:core:current_accounts_segment_structure_model_201903_202405 - adapter <class 'core.models.current_accounts.segment_structure.segment_structure_model.CaSegmentStructureModelAdapter'>\n",
      "INFO:core:training models completed\n",
      "INFO:core:calculation started\n",
      "INFO:core:missing models: []\n"
     ]
    },
    {
     "name": "stdout",
     "output_type": "stream",
     "text": [
      "3\n"
     ]
    },
    {
     "name": "stderr",
     "output_type": "stream",
     "text": [
      "INFO:core:add_models_from_bytes\n",
      "INFO:core:plan_close_201402_202405 - adapter <class 'core.models.plan_close.plan_close_model.PlanCloseModelAdapter'>\n",
      "INFO:core:renewal_model_201401_202405 - adapter <class 'core.models.renewal.renewal_model.RenewalModelAdapter'>\n",
      "INFO:core:maturity_structure_mass_r0s0_201401_202405 - adapter <class 'core.models.newbusiness.maturity_structure.maturity_structure_mass_model.MaturityStructureMassR0S0ModelAdapter'>\n",
      "INFO:core:maturity_structure_mass_r0s1_202001_202405 - adapter <class 'core.models.newbusiness.maturity_structure.maturity_structure_mass_model.MaturityStructureMassR0S1ModelAdapter'>\n",
      "INFO:core:maturity_structure_mass_r1s0_201401_202405 - adapter <class 'core.models.newbusiness.maturity_structure.maturity_structure_mass_model.MaturityStructureMassR1S0ModelAdapter'>\n",
      "INFO:core:maturity_structure_mass_r1s1_201401_202405 - adapter <class 'core.models.newbusiness.maturity_structure.maturity_structure_mass_model.MaturityStructureMassR1S1ModelAdapter'>\n",
      "INFO:core:maturity_structure_priv_r0s0_201401_202405 - adapter <class 'core.models.newbusiness.maturity_structure.maturity_structure_priv_model.MaturityStructurePrivR0S0ModelAdapter'>\n",
      "INFO:core:maturity_structure_priv_r0s1_202001_202405 - adapter <class 'core.models.newbusiness.maturity_structure.maturity_structure_priv_model.MaturityStructurePrivR0S1ModelAdapter'>\n",
      "INFO:core:maturity_structure_priv_r1s0_201401_202405 - adapter <class 'core.models.newbusiness.maturity_structure.maturity_structure_priv_model.MaturityStructurePrivR1S0ModelAdapter'>\n",
      "INFO:core:maturity_structure_priv_r1s1_201401_202405 - adapter <class 'core.models.newbusiness.maturity_structure.maturity_structure_priv_model.MaturityStructurePrivR1S1ModelAdapter'>\n",
      "INFO:core:maturity_structure_vip_r0s0_201401_202405 - adapter <class 'core.models.newbusiness.maturity_structure.maturity_structure_vip_model.MaturityStructureVipR0S0ModelAdapter'>\n",
      "INFO:core:maturity_structure_vip_r0s1_202001_202405 - adapter <class 'core.models.newbusiness.maturity_structure.maturity_structure_vip_model.MaturityStructureVipR0S1ModelAdapter'>\n",
      "INFO:core:maturity_structure_vip_r1s0_201401_202405 - adapter <class 'core.models.newbusiness.maturity_structure.maturity_structure_vip_model.MaturityStructureVipR1S0ModelAdapter'>\n",
      "INFO:core:maturity_structure_vip_r1s1_201401_202405 - adapter <class 'core.models.newbusiness.maturity_structure.maturity_structure_vip_model.MaturityStructureVipR1S1ModelAdapter'>\n",
      "INFO:core:opt_structure_mass_201401_202405 - adapter <class 'core.models.newbusiness.opt_structure.opt_structure_mass_model.OptStructureMassModelAdapter'>\n",
      "INFO:core:opt_structure_priv_201610_202405 - adapter <class 'core.models.newbusiness.opt_structure.opt_structure_priv_model.OptStructurePrivModelAdapter'>\n",
      "INFO:core:opt_structure_svip_201701_202405 - adapter <class 'core.models.newbusiness.opt_structure.opt_structure_svip_model.OptStructureSvipModelAdapter'>\n",
      "INFO:core:opt_structure_bvip_201401_202405 - adapter <class 'core.models.newbusiness.opt_structure.opt_structure_bvip_model.OptStructureBvipModelAdapter'>\n",
      "INFO:core:newbusiness_mass_201401_202405 - adapter <class 'core.models.newbusiness.newbiz.newbusiness_mass_model.NewbusinessMassModelAdapter'>\n",
      "INFO:core:newbusiness_priv_201401_202405 - adapter <class 'core.models.newbusiness.newbiz.newbusiness_priv_model.NewbusinessPrivModelAdapter'>\n",
      "INFO:core:newbusiness_svip_201402_202405 - adapter <class 'core.models.newbusiness.newbiz.newbusiness_svip_model.NewbusinessSvipModelAdapter'>\n",
      "INFO:core:newbusiness_bvip_201402_202405 - adapter <class 'core.models.newbusiness.newbiz.newbusiness_bvip_model.NewbusinessBvipModelAdapter'>\n",
      "INFO:core:deposit_earlyredemption_mass_R0S0_RUR_201401_202405 - adapter <class 'core.models.early_withdrawal.meta_model.EarlyRedemptionMassR0S0RURAdapter'>\n",
      "INFO:core:deposit_earlyredemption_mass_R0S1_RUR_201401_202405 - adapter <class 'core.models.early_withdrawal.meta_model.EarlyRedemptionMassR0S1RURAdapter'>\n",
      "INFO:core:deposit_earlyredemption_mass_R1S0_RUR_201401_202405 - adapter <class 'core.models.early_withdrawal.meta_model.EarlyRedemptionMassR1S0RURAdapter'>\n",
      "INFO:core:deposit_earlyredemption_mass_R1S1_RUR_201401_202405 - adapter <class 'core.models.early_withdrawal.meta_model.EarlyRedemptionMassR1S1RURAdapter'>\n",
      "INFO:core:deposit_earlyredemption_priv_R0S0_RUR_201401_202405 - adapter <class 'core.models.early_withdrawal.meta_model.EarlyRedemptionPrivR0S0RURAdapter'>\n",
      "INFO:core:deposit_earlyredemption_priv_R0S1_RUR_201401_202405 - adapter <class 'core.models.early_withdrawal.meta_model.EarlyRedemptionPrivR0S1RURAdapter'>\n",
      "INFO:core:deposit_earlyredemption_priv_R1S0_RUR_201401_202405 - adapter <class 'core.models.early_withdrawal.meta_model.EarlyRedemptionPrivR1S0RURAdapter'>\n",
      "INFO:core:deposit_earlyredemption_priv_R1S1_RUR_201401_202405 - adapter <class 'core.models.early_withdrawal.meta_model.EarlyRedemptionPrivR1S1RURAdapter'>\n",
      "INFO:core:deposit_earlyredemption_vip_R0S0_RUR_201401_202405 - adapter <class 'core.models.early_withdrawal.meta_model.EarlyRedemptionVipR0S0RURAdapter'>\n",
      "INFO:core:deposit_earlyredemption_vip_R0S1_RUR_201401_202405 - adapter <class 'core.models.early_withdrawal.meta_model.EarlyRedemptionVipR0S1RURAdapter'>\n",
      "INFO:core:deposit_earlyredemption_vip_R1S0_RUR_201401_202405 - adapter <class 'core.models.early_withdrawal.meta_model.EarlyRedemptionVipR1S0RURAdapter'>\n",
      "INFO:core:deposit_earlyredemption_vip_R1S1_RUR_201401_202405 - adapter <class 'core.models.early_withdrawal.meta_model.EarlyRedemptionVipR1S1RURAdapter'>\n",
      "INFO:core:sa_general_avg_balance_mass_201801_202405 - adapter <class 'core.models.sa_balance.general_models.sa_mass_model_orbit.SaBalanceMassModelAdapter'>\n",
      "INFO:core:sa_kopilka_avg_balance_mass_201903_202405 - adapter <class 'core.models.sa_balance.product_models.sa_mass_kopilka_model.SaKopilkaMassModelAdapter'>\n",
      "INFO:core:sa_general_avg_balance_priv_201801_202405 - adapter <class 'core.models.sa_balance.general_models.sa_priv_model_orbit.SaBalancePrivModelAdapter'>\n",
      "INFO:core:sa_kopilka_avg_balance_priv_201902_202405 - adapter <class 'core.models.sa_balance.product_models.sa_priv_kopilka_model.SaKopilkaPrivModelAdapter'>\n",
      "INFO:core:sa_general_avg_balance_vip_201801_202405 - adapter <class 'core.models.sa_balance.general_models.sa_vip_model_orbit.SaBalanceVipModelAdapter'>\n",
      "INFO:core:sa_kopilka_avg_balance_vip_201903_202405 - adapter <class 'core.models.sa_balance.product_models.sa_vip_kopilka_model.SaKopilkaVipModelAdapter'>\n",
      "INFO:core:current_accounts_model_201110_202405 - adapter <class 'core.models.current_accounts.general_balance.current_accounts_model.CurrentAccountsModelAdapter'>\n",
      "INFO:core:current_accounts_segment_structure_model_201903_202405 - adapter <class 'core.models.current_accounts.segment_structure.segment_structure_model.CaSegmentStructureModelAdapter'>\n",
      "INFO:core:training models completed\n",
      "INFO:core:calculation started\n",
      "INFO:core:missing models: []\n"
     ]
    },
    {
     "name": "stdout",
     "output_type": "stream",
     "text": [
      "4\n"
     ]
    },
    {
     "name": "stderr",
     "output_type": "stream",
     "text": [
      "INFO:core:add_models_from_bytes\n",
      "INFO:core:plan_close_201402_202405 - adapter <class 'core.models.plan_close.plan_close_model.PlanCloseModelAdapter'>\n",
      "INFO:core:renewal_model_201401_202405 - adapter <class 'core.models.renewal.renewal_model.RenewalModelAdapter'>\n",
      "INFO:core:maturity_structure_mass_r0s0_201401_202405 - adapter <class 'core.models.newbusiness.maturity_structure.maturity_structure_mass_model.MaturityStructureMassR0S0ModelAdapter'>\n",
      "INFO:core:maturity_structure_mass_r0s1_202001_202405 - adapter <class 'core.models.newbusiness.maturity_structure.maturity_structure_mass_model.MaturityStructureMassR0S1ModelAdapter'>\n",
      "INFO:core:maturity_structure_mass_r1s0_201401_202405 - adapter <class 'core.models.newbusiness.maturity_structure.maturity_structure_mass_model.MaturityStructureMassR1S0ModelAdapter'>\n",
      "INFO:core:maturity_structure_mass_r1s1_201401_202405 - adapter <class 'core.models.newbusiness.maturity_structure.maturity_structure_mass_model.MaturityStructureMassR1S1ModelAdapter'>\n",
      "INFO:core:maturity_structure_priv_r0s0_201401_202405 - adapter <class 'core.models.newbusiness.maturity_structure.maturity_structure_priv_model.MaturityStructurePrivR0S0ModelAdapter'>\n",
      "INFO:core:maturity_structure_priv_r0s1_202001_202405 - adapter <class 'core.models.newbusiness.maturity_structure.maturity_structure_priv_model.MaturityStructurePrivR0S1ModelAdapter'>\n",
      "INFO:core:maturity_structure_priv_r1s0_201401_202405 - adapter <class 'core.models.newbusiness.maturity_structure.maturity_structure_priv_model.MaturityStructurePrivR1S0ModelAdapter'>\n",
      "INFO:core:maturity_structure_priv_r1s1_201401_202405 - adapter <class 'core.models.newbusiness.maturity_structure.maturity_structure_priv_model.MaturityStructurePrivR1S1ModelAdapter'>\n",
      "INFO:core:maturity_structure_vip_r0s0_201401_202405 - adapter <class 'core.models.newbusiness.maturity_structure.maturity_structure_vip_model.MaturityStructureVipR0S0ModelAdapter'>\n",
      "INFO:core:maturity_structure_vip_r0s1_202001_202405 - adapter <class 'core.models.newbusiness.maturity_structure.maturity_structure_vip_model.MaturityStructureVipR0S1ModelAdapter'>\n",
      "INFO:core:maturity_structure_vip_r1s0_201401_202405 - adapter <class 'core.models.newbusiness.maturity_structure.maturity_structure_vip_model.MaturityStructureVipR1S0ModelAdapter'>\n",
      "INFO:core:maturity_structure_vip_r1s1_201401_202405 - adapter <class 'core.models.newbusiness.maturity_structure.maturity_structure_vip_model.MaturityStructureVipR1S1ModelAdapter'>\n",
      "INFO:core:opt_structure_mass_201401_202405 - adapter <class 'core.models.newbusiness.opt_structure.opt_structure_mass_model.OptStructureMassModelAdapter'>\n",
      "INFO:core:opt_structure_priv_201610_202405 - adapter <class 'core.models.newbusiness.opt_structure.opt_structure_priv_model.OptStructurePrivModelAdapter'>\n",
      "INFO:core:opt_structure_svip_201701_202405 - adapter <class 'core.models.newbusiness.opt_structure.opt_structure_svip_model.OptStructureSvipModelAdapter'>\n",
      "INFO:core:opt_structure_bvip_201401_202405 - adapter <class 'core.models.newbusiness.opt_structure.opt_structure_bvip_model.OptStructureBvipModelAdapter'>\n",
      "INFO:core:newbusiness_mass_201401_202405 - adapter <class 'core.models.newbusiness.newbiz.newbusiness_mass_model.NewbusinessMassModelAdapter'>\n",
      "INFO:core:newbusiness_priv_201401_202405 - adapter <class 'core.models.newbusiness.newbiz.newbusiness_priv_model.NewbusinessPrivModelAdapter'>\n",
      "INFO:core:newbusiness_svip_201402_202405 - adapter <class 'core.models.newbusiness.newbiz.newbusiness_svip_model.NewbusinessSvipModelAdapter'>\n",
      "INFO:core:newbusiness_bvip_201402_202405 - adapter <class 'core.models.newbusiness.newbiz.newbusiness_bvip_model.NewbusinessBvipModelAdapter'>\n",
      "INFO:core:deposit_earlyredemption_mass_R0S0_RUR_201401_202405 - adapter <class 'core.models.early_withdrawal.meta_model.EarlyRedemptionMassR0S0RURAdapter'>\n",
      "INFO:core:deposit_earlyredemption_mass_R0S1_RUR_201401_202405 - adapter <class 'core.models.early_withdrawal.meta_model.EarlyRedemptionMassR0S1RURAdapter'>\n",
      "INFO:core:deposit_earlyredemption_mass_R1S0_RUR_201401_202405 - adapter <class 'core.models.early_withdrawal.meta_model.EarlyRedemptionMassR1S0RURAdapter'>\n",
      "INFO:core:deposit_earlyredemption_mass_R1S1_RUR_201401_202405 - adapter <class 'core.models.early_withdrawal.meta_model.EarlyRedemptionMassR1S1RURAdapter'>\n",
      "INFO:core:deposit_earlyredemption_priv_R0S0_RUR_201401_202405 - adapter <class 'core.models.early_withdrawal.meta_model.EarlyRedemptionPrivR0S0RURAdapter'>\n",
      "INFO:core:deposit_earlyredemption_priv_R0S1_RUR_201401_202405 - adapter <class 'core.models.early_withdrawal.meta_model.EarlyRedemptionPrivR0S1RURAdapter'>\n",
      "INFO:core:deposit_earlyredemption_priv_R1S0_RUR_201401_202405 - adapter <class 'core.models.early_withdrawal.meta_model.EarlyRedemptionPrivR1S0RURAdapter'>\n",
      "INFO:core:deposit_earlyredemption_priv_R1S1_RUR_201401_202405 - adapter <class 'core.models.early_withdrawal.meta_model.EarlyRedemptionPrivR1S1RURAdapter'>\n",
      "INFO:core:deposit_earlyredemption_vip_R0S0_RUR_201401_202405 - adapter <class 'core.models.early_withdrawal.meta_model.EarlyRedemptionVipR0S0RURAdapter'>\n",
      "INFO:core:deposit_earlyredemption_vip_R0S1_RUR_201401_202405 - adapter <class 'core.models.early_withdrawal.meta_model.EarlyRedemptionVipR0S1RURAdapter'>\n",
      "INFO:core:deposit_earlyredemption_vip_R1S0_RUR_201401_202405 - adapter <class 'core.models.early_withdrawal.meta_model.EarlyRedemptionVipR1S0RURAdapter'>\n",
      "INFO:core:deposit_earlyredemption_vip_R1S1_RUR_201401_202405 - adapter <class 'core.models.early_withdrawal.meta_model.EarlyRedemptionVipR1S1RURAdapter'>\n",
      "INFO:core:sa_general_avg_balance_mass_201801_202405 - adapter <class 'core.models.sa_balance.general_models.sa_mass_model_orbit.SaBalanceMassModelAdapter'>\n",
      "INFO:core:sa_kopilka_avg_balance_mass_201903_202405 - adapter <class 'core.models.sa_balance.product_models.sa_mass_kopilka_model.SaKopilkaMassModelAdapter'>\n",
      "INFO:core:sa_general_avg_balance_priv_201801_202405 - adapter <class 'core.models.sa_balance.general_models.sa_priv_model_orbit.SaBalancePrivModelAdapter'>\n",
      "INFO:core:sa_kopilka_avg_balance_priv_201902_202405 - adapter <class 'core.models.sa_balance.product_models.sa_priv_kopilka_model.SaKopilkaPrivModelAdapter'>\n",
      "INFO:core:sa_general_avg_balance_vip_201801_202405 - adapter <class 'core.models.sa_balance.general_models.sa_vip_model_orbit.SaBalanceVipModelAdapter'>\n",
      "INFO:core:sa_kopilka_avg_balance_vip_201903_202405 - adapter <class 'core.models.sa_balance.product_models.sa_vip_kopilka_model.SaKopilkaVipModelAdapter'>\n",
      "INFO:core:current_accounts_model_201110_202405 - adapter <class 'core.models.current_accounts.general_balance.current_accounts_model.CurrentAccountsModelAdapter'>\n",
      "INFO:core:current_accounts_segment_structure_model_201903_202405 - adapter <class 'core.models.current_accounts.segment_structure.segment_structure_model.CaSegmentStructureModelAdapter'>\n",
      "INFO:core:training models completed\n",
      "INFO:core:calculation started\n"
     ]
    },
    {
     "name": "stdout",
     "output_type": "stream",
     "text": [
      "5\n"
     ]
    },
    {
     "name": "stderr",
     "output_type": "stream",
     "text": [
      "INFO:core:missing models: []\n",
      "INFO:core:add_models_from_bytes\n",
      "INFO:core:plan_close_201402_202405 - adapter <class 'core.models.plan_close.plan_close_model.PlanCloseModelAdapter'>\n",
      "INFO:core:renewal_model_201401_202405 - adapter <class 'core.models.renewal.renewal_model.RenewalModelAdapter'>\n",
      "INFO:core:maturity_structure_mass_r0s0_201401_202405 - adapter <class 'core.models.newbusiness.maturity_structure.maturity_structure_mass_model.MaturityStructureMassR0S0ModelAdapter'>\n",
      "INFO:core:maturity_structure_mass_r0s1_202001_202405 - adapter <class 'core.models.newbusiness.maturity_structure.maturity_structure_mass_model.MaturityStructureMassR0S1ModelAdapter'>\n",
      "INFO:core:maturity_structure_mass_r1s0_201401_202405 - adapter <class 'core.models.newbusiness.maturity_structure.maturity_structure_mass_model.MaturityStructureMassR1S0ModelAdapter'>\n",
      "INFO:core:maturity_structure_mass_r1s1_201401_202405 - adapter <class 'core.models.newbusiness.maturity_structure.maturity_structure_mass_model.MaturityStructureMassR1S1ModelAdapter'>\n",
      "INFO:core:maturity_structure_priv_r0s0_201401_202405 - adapter <class 'core.models.newbusiness.maturity_structure.maturity_structure_priv_model.MaturityStructurePrivR0S0ModelAdapter'>\n",
      "INFO:core:maturity_structure_priv_r0s1_202001_202405 - adapter <class 'core.models.newbusiness.maturity_structure.maturity_structure_priv_model.MaturityStructurePrivR0S1ModelAdapter'>\n",
      "INFO:core:maturity_structure_priv_r1s0_201401_202405 - adapter <class 'core.models.newbusiness.maturity_structure.maturity_structure_priv_model.MaturityStructurePrivR1S0ModelAdapter'>\n",
      "INFO:core:maturity_structure_priv_r1s1_201401_202405 - adapter <class 'core.models.newbusiness.maturity_structure.maturity_structure_priv_model.MaturityStructurePrivR1S1ModelAdapter'>\n",
      "INFO:core:maturity_structure_vip_r0s0_201401_202405 - adapter <class 'core.models.newbusiness.maturity_structure.maturity_structure_vip_model.MaturityStructureVipR0S0ModelAdapter'>\n",
      "INFO:core:maturity_structure_vip_r0s1_202001_202405 - adapter <class 'core.models.newbusiness.maturity_structure.maturity_structure_vip_model.MaturityStructureVipR0S1ModelAdapter'>\n",
      "INFO:core:maturity_structure_vip_r1s0_201401_202405 - adapter <class 'core.models.newbusiness.maturity_structure.maturity_structure_vip_model.MaturityStructureVipR1S0ModelAdapter'>\n",
      "INFO:core:maturity_structure_vip_r1s1_201401_202405 - adapter <class 'core.models.newbusiness.maturity_structure.maturity_structure_vip_model.MaturityStructureVipR1S1ModelAdapter'>\n",
      "INFO:core:opt_structure_mass_201401_202405 - adapter <class 'core.models.newbusiness.opt_structure.opt_structure_mass_model.OptStructureMassModelAdapter'>\n",
      "INFO:core:opt_structure_priv_201610_202405 - adapter <class 'core.models.newbusiness.opt_structure.opt_structure_priv_model.OptStructurePrivModelAdapter'>\n",
      "INFO:core:opt_structure_svip_201701_202405 - adapter <class 'core.models.newbusiness.opt_structure.opt_structure_svip_model.OptStructureSvipModelAdapter'>\n",
      "INFO:core:opt_structure_bvip_201401_202405 - adapter <class 'core.models.newbusiness.opt_structure.opt_structure_bvip_model.OptStructureBvipModelAdapter'>\n",
      "INFO:core:newbusiness_mass_201401_202405 - adapter <class 'core.models.newbusiness.newbiz.newbusiness_mass_model.NewbusinessMassModelAdapter'>\n",
      "INFO:core:newbusiness_priv_201401_202405 - adapter <class 'core.models.newbusiness.newbiz.newbusiness_priv_model.NewbusinessPrivModelAdapter'>\n",
      "INFO:core:newbusiness_svip_201402_202405 - adapter <class 'core.models.newbusiness.newbiz.newbusiness_svip_model.NewbusinessSvipModelAdapter'>\n",
      "INFO:core:newbusiness_bvip_201402_202405 - adapter <class 'core.models.newbusiness.newbiz.newbusiness_bvip_model.NewbusinessBvipModelAdapter'>\n",
      "INFO:core:deposit_earlyredemption_mass_R0S0_RUR_201401_202405 - adapter <class 'core.models.early_withdrawal.meta_model.EarlyRedemptionMassR0S0RURAdapter'>\n",
      "INFO:core:deposit_earlyredemption_mass_R0S1_RUR_201401_202405 - adapter <class 'core.models.early_withdrawal.meta_model.EarlyRedemptionMassR0S1RURAdapter'>\n",
      "INFO:core:deposit_earlyredemption_mass_R1S0_RUR_201401_202405 - adapter <class 'core.models.early_withdrawal.meta_model.EarlyRedemptionMassR1S0RURAdapter'>\n",
      "INFO:core:deposit_earlyredemption_mass_R1S1_RUR_201401_202405 - adapter <class 'core.models.early_withdrawal.meta_model.EarlyRedemptionMassR1S1RURAdapter'>\n",
      "INFO:core:deposit_earlyredemption_priv_R0S0_RUR_201401_202405 - adapter <class 'core.models.early_withdrawal.meta_model.EarlyRedemptionPrivR0S0RURAdapter'>\n",
      "INFO:core:deposit_earlyredemption_priv_R0S1_RUR_201401_202405 - adapter <class 'core.models.early_withdrawal.meta_model.EarlyRedemptionPrivR0S1RURAdapter'>\n",
      "INFO:core:deposit_earlyredemption_priv_R1S0_RUR_201401_202405 - adapter <class 'core.models.early_withdrawal.meta_model.EarlyRedemptionPrivR1S0RURAdapter'>\n",
      "INFO:core:deposit_earlyredemption_priv_R1S1_RUR_201401_202405 - adapter <class 'core.models.early_withdrawal.meta_model.EarlyRedemptionPrivR1S1RURAdapter'>\n",
      "INFO:core:deposit_earlyredemption_vip_R0S0_RUR_201401_202405 - adapter <class 'core.models.early_withdrawal.meta_model.EarlyRedemptionVipR0S0RURAdapter'>\n",
      "INFO:core:deposit_earlyredemption_vip_R0S1_RUR_201401_202405 - adapter <class 'core.models.early_withdrawal.meta_model.EarlyRedemptionVipR0S1RURAdapter'>\n",
      "INFO:core:deposit_earlyredemption_vip_R1S0_RUR_201401_202405 - adapter <class 'core.models.early_withdrawal.meta_model.EarlyRedemptionVipR1S0RURAdapter'>\n",
      "INFO:core:deposit_earlyredemption_vip_R1S1_RUR_201401_202405 - adapter <class 'core.models.early_withdrawal.meta_model.EarlyRedemptionVipR1S1RURAdapter'>\n",
      "INFO:core:sa_general_avg_balance_mass_201801_202405 - adapter <class 'core.models.sa_balance.general_models.sa_mass_model_orbit.SaBalanceMassModelAdapter'>\n",
      "INFO:core:sa_kopilka_avg_balance_mass_201903_202405 - adapter <class 'core.models.sa_balance.product_models.sa_mass_kopilka_model.SaKopilkaMassModelAdapter'>\n",
      "INFO:core:sa_general_avg_balance_priv_201801_202405 - adapter <class 'core.models.sa_balance.general_models.sa_priv_model_orbit.SaBalancePrivModelAdapter'>\n",
      "INFO:core:sa_kopilka_avg_balance_priv_201902_202405 - adapter <class 'core.models.sa_balance.product_models.sa_priv_kopilka_model.SaKopilkaPrivModelAdapter'>\n",
      "INFO:core:sa_general_avg_balance_vip_201801_202405 - adapter <class 'core.models.sa_balance.general_models.sa_vip_model_orbit.SaBalanceVipModelAdapter'>\n",
      "INFO:core:sa_kopilka_avg_balance_vip_201903_202405 - adapter <class 'core.models.sa_balance.product_models.sa_vip_kopilka_model.SaKopilkaVipModelAdapter'>\n",
      "INFO:core:current_accounts_model_201110_202405 - adapter <class 'core.models.current_accounts.general_balance.current_accounts_model.CurrentAccountsModelAdapter'>\n",
      "INFO:core:current_accounts_segment_structure_model_201903_202405 - adapter <class 'core.models.current_accounts.segment_structure.segment_structure_model.CaSegmentStructureModelAdapter'>\n",
      "INFO:core:training models completed\n",
      "INFO:core:calculation started\n"
     ]
    }
   ],
   "source": [
    "# число сценариев\n",
    "num_scenarios = 5\n",
    "scenarios_dict = random_search(num_scenarios)\n",
    "\n",
    "\n",
    "for key_sc in scenarios_dict.keys():\n",
    "    \n",
    "    print(key_sc)\n",
    "\n",
    "    # сценарии с учетом замены\n",
    "    sc_new = change_scenario(scenario_df, scenarios_dict[key_sc])\n",
    "    \n",
    "    \n",
    "    config: ForecastConfig = ForecastConfig(\n",
    "        first_train_end_dt = train_end,\n",
    "        horizon = horizon,\n",
    "        trainers = DepositModels.trainers,\n",
    "        data_loaders = DepositModels.dataloaders,\n",
    "        calculator_type = DepositIterativeCalculator,\n",
    "        calc_type = DepositsCalculationType,\n",
    "        adapter_types = DepositModels.adapter_types,\n",
    "        scenario_data = sc_new,\n",
    "        portfolio = portfolio\n",
    "    )\n",
    "\n",
    "    training_manager = TrainingManager(spark, config.trainers, folder, model_db)   \n",
    "    engine: ForecastEngine = ForecastEngine(spark, config, training_manager, overwrite_models=False)\n",
    "\n",
    "\n",
    "\n",
    "    engine.run_all()\n",
    "\n",
    "\n",
    "    portfolio_res = engine.calc_results['Deposits']['portfolio'] \n",
    "    agg_res = engine.calc_results['Deposits']['agg_data']\n",
    "    \n",
    "    # sc_new\n",
    "    \n",
    "    # сохраняем сценарии\n",
    "    \n",
    "    path = '/home/vtb70186744/volumes/nfs_ssdp_upfm/dynbalance_optimyzer_res/'\n",
    "    \n",
    "    sc_new.to_csv(path+f'scenario/scenario_{key_sc}.csv', index=True)\n",
    "    agg_res.to_csv(path+f'agg_res/agg_res_{key_sc}.csv', index=True)\n",
    "    portfolio_res.to_csv(path+f'portfolio_res/portfolio_res_{key_sc}.csv', index=True)\n",
    "    \n",
    "    "
   ]
  }
 ],
 "metadata": {
  "interpreter": {
   "hash": "67db43d0d118bdb28a03ac1311d68e4eaf3d26b0a53952ba9af383edd3dcbb04"
  },
  "kernelspec": {
   "display_name": "ADH SBX Python 3 + PySpark 3",
   "language": "python",
   "name": "python3-pyspark3-arenadata-adh_sandbox"
  },
  "language_info": {
   "codemirror_mode": {
    "name": "ipython",
    "version": 3
   },
   "file_extension": ".py",
   "mimetype": "text/x-python",
   "name": "python",
   "nbconvert_exporter": "python",
   "pygments_lexer": "ipython3",
   "version": "3.7.9"
  }
 },
 "nbformat": 4,
 "nbformat_minor": 5
}
