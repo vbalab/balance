{
 "cells": [
  {
   "cell_type": "code",
   "execution_count": 1,
   "id": "a64ec341-9ec8-4ba2-b1c9-a903ffee2b5b",
   "metadata": {},
   "outputs": [],
   "source": [
    "# если выдает ошибку с пакетами\n",
    "# установить пакеты и перезапустить ядро\n",
    "# TODO: сделать установку окружений\n",
    "\n",
    "# !pip install scikit-learn --force\n",
    "# !pip install catboost\n",
    "# !pip install sktime==0.15.1\n",
    "# !pip install pandas==1.3.5"
   ]
  },
  {
   "cell_type": "code",
   "execution_count": 2,
   "id": "532f9d68-b0fc-4a7b-b166-b60981a74909",
   "metadata": {},
   "outputs": [
    {
     "name": "stdout",
     "output_type": "stream",
     "text": [
      "Defaulting to user installation because normal site-packages is not writeable\n",
      "Looking in indexes: http://nxrm:8081/repository/pypi/simple\n",
      "Requirement already satisfied: openpyxl in /opt/cloudera/parcels/Anaconda-2020.11-1.639/envs/python3.7.9/lib/python3.7/site-packages (3.0.9)\n",
      "Requirement already satisfied: et-xmlfile in /opt/cloudera/parcels/Anaconda-2020.11-1.639/envs/python3.7.9/lib/python3.7/site-packages (from openpyxl) (1.1.0)\n"
     ]
    },
    {
     "name": "stderr",
     "output_type": "stream",
     "text": [
      "WARNING: pip is being invoked by an old script wrapper. This will fail in a future version of pip.\n",
      "Please see https://github.com/pypa/pip/issues/5599 for advice on fixing the underlying issue.\n",
      "To avoid this problem you can invoke Python with '-m pip' instead of running pip directly.\n"
     ]
    }
   ],
   "source": [
    "import sys\n",
    "sys.path.append('../..')\n",
    "import pandas as pd\n",
    "\n",
    "pd.set_option('display.max.columns', 300)\n",
    "\n",
    "\n",
    "\n",
    "from core.definitions import *\n",
    "\n",
    "from warnings import filterwarnings\n",
    "filterwarnings('ignore')\n",
    "\n",
    "\n",
    "import matplotlib.pyplot as plt\n",
    "\n",
    "# для записи и чтения экселя\n",
    "import pip\n",
    "pip.main(['install', 'openpyxl'])\n"
   ]
  },
  {
   "cell_type": "code",
   "execution_count": 3,
   "id": "3ce9b77a-3d08-4f29-8ccc-f4cb74107141",
   "metadata": {},
   "outputs": [],
   "source": []
  },
  {
   "cell_type": "markdown",
   "id": "6fcd1f73-1e70-42ea-bf21-6e6ac14adaab",
   "metadata": {},
   "source": [
    "## Чтение прогнозов"
   ]
  },
  {
   "cell_type": "code",
   "execution_count": 4,
   "id": "ae64b392-6b2c-47eb-8896-bde4530558b2",
   "metadata": {},
   "outputs": [],
   "source": [
    "import pickle\n",
    "\n",
    "\n",
    "# with open('res_dict.pickle', 'wb') as handle:\n",
    "#     pickle.dump(res_dict, handle, protocol=pickle.HIGHEST_PROTOCOL)\n",
    "    \n",
    "with open('res_dict.pickle', 'rb') as handle:\n",
    "    res_dict = pickle.load(handle)\n"
   ]
  },
  {
   "cell_type": "markdown",
   "id": "edc77636-ed2c-4674-93a4-f0a50ff5664d",
   "metadata": {},
   "source": [
    "## Загрузка таблиц фактов"
   ]
  },
  {
   "cell_type": "code",
   "execution_count": 7,
   "id": "e88fa1de-2b90-4969-8feb-cc9b3645f7fa",
   "metadata": {},
   "outputs": [],
   "source": [
    "# sa_table = spark.table('prod_dadm_alm_sbx.almde_fl_dpst_saving_accounts_monthly_avg_feature')\n",
    "# sa_table_pd = sa_table.toPandas()\n",
    "# sa_table_pd.to_csv('./fact_data/sa_fact.csv')"
   ]
  },
  {
   "cell_type": "code",
   "execution_count": 8,
   "id": "23bfe14f-a120-44a9-9c30-f508f4de212a",
   "metadata": {},
   "outputs": [],
   "source": [
    "# ca_table = spark.table('prod_dadm_alm_sbx.almde_fl_dpst_current_accounts')\n",
    "# ca_table_pd = ca_table.toPandas()\n",
    "# ca_table_pd.to_csv('./fact_data/ca_fact.csv')"
   ]
  },
  {
   "cell_type": "code",
   "execution_count": 9,
   "id": "35fa8cf4-738a-4e43-98d8-bfefaf590974",
   "metadata": {},
   "outputs": [],
   "source": [
    "sa_table_pd = pd.read_csv('./fact_data/sa_fact.csv')\n",
    "ca_table_pd = pd.read_csv('./fact_data/ca_fact.csv')"
   ]
  },
  {
   "cell_type": "code",
   "execution_count": 15,
   "id": "9b78568d-6939-4cbd-9c03-75600ea8cde9",
   "metadata": {},
   "outputs": [],
   "source": [
    "sa_table_pd = sa_table_pd.sort_values(by='report_dt')\n",
    "ca_table_pd = ca_table_pd.sort_values(by='report_dt')"
   ]
  },
  {
   "cell_type": "code",
   "execution_count": 18,
   "id": "ecb75e14-41ad-43d2-8017-43641d296f94",
   "metadata": {},
   "outputs": [
    {
     "data": {
      "text/html": [
       "<div>\n",
       "<style scoped>\n",
       "    .dataframe tbody tr th:only-of-type {\n",
       "        vertical-align: middle;\n",
       "    }\n",
       "\n",
       "    .dataframe tbody tr th {\n",
       "        vertical-align: top;\n",
       "    }\n",
       "\n",
       "    .dataframe thead th {\n",
       "        text-align: right;\n",
       "    }\n",
       "</style>\n",
       "<table border=\"1\" class=\"dataframe\">\n",
       "  <thead>\n",
       "    <tr style=\"text-align: right;\">\n",
       "      <th></th>\n",
       "      <th>report_dt</th>\n",
       "      <th>SA_avg_balance_[general]_[mass]</th>\n",
       "      <th>SA_avg_balance_[general]_[priv]</th>\n",
       "      <th>SA_avg_balance_[general]_[vip]</th>\n",
       "    </tr>\n",
       "  </thead>\n",
       "  <tbody>\n",
       "    <tr>\n",
       "      <th>79</th>\n",
       "      <td>2024-05-31</td>\n",
       "      <td>8.189205e+11</td>\n",
       "      <td>4.094633e+11</td>\n",
       "      <td>8.854591e+10</td>\n",
       "    </tr>\n",
       "    <tr>\n",
       "      <th>80</th>\n",
       "      <td>2024-06-30</td>\n",
       "      <td>8.879335e+11</td>\n",
       "      <td>4.483153e+11</td>\n",
       "      <td>1.165230e+11</td>\n",
       "    </tr>\n",
       "    <tr>\n",
       "      <th>42</th>\n",
       "      <td>2024-07-31</td>\n",
       "      <td>9.809697e+11</td>\n",
       "      <td>5.166332e+11</td>\n",
       "      <td>1.371393e+11</td>\n",
       "    </tr>\n",
       "    <tr>\n",
       "      <th>43</th>\n",
       "      <td>2024-08-31</td>\n",
       "      <td>1.007121e+12</td>\n",
       "      <td>5.599451e+11</td>\n",
       "      <td>1.568668e+11</td>\n",
       "    </tr>\n",
       "    <tr>\n",
       "      <th>44</th>\n",
       "      <td>2024-09-30</td>\n",
       "      <td>9.638511e+11</td>\n",
       "      <td>5.616423e+11</td>\n",
       "      <td>1.470692e+11</td>\n",
       "    </tr>\n",
       "  </tbody>\n",
       "</table>\n",
       "</div>"
      ],
      "text/plain": [
       "     report_dt  SA_avg_balance_[general]_[mass]  \\\n",
       "79  2024-05-31                     8.189205e+11   \n",
       "80  2024-06-30                     8.879335e+11   \n",
       "42  2024-07-31                     9.809697e+11   \n",
       "43  2024-08-31                     1.007121e+12   \n",
       "44  2024-09-30                     9.638511e+11   \n",
       "\n",
       "    SA_avg_balance_[general]_[priv]  SA_avg_balance_[general]_[vip]  \n",
       "79                     4.094633e+11                    8.854591e+10  \n",
       "80                     4.483153e+11                    1.165230e+11  \n",
       "42                     5.166332e+11                    1.371393e+11  \n",
       "43                     5.599451e+11                    1.568668e+11  \n",
       "44                     5.616423e+11                    1.470692e+11  "
      ]
     },
     "execution_count": 18,
     "metadata": {},
     "output_type": "execute_result"
    }
   ],
   "source": [
    "sa_table_pd.tail()[['report_dt', 'SA_avg_balance_[general]_[mass]', 'SA_avg_balance_[general]_[priv]', 'SA_avg_balance_[general]_[vip]']]"
   ]
  },
  {
   "cell_type": "code",
   "execution_count": 24,
   "id": "2d7963bc-897a-4d4b-acb6-248b789f5332",
   "metadata": {},
   "outputs": [
    {
     "data": {
      "text/plain": [
       "79    1.316930e+12\n",
       "80    1.452772e+12\n",
       "42    1.634742e+12\n",
       "43    1.723933e+12\n",
       "44    1.672563e+12\n",
       "dtype: float64"
      ]
     },
     "execution_count": 24,
     "metadata": {},
     "output_type": "execute_result"
    }
   ],
   "source": [
    "sa_table_pd.tail()[['report_dt', 'SA_avg_balance_[general]_[mass]', 'SA_avg_balance_[general]_[priv]', 'SA_avg_balance_[general]_[vip]']].sum(axis=1)"
   ]
  },
  {
   "cell_type": "code",
   "execution_count": 30,
   "id": "951cd746-fd0f-4ddb-91ea-98c10e50ea98",
   "metadata": {},
   "outputs": [
    {
     "data": {
      "text/plain": [
       "1.1940298507462686"
      ]
     },
     "execution_count": 30,
     "metadata": {},
     "output_type": "execute_result"
    }
   ],
   "source": [
    "1.6/1.34"
   ]
  },
  {
   "cell_type": "code",
   "execution_count": 17,
   "id": "f8800f93-d169-4dc1-bc1b-01764e96331c",
   "metadata": {},
   "outputs": [
    {
     "data": {
      "text/html": [
       "<div>\n",
       "<style scoped>\n",
       "    .dataframe tbody tr th:only-of-type {\n",
       "        vertical-align: middle;\n",
       "    }\n",
       "\n",
       "    .dataframe tbody tr th {\n",
       "        vertical-align: top;\n",
       "    }\n",
       "\n",
       "    .dataframe thead th {\n",
       "        text-align: right;\n",
       "    }\n",
       "</style>\n",
       "<table border=\"1\" class=\"dataframe\">\n",
       "  <thead>\n",
       "    <tr style=\"text-align: right;\">\n",
       "      <th></th>\n",
       "      <th>Unnamed: 0</th>\n",
       "      <th>report_dt</th>\n",
       "      <th>balance_cny_[general]</th>\n",
       "      <th>balance_eur_[general]</th>\n",
       "      <th>balance_oth_[general]</th>\n",
       "      <th>balance_rub_[general]</th>\n",
       "      <th>balance_usd_[general]</th>\n",
       "      <th>balance_rub_[mass]</th>\n",
       "      <th>balance_rub_[priv]</th>\n",
       "      <th>balance_rub_[vip]</th>\n",
       "      <th>rate_ruonia</th>\n",
       "      <th>VTB_ftp_rate_[90d]</th>\n",
       "      <th>VTB_ftp_rate_[730d]</th>\n",
       "    </tr>\n",
       "  </thead>\n",
       "  <tbody>\n",
       "    <tr>\n",
       "      <th>124</th>\n",
       "      <td>124</td>\n",
       "      <td>2024-05-31</td>\n",
       "      <td>3.193282e+08</td>\n",
       "      <td>5.105431e+08</td>\n",
       "      <td>1.154572e+10</td>\n",
       "      <td>6.809284e+11</td>\n",
       "      <td>1.080224e+09</td>\n",
       "      <td>5.109026e+11</td>\n",
       "      <td>1.195101e+11</td>\n",
       "      <td>5.051573e+10</td>\n",
       "      <td>15.947500</td>\n",
       "      <td>17.100000</td>\n",
       "      <td>14.858065</td>\n",
       "    </tr>\n",
       "    <tr>\n",
       "      <th>125</th>\n",
       "      <td>125</td>\n",
       "      <td>2024-06-30</td>\n",
       "      <td>3.462774e+08</td>\n",
       "      <td>5.058765e+08</td>\n",
       "      <td>1.105591e+10</td>\n",
       "      <td>7.083955e+11</td>\n",
       "      <td>1.084337e+09</td>\n",
       "      <td>5.346651e+11</td>\n",
       "      <td>1.228598e+11</td>\n",
       "      <td>5.087055e+10</td>\n",
       "      <td>15.651053</td>\n",
       "      <td>17.310000</td>\n",
       "      <td>16.263333</td>\n",
       "    </tr>\n",
       "    <tr>\n",
       "      <th>126</th>\n",
       "      <td>126</td>\n",
       "      <td>2024-07-31</td>\n",
       "      <td>3.547077e+08</td>\n",
       "      <td>5.059242e+08</td>\n",
       "      <td>1.214104e+10</td>\n",
       "      <td>7.478071e+11</td>\n",
       "      <td>1.098656e+09</td>\n",
       "      <td>5.729349e+11</td>\n",
       "      <td>1.233124e+11</td>\n",
       "      <td>5.155979e+10</td>\n",
       "      <td>16.113478</td>\n",
       "      <td>18.575806</td>\n",
       "      <td>17.916129</td>\n",
       "    </tr>\n",
       "    <tr>\n",
       "      <th>127</th>\n",
       "      <td>127</td>\n",
       "      <td>2024-08-31</td>\n",
       "      <td>3.148768e+08</td>\n",
       "      <td>5.020493e+08</td>\n",
       "      <td>1.184707e+10</td>\n",
       "      <td>8.132118e+11</td>\n",
       "      <td>1.102731e+09</td>\n",
       "      <td>5.974652e+11</td>\n",
       "      <td>1.514463e+11</td>\n",
       "      <td>6.430026e+10</td>\n",
       "      <td>17.743182</td>\n",
       "      <td>19.450000</td>\n",
       "      <td>18.300000</td>\n",
       "    </tr>\n",
       "    <tr>\n",
       "      <th>128</th>\n",
       "      <td>128</td>\n",
       "      <td>2024-09-30</td>\n",
       "      <td>2.738400e+08</td>\n",
       "      <td>4.943824e+08</td>\n",
       "      <td>1.211032e+10</td>\n",
       "      <td>8.911279e+11</td>\n",
       "      <td>1.100793e+09</td>\n",
       "      <td>6.307825e+11</td>\n",
       "      <td>1.819677e+11</td>\n",
       "      <td>7.837774e+10</td>\n",
       "      <td>18.390476</td>\n",
       "      <td>20.225000</td>\n",
       "      <td>19.900000</td>\n",
       "    </tr>\n",
       "  </tbody>\n",
       "</table>\n",
       "</div>"
      ],
      "text/plain": [
       "     Unnamed: 0   report_dt  balance_cny_[general]  balance_eur_[general]  \\\n",
       "124         124  2024-05-31           3.193282e+08           5.105431e+08   \n",
       "125         125  2024-06-30           3.462774e+08           5.058765e+08   \n",
       "126         126  2024-07-31           3.547077e+08           5.059242e+08   \n",
       "127         127  2024-08-31           3.148768e+08           5.020493e+08   \n",
       "128         128  2024-09-30           2.738400e+08           4.943824e+08   \n",
       "\n",
       "     balance_oth_[general]  balance_rub_[general]  balance_usd_[general]  \\\n",
       "124           1.154572e+10           6.809284e+11           1.080224e+09   \n",
       "125           1.105591e+10           7.083955e+11           1.084337e+09   \n",
       "126           1.214104e+10           7.478071e+11           1.098656e+09   \n",
       "127           1.184707e+10           8.132118e+11           1.102731e+09   \n",
       "128           1.211032e+10           8.911279e+11           1.100793e+09   \n",
       "\n",
       "     balance_rub_[mass]  balance_rub_[priv]  balance_rub_[vip]  rate_ruonia  \\\n",
       "124        5.109026e+11        1.195101e+11       5.051573e+10    15.947500   \n",
       "125        5.346651e+11        1.228598e+11       5.087055e+10    15.651053   \n",
       "126        5.729349e+11        1.233124e+11       5.155979e+10    16.113478   \n",
       "127        5.974652e+11        1.514463e+11       6.430026e+10    17.743182   \n",
       "128        6.307825e+11        1.819677e+11       7.837774e+10    18.390476   \n",
       "\n",
       "     VTB_ftp_rate_[90d]  VTB_ftp_rate_[730d]  \n",
       "124           17.100000            14.858065  \n",
       "125           17.310000            16.263333  \n",
       "126           18.575806            17.916129  \n",
       "127           19.450000            18.300000  \n",
       "128           20.225000            19.900000  "
      ]
     },
     "execution_count": 17,
     "metadata": {},
     "output_type": "execute_result"
    }
   ],
   "source": [
    "ca_table_pd.tail()"
   ]
  },
  {
   "cell_type": "markdown",
   "id": "aebe398f-c2c3-4a6c-b08d-bac07ac45f42",
   "metadata": {},
   "source": [
    "#### Сравнение разных вариантов сценариев"
   ]
  },
  {
   "cell_type": "code",
   "execution_count": null,
   "id": "dd464cc1-329f-4bfa-8681-7413795f5385",
   "metadata": {},
   "outputs": [],
   "source": [
    "delta1 = (res_dict['parse_sc_v2_r21']['scenario'] - res_dict['parse_sc_v1_r21']['scenario']).T"
   ]
  },
  {
   "cell_type": "code",
   "execution_count": null,
   "id": "ba58b9e9-02a8-4a3f-944d-e705963ec341",
   "metadata": {},
   "outputs": [],
   "source": [
    "delta1[(delta1!=0).all(axis=1)]"
   ]
  },
  {
   "cell_type": "markdown",
   "id": "378c0052-0e78-4f13-8fa6-abf9da012f3c",
   "metadata": {},
   "source": [
    "* Трансферты выросли на 1%  \n",
    "* основной рост без опций - в срочностях 90 и 365  \n",
    "* основной рост с пополнением без снятий - 90 и 180  \n",
    "* основной рост с пополнением и снятиями - 90 и 180  \n",
    "* __у второго варианта сценариев ставки выше__ "
   ]
  },
  {
   "cell_type": "code",
   "execution_count": null,
   "id": "cede2139-4dd2-4c61-b221-96dd752389f0",
   "metadata": {},
   "outputs": [],
   "source": [
    "delta2 = (res_dict['parse_sc_v2_r22']['scenario'] - res_dict['parse_sc_v1_r22']['scenario']).T"
   ]
  },
  {
   "cell_type": "code",
   "execution_count": null,
   "id": "30719f91-09d6-4dd9-832b-d8e0ad12f02c",
   "metadata": {},
   "outputs": [],
   "source": [
    "delta2[(delta2!=0).all(axis=1)]"
   ]
  },
  {
   "cell_type": "markdown",
   "id": "5c720853-8c4c-40c9-b3c7-5edb13132697",
   "metadata": {},
   "source": [
    "* Трансферты выросли на 1%  \n",
    "* основной рост без опций - в срочностях 90, 185 и 365. В основном на 180 - 2%    \n",
    "* __у второго варианта сценариев ставки выше__ "
   ]
  },
  {
   "cell_type": "markdown",
   "id": "7b418166-d2ec-48b9-88d3-13a45a0cf4b7",
   "metadata": {},
   "source": [
    "#### Ниже - дельты по новым сценариям"
   ]
  },
  {
   "cell_type": "code",
   "execution_count": null,
   "id": "a099a189-7e20-4dbb-8689-5c23b63c8c21",
   "metadata": {},
   "outputs": [],
   "source": [
    "delta3 = (res_dict['parse_sc_v2_r22']['scenario'] - res_dict['parse_sc_v2_r21']['scenario']).T\n",
    "delta3[(delta1!=0).all(axis=1)]"
   ]
  },
  {
   "cell_type": "markdown",
   "id": "81809810-2403-4b3c-b3b8-68fb09a1f669",
   "metadata": {},
   "source": [
    "* Трансфертные ставки поднялись на 1% равномерно  \n",
    "* Увеличились срочности до года для всех сегментов без опций: 90, 180 и 365. Наибольший рост - на 1.8% на 180 дней"
   ]
  },
  {
   "cell_type": "markdown",
   "id": "7da1d4b1-057b-4c1e-ba84-8bee4ad9595b",
   "metadata": {},
   "source": [
    "#### Идея - отранжировать по величине ставки"
   ]
  },
  {
   "cell_type": "code",
   "execution_count": 19,
   "id": "719c28a9-be7e-404f-95ed-bd9fd29ef7f3",
   "metadata": {},
   "outputs": [],
   "source": [
    "# порядок по увеличению ставок\n",
    "\n",
    "sc_names_soreted_rates = ['parse_sc_v1_r20', \n",
    "                          'parse_sc_v1_r21',\n",
    "                          'parse_sc_v2_r21',\n",
    "                          'parse_sc_v1_r22',\n",
    "                          'parse_sc_v2_r22'\n",
    "                         ]"
   ]
  },
  {
   "cell_type": "markdown",
   "id": "e1a19c7e-b62f-4da2-9529-151698ae5b98",
   "metadata": {},
   "source": [
    "## Анализ прогнозов\n",
    "\n",
    "Потом можно откорректировать через досрочку"
   ]
  },
  {
   "cell_type": "code",
   "execution_count": 20,
   "id": "df90e86b-9ae8-4e9c-9485-494ab26debf6",
   "metadata": {},
   "outputs": [
    {
     "name": "stdout",
     "output_type": "stream",
     "text": [
      "parse_sc_v1_r20 16\n",
      "parse_sc_v1_r21 17\n",
      "parse_sc_v2_r21 17\n",
      "parse_sc_v1_r22 17.5\n",
      "parse_sc_v2_r22 17.5\n"
     ]
    }
   ],
   "source": [
    "for sc in sc_names_soreted_rates:\n",
    "    print(sc, res_dict[sc]['scenario']['rate_sa_weighted'][0])"
   ]
  },
  {
   "cell_type": "markdown",
   "id": "235a3ad3-7bcd-4bab-8567-f332c8fa5f67",
   "metadata": {},
   "source": [
    "## Накопительные счета"
   ]
  },
  {
   "cell_type": "code",
   "execution_count": 25,
   "id": "00fc3fda-2d7e-424f-96ca-d2c7ace45777",
   "metadata": {},
   "outputs": [
    {
     "data": {
      "text/plain": [
       "<matplotlib.legend.Legend at 0x7fbdfa831cd0>"
      ]
     },
     "execution_count": 25,
     "metadata": {},
     "output_type": "execute_result"
    },
    {
     "data": {
      "image/png": "[encoded data removed]",
      "text/plain": [
       "<Figure size 432x288 with 1 Axes>"
      ]
     },
     "metadata": {
      "needs_background": "light"
     },
     "output_type": "display_data"
    }
   ],
   "source": [
    "res_dict['parse_sc_v1_r20']['SavingAccounts'].groupby('report_dt').sum()['general'].plot(label='parse_sc_v1_r20')\n",
    "res_dict['parse_sc_v1_r21']['SavingAccounts'].groupby('report_dt').sum()['general'].plot(label='parse_sc_v1_r21')\n",
    "res_dict['parse_sc_v1_r22']['SavingAccounts'].groupby('report_dt').sum()['general'].plot(label='parse_sc_v1_r22')\n",
    "\n",
    "res_dict['parse_sc_v2_r21']['SavingAccounts'].groupby('report_dt').sum()['general'].plot(label='parse_sc_v2_r21')\n",
    "res_dict['parse_sc_v2_r22']['SavingAccounts'].groupby('report_dt').sum()['general'].plot(label='parse_sc_v2_r22')\n",
    "\n",
    "plt.legend()"
   ]
  },
  {
   "cell_type": "markdown",
   "id": "c15c0730-602d-4cf9-bf40-9200c767cc4c",
   "metadata": {},
   "source": [
    "Отрабатывает корректно потому что всокие ставки по депозитам начинаются позже"
   ]
  },
  {
   "cell_type": "code",
   "execution_count": 26,
   "id": "78068b82-f0c0-4d56-91b9-f36c17f28502",
   "metadata": {},
   "outputs": [
    {
     "data": {
      "text/plain": [
       "<matplotlib.legend.Legend at 0x7fbdfa879050>"
      ]
     },
     "execution_count": 26,
     "metadata": {},
     "output_type": "execute_result"
    },
    {
     "data": {
      "image/png": "[encoded data removed]",
      "text/plain": [
       "<Figure size 432x288 with 1 Axes>"
      ]
     },
     "metadata": {
      "needs_background": "light"
     },
     "output_type": "display_data"
    }
   ],
   "source": [
    "segm = 'mass'\n",
    "\n",
    "res_dict['parse_sc_v1_r20']['SavingAccounts'].query(f'segment==\"{segm}\"').groupby('report_dt').sum()['general'].plot(label='parse_sc_v1_r20')\n",
    "res_dict['parse_sc_v1_r21']['SavingAccounts'].query(f'segment==\"{segm}\"').groupby('report_dt').sum()['general'].plot(label='parse_sc_v1_r21')\n",
    "res_dict['parse_sc_v1_r22']['SavingAccounts'].query(f'segment==\"{segm}\"').groupby('report_dt').sum()['general'].plot(label='parse_sc_v1_r22')\n",
    "\n",
    "res_dict['parse_sc_v2_r21']['SavingAccounts'].query(f'segment==\"{segm}\"').groupby('report_dt').sum()['general'].plot(label='parse_sc_v2_r21')\n",
    "res_dict['parse_sc_v2_r22']['SavingAccounts'].query(f'segment==\"{segm}\"').groupby('report_dt').sum()['general'].plot(label='parse_sc_v2_r22')\n",
    "\n",
    "plt.legend()"
   ]
  },
  {
   "cell_type": "code",
   "execution_count": 27,
   "id": "b5bff159-0baa-4861-a090-14328b8ea08b",
   "metadata": {},
   "outputs": [
    {
     "data": {
      "text/plain": [
       "<matplotlib.legend.Legend at 0x7fbd48559dd0>"
      ]
     },
     "execution_count": 27,
     "metadata": {},
     "output_type": "execute_result"
    },
    {
     "data": {
      "image/png": "[encoded data removed]",
      "text/plain": [
       "<Figure size 432x288 with 1 Axes>"
      ]
     },
     "metadata": {
      "needs_background": "light"
     },
     "output_type": "display_data"
    }
   ],
   "source": [
    "segm = 'priv'\n",
    "\n",
    "res_dict['parse_sc_v1_r20']['SavingAccounts'].query(f'segment==\"{segm}\"').groupby('report_dt').sum()['general'].plot(label='parse_sc_v1_r20')\n",
    "res_dict['parse_sc_v1_r21']['SavingAccounts'].query(f'segment==\"{segm}\"').groupby('report_dt').sum()['general'].plot(label='parse_sc_v1_r21')\n",
    "res_dict['parse_sc_v1_r22']['SavingAccounts'].query(f'segment==\"{segm}\"').groupby('report_dt').sum()['general'].plot(label='parse_sc_v1_r22')\n",
    "\n",
    "res_dict['parse_sc_v2_r21']['SavingAccounts'].query(f'segment==\"{segm}\"').groupby('report_dt').sum()['general'].plot(label='parse_sc_v2_r21')\n",
    "res_dict['parse_sc_v2_r22']['SavingAccounts'].query(f'segment==\"{segm}\"').groupby('report_dt').sum()['general'].plot(label='parse_sc_v2_r22')\n",
    "\n",
    "plt.legend()"
   ]
  },
  {
   "cell_type": "code",
   "execution_count": 28,
   "id": "a7a0284a-4b03-4ca7-b918-1759d504161b",
   "metadata": {},
   "outputs": [
    {
     "data": {
      "text/plain": [
       "<matplotlib.legend.Legend at 0x7fbd48436e90>"
      ]
     },
     "execution_count": 28,
     "metadata": {},
     "output_type": "execute_result"
    },
    {
     "data": {
      "image/png": "[encoded data removed]",
      "text/plain": [
       "<Figure size 432x288 with 1 Axes>"
      ]
     },
     "metadata": {
      "needs_background": "light"
     },
     "output_type": "display_data"
    }
   ],
   "source": [
    "segm = 'vip'\n",
    "\n",
    "res_dict['parse_sc_v1_r20']['SavingAccounts'].query(f'segment==\"{segm}\"').groupby('report_dt').sum()['general'].plot(label='parse_sc_v1_r20')\n",
    "res_dict['parse_sc_v1_r21']['SavingAccounts'].query(f'segment==\"{segm}\"').groupby('report_dt').sum()['general'].plot(label='parse_sc_v1_r21')\n",
    "res_dict['parse_sc_v1_r22']['SavingAccounts'].query(f'segment==\"{segm}\"').groupby('report_dt').sum()['general'].plot(label='parse_sc_v1_r22')\n",
    "\n",
    "res_dict['parse_sc_v2_r21']['SavingAccounts'].query(f'segment==\"{segm}\"').groupby('report_dt').sum()['general'].plot(label='parse_sc_v2_r21')\n",
    "res_dict['parse_sc_v2_r22']['SavingAccounts'].query(f'segment==\"{segm}\"').groupby('report_dt').sum()['general'].plot(label='parse_sc_v2_r22')\n",
    "\n",
    "plt.legend()"
   ]
  },
  {
   "cell_type": "markdown",
   "id": "7e736dc4-42c0-4da8-91e5-a5902acf2121",
   "metadata": {},
   "source": [
    "## Фиксим"
   ]
  },
  {
   "cell_type": "code",
   "execution_count": 29,
   "id": "7adc4d96-25c4-4373-b005-e11635e43de4",
   "metadata": {},
   "outputs": [
    {
     "data": {
      "text/plain": [
       "['parse_sc_v1_r20',\n",
       " 'parse_sc_v1_r21',\n",
       " 'parse_sc_v2_r21',\n",
       " 'parse_sc_v1_r22',\n",
       " 'parse_sc_v2_r22']"
      ]
     },
     "execution_count": 29,
     "metadata": {},
     "output_type": "execute_result"
    }
   ],
   "source": [
    "sc_names_soreted_rates"
   ]
  },
  {
   "cell_type": "code",
   "execution_count": 35,
   "id": "c788d2f8-6d7b-4acb-b8c2-739a72321c90",
   "metadata": {},
   "outputs": [],
   "source": [
    "res_dict_agg_fix = {}\n",
    "\n",
    "for sc_name in sc_names_soreted_rates:\n",
    "    tmp1 = res_dict[sc_name]['SavingAccounts'].copy()\n",
    "    \n",
    "    tmp1['general']  = tmp1['general'] * 1.2\n",
    "    \n",
    "    res_dict_agg_fix[sc_name] = tmp1"
   ]
  },
  {
   "cell_type": "code",
   "execution_count": 38,
   "id": "3f41b133-9bd7-454f-9825-f2f493aed8b4",
   "metadata": {},
   "outputs": [
    {
     "data": {
      "text/plain": [
       "<matplotlib.legend.Legend at 0x7fbd48420b90>"
      ]
     },
     "execution_count": 38,
     "metadata": {},
     "output_type": "execute_result"
    },
    {
     "data": {
      "image/png": "[encoded data removed]",
      "text/plain": [
       "<Figure size 432x288 with 1 Axes>"
      ]
     },
     "metadata": {
      "needs_background": "light"
     },
     "output_type": "display_data"
    }
   ],
   "source": [
    "res_dict_agg_fix['parse_sc_v1_r20'].groupby('report_dt').sum()['general'].plot(label='parse_sc_v1_r20')\n",
    "res_dict_agg_fix['parse_sc_v1_r21'].groupby('report_dt').sum()['general'].plot(label='parse_sc_v1_r21')\n",
    "res_dict_agg_fix['parse_sc_v1_r22'].groupby('report_dt').sum()['general'].plot(label='parse_sc_v1_r22')\n",
    "\n",
    "res_dict_agg_fix['parse_sc_v2_r21'].groupby('report_dt').sum()['general'].plot(label='parse_sc_v2_r21')\n",
    "res_dict_agg_fix['parse_sc_v2_r22'].groupby('report_dt').sum()['general'].plot(label='parse_sc_v2_r22')\n",
    "\n",
    "plt.legend()"
   ]
  },
  {
   "cell_type": "code",
   "execution_count": null,
   "id": "8281434f-91e2-4fb7-b50e-34d95e061405",
   "metadata": {},
   "outputs": [],
   "source": []
  },
  {
   "cell_type": "code",
   "execution_count": null,
   "id": "28ce2c95-675f-4898-91f0-bee6c0dcda80",
   "metadata": {},
   "outputs": [],
   "source": []
  },
  {
   "cell_type": "code",
   "execution_count": null,
   "id": "cedd76d2-2b35-4cb7-99de-22494565cd0d",
   "metadata": {},
   "outputs": [],
   "source": []
  },
  {
   "cell_type": "code",
   "execution_count": null,
   "id": "c7a92fc8-22bd-4846-b444-ea867f88ab5d",
   "metadata": {},
   "outputs": [],
   "source": []
  },
  {
   "cell_type": "markdown",
   "id": "78cd7008-8b4d-4aa6-a892-0f0d2c887788",
   "metadata": {},
   "source": [
    "Трансферты у 2-го варианта выше"
   ]
  },
  {
   "cell_type": "markdown",
   "id": "963b841f-1c48-4475-8c86-60ad061e555f",
   "metadata": {},
   "source": [
    "## Тестирование прогнозов и сверка с фактом"
   ]
  },
  {
   "cell_type": "code",
   "execution_count": null,
   "id": "073d553c-0ef6-453f-a39a-84ef5808786a",
   "metadata": {},
   "outputs": [],
   "source": [
    "fact_data = pd.read_csv('./fact_data/dpst_table_gr_pd.csv', index_col='Unnamed: 0')"
   ]
  },
  {
   "cell_type": "code",
   "execution_count": null,
   "id": "af588e80-8eea-43bd-9db4-65eb9e1e0d46",
   "metadata": {},
   "outputs": [],
   "source": [
    "df_fact = pd.DataFrame(fact_data.groupby('report_dt').sum()['balance']).reset_index()"
   ]
  },
  {
   "cell_type": "code",
   "execution_count": null,
   "id": "e51fce85-f481-4098-b1da-67afcc18352a",
   "metadata": {},
   "outputs": [],
   "source": [
    "df_fact.tail(10)"
   ]
  },
  {
   "cell_type": "code",
   "execution_count": null,
   "id": "6a54a6da-689c-41b3-b7de-6eabed8475be",
   "metadata": {},
   "outputs": [],
   "source": [
    "mass = fact_data[fact_data.is_vip_or_prv==0].sort_values(by='report_dt')\n",
    "priv = fact_data[fact_data.is_vip_or_prv==1].sort_values(by='report_dt')\n",
    "vip = fact_data[fact_data.is_vip_or_prv==2].sort_values(by='report_dt')"
   ]
  },
  {
   "cell_type": "code",
   "execution_count": null,
   "id": "0426391f-050c-4b43-a5db-4570feaf1733",
   "metadata": {},
   "outputs": [],
   "source": [
    "mass.tail(10)"
   ]
  },
  {
   "cell_type": "code",
   "execution_count": null,
   "id": "9a9bdac1-7a73-41a8-b939-f997fe451ce0",
   "metadata": {},
   "outputs": [],
   "source": [
    "priv.tail(10)"
   ]
  },
  {
   "cell_type": "code",
   "execution_count": null,
   "id": "6f337d2d-453f-445b-a2a5-296e6d0b5e3a",
   "metadata": {},
   "outputs": [],
   "source": [
    "vip.tail(10)"
   ]
  },
  {
   "cell_type": "code",
   "execution_count": null,
   "id": "4b002fd9-064f-4576-937e-422fc5b1b467",
   "metadata": {},
   "outputs": [],
   "source": [
    "import plotly.express as px\n",
    "\n",
    "fig = px.line(df_fact, x=\"report_dt\", y=\"balance\", title='fact balance')\n",
    "fig.show()"
   ]
  },
  {
   "cell_type": "markdown",
   "id": "c3567578-8286-4ceb-9617-bd2c9bc1868c",
   "metadata": {},
   "source": [
    "### Анализ нового бизнеса"
   ]
  },
  {
   "cell_type": "code",
   "execution_count": null,
   "id": "052f635b-4854-478c-99df-aef6bc12a59e",
   "metadata": {},
   "outputs": [],
   "source": [
    "nb_data = pd.read_csv('./fact_data/nb_fact_pd.csv', index_col='Unnamed: 0')"
   ]
  },
  {
   "cell_type": "code",
   "execution_count": null,
   "id": "97c42de0-f7ef-410c-8438-7da78e6720dc",
   "metadata": {},
   "outputs": [],
   "source": [
    "nb_data.tail(10)"
   ]
  },
  {
   "cell_type": "code",
   "execution_count": null,
   "id": "5a93530a-b388-4268-b020-eca6321dcd94",
   "metadata": {},
   "outputs": [],
   "source": []
  },
  {
   "cell_type": "markdown",
   "id": "86b9827e-e27e-4387-be75-d7464b1d0f6b",
   "metadata": {},
   "source": [
    "## Сохранение прогнозов"
   ]
  },
  {
   "cell_type": "code",
   "execution_count": 39,
   "id": "91250a13-fbb8-4cd7-8afa-7c7a19d3fbc2",
   "metadata": {},
   "outputs": [],
   "source": [
    "# res_dict_agg_fix"
   ]
  },
  {
   "cell_type": "code",
   "execution_count": null,
   "id": "c36a4fb8-4d5e-40a3-b041-a4ba3405e108",
   "metadata": {},
   "outputs": [],
   "source": [
    "sc_names_soreted_rates"
   ]
  },
  {
   "cell_type": "code",
   "execution_count": 40,
   "id": "29adb759-a28d-4931-a18b-f3655df1cd01",
   "metadata": {},
   "outputs": [
    {
     "name": "stderr",
     "output_type": "stream",
     "text": [
      "WARNING: pip is being invoked by an old script wrapper. This will fail in a future version of pip.\n",
      "Please see https://github.com/pypa/pip/issues/5599 for advice on fixing the underlying issue.\n",
      "To avoid this problem you can invoke Python with '-m pip' instead of running pip directly.\n"
     ]
    },
    {
     "name": "stdout",
     "output_type": "stream",
     "text": [
      "Defaulting to user installation because normal site-packages is not writeable\n",
      "Looking in indexes: http://nxrm:8081/repository/pypi/simple\n",
      "Requirement already satisfied: openpyxl in /opt/cloudera/parcels/Anaconda-2020.11-1.639/envs/python3.7.9/lib/python3.7/site-packages (3.0.9)\n",
      "Requirement already satisfied: et-xmlfile in /opt/cloudera/parcels/Anaconda-2020.11-1.639/envs/python3.7.9/lib/python3.7/site-packages (from openpyxl) (1.1.0)\n"
     ]
    },
    {
     "data": {
      "text/plain": [
       "0"
      ]
     },
     "execution_count": 40,
     "metadata": {},
     "output_type": "execute_result"
    }
   ],
   "source": [
    "# для записи и чтения экселя\n",
    "import pip\n",
    "pip.main(['install', 'openpyxl'])"
   ]
  },
  {
   "cell_type": "code",
   "execution_count": 41,
   "id": "f1b08d3b-be35-4058-a9ae-b7fc30f520ee",
   "metadata": {},
   "outputs": [],
   "source": []
  },
  {
   "cell_type": "code",
   "execution_count": 42,
   "id": "9aca707a-de99-42f9-be28-ab4cf0621263",
   "metadata": {},
   "outputs": [],
   "source": [
    "for sc_name in sc_names_soreted_rates:\n",
    "\n",
    "    with pd.ExcelWriter(f\"./results/sa_{sc_name[-9:]}.xlsx\") as writer:\n",
    "        res_dict[sc_name]['scenario'].to_excel(writer, sheet_name='scenario_'+sc_name[-9:], index=False)\n",
    "        res_dict_agg_fix[sc_name].to_excel(writer, sheet_name='SA_'+sc_name[-9:], index=False)"
   ]
  },
  {
   "cell_type": "code",
   "execution_count": null,
   "id": "45e92b08-df55-4e68-9a12-204d1a30776f",
   "metadata": {},
   "outputs": [],
   "source": []
  }
 ],
 "metadata": {
  "interpreter": {
   "hash": "67db43d0d118bdb28a03ac1311d68e4eaf3d26b0a53952ba9af383edd3dcbb04"
  },
  "kernelspec": {
   "display_name": "ADH SBX Python 3 + PySpark 3",
   "language": "python",
   "name": "python3-pyspark3-arenadata-adh_sandbox"
  },
  "language_info": {
   "codemirror_mode": {
    "name": "ipython",
    "version": 3
   },
   "file_extension": ".py",
   "mimetype": "text/x-python",
   "name": "python",
   "nbconvert_exporter": "python",
   "pygments_lexer": "ipython3",
   "version": "3.7.9"
  }
 },
 "nbformat": 4,
 "nbformat_minor": 5
}
