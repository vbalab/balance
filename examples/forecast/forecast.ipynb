{
 "cells": [
  {
   "cell_type": "code",
   "execution_count": 1,
   "id": "a64ec341-9ec8-4ba2-b1c9-a903ffee2b5b",
   "metadata": {},
   "outputs": [],
   "source": [
    "%pip install -r requirements.txt"
   ]
  },
  {
   "cell_type": "code",
   "execution_count": null,
   "id": "0379c874",
   "metadata": {},
   "outputs": [],
   "source": [
    "import sys\n",
    "sys.path.append('../..')"
   ]
  },
  {
   "cell_type": "code",
   "execution_count": 8,
   "id": "532f9d68-b0fc-4a7b-b166-b60981a74909",
   "metadata": {},
   "outputs": [],
   "source": [
    "import os\n",
    "import importlib\n",
    "import numpy as np\n",
    "import pandas as pd\n",
    "\n",
    "from datetime import datetime\n",
    "from warnings import filterwarnings\n",
    "from pandas.tseries.offsets import MonthEnd\n",
    "\n",
    "pd.set_option('display.max.columns', 300)\n",
    "filterwarnings('ignore')"
   ]
  },
  {
   "cell_type": "code",
   "execution_count": null,
   "id": "056cdfe0",
   "metadata": {},
   "outputs": [],
   "source": [
    "from core.calculator.storage import ModelDB\n",
    "from core.calculator.core import ForecastConfig, TrainingManager, ForecastConfig, ForecastEngine\n",
    "\n",
    "from core.calculator.deposits import DepositsCalculationType, DepositIterativeCalculator\n",
    "\n",
    "from core.definitions import *\n",
    "from core.project_update import load_portfolio\n",
    "\n",
    "from core.models import DepositModels"
   ]
  },
  {
   "cell_type": "markdown",
   "id": "2e3e0d9a-05c4-4738-afae-ca1807c5e941",
   "metadata": {},
   "source": [
    "### Подготовка сценария"
   ]
  },
  {
   "cell_type": "code",
   "execution_count": 9,
   "id": "c383b536-75c4-4ccd-9bd1-a0b5958a84ee",
   "metadata": {},
   "outputs": [],
   "source": [
    "# Дата из который мы прогнозируем\n",
    "train_end = datetime(year=2024, month=9, day=30)\n",
    "\n",
    "# Горизонт прогноза в месяцах\n",
    "horizon = 3"
   ]
  },
  {
   "cell_type": "code",
   "execution_count": 10,
   "id": "be494a64-38f3-41d8-b3b5-f89427739a12",
   "metadata": {},
   "outputs": [],
   "source": [
    "# Данные для прогноза\n",
    "scenario_data = {\n",
    "    # Ожидаемый баланс на первую дату прогноза, задавать необязательно\n",
    "     'expected_amount':      [np.nan for h in range(horizon)],\n",
    "    # ССВ\n",
    "     'SSV':                  [0.48 for h in range(horizon)],\n",
    "    # ФОР\n",
    "     'FOR':                  [4.5 for h in range(horizon)],\n",
    "    # Трансфертные ставки\n",
    "     'VTB_ftp_rate_[90d]':   [12.3 for h in range(horizon)],\n",
    "     'VTB_ftp_rate_[180d]':  [12 for h in range(horizon)],\n",
    "     'VTB_ftp_rate_[365d]':  [12 for h in range(horizon)],\n",
    "     'VTB_ftp_rate_[548d]':  [12 for h in range(horizon)],\n",
    "     'VTB_ftp_rate_[730d]':  [12 for h in range(horizon)],\n",
    "     'VTB_ftp_rate_[1095d]': [12 for h in range(horizon)],\n",
    "    \n",
    "    # тестируем бакеты баланса\n",
    "    'VTB_rate_[mass]_[0_500k)': [12 for h in range(horizon)],\n",
    "    'VTB_rate_[mass]_[500k_1500k)': [12.1 for h in range(horizon)],\n",
    "    'VTB_rate_[mass]_[1500k_5000k)': [12.2 for h in range(horizon)],\n",
    "    'VTB_rate_[mass]_[5000k_15000k)': [12.3 for h in range(horizon)],\n",
    "    'VTB_rate_[mass]_[15000k_inf)': [12.4 for h in range(horizon)],\n",
    "\n",
    "\n",
    "    'VTB_rate_[priv]_[0_500k)': [12 for h in range(horizon)],\n",
    "    'VTB_rate_[priv]_[500k_1500k)': [12.1 for h in range(horizon)],\n",
    "    'VTB_rate_[priv]_[1500k_5000k)': [12.2 for h in range(horizon)],\n",
    "    'VTB_rate_[priv]_[5000k_15000k)': [12.3 for h in range(horizon)],\n",
    "    'VTB_rate_[priv]_[15000k_inf)': [12.4 for h in range(horizon)],\n",
    "\n",
    "\n",
    "    'VTB_rate_[vip]_[0_15kk)': [12.1 for h in range(horizon)],\n",
    "    'VTB_rate_[vip]_[15kk_30kk)': [12.2 for h in range(horizon)],\n",
    "    'VTB_rate_[vip]_[30kk_50kk)': [12.3 for h in range(horizon)],\n",
    "    'VTB_rate_[vip]_[50kk_100kk)': [12.4 for h in range(horizon)],\n",
    "    'VTB_rate_[vip]_[100kk_200kk)': [12.5 for h in range(horizon)],\n",
    "    'VTB_rate_[vip]_[200kk_300kk)': [12.6 for h in range(horizon)],\n",
    "    'VTB_rate_[vip]_[300kk_500kk)': [12.7 for h in range(horizon)],\n",
    "    'VTB_rate_[vip]_[500kk_inf)': [12.8 for h in range(horizon)],\n",
    "    \n",
    "    \n",
    "    # Маржа бизнеса по срочностям\n",
    "     'margin_[90d]':         [0.1 for h in range(horizon)],\n",
    "     'margin_[180d]':        [0.1 for h in range(horizon)],\n",
    "     'margin_[365d]':        [0.1 for h in range(horizon)],\n",
    "     'margin_[548d]':        [0.1 for h in range(horizon)],\n",
    "     'margin_[730d]':        [0.2 for h in range(horizon)],\n",
    "     'margin_[1095d]':       [0.2 for h in range(horizon)],\n",
    "    \n",
    "    # Спред Привилегия - Массовый (на сколько в среднем ставки по сегменту Привилегия больше чем ставки по массовому сегменту)\n",
    "     'priv_spread':          [0.4 for h in range(horizon)],\n",
    "    # Спред ВИП - Массовый (на сколько в среднем ставки по сегменту ВИП больше чем ставки по массовому сегменту)\n",
    "     'vip_spread':           [0.8 for h in range(horizon)],\n",
    "    \n",
    "    # Ниже три спреда по разным типам опциональности по отношению к безопциональным вкладам (Подразумевается, что они, как правило, отрицательные)\n",
    "    # r - возможности пополнения, s - возможность расходных операций\n",
    "    \n",
    "    # На сколько ставка по расходным вкладам выше чем ставка по безопциональным вкладам (Если ниже - то со знаком минус)\n",
    "     'r0s1_spread':          [-1 for h in range(horizon)],\n",
    "    \n",
    "    # На сколько ставка по пополняемым вкладам выше чем ставка по безопциональным вкладам (Если ниже - то со знаком минус)\n",
    "     'r1s0_spread':          [-1 for h in range(horizon)],\n",
    "    \n",
    "    # На сколько ставка по расходно-пополняемым вкладам выше чем ставка по безопциональным вкладам (Если ниже - то со знаком минус)\n",
    "     'r1s1_spread':          [-1.2 for h in range(horizon)],\n",
    "    \n",
    "    # Ставка по лучшему предложению сбера\n",
    "     'SBER_max_rate':        [11.2 for h in range(horizon)],\n",
    "    \n",
    "    # Базовая ставка по НС\n",
    "     'SA_rate':              [5 for h in range(horizon)]\n",
    "}\n",
    "scenario_df_user = pd.DataFrame(scenario_data)"
   ]
  },
  {
   "cell_type": "code",
   "execution_count": 11,
   "id": "1f28a7a1-4415-4565-a1b8-c381e3e014e1",
   "metadata": {},
   "outputs": [],
   "source": [
    "scenario_df = preprocess_scenario(scenario_df_user, train_end, horizon)"
   ]
  },
  {
   "cell_type": "markdown",
   "id": "f1aceb5a-ceed-4a47-bcab-a7663cb71ee1",
   "metadata": {},
   "source": [
    "## Парсим сценарии"
   ]
  },
  {
   "cell_type": "code",
   "execution_count": 143,
   "id": "db8b5dfc-56d4-40a3-a9d7-164d75702ab7",
   "metadata": {},
   "outputs": [],
   "source": [
    "def parse_scenario(scenario, scenario_df, sber_rate, sa_rate):\n",
    "    \"\"\"\n",
    "    Парсим все, НС и макс ставку Сбера задаем сами\n",
    "    scenario - спарсенные данные \n",
    "    scenario_df -  датафрейм с индексами и колонками\n",
    "    \n",
    "    \"\"\"\n",
    "    \n",
    "    # FTP ставки\n",
    "    ftp_rates_list = ['VTB_ftp_rate_[90d]', \n",
    "                  'VTB_ftp_rate_[180d]', \n",
    "                  'VTB_ftp_rate_[365d]',\n",
    "                  'VTB_ftp_rate_[548d]', \n",
    "                  'VTB_ftp_rate_[730d]', \n",
    "                  'VTB_ftp_rate_[1095d]']\n",
    "    \n",
    "    \n",
    "    # доли по балансам\n",
    "    balance_buckets = {\n",
    "    'mass': [['VTB_rate_[mass]_[0_500k)', \n",
    "             'VTB_rate_[mass]_[500k_1500k)', \n",
    "             'VTB_rate_[mass]_[1500k_5000k)', \n",
    "             'VTB_rate_[mass]_[5000k_15000k)', \n",
    "             'VTB_rate_[mass]_[15000k_inf)'], 68, 73, 6],\n",
    "    \n",
    "    'priv': [['VTB_rate_[priv]_[0_500k)',\n",
    "            'VTB_rate_[priv]_[500k_1500k)',\n",
    "            'VTB_rate_[priv]_[1500k_5000k)',\n",
    "            'VTB_rate_[priv]_[5000k_15000k)',\n",
    "            'VTB_rate_[priv]_[15000k_inf)'], 46, 51, 6],\n",
    "    \n",
    "    'vip': [['VTB_rate_[vip]_[0_15kk)',\n",
    "            'VTB_rate_[vip]_[15kk_30kk)',\n",
    "            'VTB_rate_[vip]_[30kk_50kk)',\n",
    "            'VTB_rate_[vip]_[50kk_100kk)',\n",
    "            'VTB_rate_[vip]_[100kk_200kk)',\n",
    "            'VTB_rate_[vip]_[200kk_300kk)',\n",
    "            'VTB_rate_[vip]_[300kk_500kk)',\n",
    "            'VTB_rate_[vip]_[500kk_inf)'], 23, 28, 6]\n",
    "    }\n",
    "    \n",
    "    \n",
    "    \n",
    "    scenario_res = pd.DataFrame(columns=scenario_df.columns)\n",
    "    \n",
    "    for i, ftp_name in enumerate(ftp_rates_list):\n",
    "\n",
    "        scenario_res.loc[0, ftp_name] = scenario.iloc[14, 4+i]*100\n",
    "        \n",
    "        \n",
    "        \n",
    "    segm_dict = {'mass': 70,\n",
    "                'priv': 48,\n",
    "                'vip': 27}\n",
    "    \n",
    "    def get_segm_values(df, segm_dict): \n",
    "        for segm in segm_dict.keys():\n",
    "\n",
    "            row = segm_dict[segm]\n",
    "\n",
    "            # без опций\n",
    "            list_rates = list_rates_gen(segm, '0', '0')\n",
    "            for i, rate_name in enumerate(list_rates):\n",
    "                df.loc[0, rate_name] = scenario.iloc[row, 4+i] * 100\n",
    "\n",
    "            # с пополнением\n",
    "            list_rates = list_rates_gen(segm, '1', '0')\n",
    "            for i, rate_name in enumerate(list_rates):\n",
    "                df.loc[0, rate_name] = scenario.iloc[row, 20+i] * 100\n",
    "\n",
    "            # с пополнением и снятием\n",
    "            list_rates = list_rates_gen(segm, '1', '1')\n",
    "            for i, rate_name in enumerate(list_rates):\n",
    "                df.loc[0, rate_name] = scenario.iloc[row, 28+i] * 100\n",
    "\n",
    "            # со снятием\n",
    "            list_rates = list_rates_gen(segm, '0', '1')\n",
    "            # заполняем заглушками\n",
    "            for i, rate_name in enumerate(list_rates):\n",
    "                df.loc[0, rate_name] = 0.001\n",
    "\n",
    "        return df\n",
    "    \n",
    "    \n",
    "    def list_rates_gen(segm, repl, sub):\n",
    "\n",
    "        list_rates = [f'VTB_weighted_rate_[{segm}]_[r{repl}s{sub}]_[90d]',\n",
    "                        f'VTB_weighted_rate_[{segm}]_[r{repl}s{sub}]_[180d]',\n",
    "                        f'VTB_weighted_rate_[{segm}]_[r{repl}s{sub}]_[365d]',\n",
    "                        f'VTB_weighted_rate_[{segm}]_[r{repl}s{sub}]_[548d]',\n",
    "                        f'VTB_weighted_rate_[{segm}]_[r{repl}s{sub}]_[730d]',\n",
    "                        f'VTB_weighted_rate_[{segm}]_[r{repl}s{sub}]_[1095d]']\n",
    "\n",
    "        return list_rates\n",
    "    \n",
    "    \n",
    "    def get_balance_buckets_rates(df, balance_buckets):\n",
    "        \"\"\"\n",
    "        df: то что имеем, scenario_res  \n",
    "        scenario - считанный, уже есть в считанном\n",
    "        \"\"\"\n",
    "        \n",
    "        \n",
    "        for segm in balance_buckets.keys():\n",
    "            \n",
    "            col_names = balance_buckets[segm][0]\n",
    "            first_ind = balance_buckets[segm][1]\n",
    "            last_ind = balance_buckets[segm][2]\n",
    "            col_ind = balance_buckets[segm][3]\n",
    "            \n",
    "            if segm in ['mass', 'priv']:\n",
    "                \n",
    "\n",
    "\n",
    "                df.loc[0, col_names] = (scenario.iloc[first_ind:last_ind, col_ind]*100).values\n",
    "                \n",
    "            if segm in ['vip']:\n",
    "                \n",
    "                df.loc[0, col_names[:-1]] = (scenario.iloc[first_ind, col_ind]*100)\n",
    "                df.loc[0, col_names[-1]] = (scenario.iloc[last_ind-1, col_ind]*100)\n",
    "        \n",
    "        return df\n",
    "    \n",
    "    scenario_res = get_segm_values(scenario_res, segm_dict)\n",
    "    scenario_res = get_balance_buckets_rates(scenario_res, balance_buckets)\n",
    "    \n",
    "    scenario_res['SBER_max_rate'] = sber_rate\n",
    "    scenario_res['rate_sa_weighted'] = sa_rate\n",
    "    \n",
    "    \n",
    "    scenario_res = scenario_res.append([scenario_res]*2, ignore_index=True)\n",
    "    scenario_res.index = scenario_df.index\n",
    "    \n",
    "    \n",
    "    return scenario_res"
   ]
  },
  {
   "cell_type": "code",
   "execution_count": 42,
   "id": "3ff43b2e-d5a2-48f9-973f-a688a736e62e",
   "metadata": {},
   "outputs": [],
   "source": [
    "# считанный сценарий\n",
    "sc_v1_r20 = pd.read_excel('scenarios_retail/retail_scenario_v1.xlsx', sheet_name='Сценарий КС = 20%')\n",
    "sc_v1_r21 = pd.read_excel('scenarios_retail/retail_scenario_v1.xlsx', sheet_name='Сценарий КС = 21%')\n",
    "sc_v1_r22 = pd.read_excel('scenarios_retail/retail_scenario_v1.xlsx', sheet_name='Сценарий КС = 22%')"
   ]
  },
  {
   "cell_type": "code",
   "execution_count": 43,
   "id": "fa9bba73-ca0f-4457-9a4c-d92c1babe80c",
   "metadata": {},
   "outputs": [],
   "source": [
    "# считанный сценарий\n",
    "sc_v2_r21 = pd.read_excel('scenarios_retail/retail_scenario_v2.xlsx', sheet_name='Сценарий КС = 21%')\n",
    "sc_v2_r22 = pd.read_excel('scenarios_retail/retail_scenario_v2.xlsx', sheet_name='Сценарий КС = 22%')"
   ]
  },
  {
   "cell_type": "code",
   "execution_count": 151,
   "id": "c48814ad-e921-46d2-b15b-86a5e54a0927",
   "metadata": {},
   "outputs": [],
   "source": [
    "parse_sc_v1_r20 = parse_scenario(sc_v1_r20, scenario_df, sber_rate=20, sa_rate=16)\n",
    "parse_sc_v1_r21 = parse_scenario(sc_v1_r21, scenario_df, sber_rate=21, sa_rate=17)\n",
    "parse_sc_v1_r22 = parse_scenario(sc_v1_r22, scenario_df, sber_rate=22, sa_rate=17.5)\n",
    "\n",
    "\n",
    "parse_sc_v2_r21 = parse_scenario(sc_v2_r21, scenario_df, sber_rate=21, sa_rate=17)\n",
    "parse_sc_v2_r22 = parse_scenario(sc_v2_r22, scenario_df, sber_rate=22, sa_rate=17.5)"
   ]
  },
  {
   "cell_type": "code",
   "execution_count": null,
   "id": "8b43cee7-227e-43dd-8319-00ed2548439f",
   "metadata": {},
   "outputs": [],
   "source": []
  },
  {
   "cell_type": "markdown",
   "id": "b9412e9e-8445-45ef-aeb5-6e4dc5de733c",
   "metadata": {},
   "source": [
    "Будем парсить по самым популярным срочностям:  \n",
    "\n",
    "Прайм - 12  \n",
    "Привилегия - 12  \n",
    "Массовый - 12"
   ]
  },
  {
   "cell_type": "markdown",
   "id": "6fcd1f73-1e70-42ea-bf21-6e6ac14adaab",
   "metadata": {},
   "source": [
    "### Сохранить сценарии"
   ]
  },
  {
   "cell_type": "code",
   "execution_count": 155,
   "id": "bff48ac0-bdff-41a7-a463-ead38ce4c505",
   "metadata": {},
   "outputs": [
    {
     "name": "stdout",
     "output_type": "stream",
     "text": [
      "Defaulting to user installation because normal site-packages is not writeable\n",
      "Looking in indexes: http://nxrm:8081/repository/pypi/simple\n",
      "Requirement already satisfied: openpyxl in /opt/cloudera/parcels/Anaconda-2020.11-1.639/envs/python3.7.9/lib/python3.7/site-packages (3.0.9)\n",
      "Requirement already satisfied: et-xmlfile in /opt/cloudera/parcels/Anaconda-2020.11-1.639/envs/python3.7.9/lib/python3.7/site-packages (from openpyxl) (1.1.0)\n"
     ]
    },
    {
     "name": "stderr",
     "output_type": "stream",
     "text": [
      "WARNING: pip is being invoked by an old script wrapper. This will fail in a future version of pip.\n",
      "Please see https://github.com/pypa/pip/issues/5599 for advice on fixing the underlying issue.\n",
      "To avoid this problem you can invoke Python with '-m pip' instead of running pip directly.\n"
     ]
    },
    {
     "data": {
      "text/plain": [
       "0"
      ]
     },
     "execution_count": 155,
     "metadata": {},
     "output_type": "execute_result"
    }
   ],
   "source": [
    "# для записи и чтения экселя\n",
    "import pip\n",
    "pip.main(['install', 'openpyxl'])"
   ]
  },
  {
   "cell_type": "code",
   "execution_count": 156,
   "id": "2e1b10e2-6392-4fb9-992a-2adf3f445ccd",
   "metadata": {},
   "outputs": [],
   "source": [
    "import openpyxl"
   ]
  },
  {
   "cell_type": "code",
   "execution_count": 157,
   "id": "f1a7ad16-6ca1-43c4-a509-b47857b37289",
   "metadata": {},
   "outputs": [],
   "source": [
    "# with pd.ExcelWriter(\"10_24_scenarious.xlsx\") as writer:\n",
    "#     parse_sc_v1_r20.to_excel(writer, sheet_name='parse_sc_v1_r20', index=True)\n",
    "#     parse_sc_v1_r21.to_excel(writer, sheet_name='parse_sc_v1_r21', index=True)\n",
    "#     parse_sc_v1_r22.to_excel(writer, sheet_name='parse_sc_v1_r22', index=True)\n",
    "    \n",
    "    \n",
    "#     parse_sc_v2_r21.to_excel(writer, sheet_name='parse_sc_v2_r21', index=True)\n",
    "#     parse_sc_v2_r22.to_excel(writer, sheet_name='parse_sc_v2_r22', index=True)"
   ]
  },
  {
   "cell_type": "code",
   "execution_count": null,
   "id": "7f1b24cf-6b44-4cfa-8e16-e36456baec6a",
   "metadata": {},
   "outputs": [],
   "source": []
  },
  {
   "cell_type": "markdown",
   "id": "7aa9eba2-00c6-4215-8055-37b16ab91544",
   "metadata": {},
   "source": [
    "### Чтение сценариев"
   ]
  },
  {
   "cell_type": "code",
   "execution_count": 168,
   "id": "25c76a6a-537a-48a1-a5d4-c446d5b4a8fb",
   "metadata": {},
   "outputs": [
    {
     "name": "stderr",
     "output_type": "stream",
     "text": [
      "WARNING: pip is being invoked by an old script wrapper. This will fail in a future version of pip.\n",
      "Please see https://github.com/pypa/pip/issues/5599 for advice on fixing the underlying issue.\n",
      "To avoid this problem you can invoke Python with '-m pip' instead of running pip directly.\n"
     ]
    },
    {
     "name": "stdout",
     "output_type": "stream",
     "text": [
      "Defaulting to user installation because normal site-packages is not writeable\n",
      "Looking in indexes: http://nxrm:8081/repository/pypi/simple\n",
      "Requirement already satisfied: openpyxl in /opt/cloudera/parcels/Anaconda-2020.11-1.639/envs/python3.7.9/lib/python3.7/site-packages (3.0.9)\n",
      "Requirement already satisfied: et-xmlfile in /opt/cloudera/parcels/Anaconda-2020.11-1.639/envs/python3.7.9/lib/python3.7/site-packages (from openpyxl) (1.1.0)\n"
     ]
    },
    {
     "data": {
      "text/plain": [
       "0"
      ]
     },
     "execution_count": 168,
     "metadata": {},
     "output_type": "execute_result"
    }
   ],
   "source": [
    "# для записи и чтения экселя\n",
    "import pip\n",
    "pip.main(['install', 'openpyxl'])"
   ]
  },
  {
   "cell_type": "code",
   "execution_count": 169,
   "id": "3c77e7a2-c6e3-4839-881d-ca43e2bb02b2",
   "metadata": {},
   "outputs": [],
   "source": [
    "import openpyxl"
   ]
  },
  {
   "cell_type": "code",
   "execution_count": 172,
   "id": "45672d9e-a25a-4a22-ac1d-c4ef9052287b",
   "metadata": {},
   "outputs": [],
   "source": [
    "parse_sc_v1_r20 = pd.read_excel(\"10_24_scenarious.xlsx\", sheet_name='parse_sc_v1_r20', index_col='Unnamed: 0')"
   ]
  },
  {
   "cell_type": "code",
   "execution_count": 174,
   "id": "9c0475e0-e1b8-455d-a2b5-b6578fc93feb",
   "metadata": {},
   "outputs": [],
   "source": [
    "scenario_df = parse_sc_v1_r20.copy()"
   ]
  },
  {
   "cell_type": "code",
   "execution_count": 195,
   "id": "3e36ed36-bc6d-424a-8152-30d0940d8bfc",
   "metadata": {},
   "outputs": [],
   "source": [
    "sc_names = ['parse_sc_v1_r20',\n",
    "           'parse_sc_v1_r21',\n",
    "           'parse_sc_v1_r22',\n",
    "           'parse_sc_v2_r21',\n",
    "           'parse_sc_v2_r22']"
   ]
  },
  {
   "cell_type": "code",
   "execution_count": 196,
   "id": "1359cfe3-b096-4d00-96c6-35e565fa43fe",
   "metadata": {},
   "outputs": [],
   "source": [
    "sc_dict = {}\n",
    "\n",
    "for sc in sc_names:\n",
    "    \n",
    "    sc_dict[sc] = pd.read_excel(\"10_24_scenarious.xlsx\", sheet_name=sc, index_col='Unnamed: 0')"
   ]
  },
  {
   "cell_type": "markdown",
   "id": "58639919-268a-441f-9526-4d66857830f2",
   "metadata": {},
   "source": [
    "### Чтение портфеля и моделей"
   ]
  },
  {
   "cell_type": "code",
   "execution_count": 175,
   "id": "b18ad21b-7aeb-49f8-b8d9-09ac58a60745",
   "metadata": {},
   "outputs": [],
   "source": [
    "port_folder = '../../data/portfolio_data'\n",
    "portfolio = load_portfolio(train_end, port_folder)"
   ]
  },
  {
   "cell_type": "code",
   "execution_count": 176,
   "id": "355543ef-240d-4e09-8d1f-f377ced1575e",
   "metadata": {},
   "outputs": [],
   "source": [
    "# если хотим обучить модели - инициализировать спарк\n",
    "\n",
    "from core.models.utils import run_spark_session\n",
    "#spark = run_spark_session('check_calc')\n",
    "\n",
    "# spark = None #если без обучения"
   ]
  },
  {
   "cell_type": "code",
   "execution_count": 177,
   "id": "a199523b-de08-4f70-87ec-d3e662856a68",
   "metadata": {},
   "outputs": [],
   "source": [
    "folder = '../../data/trained_models'\n",
    "\n",
    "sqlite_filepath = os.path.join(folder, 'modeldb_test.bin')\n",
    "\n",
    "DB_URL = f\"sqlite:///{sqlite_filepath}\"\n",
    "model_db = ModelDB(DB_URL)"
   ]
  },
  {
   "cell_type": "code",
   "execution_count": 178,
   "id": "e8434a39-7122-4cd6-b92f-9057b39f171c",
   "metadata": {},
   "outputs": [],
   "source": [
    "# dir(model_db)"
   ]
  },
  {
   "cell_type": "code",
   "execution_count": 179,
   "id": "116310e1-628c-4d64-8180-575c7f5f482b",
   "metadata": {},
   "outputs": [],
   "source": [
    "# (model_db.find_models()[34]).trained_models"
   ]
  },
  {
   "cell_type": "code",
   "execution_count": 180,
   "id": "5ba07383-e17b-4280-ad0d-0e0587b2a558",
   "metadata": {},
   "outputs": [],
   "source": [
    "# model_db.delete_trained_models()"
   ]
  },
  {
   "cell_type": "code",
   "execution_count": 181,
   "id": "3cc2db1a-9585-4670-954b-bf502c98902c",
   "metadata": {},
   "outputs": [],
   "source": [
    "# важная ячейка, необходимая для обучения моделей orbit\n",
    "\n",
    "ENV_NAME = 'hmelevskoi_env'\n",
    "\n",
    "os.environ['CC'] = 'x86_64-conda-linux-gnu-gcc'\n",
    "os.environ['CXX'] = 'x86_64-conda-linux-gnu-g++'\n",
    "os.environ['PATH'] = os.path.abspath(f'/tmp/envs/{ENV_NAME}/bin') + ':' + os.environ['PATH']"
   ]
  },
  {
   "cell_type": "markdown",
   "id": "02f68a07-410b-4d31-93ba-69ee792b78fc",
   "metadata": {},
   "source": [
    "## Чтение таблицы"
   ]
  },
  {
   "cell_type": "code",
   "execution_count": 182,
   "id": "647bc77b-259d-4106-b17b-b3437bf5fe40",
   "metadata": {},
   "outputs": [],
   "source": [
    "# path = 'prod_dadm_alm_sbx.almde_fl_dpst_current_accounts'"
   ]
  },
  {
   "cell_type": "code",
   "execution_count": 183,
   "id": "9779b536-e84d-45f2-80bd-516994919880",
   "metadata": {},
   "outputs": [],
   "source": [
    "# table = spark.table(path)"
   ]
  },
  {
   "cell_type": "code",
   "execution_count": 184,
   "id": "4a2d1ddc-3f8b-403f-be40-13bac0e0e133",
   "metadata": {},
   "outputs": [],
   "source": [
    "# table.columns"
   ]
  },
  {
   "cell_type": "markdown",
   "id": "7b5c35ec-90a9-48d1-94be-62d0a9c01e01",
   "metadata": {},
   "source": [
    "### Старт расчетов"
   ]
  },
  {
   "cell_type": "code",
   "execution_count": 185,
   "id": "28ad1c65-9821-47cb-8c14-7b521c172e93",
   "metadata": {},
   "outputs": [],
   "source": [
    "config: ForecastConfig = ForecastConfig(\n",
    "    first_train_end_dt = train_end,\n",
    "    horizon = horizon,\n",
    "    trainers = DepositModels.trainers,\n",
    "    data_loaders = DepositModels.dataloaders,\n",
    "    calculator_type = DepositIterativeCalculator,\n",
    "    calc_type = DepositsCalculationType,\n",
    "    adapter_types = DepositModels.adapter_types,\n",
    "    scenario_data = scenario_df,\n",
    "    portfolio = portfolio\n",
    ")\n",
    "    \n",
    "training_manager = TrainingManager(spark, config.trainers, folder, model_db)   \n",
    "engine: ForecastEngine = ForecastEngine(spark, config, training_manager, overwrite_models=False)"
   ]
  },
  {
   "cell_type": "code",
   "execution_count": 186,
   "id": "47d2f4a9-0f50-4029-8eda-6e7f6ae384d2",
   "metadata": {},
   "outputs": [
    {
     "name": "stdout",
     "output_type": "stream",
     "text": [
      "missing models: []\n",
      "add_models_from_bytes\n",
      "plan_close_201402_202409 - adapter <class 'core.models.plan_close.plan_close_model.PlanCloseModelAdapter'>\n",
      "renewal_model_201401_202409 - adapter <class 'core.models.renewal.renewal_model.RenewalModelAdapter'>\n",
      "newbusiness_mass_model_buckets_201402_202409 - adapter <class 'core.models.newbusiness.buckets_structure.buckets_structure_mass_model.NewbusinessBucketsMassModelAdapter'>\n",
      "newbusiness_priv_model_buckets_201402_202409 - adapter <class 'core.models.newbusiness.buckets_structure.buckets_structure_priv_model.NewbusinessBucketsPrivModelAdapter'>\n",
      "newbusiness_vip_model_buckets_201402_202409 - adapter <class 'core.models.newbusiness.buckets_structure.buckets_structure_vip_model.NewbusinessBucketsVipModelAdapter'>\n",
      "maturity_structure_mass_r0s0_201401_202409 - adapter <class 'core.models.newbusiness.maturity_structure.maturity_structure_mass_model.MaturityStructureMassR0S0ModelAdapter'>\n",
      "maturity_structure_mass_r0s1_202001_202409 - adapter <class 'core.models.newbusiness.maturity_structure.maturity_structure_mass_model.MaturityStructureMassR0S1ModelAdapter'>\n",
      "maturity_structure_mass_r1s0_201401_202409 - adapter <class 'core.models.newbusiness.maturity_structure.maturity_structure_mass_model.MaturityStructureMassR1S0ModelAdapter'>\n",
      "maturity_structure_mass_r1s1_201401_202409 - adapter <class 'core.models.newbusiness.maturity_structure.maturity_structure_mass_model.MaturityStructureMassR1S1ModelAdapter'>\n",
      "maturity_structure_priv_r0s0_201401_202409 - adapter <class 'core.models.newbusiness.maturity_structure.maturity_structure_priv_model.MaturityStructurePrivR0S0ModelAdapter'>\n",
      "maturity_structure_priv_r0s1_202001_202409 - adapter <class 'core.models.newbusiness.maturity_structure.maturity_structure_priv_model.MaturityStructurePrivR0S1ModelAdapter'>\n",
      "maturity_structure_priv_r1s0_201401_202409 - adapter <class 'core.models.newbusiness.maturity_structure.maturity_structure_priv_model.MaturityStructurePrivR1S0ModelAdapter'>\n",
      "maturity_structure_priv_r1s1_201401_202409 - adapter <class 'core.models.newbusiness.maturity_structure.maturity_structure_priv_model.MaturityStructurePrivR1S1ModelAdapter'>\n",
      "maturity_structure_vip_r0s0_201401_202409 - adapter <class 'core.models.newbusiness.maturity_structure.maturity_structure_vip_model.MaturityStructureVipR0S0ModelAdapter'>\n",
      "maturity_structure_vip_r0s1_202001_202409 - adapter <class 'core.models.newbusiness.maturity_structure.maturity_structure_vip_model.MaturityStructureVipR0S1ModelAdapter'>\n",
      "maturity_structure_vip_r1s0_201401_202409 - adapter <class 'core.models.newbusiness.maturity_structure.maturity_structure_vip_model.MaturityStructureVipR1S0ModelAdapter'>\n",
      "maturity_structure_vip_r1s1_201401_202409 - adapter <class 'core.models.newbusiness.maturity_structure.maturity_structure_vip_model.MaturityStructureVipR1S1ModelAdapter'>\n",
      "opt_structure_mass_201401_202409 - adapter <class 'core.models.newbusiness.opt_structure.opt_structure_mass_model.OptStructureMassModelAdapter'>\n",
      "opt_structure_priv_201610_202409 - adapter <class 'core.models.newbusiness.opt_structure.opt_structure_priv_model.OptStructurePrivModelAdapter'>\n",
      "opt_structure_svip_201701_202409 - adapter <class 'core.models.newbusiness.opt_structure.opt_structure_svip_model.OptStructureSvipModelAdapter'>\n",
      "opt_structure_bvip_201401_202409 - adapter <class 'core.models.newbusiness.opt_structure.opt_structure_bvip_model.OptStructureBvipModelAdapter'>\n",
      "newbusiness_mass_201401_202409 - adapter <class 'core.models.newbusiness.newbiz.newbusiness_mass_model.NewbusinessMassModelAdapter'>\n",
      "newbusiness_priv_201401_202409 - adapter <class 'core.models.newbusiness.newbiz.newbusiness_priv_model.NewbusinessPrivModelAdapter'>\n",
      "newbusiness_svip_201402_202409 - adapter <class 'core.models.newbusiness.newbiz.newbusiness_svip_model.NewbusinessSvipModelAdapter'>\n",
      "newbusiness_bvip_201402_202409 - adapter <class 'core.models.newbusiness.newbiz.newbusiness_bvip_model.NewbusinessBvipModelAdapter'>\n",
      "deposit_earlyredemption_mass_R0S0_RUR_201401_202409 - adapter <class 'core.models.early_withdrawal.meta_model.EarlyRedemptionMassR0S0RURAdapter'>\n",
      "deposit_earlyredemption_mass_R0S1_RUR_201401_202409 - adapter <class 'core.models.early_withdrawal.meta_model.EarlyRedemptionMassR0S1RURAdapter'>\n",
      "deposit_earlyredemption_mass_R1S0_RUR_201401_202409 - adapter <class 'core.models.early_withdrawal.meta_model.EarlyRedemptionMassR1S0RURAdapter'>\n",
      "deposit_earlyredemption_mass_R1S1_RUR_201401_202409 - adapter <class 'core.models.early_withdrawal.meta_model.EarlyRedemptionMassR1S1RURAdapter'>\n",
      "deposit_earlyredemption_priv_R0S0_RUR_201401_202409 - adapter <class 'core.models.early_withdrawal.meta_model.EarlyRedemptionPrivR0S0RURAdapter'>\n",
      "deposit_earlyredemption_priv_R0S1_RUR_201401_202409 - adapter <class 'core.models.early_withdrawal.meta_model.EarlyRedemptionPrivR0S1RURAdapter'>\n",
      "deposit_earlyredemption_priv_R1S0_RUR_201401_202409 - adapter <class 'core.models.early_withdrawal.meta_model.EarlyRedemptionPrivR1S0RURAdapter'>\n",
      "deposit_earlyredemption_priv_R1S1_RUR_201401_202409 - adapter <class 'core.models.early_withdrawal.meta_model.EarlyRedemptionPrivR1S1RURAdapter'>\n",
      "deposit_earlyredemption_vip_R0S0_RUR_201401_202409 - adapter <class 'core.models.early_withdrawal.meta_model.EarlyRedemptionVipR0S0RURAdapter'>\n",
      "deposit_earlyredemption_vip_R0S1_RUR_201401_202409 - adapter <class 'core.models.early_withdrawal.meta_model.EarlyRedemptionVipR0S1RURAdapter'>\n",
      "deposit_earlyredemption_vip_R1S0_RUR_201401_202409 - adapter <class 'core.models.early_withdrawal.meta_model.EarlyRedemptionVipR1S0RURAdapter'>\n",
      "deposit_earlyredemption_vip_R1S1_RUR_201401_202409 - adapter <class 'core.models.early_withdrawal.meta_model.EarlyRedemptionVipR1S1RURAdapter'>\n",
      "sa_general_avg_balance_mass_201801_202409 - adapter <class 'core.models.sa_balance.general_models.sa_mass_model.SaBalanceMassModelAdapter'>\n",
      "sa_kopilka_avg_balance_mass_201903_202409 - adapter <class 'core.models.sa_balance.product_models.sa_mass_kopilka_model.SaKopilkaMassModelAdapter'>\n",
      "sa_general_avg_balance_priv_201801_202409 - adapter <class 'core.models.sa_balance.general_models.sa_priv_model.SaBalancePrivModelAdapter'>\n",
      "sa_kopilka_avg_balance_priv_201902_202409 - adapter <class 'core.models.sa_balance.product_models.sa_priv_kopilka_model.SaKopilkaPrivModelAdapter'>\n",
      "sa_general_avg_balance_vip_201801_202409 - adapter <class 'core.models.sa_balance.general_models.sa_vip_model.SaBalanceVipModelAdapter'>\n",
      "sa_kopilka_avg_balance_vip_201903_202409 - adapter <class 'core.models.sa_balance.product_models.sa_vip_kopilka_model.SaKopilkaVipModelAdapter'>\n",
      "current_accounts_model_201110_202409 - adapter <class 'core.models.current_accounts.general_balance.current_accounts_model.CurrentAccountsModelAdapter'>\n",
      "current_accounts_segment_structure_model_201903_202409 - adapter <class 'core.models.current_accounts.segment_structure.segment_structure_model.CaSegmentStructureModelAdapter'>\n",
      "training models completed\n",
      "calculation started\n",
      "CPU times: user 15.4 s, sys: 6.4 s, total: 21.8 s\n",
      "Wall time: 16.3 s\n"
     ]
    }
   ],
   "source": [
    "%%time\n",
    "engine.run_all()"
   ]
  },
  {
   "cell_type": "code",
   "execution_count": 187,
   "id": "a399e7ee-f2e1-4c12-91ab-b0d07745ad75",
   "metadata": {},
   "outputs": [],
   "source": [
    "# вывод\n",
    "portfolio_res = engine.calc_results['Deposits']['portfolio'] \n",
    "agg_res = engine.calc_results['Deposits']['agg_data']\n",
    "maturity = engine.calc_results['Deposits']['maturity']\n",
    "CurrentAccounts = engine.calc_results['CurrentAccounts']\n",
    "SavingAccounts = engine.calc_results['SavingAccounts']\n",
    "# volumes = engine.calc_results['Volumes']"
   ]
  },
  {
   "cell_type": "code",
   "execution_count": 189,
   "id": "efe9322d-c18e-4401-81ec-27c564d10f37",
   "metadata": {},
   "outputs": [
    {
     "data": {
      "text/plain": [
       "report_dt\n",
       "2024-09-30    5.932406e+12\n",
       "2024-10-31    5.952324e+12\n",
       "2024-11-30    6.139631e+12\n",
       "2024-12-31    6.298827e+12\n",
       "Name: balance, dtype: float64"
      ]
     },
     "execution_count": 189,
     "metadata": {},
     "output_type": "execute_result"
    }
   ],
   "source": [
    "portfolio_res.groupby('report_dt').sum()['balance']"
   ]
  },
  {
   "cell_type": "markdown",
   "id": "2ed362d3-135a-42cb-b505-a4063aadfa27",
   "metadata": {},
   "source": [
    "## Автоматизация расчетов"
   ]
  },
  {
   "cell_type": "code",
   "execution_count": 200,
   "id": "d62f8184-692c-4ef6-a9f3-b2f093dee8af",
   "metadata": {},
   "outputs": [],
   "source": [
    "def make_forecast(scenario_df_name):\n",
    "    \n",
    "    \n",
    "    scenario_df = sc_dict[scenario_df_name].copy()\n",
    "    \n",
    "    config: ForecastConfig = ForecastConfig(\n",
    "    first_train_end_dt = train_end,\n",
    "    horizon = horizon,\n",
    "    trainers = DepositModels.trainers,\n",
    "    data_loaders = DepositModels.dataloaders,\n",
    "    calculator_type = DepositIterativeCalculator,\n",
    "    calc_type = DepositsCalculationType,\n",
    "    adapter_types = DepositModels.adapter_types,\n",
    "    scenario_data = scenario_df,\n",
    "    portfolio = portfolio\n",
    "    )\n",
    "\n",
    "    training_manager = TrainingManager(spark, config.trainers, folder, model_db)   \n",
    "    engine: ForecastEngine = ForecastEngine(spark, config, training_manager, overwrite_models=False)\n",
    "        \n",
    "    engine.run_all()\n",
    "    \n",
    "    \n",
    "    portfolio_res = engine.calc_results['Deposits']['portfolio'] \n",
    "    agg_res = engine.calc_results['Deposits']['agg_data']\n",
    "    CurrentAccounts = engine.calc_results['CurrentAccounts']\n",
    "    SavingAccounts = engine.calc_results['SavingAccounts']\n",
    "    \n",
    "    \n",
    "    # записываем результаты прогноза\n",
    "    with pd.ExcelWriter(f\"./forecast_res/{scenario_df_name}.xlsx\") as writer:\n",
    "        portfolio_res.to_excel(writer, sheet_name='portfolio_res', index=False)\n",
    "        agg_res.to_excel(writer, sheet_name='agg_res', index=False)\n",
    "        CurrentAccounts.to_excel(writer, sheet_name='CurrentAccounts', index=False)\n",
    "        SavingAccounts.to_excel(writer, sheet_name='SavingAccounts', index=False)\n",
    "        pd.DataFrame(scenario_df).to_excel(writer, sheet_name='scenario', index=True)"
   ]
  },
  {
   "cell_type": "code",
   "execution_count": 201,
   "id": "39310937-9de3-4337-b322-41da35bd580e",
   "metadata": {},
   "outputs": [
    {
     "name": "stdout",
     "output_type": "stream",
     "text": [
      "missing models: []\n",
      "add_models_from_bytes\n",
      "plan_close_201402_202409 - adapter <class 'core.models.plan_close.plan_close_model.PlanCloseModelAdapter'>\n",
      "renewal_model_201401_202409 - adapter <class 'core.models.renewal.renewal_model.RenewalModelAdapter'>\n",
      "newbusiness_mass_model_buckets_201402_202409 - adapter <class 'core.models.newbusiness.buckets_structure.buckets_structure_mass_model.NewbusinessBucketsMassModelAdapter'>\n",
      "newbusiness_priv_model_buckets_201402_202409 - adapter <class 'core.models.newbusiness.buckets_structure.buckets_structure_priv_model.NewbusinessBucketsPrivModelAdapter'>\n",
      "newbusiness_vip_model_buckets_201402_202409 - adapter <class 'core.models.newbusiness.buckets_structure.buckets_structure_vip_model.NewbusinessBucketsVipModelAdapter'>\n",
      "maturity_structure_mass_r0s0_201401_202409 - adapter <class 'core.models.newbusiness.maturity_structure.maturity_structure_mass_model.MaturityStructureMassR0S0ModelAdapter'>\n",
      "maturity_structure_mass_r0s1_202001_202409 - adapter <class 'core.models.newbusiness.maturity_structure.maturity_structure_mass_model.MaturityStructureMassR0S1ModelAdapter'>\n",
      "maturity_structure_mass_r1s0_201401_202409 - adapter <class 'core.models.newbusiness.maturity_structure.maturity_structure_mass_model.MaturityStructureMassR1S0ModelAdapter'>\n",
      "maturity_structure_mass_r1s1_201401_202409 - adapter <class 'core.models.newbusiness.maturity_structure.maturity_structure_mass_model.MaturityStructureMassR1S1ModelAdapter'>\n",
      "maturity_structure_priv_r0s0_201401_202409 - adapter <class 'core.models.newbusiness.maturity_structure.maturity_structure_priv_model.MaturityStructurePrivR0S0ModelAdapter'>\n",
      "maturity_structure_priv_r0s1_202001_202409 - adapter <class 'core.models.newbusiness.maturity_structure.maturity_structure_priv_model.MaturityStructurePrivR0S1ModelAdapter'>\n",
      "maturity_structure_priv_r1s0_201401_202409 - adapter <class 'core.models.newbusiness.maturity_structure.maturity_structure_priv_model.MaturityStructurePrivR1S0ModelAdapter'>\n",
      "maturity_structure_priv_r1s1_201401_202409 - adapter <class 'core.models.newbusiness.maturity_structure.maturity_structure_priv_model.MaturityStructurePrivR1S1ModelAdapter'>\n",
      "maturity_structure_vip_r0s0_201401_202409 - adapter <class 'core.models.newbusiness.maturity_structure.maturity_structure_vip_model.MaturityStructureVipR0S0ModelAdapter'>\n",
      "maturity_structure_vip_r0s1_202001_202409 - adapter <class 'core.models.newbusiness.maturity_structure.maturity_structure_vip_model.MaturityStructureVipR0S1ModelAdapter'>\n",
      "maturity_structure_vip_r1s0_201401_202409 - adapter <class 'core.models.newbusiness.maturity_structure.maturity_structure_vip_model.MaturityStructureVipR1S0ModelAdapter'>\n",
      "maturity_structure_vip_r1s1_201401_202409 - adapter <class 'core.models.newbusiness.maturity_structure.maturity_structure_vip_model.MaturityStructureVipR1S1ModelAdapter'>\n",
      "opt_structure_mass_201401_202409 - adapter <class 'core.models.newbusiness.opt_structure.opt_structure_mass_model.OptStructureMassModelAdapter'>\n",
      "opt_structure_priv_201610_202409 - adapter <class 'core.models.newbusiness.opt_structure.opt_structure_priv_model.OptStructurePrivModelAdapter'>\n",
      "opt_structure_svip_201701_202409 - adapter <class 'core.models.newbusiness.opt_structure.opt_structure_svip_model.OptStructureSvipModelAdapter'>\n",
      "opt_structure_bvip_201401_202409 - adapter <class 'core.models.newbusiness.opt_structure.opt_structure_bvip_model.OptStructureBvipModelAdapter'>\n",
      "newbusiness_mass_201401_202409 - adapter <class 'core.models.newbusiness.newbiz.newbusiness_mass_model.NewbusinessMassModelAdapter'>\n",
      "newbusiness_priv_201401_202409 - adapter <class 'core.models.newbusiness.newbiz.newbusiness_priv_model.NewbusinessPrivModelAdapter'>\n",
      "newbusiness_svip_201402_202409 - adapter <class 'core.models.newbusiness.newbiz.newbusiness_svip_model.NewbusinessSvipModelAdapter'>\n",
      "newbusiness_bvip_201402_202409 - adapter <class 'core.models.newbusiness.newbiz.newbusiness_bvip_model.NewbusinessBvipModelAdapter'>\n",
      "deposit_earlyredemption_mass_R0S0_RUR_201401_202409 - adapter <class 'core.models.early_withdrawal.meta_model.EarlyRedemptionMassR0S0RURAdapter'>\n",
      "deposit_earlyredemption_mass_R0S1_RUR_201401_202409 - adapter <class 'core.models.early_withdrawal.meta_model.EarlyRedemptionMassR0S1RURAdapter'>\n",
      "deposit_earlyredemption_mass_R1S0_RUR_201401_202409 - adapter <class 'core.models.early_withdrawal.meta_model.EarlyRedemptionMassR1S0RURAdapter'>\n",
      "deposit_earlyredemption_mass_R1S1_RUR_201401_202409 - adapter <class 'core.models.early_withdrawal.meta_model.EarlyRedemptionMassR1S1RURAdapter'>\n",
      "deposit_earlyredemption_priv_R0S0_RUR_201401_202409 - adapter <class 'core.models.early_withdrawal.meta_model.EarlyRedemptionPrivR0S0RURAdapter'>\n",
      "deposit_earlyredemption_priv_R0S1_RUR_201401_202409 - adapter <class 'core.models.early_withdrawal.meta_model.EarlyRedemptionPrivR0S1RURAdapter'>\n",
      "deposit_earlyredemption_priv_R1S0_RUR_201401_202409 - adapter <class 'core.models.early_withdrawal.meta_model.EarlyRedemptionPrivR1S0RURAdapter'>\n",
      "deposit_earlyredemption_priv_R1S1_RUR_201401_202409 - adapter <class 'core.models.early_withdrawal.meta_model.EarlyRedemptionPrivR1S1RURAdapter'>\n",
      "deposit_earlyredemption_vip_R0S0_RUR_201401_202409 - adapter <class 'core.models.early_withdrawal.meta_model.EarlyRedemptionVipR0S0RURAdapter'>\n",
      "deposit_earlyredemption_vip_R0S1_RUR_201401_202409 - adapter <class 'core.models.early_withdrawal.meta_model.EarlyRedemptionVipR0S1RURAdapter'>\n",
      "deposit_earlyredemption_vip_R1S0_RUR_201401_202409 - adapter <class 'core.models.early_withdrawal.meta_model.EarlyRedemptionVipR1S0RURAdapter'>\n",
      "deposit_earlyredemption_vip_R1S1_RUR_201401_202409 - adapter <class 'core.models.early_withdrawal.meta_model.EarlyRedemptionVipR1S1RURAdapter'>\n",
      "sa_general_avg_balance_mass_201801_202409 - adapter <class 'core.models.sa_balance.general_models.sa_mass_model.SaBalanceMassModelAdapter'>\n",
      "sa_kopilka_avg_balance_mass_201903_202409 - adapter <class 'core.models.sa_balance.product_models.sa_mass_kopilka_model.SaKopilkaMassModelAdapter'>\n",
      "sa_general_avg_balance_priv_201801_202409 - adapter <class 'core.models.sa_balance.general_models.sa_priv_model.SaBalancePrivModelAdapter'>\n",
      "sa_kopilka_avg_balance_priv_201902_202409 - adapter <class 'core.models.sa_balance.product_models.sa_priv_kopilka_model.SaKopilkaPrivModelAdapter'>\n",
      "sa_general_avg_balance_vip_201801_202409 - adapter <class 'core.models.sa_balance.general_models.sa_vip_model.SaBalanceVipModelAdapter'>\n",
      "sa_kopilka_avg_balance_vip_201903_202409 - adapter <class 'core.models.sa_balance.product_models.sa_vip_kopilka_model.SaKopilkaVipModelAdapter'>\n",
      "current_accounts_model_201110_202409 - adapter <class 'core.models.current_accounts.general_balance.current_accounts_model.CurrentAccountsModelAdapter'>\n",
      "current_accounts_segment_structure_model_201903_202409 - adapter <class 'core.models.current_accounts.segment_structure.segment_structure_model.CaSegmentStructureModelAdapter'>\n",
      "training models completed\n",
      "calculation started\n",
      "missing models: []\n",
      "add_models_from_bytes\n",
      "plan_close_201402_202409 - adapter <class 'core.models.plan_close.plan_close_model.PlanCloseModelAdapter'>\n",
      "renewal_model_201401_202409 - adapter <class 'core.models.renewal.renewal_model.RenewalModelAdapter'>\n",
      "newbusiness_mass_model_buckets_201402_202409 - adapter <class 'core.models.newbusiness.buckets_structure.buckets_structure_mass_model.NewbusinessBucketsMassModelAdapter'>\n",
      "newbusiness_priv_model_buckets_201402_202409 - adapter <class 'core.models.newbusiness.buckets_structure.buckets_structure_priv_model.NewbusinessBucketsPrivModelAdapter'>\n",
      "newbusiness_vip_model_buckets_201402_202409 - adapter <class 'core.models.newbusiness.buckets_structure.buckets_structure_vip_model.NewbusinessBucketsVipModelAdapter'>\n",
      "maturity_structure_mass_r0s0_201401_202409 - adapter <class 'core.models.newbusiness.maturity_structure.maturity_structure_mass_model.MaturityStructureMassR0S0ModelAdapter'>\n",
      "maturity_structure_mass_r0s1_202001_202409 - adapter <class 'core.models.newbusiness.maturity_structure.maturity_structure_mass_model.MaturityStructureMassR0S1ModelAdapter'>\n",
      "maturity_structure_mass_r1s0_201401_202409 - adapter <class 'core.models.newbusiness.maturity_structure.maturity_structure_mass_model.MaturityStructureMassR1S0ModelAdapter'>\n",
      "maturity_structure_mass_r1s1_201401_202409 - adapter <class 'core.models.newbusiness.maturity_structure.maturity_structure_mass_model.MaturityStructureMassR1S1ModelAdapter'>\n",
      "maturity_structure_priv_r0s0_201401_202409 - adapter <class 'core.models.newbusiness.maturity_structure.maturity_structure_priv_model.MaturityStructurePrivR0S0ModelAdapter'>\n",
      "maturity_structure_priv_r0s1_202001_202409 - adapter <class 'core.models.newbusiness.maturity_structure.maturity_structure_priv_model.MaturityStructurePrivR0S1ModelAdapter'>\n",
      "maturity_structure_priv_r1s0_201401_202409 - adapter <class 'core.models.newbusiness.maturity_structure.maturity_structure_priv_model.MaturityStructurePrivR1S0ModelAdapter'>\n",
      "maturity_structure_priv_r1s1_201401_202409 - adapter <class 'core.models.newbusiness.maturity_structure.maturity_structure_priv_model.MaturityStructurePrivR1S1ModelAdapter'>\n",
      "maturity_structure_vip_r0s0_201401_202409 - adapter <class 'core.models.newbusiness.maturity_structure.maturity_structure_vip_model.MaturityStructureVipR0S0ModelAdapter'>\n",
      "maturity_structure_vip_r0s1_202001_202409 - adapter <class 'core.models.newbusiness.maturity_structure.maturity_structure_vip_model.MaturityStructureVipR0S1ModelAdapter'>\n",
      "maturity_structure_vip_r1s0_201401_202409 - adapter <class 'core.models.newbusiness.maturity_structure.maturity_structure_vip_model.MaturityStructureVipR1S0ModelAdapter'>\n",
      "maturity_structure_vip_r1s1_201401_202409 - adapter <class 'core.models.newbusiness.maturity_structure.maturity_structure_vip_model.MaturityStructureVipR1S1ModelAdapter'>\n",
      "opt_structure_mass_201401_202409 - adapter <class 'core.models.newbusiness.opt_structure.opt_structure_mass_model.OptStructureMassModelAdapter'>\n",
      "opt_structure_priv_201610_202409 - adapter <class 'core.models.newbusiness.opt_structure.opt_structure_priv_model.OptStructurePrivModelAdapter'>\n",
      "opt_structure_svip_201701_202409 - adapter <class 'core.models.newbusiness.opt_structure.opt_structure_svip_model.OptStructureSvipModelAdapter'>\n",
      "opt_structure_bvip_201401_202409 - adapter <class 'core.models.newbusiness.opt_structure.opt_structure_bvip_model.OptStructureBvipModelAdapter'>\n",
      "newbusiness_mass_201401_202409 - adapter <class 'core.models.newbusiness.newbiz.newbusiness_mass_model.NewbusinessMassModelAdapter'>\n",
      "newbusiness_priv_201401_202409 - adapter <class 'core.models.newbusiness.newbiz.newbusiness_priv_model.NewbusinessPrivModelAdapter'>\n",
      "newbusiness_svip_201402_202409 - adapter <class 'core.models.newbusiness.newbiz.newbusiness_svip_model.NewbusinessSvipModelAdapter'>\n",
      "newbusiness_bvip_201402_202409 - adapter <class 'core.models.newbusiness.newbiz.newbusiness_bvip_model.NewbusinessBvipModelAdapter'>\n",
      "deposit_earlyredemption_mass_R0S0_RUR_201401_202409 - adapter <class 'core.models.early_withdrawal.meta_model.EarlyRedemptionMassR0S0RURAdapter'>\n",
      "deposit_earlyredemption_mass_R0S1_RUR_201401_202409 - adapter <class 'core.models.early_withdrawal.meta_model.EarlyRedemptionMassR0S1RURAdapter'>\n",
      "deposit_earlyredemption_mass_R1S0_RUR_201401_202409 - adapter <class 'core.models.early_withdrawal.meta_model.EarlyRedemptionMassR1S0RURAdapter'>\n",
      "deposit_earlyredemption_mass_R1S1_RUR_201401_202409 - adapter <class 'core.models.early_withdrawal.meta_model.EarlyRedemptionMassR1S1RURAdapter'>\n",
      "deposit_earlyredemption_priv_R0S0_RUR_201401_202409 - adapter <class 'core.models.early_withdrawal.meta_model.EarlyRedemptionPrivR0S0RURAdapter'>\n",
      "deposit_earlyredemption_priv_R0S1_RUR_201401_202409 - adapter <class 'core.models.early_withdrawal.meta_model.EarlyRedemptionPrivR0S1RURAdapter'>\n",
      "deposit_earlyredemption_priv_R1S0_RUR_201401_202409 - adapter <class 'core.models.early_withdrawal.meta_model.EarlyRedemptionPrivR1S0RURAdapter'>\n",
      "deposit_earlyredemption_priv_R1S1_RUR_201401_202409 - adapter <class 'core.models.early_withdrawal.meta_model.EarlyRedemptionPrivR1S1RURAdapter'>\n",
      "deposit_earlyredemption_vip_R0S0_RUR_201401_202409 - adapter <class 'core.models.early_withdrawal.meta_model.EarlyRedemptionVipR0S0RURAdapter'>\n",
      "deposit_earlyredemption_vip_R0S1_RUR_201401_202409 - adapter <class 'core.models.early_withdrawal.meta_model.EarlyRedemptionVipR0S1RURAdapter'>\n",
      "deposit_earlyredemption_vip_R1S0_RUR_201401_202409 - adapter <class 'core.models.early_withdrawal.meta_model.EarlyRedemptionVipR1S0RURAdapter'>\n",
      "deposit_earlyredemption_vip_R1S1_RUR_201401_202409 - adapter <class 'core.models.early_withdrawal.meta_model.EarlyRedemptionVipR1S1RURAdapter'>\n",
      "sa_general_avg_balance_mass_201801_202409 - adapter <class 'core.models.sa_balance.general_models.sa_mass_model.SaBalanceMassModelAdapter'>\n",
      "sa_kopilka_avg_balance_mass_201903_202409 - adapter <class 'core.models.sa_balance.product_models.sa_mass_kopilka_model.SaKopilkaMassModelAdapter'>\n",
      "sa_general_avg_balance_priv_201801_202409 - adapter <class 'core.models.sa_balance.general_models.sa_priv_model.SaBalancePrivModelAdapter'>\n",
      "sa_kopilka_avg_balance_priv_201902_202409 - adapter <class 'core.models.sa_balance.product_models.sa_priv_kopilka_model.SaKopilkaPrivModelAdapter'>\n",
      "sa_general_avg_balance_vip_201801_202409 - adapter <class 'core.models.sa_balance.general_models.sa_vip_model.SaBalanceVipModelAdapter'>\n",
      "sa_kopilka_avg_balance_vip_201903_202409 - adapter <class 'core.models.sa_balance.product_models.sa_vip_kopilka_model.SaKopilkaVipModelAdapter'>\n",
      "current_accounts_model_201110_202409 - adapter <class 'core.models.current_accounts.general_balance.current_accounts_model.CurrentAccountsModelAdapter'>\n",
      "current_accounts_segment_structure_model_201903_202409 - adapter <class 'core.models.current_accounts.segment_structure.segment_structure_model.CaSegmentStructureModelAdapter'>\n",
      "training models completed\n",
      "calculation started\n",
      "missing models: []\n",
      "add_models_from_bytes\n",
      "plan_close_201402_202409 - adapter <class 'core.models.plan_close.plan_close_model.PlanCloseModelAdapter'>\n",
      "renewal_model_201401_202409 - adapter <class 'core.models.renewal.renewal_model.RenewalModelAdapter'>\n",
      "newbusiness_mass_model_buckets_201402_202409 - adapter <class 'core.models.newbusiness.buckets_structure.buckets_structure_mass_model.NewbusinessBucketsMassModelAdapter'>\n",
      "newbusiness_priv_model_buckets_201402_202409 - adapter <class 'core.models.newbusiness.buckets_structure.buckets_structure_priv_model.NewbusinessBucketsPrivModelAdapter'>\n",
      "newbusiness_vip_model_buckets_201402_202409 - adapter <class 'core.models.newbusiness.buckets_structure.buckets_structure_vip_model.NewbusinessBucketsVipModelAdapter'>\n",
      "maturity_structure_mass_r0s0_201401_202409 - adapter <class 'core.models.newbusiness.maturity_structure.maturity_structure_mass_model.MaturityStructureMassR0S0ModelAdapter'>\n",
      "maturity_structure_mass_r0s1_202001_202409 - adapter <class 'core.models.newbusiness.maturity_structure.maturity_structure_mass_model.MaturityStructureMassR0S1ModelAdapter'>\n",
      "maturity_structure_mass_r1s0_201401_202409 - adapter <class 'core.models.newbusiness.maturity_structure.maturity_structure_mass_model.MaturityStructureMassR1S0ModelAdapter'>\n",
      "maturity_structure_mass_r1s1_201401_202409 - adapter <class 'core.models.newbusiness.maturity_structure.maturity_structure_mass_model.MaturityStructureMassR1S1ModelAdapter'>\n",
      "maturity_structure_priv_r0s0_201401_202409 - adapter <class 'core.models.newbusiness.maturity_structure.maturity_structure_priv_model.MaturityStructurePrivR0S0ModelAdapter'>\n",
      "maturity_structure_priv_r0s1_202001_202409 - adapter <class 'core.models.newbusiness.maturity_structure.maturity_structure_priv_model.MaturityStructurePrivR0S1ModelAdapter'>\n",
      "maturity_structure_priv_r1s0_201401_202409 - adapter <class 'core.models.newbusiness.maturity_structure.maturity_structure_priv_model.MaturityStructurePrivR1S0ModelAdapter'>\n",
      "maturity_structure_priv_r1s1_201401_202409 - adapter <class 'core.models.newbusiness.maturity_structure.maturity_structure_priv_model.MaturityStructurePrivR1S1ModelAdapter'>\n",
      "maturity_structure_vip_r0s0_201401_202409 - adapter <class 'core.models.newbusiness.maturity_structure.maturity_structure_vip_model.MaturityStructureVipR0S0ModelAdapter'>\n",
      "maturity_structure_vip_r0s1_202001_202409 - adapter <class 'core.models.newbusiness.maturity_structure.maturity_structure_vip_model.MaturityStructureVipR0S1ModelAdapter'>\n",
      "maturity_structure_vip_r1s0_201401_202409 - adapter <class 'core.models.newbusiness.maturity_structure.maturity_structure_vip_model.MaturityStructureVipR1S0ModelAdapter'>\n",
      "maturity_structure_vip_r1s1_201401_202409 - adapter <class 'core.models.newbusiness.maturity_structure.maturity_structure_vip_model.MaturityStructureVipR1S1ModelAdapter'>\n",
      "opt_structure_mass_201401_202409 - adapter <class 'core.models.newbusiness.opt_structure.opt_structure_mass_model.OptStructureMassModelAdapter'>\n",
      "opt_structure_priv_201610_202409 - adapter <class 'core.models.newbusiness.opt_structure.opt_structure_priv_model.OptStructurePrivModelAdapter'>\n",
      "opt_structure_svip_201701_202409 - adapter <class 'core.models.newbusiness.opt_structure.opt_structure_svip_model.OptStructureSvipModelAdapter'>\n",
      "opt_structure_bvip_201401_202409 - adapter <class 'core.models.newbusiness.opt_structure.opt_structure_bvip_model.OptStructureBvipModelAdapter'>\n",
      "newbusiness_mass_201401_202409 - adapter <class 'core.models.newbusiness.newbiz.newbusiness_mass_model.NewbusinessMassModelAdapter'>\n",
      "newbusiness_priv_201401_202409 - adapter <class 'core.models.newbusiness.newbiz.newbusiness_priv_model.NewbusinessPrivModelAdapter'>\n",
      "newbusiness_svip_201402_202409 - adapter <class 'core.models.newbusiness.newbiz.newbusiness_svip_model.NewbusinessSvipModelAdapter'>\n",
      "newbusiness_bvip_201402_202409 - adapter <class 'core.models.newbusiness.newbiz.newbusiness_bvip_model.NewbusinessBvipModelAdapter'>\n",
      "deposit_earlyredemption_mass_R0S0_RUR_201401_202409 - adapter <class 'core.models.early_withdrawal.meta_model.EarlyRedemptionMassR0S0RURAdapter'>\n",
      "deposit_earlyredemption_mass_R0S1_RUR_201401_202409 - adapter <class 'core.models.early_withdrawal.meta_model.EarlyRedemptionMassR0S1RURAdapter'>\n",
      "deposit_earlyredemption_mass_R1S0_RUR_201401_202409 - adapter <class 'core.models.early_withdrawal.meta_model.EarlyRedemptionMassR1S0RURAdapter'>\n",
      "deposit_earlyredemption_mass_R1S1_RUR_201401_202409 - adapter <class 'core.models.early_withdrawal.meta_model.EarlyRedemptionMassR1S1RURAdapter'>\n",
      "deposit_earlyredemption_priv_R0S0_RUR_201401_202409 - adapter <class 'core.models.early_withdrawal.meta_model.EarlyRedemptionPrivR0S0RURAdapter'>\n",
      "deposit_earlyredemption_priv_R0S1_RUR_201401_202409 - adapter <class 'core.models.early_withdrawal.meta_model.EarlyRedemptionPrivR0S1RURAdapter'>\n",
      "deposit_earlyredemption_priv_R1S0_RUR_201401_202409 - adapter <class 'core.models.early_withdrawal.meta_model.EarlyRedemptionPrivR1S0RURAdapter'>\n",
      "deposit_earlyredemption_priv_R1S1_RUR_201401_202409 - adapter <class 'core.models.early_withdrawal.meta_model.EarlyRedemptionPrivR1S1RURAdapter'>\n",
      "deposit_earlyredemption_vip_R0S0_RUR_201401_202409 - adapter <class 'core.models.early_withdrawal.meta_model.EarlyRedemptionVipR0S0RURAdapter'>\n",
      "deposit_earlyredemption_vip_R0S1_RUR_201401_202409 - adapter <class 'core.models.early_withdrawal.meta_model.EarlyRedemptionVipR0S1RURAdapter'>\n",
      "deposit_earlyredemption_vip_R1S0_RUR_201401_202409 - adapter <class 'core.models.early_withdrawal.meta_model.EarlyRedemptionVipR1S0RURAdapter'>\n",
      "deposit_earlyredemption_vip_R1S1_RUR_201401_202409 - adapter <class 'core.models.early_withdrawal.meta_model.EarlyRedemptionVipR1S1RURAdapter'>\n",
      "sa_general_avg_balance_mass_201801_202409 - adapter <class 'core.models.sa_balance.general_models.sa_mass_model.SaBalanceMassModelAdapter'>\n",
      "sa_kopilka_avg_balance_mass_201903_202409 - adapter <class 'core.models.sa_balance.product_models.sa_mass_kopilka_model.SaKopilkaMassModelAdapter'>\n",
      "sa_general_avg_balance_priv_201801_202409 - adapter <class 'core.models.sa_balance.general_models.sa_priv_model.SaBalancePrivModelAdapter'>\n",
      "sa_kopilka_avg_balance_priv_201902_202409 - adapter <class 'core.models.sa_balance.product_models.sa_priv_kopilka_model.SaKopilkaPrivModelAdapter'>\n",
      "sa_general_avg_balance_vip_201801_202409 - adapter <class 'core.models.sa_balance.general_models.sa_vip_model.SaBalanceVipModelAdapter'>\n",
      "sa_kopilka_avg_balance_vip_201903_202409 - adapter <class 'core.models.sa_balance.product_models.sa_vip_kopilka_model.SaKopilkaVipModelAdapter'>\n",
      "current_accounts_model_201110_202409 - adapter <class 'core.models.current_accounts.general_balance.current_accounts_model.CurrentAccountsModelAdapter'>\n",
      "current_accounts_segment_structure_model_201903_202409 - adapter <class 'core.models.current_accounts.segment_structure.segment_structure_model.CaSegmentStructureModelAdapter'>\n",
      "training models completed\n",
      "calculation started\n",
      "missing models: []\n",
      "add_models_from_bytes\n",
      "plan_close_201402_202409 - adapter <class 'core.models.plan_close.plan_close_model.PlanCloseModelAdapter'>\n",
      "renewal_model_201401_202409 - adapter <class 'core.models.renewal.renewal_model.RenewalModelAdapter'>\n",
      "newbusiness_mass_model_buckets_201402_202409 - adapter <class 'core.models.newbusiness.buckets_structure.buckets_structure_mass_model.NewbusinessBucketsMassModelAdapter'>\n",
      "newbusiness_priv_model_buckets_201402_202409 - adapter <class 'core.models.newbusiness.buckets_structure.buckets_structure_priv_model.NewbusinessBucketsPrivModelAdapter'>\n",
      "newbusiness_vip_model_buckets_201402_202409 - adapter <class 'core.models.newbusiness.buckets_structure.buckets_structure_vip_model.NewbusinessBucketsVipModelAdapter'>\n",
      "maturity_structure_mass_r0s0_201401_202409 - adapter <class 'core.models.newbusiness.maturity_structure.maturity_structure_mass_model.MaturityStructureMassR0S0ModelAdapter'>\n",
      "maturity_structure_mass_r0s1_202001_202409 - adapter <class 'core.models.newbusiness.maturity_structure.maturity_structure_mass_model.MaturityStructureMassR0S1ModelAdapter'>\n",
      "maturity_structure_mass_r1s0_201401_202409 - adapter <class 'core.models.newbusiness.maturity_structure.maturity_structure_mass_model.MaturityStructureMassR1S0ModelAdapter'>\n",
      "maturity_structure_mass_r1s1_201401_202409 - adapter <class 'core.models.newbusiness.maturity_structure.maturity_structure_mass_model.MaturityStructureMassR1S1ModelAdapter'>\n",
      "maturity_structure_priv_r0s0_201401_202409 - adapter <class 'core.models.newbusiness.maturity_structure.maturity_structure_priv_model.MaturityStructurePrivR0S0ModelAdapter'>\n",
      "maturity_structure_priv_r0s1_202001_202409 - adapter <class 'core.models.newbusiness.maturity_structure.maturity_structure_priv_model.MaturityStructurePrivR0S1ModelAdapter'>\n",
      "maturity_structure_priv_r1s0_201401_202409 - adapter <class 'core.models.newbusiness.maturity_structure.maturity_structure_priv_model.MaturityStructurePrivR1S0ModelAdapter'>\n",
      "maturity_structure_priv_r1s1_201401_202409 - adapter <class 'core.models.newbusiness.maturity_structure.maturity_structure_priv_model.MaturityStructurePrivR1S1ModelAdapter'>\n",
      "maturity_structure_vip_r0s0_201401_202409 - adapter <class 'core.models.newbusiness.maturity_structure.maturity_structure_vip_model.MaturityStructureVipR0S0ModelAdapter'>\n",
      "maturity_structure_vip_r0s1_202001_202409 - adapter <class 'core.models.newbusiness.maturity_structure.maturity_structure_vip_model.MaturityStructureVipR0S1ModelAdapter'>\n",
      "maturity_structure_vip_r1s0_201401_202409 - adapter <class 'core.models.newbusiness.maturity_structure.maturity_structure_vip_model.MaturityStructureVipR1S0ModelAdapter'>\n",
      "maturity_structure_vip_r1s1_201401_202409 - adapter <class 'core.models.newbusiness.maturity_structure.maturity_structure_vip_model.MaturityStructureVipR1S1ModelAdapter'>\n",
      "opt_structure_mass_201401_202409 - adapter <class 'core.models.newbusiness.opt_structure.opt_structure_mass_model.OptStructureMassModelAdapter'>\n",
      "opt_structure_priv_201610_202409 - adapter <class 'core.models.newbusiness.opt_structure.opt_structure_priv_model.OptStructurePrivModelAdapter'>\n",
      "opt_structure_svip_201701_202409 - adapter <class 'core.models.newbusiness.opt_structure.opt_structure_svip_model.OptStructureSvipModelAdapter'>\n",
      "opt_structure_bvip_201401_202409 - adapter <class 'core.models.newbusiness.opt_structure.opt_structure_bvip_model.OptStructureBvipModelAdapter'>\n",
      "newbusiness_mass_201401_202409 - adapter <class 'core.models.newbusiness.newbiz.newbusiness_mass_model.NewbusinessMassModelAdapter'>\n",
      "newbusiness_priv_201401_202409 - adapter <class 'core.models.newbusiness.newbiz.newbusiness_priv_model.NewbusinessPrivModelAdapter'>\n",
      "newbusiness_svip_201402_202409 - adapter <class 'core.models.newbusiness.newbiz.newbusiness_svip_model.NewbusinessSvipModelAdapter'>\n",
      "newbusiness_bvip_201402_202409 - adapter <class 'core.models.newbusiness.newbiz.newbusiness_bvip_model.NewbusinessBvipModelAdapter'>\n",
      "deposit_earlyredemption_mass_R0S0_RUR_201401_202409 - adapter <class 'core.models.early_withdrawal.meta_model.EarlyRedemptionMassR0S0RURAdapter'>\n",
      "deposit_earlyredemption_mass_R0S1_RUR_201401_202409 - adapter <class 'core.models.early_withdrawal.meta_model.EarlyRedemptionMassR0S1RURAdapter'>\n",
      "deposit_earlyredemption_mass_R1S0_RUR_201401_202409 - adapter <class 'core.models.early_withdrawal.meta_model.EarlyRedemptionMassR1S0RURAdapter'>\n",
      "deposit_earlyredemption_mass_R1S1_RUR_201401_202409 - adapter <class 'core.models.early_withdrawal.meta_model.EarlyRedemptionMassR1S1RURAdapter'>\n",
      "deposit_earlyredemption_priv_R0S0_RUR_201401_202409 - adapter <class 'core.models.early_withdrawal.meta_model.EarlyRedemptionPrivR0S0RURAdapter'>\n",
      "deposit_earlyredemption_priv_R0S1_RUR_201401_202409 - adapter <class 'core.models.early_withdrawal.meta_model.EarlyRedemptionPrivR0S1RURAdapter'>\n",
      "deposit_earlyredemption_priv_R1S0_RUR_201401_202409 - adapter <class 'core.models.early_withdrawal.meta_model.EarlyRedemptionPrivR1S0RURAdapter'>\n",
      "deposit_earlyredemption_priv_R1S1_RUR_201401_202409 - adapter <class 'core.models.early_withdrawal.meta_model.EarlyRedemptionPrivR1S1RURAdapter'>\n",
      "deposit_earlyredemption_vip_R0S0_RUR_201401_202409 - adapter <class 'core.models.early_withdrawal.meta_model.EarlyRedemptionVipR0S0RURAdapter'>\n",
      "deposit_earlyredemption_vip_R0S1_RUR_201401_202409 - adapter <class 'core.models.early_withdrawal.meta_model.EarlyRedemptionVipR0S1RURAdapter'>\n",
      "deposit_earlyredemption_vip_R1S0_RUR_201401_202409 - adapter <class 'core.models.early_withdrawal.meta_model.EarlyRedemptionVipR1S0RURAdapter'>\n",
      "deposit_earlyredemption_vip_R1S1_RUR_201401_202409 - adapter <class 'core.models.early_withdrawal.meta_model.EarlyRedemptionVipR1S1RURAdapter'>\n",
      "sa_general_avg_balance_mass_201801_202409 - adapter <class 'core.models.sa_balance.general_models.sa_mass_model.SaBalanceMassModelAdapter'>\n",
      "sa_kopilka_avg_balance_mass_201903_202409 - adapter <class 'core.models.sa_balance.product_models.sa_mass_kopilka_model.SaKopilkaMassModelAdapter'>\n",
      "sa_general_avg_balance_priv_201801_202409 - adapter <class 'core.models.sa_balance.general_models.sa_priv_model.SaBalancePrivModelAdapter'>\n",
      "sa_kopilka_avg_balance_priv_201902_202409 - adapter <class 'core.models.sa_balance.product_models.sa_priv_kopilka_model.SaKopilkaPrivModelAdapter'>\n",
      "sa_general_avg_balance_vip_201801_202409 - adapter <class 'core.models.sa_balance.general_models.sa_vip_model.SaBalanceVipModelAdapter'>\n",
      "sa_kopilka_avg_balance_vip_201903_202409 - adapter <class 'core.models.sa_balance.product_models.sa_vip_kopilka_model.SaKopilkaVipModelAdapter'>\n",
      "current_accounts_model_201110_202409 - adapter <class 'core.models.current_accounts.general_balance.current_accounts_model.CurrentAccountsModelAdapter'>\n",
      "current_accounts_segment_structure_model_201903_202409 - adapter <class 'core.models.current_accounts.segment_structure.segment_structure_model.CaSegmentStructureModelAdapter'>\n",
      "training models completed\n",
      "calculation started\n",
      "missing models: []\n",
      "add_models_from_bytes\n",
      "plan_close_201402_202409 - adapter <class 'core.models.plan_close.plan_close_model.PlanCloseModelAdapter'>\n",
      "renewal_model_201401_202409 - adapter <class 'core.models.renewal.renewal_model.RenewalModelAdapter'>\n",
      "newbusiness_mass_model_buckets_201402_202409 - adapter <class 'core.models.newbusiness.buckets_structure.buckets_structure_mass_model.NewbusinessBucketsMassModelAdapter'>\n",
      "newbusiness_priv_model_buckets_201402_202409 - adapter <class 'core.models.newbusiness.buckets_structure.buckets_structure_priv_model.NewbusinessBucketsPrivModelAdapter'>\n",
      "newbusiness_vip_model_buckets_201402_202409 - adapter <class 'core.models.newbusiness.buckets_structure.buckets_structure_vip_model.NewbusinessBucketsVipModelAdapter'>\n",
      "maturity_structure_mass_r0s0_201401_202409 - adapter <class 'core.models.newbusiness.maturity_structure.maturity_structure_mass_model.MaturityStructureMassR0S0ModelAdapter'>\n",
      "maturity_structure_mass_r0s1_202001_202409 - adapter <class 'core.models.newbusiness.maturity_structure.maturity_structure_mass_model.MaturityStructureMassR0S1ModelAdapter'>\n",
      "maturity_structure_mass_r1s0_201401_202409 - adapter <class 'core.models.newbusiness.maturity_structure.maturity_structure_mass_model.MaturityStructureMassR1S0ModelAdapter'>\n",
      "maturity_structure_mass_r1s1_201401_202409 - adapter <class 'core.models.newbusiness.maturity_structure.maturity_structure_mass_model.MaturityStructureMassR1S1ModelAdapter'>\n",
      "maturity_structure_priv_r0s0_201401_202409 - adapter <class 'core.models.newbusiness.maturity_structure.maturity_structure_priv_model.MaturityStructurePrivR0S0ModelAdapter'>\n",
      "maturity_structure_priv_r0s1_202001_202409 - adapter <class 'core.models.newbusiness.maturity_structure.maturity_structure_priv_model.MaturityStructurePrivR0S1ModelAdapter'>\n",
      "maturity_structure_priv_r1s0_201401_202409 - adapter <class 'core.models.newbusiness.maturity_structure.maturity_structure_priv_model.MaturityStructurePrivR1S0ModelAdapter'>\n",
      "maturity_structure_priv_r1s1_201401_202409 - adapter <class 'core.models.newbusiness.maturity_structure.maturity_structure_priv_model.MaturityStructurePrivR1S1ModelAdapter'>\n",
      "maturity_structure_vip_r0s0_201401_202409 - adapter <class 'core.models.newbusiness.maturity_structure.maturity_structure_vip_model.MaturityStructureVipR0S0ModelAdapter'>\n",
      "maturity_structure_vip_r0s1_202001_202409 - adapter <class 'core.models.newbusiness.maturity_structure.maturity_structure_vip_model.MaturityStructureVipR0S1ModelAdapter'>\n",
      "maturity_structure_vip_r1s0_201401_202409 - adapter <class 'core.models.newbusiness.maturity_structure.maturity_structure_vip_model.MaturityStructureVipR1S0ModelAdapter'>\n",
      "maturity_structure_vip_r1s1_201401_202409 - adapter <class 'core.models.newbusiness.maturity_structure.maturity_structure_vip_model.MaturityStructureVipR1S1ModelAdapter'>\n",
      "opt_structure_mass_201401_202409 - adapter <class 'core.models.newbusiness.opt_structure.opt_structure_mass_model.OptStructureMassModelAdapter'>\n",
      "opt_structure_priv_201610_202409 - adapter <class 'core.models.newbusiness.opt_structure.opt_structure_priv_model.OptStructurePrivModelAdapter'>\n",
      "opt_structure_svip_201701_202409 - adapter <class 'core.models.newbusiness.opt_structure.opt_structure_svip_model.OptStructureSvipModelAdapter'>\n",
      "opt_structure_bvip_201401_202409 - adapter <class 'core.models.newbusiness.opt_structure.opt_structure_bvip_model.OptStructureBvipModelAdapter'>\n",
      "newbusiness_mass_201401_202409 - adapter <class 'core.models.newbusiness.newbiz.newbusiness_mass_model.NewbusinessMassModelAdapter'>\n",
      "newbusiness_priv_201401_202409 - adapter <class 'core.models.newbusiness.newbiz.newbusiness_priv_model.NewbusinessPrivModelAdapter'>\n",
      "newbusiness_svip_201402_202409 - adapter <class 'core.models.newbusiness.newbiz.newbusiness_svip_model.NewbusinessSvipModelAdapter'>\n",
      "newbusiness_bvip_201402_202409 - adapter <class 'core.models.newbusiness.newbiz.newbusiness_bvip_model.NewbusinessBvipModelAdapter'>\n",
      "deposit_earlyredemption_mass_R0S0_RUR_201401_202409 - adapter <class 'core.models.early_withdrawal.meta_model.EarlyRedemptionMassR0S0RURAdapter'>\n",
      "deposit_earlyredemption_mass_R0S1_RUR_201401_202409 - adapter <class 'core.models.early_withdrawal.meta_model.EarlyRedemptionMassR0S1RURAdapter'>\n",
      "deposit_earlyredemption_mass_R1S0_RUR_201401_202409 - adapter <class 'core.models.early_withdrawal.meta_model.EarlyRedemptionMassR1S0RURAdapter'>\n",
      "deposit_earlyredemption_mass_R1S1_RUR_201401_202409 - adapter <class 'core.models.early_withdrawal.meta_model.EarlyRedemptionMassR1S1RURAdapter'>\n",
      "deposit_earlyredemption_priv_R0S0_RUR_201401_202409 - adapter <class 'core.models.early_withdrawal.meta_model.EarlyRedemptionPrivR0S0RURAdapter'>\n",
      "deposit_earlyredemption_priv_R0S1_RUR_201401_202409 - adapter <class 'core.models.early_withdrawal.meta_model.EarlyRedemptionPrivR0S1RURAdapter'>\n",
      "deposit_earlyredemption_priv_R1S0_RUR_201401_202409 - adapter <class 'core.models.early_withdrawal.meta_model.EarlyRedemptionPrivR1S0RURAdapter'>\n",
      "deposit_earlyredemption_priv_R1S1_RUR_201401_202409 - adapter <class 'core.models.early_withdrawal.meta_model.EarlyRedemptionPrivR1S1RURAdapter'>\n",
      "deposit_earlyredemption_vip_R0S0_RUR_201401_202409 - adapter <class 'core.models.early_withdrawal.meta_model.EarlyRedemptionVipR0S0RURAdapter'>\n",
      "deposit_earlyredemption_vip_R0S1_RUR_201401_202409 - adapter <class 'core.models.early_withdrawal.meta_model.EarlyRedemptionVipR0S1RURAdapter'>\n",
      "deposit_earlyredemption_vip_R1S0_RUR_201401_202409 - adapter <class 'core.models.early_withdrawal.meta_model.EarlyRedemptionVipR1S0RURAdapter'>\n",
      "deposit_earlyredemption_vip_R1S1_RUR_201401_202409 - adapter <class 'core.models.early_withdrawal.meta_model.EarlyRedemptionVipR1S1RURAdapter'>\n",
      "sa_general_avg_balance_mass_201801_202409 - adapter <class 'core.models.sa_balance.general_models.sa_mass_model.SaBalanceMassModelAdapter'>\n",
      "sa_kopilka_avg_balance_mass_201903_202409 - adapter <class 'core.models.sa_balance.product_models.sa_mass_kopilka_model.SaKopilkaMassModelAdapter'>\n",
      "sa_general_avg_balance_priv_201801_202409 - adapter <class 'core.models.sa_balance.general_models.sa_priv_model.SaBalancePrivModelAdapter'>\n",
      "sa_kopilka_avg_balance_priv_201902_202409 - adapter <class 'core.models.sa_balance.product_models.sa_priv_kopilka_model.SaKopilkaPrivModelAdapter'>\n",
      "sa_general_avg_balance_vip_201801_202409 - adapter <class 'core.models.sa_balance.general_models.sa_vip_model.SaBalanceVipModelAdapter'>\n",
      "sa_kopilka_avg_balance_vip_201903_202409 - adapter <class 'core.models.sa_balance.product_models.sa_vip_kopilka_model.SaKopilkaVipModelAdapter'>\n",
      "current_accounts_model_201110_202409 - adapter <class 'core.models.current_accounts.general_balance.current_accounts_model.CurrentAccountsModelAdapter'>\n",
      "current_accounts_segment_structure_model_201903_202409 - adapter <class 'core.models.current_accounts.segment_structure.segment_structure_model.CaSegmentStructureModelAdapter'>\n",
      "training models completed\n",
      "calculation started\n"
     ]
    }
   ],
   "source": [
    "for sc in sc_names:\n",
    "    make_forecast(sc)"
   ]
  },
  {
   "cell_type": "markdown",
   "id": "51418afe-bc57-4a4b-a753-4ffabc72b5ce",
   "metadata": {},
   "source": [
    "### Сохранение данных"
   ]
  },
  {
   "cell_type": "code",
   "execution_count": 19,
   "id": "ee9a94d9-8b65-42d0-99ff-3367a60a5d9f",
   "metadata": {},
   "outputs": [],
   "source": [
    "# для записи и чтения экселя\n",
    "# import pip\n",
    "# pip.main(['install', 'openpyxl'])"
   ]
  },
  {
   "cell_type": "code",
   "execution_count": 20,
   "id": "a22f264a-7b47-4f3f-b6d2-bb717b61ec25",
   "metadata": {},
   "outputs": [],
   "source": [
    "# import openpyxl"
   ]
  },
  {
   "cell_type": "code",
   "execution_count": 21,
   "id": "6b0d8e9e-b0fe-41d9-93c4-4ef4b8bb41c4",
   "metadata": {},
   "outputs": [],
   "source": [
    "# with pd.ExcelWriter(\"august_res_v2.xlsx\") as writer:\n",
    "#     portfolio_res.to_excel(writer, sheet_name='portfolio_res', index=False)\n",
    "#     agg_res.to_excel(writer, sheet_name='agg_res', index=False)\n",
    "#     maturity.to_excel(writer, sheet_name='maturity', index=False)\n",
    "#     CurrentAccounts.to_excel(writer, sheet_name='CurrentAccounts', index=False)\n",
    "#     SavingAccounts.to_excel(writer, sheet_name='SavingAccounts', index=False)\n",
    "#     volumes.to_excel(writer, sheet_name='volumes', index=False)\n",
    "#     pd.DataFrame(scenario_data).to_excel(writer, sheet_name='scenario', index=False)"
   ]
  }
 ],
 "metadata": {
  "interpreter": {
   "hash": "67db43d0d118bdb28a03ac1311d68e4eaf3d26b0a53952ba9af383edd3dcbb04"
  },
  "kernelspec": {
   "display_name": "ADH SBX Python 3 + PySpark 3",
   "language": "python",
   "name": "python3-pyspark3-arenadata-adh_sandbox"
  },
  "language_info": {
   "codemirror_mode": {
    "name": "ipython",
    "version": 3
   },
   "file_extension": ".py",
   "mimetype": "text/x-python",
   "name": "python",
   "nbconvert_exporter": "python",
   "pygments_lexer": "ipython3",
   "version": "3.7.9"
  }
 },
 "nbformat": 4,
 "nbformat_minor": 5
}
