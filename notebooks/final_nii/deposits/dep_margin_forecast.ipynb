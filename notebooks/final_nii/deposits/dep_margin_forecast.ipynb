{
 "cells": [
  {
   "cell_type": "code",
   "execution_count": 1,
   "id": "a64ec341-9ec8-4ba2-b1c9-a903ffee2b5b",
   "metadata": {},
   "outputs": [],
   "source": [
    "#!pip install scikit-learn --force\n",
    "#!pip install catboost"
   ]
  },
  {
   "cell_type": "code",
   "execution_count": 2,
   "id": "532f9d68-b0fc-4a7b-b166-b60981a74909",
   "metadata": {},
   "outputs": [],
   "source": [
    "import sys\n",
    "sys.path.append('/home/vtb70186744/dynbalance/')\n",
    "import pandas as pd\n",
    "import numpy as np\n",
    "from pandas.tseries.offsets import MonthEnd\n",
    "from datetime import datetime\n",
    "import os\n",
    "import importlib\n",
    "\n",
    "pd.set_option('display.max.columns', 300)\n",
    "\n",
    "from core.calculator.storage import ModelDB\n",
    "from core.calculator.core import ForecastConfig\n",
    "from core.calculator.core import TrainingManager\n",
    "from core.calculator.core import ForecastConfig\n",
    "from core.calculator.core import ForecastEngine\n",
    "\n",
    "from core.calculator.deposits import DepositsCalculationType\n",
    "from core.calculator.deposits import DepositIterativeCalculator\n",
    "\n",
    "from core.definitions import *\n",
    "from core.project_update import load_portfolio\n",
    "\n",
    "from core.models import DepositModels\n",
    "from warnings import filterwarnings\n",
    "filterwarnings('ignore')"
   ]
  },
  {
   "cell_type": "code",
   "execution_count": 3,
   "id": "c383b536-75c4-4ccd-9bd1-a0b5958a84ee",
   "metadata": {},
   "outputs": [],
   "source": [
    "# Дата из который мы прогнозируем (пока что не меняется)\n",
    "train_end = datetime(year=2023, month=6, day=30)\n",
    "\n",
    "# Горизонт прогноза в месяцах\n",
    "horizon = 3"
   ]
  },
  {
   "cell_type": "code",
   "execution_count": null,
   "id": "065b9c28-48a6-43f0-99f2-c8d041d20abb",
   "metadata": {},
   "outputs": [],
   "source": []
  },
  {
   "cell_type": "code",
   "execution_count": 4,
   "id": "be494a64-38f3-41d8-b3b5-f89427739a12",
   "metadata": {},
   "outputs": [],
   "source": [
    "# Данные для прогноза\n",
    "scenario_data = {\n",
    "    # Ожидаемый баланс на первую дату прогноза, задавать необязательно\n",
    "     'expected_amount':      [np.nan for h in range(horizon)],\n",
    "    # ССВ\n",
    "     'SSV':                  [0.48 for h in range(horizon)],\n",
    "    # ФОР\n",
    "     'FOR':                  [4.5 for h in range(horizon)],\n",
    "    # Трансфертные ставки\n",
    "     'VTB_ftp_rate_[90d]':   [10.3 for h in range(horizon)],\n",
    "     'VTB_ftp_rate_[180d]':  [10 for h in range(horizon)],\n",
    "     'VTB_ftp_rate_[365d]':  [10 for h in range(horizon)],\n",
    "     'VTB_ftp_rate_[548d]':  [10 for h in range(horizon)],\n",
    "     'VTB_ftp_rate_[730d]':  [10 for h in range(horizon)],\n",
    "     'VTB_ftp_rate_[1095d]': [10 for h in range(horizon)],\n",
    "    \n",
    "    # Маржа бизнеса по срочностям\n",
    "     'margin_[90d]':         [0.1 for h in range(horizon)],\n",
    "     'margin_[180d]':        [0.1 for h in range(horizon)],\n",
    "     'margin_[365d]':        [0.1 for h in range(horizon)],\n",
    "     'margin_[548d]':        [0.1 for h in range(horizon)],\n",
    "     'margin_[730d]':        [0.2 for h in range(horizon)],\n",
    "     'margin_[1095d]':       [0.2 for h in range(horizon)],\n",
    "    \n",
    "    # Спред Привилегия - Массовый (на сколько в среднем ставки по сегменту Привилегия больше чем ставки по массовому сегменту)\n",
    "     'priv_spread':          [0.4 for h in range(horizon)],\n",
    "    # Спред ВИП - Массовый (на сколько в среднем ставки по сегменту ВИП больше чем ставки по массовому сегменту)\n",
    "     'vip_spread':           [0.8 for h in range(horizon)],\n",
    "    \n",
    "    # Ниже три спреда по разным типам опциональности по отношению к безопциональным вкладам (Подразумевается, что они, как правило, отрицательные)\n",
    "    # r - возможности пополнения, s - возможность расходных операций\n",
    "    \n",
    "    # На сколько ставка по расходным вкладам выше чем ставка по безопциональным вкладам (Если ниже - то со знаком минус)\n",
    "     'r0s1_spread':          [-1 for h in range(horizon)],\n",
    "    \n",
    "    # На сколько ставка по пополняемым вкладам выше чем ставка по безопциональным вкладам (Если ниже - то со знаком минус)\n",
    "     'r1s0_spread':          [-1 for h in range(horizon)],\n",
    "    \n",
    "    # На сколько ставка по расходно-пополняемым вкладам выше чем ставка по безопциональным вкладам (Если ниже - то со знаком минус)\n",
    "     'r1s1_spread':          [-1.2 for h in range(horizon)],\n",
    "    \n",
    "    # Ставка по лучшему предложению сбера\n",
    "     'SBER_max_rate':        [11.2, 11.2, 11.2],\n",
    "    \n",
    "    # Базовая ставка по НС\n",
    "     'SA_rate':              [5 for h in range(horizon)]\n",
    "}\n",
    "scenario_df_user = pd.DataFrame(scenario_data)"
   ]
  },
  {
   "cell_type": "code",
   "execution_count": null,
   "id": "1d4e145a-c51e-406a-a2e3-026e7330bbc8",
   "metadata": {},
   "outputs": [],
   "source": []
  },
  {
   "cell_type": "code",
   "execution_count": 5,
   "id": "1f28a7a1-4415-4565-a1b8-c381e3e014e1",
   "metadata": {},
   "outputs": [],
   "source": [
    "scenario_df = preprocess_scenario(scenario_df_user, train_end, horizon)"
   ]
  },
  {
   "cell_type": "code",
   "execution_count": 6,
   "id": "b18ad21b-7aeb-49f8-b8d9-09ac58a60745",
   "metadata": {},
   "outputs": [],
   "source": [
    "port_folder = '/home/vtb70186744/dynbalance/data/portfolio_data'\n",
    "portfolio = load_portfolio(train_end, port_folder)"
   ]
  },
  {
   "cell_type": "code",
   "execution_count": 7,
   "id": "355543ef-240d-4e09-8d1f-f377ced1575e",
   "metadata": {},
   "outputs": [],
   "source": [
    "# если хотим обучить модели\n",
    "\n",
    "from core.models.utils import run_spark_session\n",
    "#spark = run_spark_session('check_calc')\n",
    "\n",
    "spark = None #если без обучения"
   ]
  },
  {
   "cell_type": "code",
   "execution_count": 8,
   "id": "a199523b-de08-4f70-87ec-d3e662856a68",
   "metadata": {},
   "outputs": [],
   "source": [
    "folder = '/home/vtb70186744/dynbalance/data/trained_models'\n",
    "\n",
    "sqlite_filepath = os.path.join(folder, 'modeldb_test.bin')\n",
    "\n",
    "DB_URL = f\"sqlite:///{sqlite_filepath}\"\n",
    "model_db = ModelDB(DB_URL)\n"
   ]
  },
  {
   "cell_type": "code",
   "execution_count": 9,
   "id": "594f13d4-9b9d-446a-9198-32f9f17d2055",
   "metadata": {},
   "outputs": [],
   "source": [
    "ENV_NAME = 'hmelevskoi_env'\n",
    "\n",
    "os.environ['CC'] = 'x86_64-conda-linux-gnu-gcc'\n",
    "os.environ['CXX'] = 'x86_64-conda-linux-gnu-g++'\n",
    "os.environ['PATH'] = os.path.abspath(f'/tmp/envs/{ENV_NAME}/bin') + ':' + os.environ['PATH']"
   ]
  },
  {
   "cell_type": "code",
   "execution_count": null,
   "id": "b3ebb93f-59ed-4ab5-b5bd-a3a071a00cc2",
   "metadata": {},
   "outputs": [],
   "source": []
  },
  {
   "cell_type": "code",
   "execution_count": 10,
   "id": "28ad1c65-9821-47cb-8c14-7b521c172e93",
   "metadata": {},
   "outputs": [],
   "source": [
    "config: ForecastConfig = ForecastConfig(\n",
    "    first_train_end_dt = train_end,\n",
    "    horizon = horizon,\n",
    "    trainers = DepositModels.trainers,\n",
    "    data_loaders = DepositModels.dataloaders,\n",
    "    calculator_type = DepositIterativeCalculator,\n",
    "    calc_type = DepositsCalculationType,\n",
    "    adapter_types = DepositModels.adapter_types,\n",
    "    scenario_data = scenario_df,\n",
    "    portfolio = portfolio\n",
    ")\n",
    "    \n",
    "training_manager = TrainingManager(spark, config.trainers, folder, model_db)   \n",
    "engine: ForecastEngine = ForecastEngine(spark, config, training_manager, overwrite_models=False)"
   ]
  },
  {
   "cell_type": "code",
   "execution_count": 11,
   "id": "47d2f4a9-0f50-4029-8eda-6e7f6ae384d2",
   "metadata": {},
   "outputs": [
    {
     "name": "stderr",
     "output_type": "stream",
     "text": [
      "INFO:core:missing models: []\n",
      "INFO:core:add_models_from_bytes\n",
      "INFO:core:plan_close_201402_202306 - adapter <class 'core.models.plan_close.plan_close_model.PlanCloseModelAdapter'>\n",
      "INFO:core:renewal_model_201401_202306 - adapter <class 'core.models.renewal.renewal_model.RenewalModelAdapter'>\n",
      "INFO:core:maturity_structure_mass_r0s0_201401_202306 - adapter <class 'core.models.newbusiness.maturity_structure.maturity_structure_mass_model.MaturityStructureMassR0S0ModelAdapter'>\n",
      "INFO:core:maturity_structure_mass_r0s1_202001_202306 - adapter <class 'core.models.newbusiness.maturity_structure.maturity_structure_mass_model.MaturityStructureMassR0S1ModelAdapter'>\n",
      "INFO:core:maturity_structure_mass_r1s0_201401_202306 - adapter <class 'core.models.newbusiness.maturity_structure.maturity_structure_mass_model.MaturityStructureMassR1S0ModelAdapter'>\n",
      "INFO:core:maturity_structure_mass_r1s1_201401_202306 - adapter <class 'core.models.newbusiness.maturity_structure.maturity_structure_mass_model.MaturityStructureMassR1S1ModelAdapter'>\n",
      "INFO:core:maturity_structure_priv_r0s0_201401_202306 - adapter <class 'core.models.newbusiness.maturity_structure.maturity_structure_priv_model.MaturityStructurePrivR0S0ModelAdapter'>\n",
      "INFO:core:maturity_structure_priv_r0s1_202001_202306 - adapter <class 'core.models.newbusiness.maturity_structure.maturity_structure_priv_model.MaturityStructurePrivR0S1ModelAdapter'>\n",
      "INFO:core:maturity_structure_priv_r1s0_201401_202306 - adapter <class 'core.models.newbusiness.maturity_structure.maturity_structure_priv_model.MaturityStructurePrivR1S0ModelAdapter'>\n",
      "INFO:core:maturity_structure_priv_r1s1_201401_202306 - adapter <class 'core.models.newbusiness.maturity_structure.maturity_structure_priv_model.MaturityStructurePrivR1S1ModelAdapter'>\n",
      "INFO:core:maturity_structure_vip_r0s0_201401_202306 - adapter <class 'core.models.newbusiness.maturity_structure.maturity_structure_vip_model.MaturityStructureVipR0S0ModelAdapter'>\n",
      "INFO:core:maturity_structure_vip_r0s1_202001_202306 - adapter <class 'core.models.newbusiness.maturity_structure.maturity_structure_vip_model.MaturityStructureVipR0S1ModelAdapter'>\n",
      "INFO:core:maturity_structure_vip_r1s0_201401_202306 - adapter <class 'core.models.newbusiness.maturity_structure.maturity_structure_vip_model.MaturityStructureVipR1S0ModelAdapter'>\n",
      "INFO:core:maturity_structure_vip_r1s1_201401_202306 - adapter <class 'core.models.newbusiness.maturity_structure.maturity_structure_vip_model.MaturityStructureVipR1S1ModelAdapter'>\n",
      "INFO:core:opt_structure_mass_201401_202306 - adapter <class 'core.models.newbusiness.opt_structure.opt_structure_mass_model.OptStructureMassModelAdapter'>\n",
      "INFO:core:opt_structure_priv_201610_202306 - adapter <class 'core.models.newbusiness.opt_structure.opt_structure_priv_model.OptStructurePrivModelAdapter'>\n",
      "INFO:core:opt_structure_svip_201701_202306 - adapter <class 'core.models.newbusiness.opt_structure.opt_structure_svip_model.OptStructureSvipModelAdapter'>\n",
      "INFO:core:opt_structure_bvip_201401_202306 - adapter <class 'core.models.newbusiness.opt_structure.opt_structure_bvip_model.OptStructureBvipModelAdapter'>\n",
      "INFO:core:newbusiness_mass_201401_202306 - adapter <class 'core.models.newbusiness.newbiz.newbusiness_mass_model.NewbusinessMassModelAdapter'>\n",
      "INFO:core:newbusiness_priv_201401_202306 - adapter <class 'core.models.newbusiness.newbiz.newbusiness_priv_model.NewbusinessPrivModelAdapter'>\n",
      "INFO:core:newbusiness_svip_201402_202306 - adapter <class 'core.models.newbusiness.newbiz.newbusiness_svip_model.NewbusinessSvipModelAdapter'>\n",
      "INFO:core:newbusiness_bvip_201402_202306 - adapter <class 'core.models.newbusiness.newbiz.newbusiness_bvip_model.NewbusinessBvipModelAdapter'>\n",
      "INFO:core:deposit_earlyredemption_mass_R0S0_RUR_201401_202306 - adapter <class 'core.models.early_withdrawal.meta_model.EarlyRedemptionMassR0S0RURAdapter'>\n",
      "INFO:core:deposit_earlyredemption_mass_R0S1_RUR_201401_202306 - adapter <class 'core.models.early_withdrawal.meta_model.EarlyRedemptionMassR0S1RURAdapter'>\n",
      "INFO:core:deposit_earlyredemption_mass_R1S0_RUR_201401_202306 - adapter <class 'core.models.early_withdrawal.meta_model.EarlyRedemptionMassR1S0RURAdapter'>\n",
      "INFO:core:deposit_earlyredemption_mass_R1S1_RUR_201401_202306 - adapter <class 'core.models.early_withdrawal.meta_model.EarlyRedemptionMassR1S1RURAdapter'>\n",
      "INFO:core:deposit_earlyredemption_priv_R0S0_RUR_201401_202306 - adapter <class 'core.models.early_withdrawal.meta_model.EarlyRedemptionPrivR0S0RURAdapter'>\n",
      "INFO:core:deposit_earlyredemption_priv_R0S1_RUR_201401_202306 - adapter <class 'core.models.early_withdrawal.meta_model.EarlyRedemptionPrivR0S1RURAdapter'>\n",
      "INFO:core:deposit_earlyredemption_priv_R1S0_RUR_201401_202306 - adapter <class 'core.models.early_withdrawal.meta_model.EarlyRedemptionPrivR1S0RURAdapter'>\n",
      "INFO:core:deposit_earlyredemption_priv_R1S1_RUR_201401_202306 - adapter <class 'core.models.early_withdrawal.meta_model.EarlyRedemptionPrivR1S1RURAdapter'>\n",
      "INFO:core:deposit_earlyredemption_vip_R0S0_RUR_201401_202306 - adapter <class 'core.models.early_withdrawal.meta_model.EarlyRedemptionVipR0S0RURAdapter'>\n",
      "INFO:core:deposit_earlyredemption_vip_R0S1_RUR_201401_202306 - adapter <class 'core.models.early_withdrawal.meta_model.EarlyRedemptionVipR0S1RURAdapter'>\n",
      "INFO:core:deposit_earlyredemption_vip_R1S0_RUR_201401_202306 - adapter <class 'core.models.early_withdrawal.meta_model.EarlyRedemptionVipR1S0RURAdapter'>\n",
      "INFO:core:deposit_earlyredemption_vip_R1S1_RUR_201401_202306 - adapter <class 'core.models.early_withdrawal.meta_model.EarlyRedemptionVipR1S1RURAdapter'>\n",
      "INFO:core:sa_general_avg_balance_mass_201801_202306 - adapter <class 'core.models.sa_balance.general_models.sa_mass_model_orbit.SaBalanceMassModelAdapter'>\n",
      "INFO:core:sa_kopilka_avg_balance_mass_201903_202306 - adapter <class 'core.models.sa_balance.product_models.sa_mass_kopilka_model.SaKopilkaMassModelAdapter'>\n",
      "INFO:core:sa_general_avg_balance_priv_201801_202306 - adapter <class 'core.models.sa_balance.general_models.sa_priv_model_orbit.SaBalancePrivModelAdapter'>\n",
      "INFO:core:sa_kopilka_avg_balance_priv_201902_202306 - adapter <class 'core.models.sa_balance.product_models.sa_priv_kopilka_model.SaKopilkaPrivModelAdapter'>\n",
      "INFO:core:sa_general_avg_balance_vip_201801_202306 - adapter <class 'core.models.sa_balance.general_models.sa_vip_model_orbit.SaBalanceVipModelAdapter'>\n",
      "INFO:core:sa_kopilka_avg_balance_vip_201903_202306 - adapter <class 'core.models.sa_balance.product_models.sa_vip_kopilka_model.SaKopilkaVipModelAdapter'>\n",
      "INFO:core:current_accounts_model_201110_202306 - adapter <class 'core.models.current_accounts.general_balance.current_accounts_model.CurrentAccountsModelAdapter'>\n",
      "INFO:core:current_accounts_segment_structure_model_201903_202306 - adapter <class 'core.models.current_accounts.segment_structure.segment_structure_model.CaSegmentStructureModelAdapter'>\n",
      "INFO:core:training models completed\n",
      "INFO:core:calculation started\n"
     ]
    },
    {
     "name": "stdout",
     "output_type": "stream",
     "text": [
      "CPU times: user 39.1 s, sys: 4.71 s, total: 43.8 s\n",
      "Wall time: 23.9 s\n"
     ]
    }
   ],
   "source": [
    "%%time\n",
    "engine.run_all()"
   ]
  },
  {
   "cell_type": "code",
   "execution_count": 12,
   "id": "a399e7ee-f2e1-4c12-91ab-b0d07745ad75",
   "metadata": {},
   "outputs": [],
   "source": [
    "# вывод\n",
    "portfolio_res = engine.calc_results['Deposits']['portfolio'] \n",
    "agg_res = engine.calc_results['Deposits']['agg_data']\n",
    "maturity = engine.calc_results['Deposits']['maturity']\n",
    "CurrentAccounts = engine.calc_results['CurrentAccounts']\n",
    "SavingAccounts = engine.calc_results['SavingAccounts']\n",
    "volumes = engine.calc_results['Volumes']"
   ]
  },
  {
   "cell_type": "code",
   "execution_count": 13,
   "id": "5dc80698-873c-4052-96d8-74e13e221cb3",
   "metadata": {},
   "outputs": [
    {
     "data": {
      "text/html": [
       "<div>\n",
       "<style scoped>\n",
       "    .dataframe tbody tr th:only-of-type {\n",
       "        vertical-align: middle;\n",
       "    }\n",
       "\n",
       "    .dataframe tbody tr th {\n",
       "        vertical-align: top;\n",
       "    }\n",
       "\n",
       "    .dataframe thead th {\n",
       "        text-align: right;\n",
       "    }\n",
       "</style>\n",
       "<table border=\"1\" class=\"dataframe\">\n",
       "  <thead>\n",
       "    <tr style=\"text-align: right;\">\n",
       "      <th></th>\n",
       "      <th>replenishable_flg</th>\n",
       "      <th>subtraction_flg</th>\n",
       "      <th>month_maturity</th>\n",
       "      <th>target_maturity_days</th>\n",
       "      <th>balance_start</th>\n",
       "      <th>balance_gain</th>\n",
       "      <th>balance</th>\n",
       "      <th>newbusiness</th>\n",
       "      <th>contract_close</th>\n",
       "      <th>early_withdrawal</th>\n",
       "      <th>operations</th>\n",
       "      <th>interests</th>\n",
       "      <th>renewal</th>\n",
       "      <th>universal_weight_id</th>\n",
       "    </tr>\n",
       "    <tr>\n",
       "      <th>report_dt</th>\n",
       "      <th></th>\n",
       "      <th></th>\n",
       "      <th></th>\n",
       "      <th></th>\n",
       "      <th></th>\n",
       "      <th></th>\n",
       "      <th></th>\n",
       "      <th></th>\n",
       "      <th></th>\n",
       "      <th></th>\n",
       "      <th></th>\n",
       "      <th></th>\n",
       "      <th></th>\n",
       "      <th></th>\n",
       "    </tr>\n",
       "  </thead>\n",
       "  <tbody>\n",
       "    <tr>\n",
       "      <th>2023-07-31</th>\n",
       "      <td>32</td>\n",
       "      <td>27</td>\n",
       "      <td>1065</td>\n",
       "      <td>32373</td>\n",
       "      <td>3.148000e+12</td>\n",
       "      <td>-1.489729e+11</td>\n",
       "      <td>2.999027e+12</td>\n",
       "      <td>1.735497e+11</td>\n",
       "      <td>-2.428616e+11</td>\n",
       "      <td>-2.362218e+10</td>\n",
       "      <td>-7.262889e+10</td>\n",
       "      <td>1.659019e+10</td>\n",
       "      <td>4.980233e+10</td>\n",
       "      <td>304</td>\n",
       "    </tr>\n",
       "    <tr>\n",
       "      <th>2023-08-31</th>\n",
       "      <td>32</td>\n",
       "      <td>27</td>\n",
       "      <td>1065</td>\n",
       "      <td>32373</td>\n",
       "      <td>2.999027e+12</td>\n",
       "      <td>-1.335852e+11</td>\n",
       "      <td>2.865442e+12</td>\n",
       "      <td>1.667641e+11</td>\n",
       "      <td>-2.411727e+11</td>\n",
       "      <td>-2.166853e+10</td>\n",
       "      <td>-5.347260e+10</td>\n",
       "      <td>1.596451e+10</td>\n",
       "      <td>7.192395e+10</td>\n",
       "      <td>304</td>\n",
       "    </tr>\n",
       "    <tr>\n",
       "      <th>2023-09-30</th>\n",
       "      <td>34</td>\n",
       "      <td>27</td>\n",
       "      <td>1074</td>\n",
       "      <td>32643</td>\n",
       "      <td>2.865442e+12</td>\n",
       "      <td>-2.433125e+11</td>\n",
       "      <td>2.622129e+12</td>\n",
       "      <td>2.127669e+11</td>\n",
       "      <td>-4.108524e+11</td>\n",
       "      <td>-1.463416e+10</td>\n",
       "      <td>-4.503145e+10</td>\n",
       "      <td>1.443869e+10</td>\n",
       "      <td>1.044040e+11</td>\n",
       "      <td>309</td>\n",
       "    </tr>\n",
       "  </tbody>\n",
       "</table>\n",
       "</div>"
      ],
      "text/plain": [
       "            replenishable_flg  subtraction_flg  month_maturity  \\\n",
       "report_dt                                                        \n",
       "2023-07-31                 32               27            1065   \n",
       "2023-08-31                 32               27            1065   \n",
       "2023-09-30                 34               27            1074   \n",
       "\n",
       "            target_maturity_days  balance_start  balance_gain       balance  \\\n",
       "report_dt                                                                     \n",
       "2023-07-31                 32373   3.148000e+12 -1.489729e+11  2.999027e+12   \n",
       "2023-08-31                 32373   2.999027e+12 -1.335852e+11  2.865442e+12   \n",
       "2023-09-30                 32643   2.865442e+12 -2.433125e+11  2.622129e+12   \n",
       "\n",
       "             newbusiness  contract_close  early_withdrawal    operations  \\\n",
       "report_dt                                                                  \n",
       "2023-07-31  1.735497e+11   -2.428616e+11     -2.362218e+10 -7.262889e+10   \n",
       "2023-08-31  1.667641e+11   -2.411727e+11     -2.166853e+10 -5.347260e+10   \n",
       "2023-09-30  2.127669e+11   -4.108524e+11     -1.463416e+10 -4.503145e+10   \n",
       "\n",
       "               interests       renewal  universal_weight_id  \n",
       "report_dt                                                    \n",
       "2023-07-31  1.659019e+10  4.980233e+10                  304  \n",
       "2023-08-31  1.596451e+10  7.192395e+10                  304  \n",
       "2023-09-30  1.443869e+10  1.044040e+11                  309  "
      ]
     },
     "execution_count": 13,
     "metadata": {},
     "output_type": "execute_result"
    }
   ],
   "source": [
    "agg_res.groupby('report_dt').sum()"
   ]
  },
  {
   "cell_type": "code",
   "execution_count": 14,
   "id": "ee9a94d9-8b65-42d0-99ff-3367a60a5d9f",
   "metadata": {},
   "outputs": [],
   "source": [
    "# для записи и чтения экселя\n",
    "# import pip\n",
    "# pip.main(['install', 'openpyxl'])"
   ]
  },
  {
   "cell_type": "code",
   "execution_count": 15,
   "id": "a22f264a-7b47-4f3f-b6d2-bb717b61ec25",
   "metadata": {},
   "outputs": [],
   "source": [
    "# import openpyxl"
   ]
  },
  {
   "cell_type": "code",
   "execution_count": 16,
   "id": "6b0d8e9e-b0fe-41d9-93c4-4ef4b8bb41c4",
   "metadata": {},
   "outputs": [],
   "source": [
    "# with pd.ExcelWriter(\"august_res_v2.xlsx\") as writer:\n",
    "#     portfolio_res.to_excel(writer, sheet_name='portfolio_res', index=False)\n",
    "#     agg_res.to_excel(writer, sheet_name='agg_res', index=False)\n",
    "#     maturity.to_excel(writer, sheet_name='maturity', index=False)\n",
    "#     CurrentAccounts.to_excel(writer, sheet_name='CurrentAccounts', index=False)\n",
    "#     SavingAccounts.to_excel(writer, sheet_name='SavingAccounts', index=False)\n",
    "#     volumes.to_excel(writer, sheet_name='volumes', index=False)\n",
    "#     pd.DataFrame(scenario_data).to_excel(writer, sheet_name='scenario', index=False)"
   ]
  },
  {
   "cell_type": "markdown",
   "id": "3f17d4b2-fbe2-499e-b8ac-573cabef9538",
   "metadata": {},
   "source": [
    "## Считаем маржу"
   ]
  },
  {
   "cell_type": "markdown",
   "id": "7e0142e4-2702-4333-9a3c-fc0fee7dca1f",
   "metadata": {},
   "source": [
    "До момента прогноза используем данные с таблиц, далее - сценарные"
   ]
  },
  {
   "cell_type": "code",
   "execution_count": 17,
   "id": "3df544c1-a52c-4ea6-8e0b-9f1ed6eaa729",
   "metadata": {},
   "outputs": [],
   "source": [
    "import pip"
   ]
  },
  {
   "cell_type": "code",
   "execution_count": 18,
   "id": "30eb5e57-09cf-4cee-a320-582fdaf329cf",
   "metadata": {},
   "outputs": [
    {
     "name": "stderr",
     "output_type": "stream",
     "text": [
      "WARNING: pip is being invoked by an old script wrapper. This will fail in a future version of pip.\n",
      "Please see https://github.com/pypa/pip/issues/5599 for advice on fixing the underlying issue.\n",
      "To avoid this problem you can invoke Python with '-m pip' instead of running pip directly.\n"
     ]
    },
    {
     "data": {
      "text/html": [
       "<pre style=\"white-space:pre;overflow-x:auto;line-height:normal;font-family:Menlo,'DejaVu Sans Mono',consolas,'Courier New',monospace\">Looking in indexes: http://nxrm:8081/repository/pypi/simple\n",
       "</pre>\n"
      ],
      "text/plain": [
       "Looking in indexes: http://nxrm:8081/repository/pypi/simple\n"
      ]
     },
     "metadata": {},
     "output_type": "display_data"
    },
    {
     "data": {
      "text/html": [
       "<pre style=\"white-space:pre;overflow-x:auto;line-height:normal;font-family:Menlo,'DejaVu Sans Mono',consolas,'Courier New',monospace\">Requirement already satisfied: openpyxl in /tmp/envs/hmelevskoi_env/lib/python3.7/site-packages (3.1.2)\n",
       "</pre>\n"
      ],
      "text/plain": [
       "Requirement already satisfied: openpyxl in /tmp/envs/hmelevskoi_env/lib/python3.7/site-packages (3.1.2)\n"
      ]
     },
     "metadata": {},
     "output_type": "display_data"
    },
    {
     "data": {
      "text/html": [
       "<pre style=\"white-space:pre;overflow-x:auto;line-height:normal;font-family:Menlo,'DejaVu Sans Mono',consolas,'Courier New',monospace\">Requirement already satisfied: et-xmlfile in /tmp/envs/hmelevskoi_env/lib/python3.7/site-packages (from openpyxl) (1.1.0)\n",
       "</pre>\n"
      ],
      "text/plain": [
       "Requirement already satisfied: et-xmlfile in /tmp/envs/hmelevskoi_env/lib/python3.7/site-packages (from openpyxl) (1.1.0)\n"
      ]
     },
     "metadata": {},
     "output_type": "display_data"
    },
    {
     "data": {
      "text/plain": [
       "0"
      ]
     },
     "execution_count": 18,
     "metadata": {},
     "output_type": "execute_result"
    }
   ],
   "source": [
    "pip.main(['install', 'openpyxl'])"
   ]
  },
  {
   "cell_type": "markdown",
   "id": "af8818ad-99cc-43b9-8085-7a404bfbae38",
   "metadata": {},
   "source": [
    "## Импортируем расчет"
   ]
  },
  {
   "cell_type": "code",
   "execution_count": 19,
   "id": "38673489-504b-4202-b332-936d2836243e",
   "metadata": {},
   "outputs": [],
   "source": [
    "from calc_margin_func import *"
   ]
  },
  {
   "cell_type": "code",
   "execution_count": 20,
   "id": "03e169d7-e8a7-4b15-a49d-d7554a28ebce",
   "metadata": {},
   "outputs": [],
   "source": [
    "# portfolio_res = read_fact_data(4)\n",
    "# portfolio_res_final = margin_calc(portfolio_res)"
   ]
  },
  {
   "cell_type": "markdown",
   "id": "9a7c90af-da41-47e2-9b91-408c1050415a",
   "metadata": {},
   "source": [
    "### Результаты на ФАКТИЧЕСКОМ портфеле"
   ]
  },
  {
   "cell_type": "code",
   "execution_count": 21,
   "id": "ed148ee5-ff33-433a-b5fa-d27498390fd1",
   "metadata": {},
   "outputs": [],
   "source": [
    "port_res = read_fact_data(7)"
   ]
  },
  {
   "cell_type": "code",
   "execution_count": 22,
   "id": "f7c5c3d4-b30d-4e6f-8cca-713c11bf6b61",
   "metadata": {},
   "outputs": [],
   "source": [
    "port_res_final = margin_calc(port_res)"
   ]
  },
  {
   "cell_type": "code",
   "execution_count": 23,
   "id": "85cd24c6-25c8-42db-afc6-e7f2982af4b4",
   "metadata": {},
   "outputs": [
    {
     "data": {
      "text/plain": [
       "report_dt\n",
       "2023-07-31    534.573166\n",
       "Name: margin_value, dtype: float64"
      ]
     },
     "execution_count": 23,
     "metadata": {},
     "output_type": "execute_result"
    }
   ],
   "source": [
    "port_res_final.groupby('report_dt').sum()['margin_value'] / 10**6"
   ]
  },
  {
   "cell_type": "markdown",
   "id": "bee27f45-e4dc-48b8-b53a-ad65fb40e857",
   "metadata": {},
   "source": [
    "## Результаты для прогноза"
   ]
  },
  {
   "cell_type": "code",
   "execution_count": 24,
   "id": "d6b6b881-5fb7-4147-8fc1-85c3572baf80",
   "metadata": {},
   "outputs": [],
   "source": [
    "portfolio_res = portfolio_res[portfolio_res['report_dt']=='2023-07-31']"
   ]
  },
  {
   "cell_type": "code",
   "execution_count": 25,
   "id": "32796329-0a8e-4acc-b1c1-376b82471ef7",
   "metadata": {},
   "outputs": [],
   "source": [
    "portfolio_res_final =  margin_calc(portfolio_res)"
   ]
  },
  {
   "cell_type": "code",
   "execution_count": 26,
   "id": "2d694306-e030-4135-beff-62a30da8fe83",
   "metadata": {},
   "outputs": [
    {
     "data": {
      "text/plain": [
       "report_dt\n",
       "2023-07-31    483.653202\n",
       "Name: margin_value, dtype: float64"
      ]
     },
     "execution_count": 26,
     "metadata": {},
     "output_type": "execute_result"
    }
   ],
   "source": [
    "portfolio_res_final.groupby('report_dt').sum()['margin_value'] / 10**6"
   ]
  },
  {
   "cell_type": "code",
   "execution_count": null,
   "id": "81386d15-9777-4c33-9bb0-ca8d8ed12dbb",
   "metadata": {},
   "outputs": [],
   "source": []
  },
  {
   "cell_type": "code",
   "execution_count": 27,
   "id": "bb167b9a-9962-480b-93d9-25bb33c86da7",
   "metadata": {},
   "outputs": [
    {
     "name": "stdout",
     "output_type": "stream",
     "text": [
      "погрешность чпд, %:  9.53\n",
      "погрешность чпд, млн:  50.92\n"
     ]
    }
   ],
   "source": [
    "# погрешность чпд\n",
    "tmp1 = (port_res_final.groupby('report_dt').sum()['margin_value'] / 10**6).values[0]\n",
    "tmp2 = (portfolio_res_final.groupby('report_dt').sum()['margin_value'] / 10**6).values[0]\n",
    "\n",
    "print('погрешность чпд, %: ', round((abs(tmp1-tmp2)/tmp1)*100, 2))\n",
    "print('погрешность чпд, млн: ', round(abs(tmp1-tmp2), 2))"
   ]
  },
  {
   "cell_type": "markdown",
   "id": "c3e3f41c-b8a7-4b46-8ec4-0c586075428f",
   "metadata": {},
   "source": [
    "### Сравним факт и прогноз"
   ]
  },
  {
   "cell_type": "markdown",
   "id": "5426e6aa-8db6-44a6-89e6-5313d4f19c7c",
   "metadata": {},
   "source": [
    "Маржа считается:  \n",
    "* FTP\n",
    "    * дата открытия\n",
    "* Weighted_rate\n",
    "* баланс\n",
    "    * в т.ч. по поколениям\n",
    "\n",
    "\n",
    "ps - возможно где-то не сходится по процентам/едницам"
   ]
  },
  {
   "cell_type": "markdown",
   "id": "5bc90e02-87ed-4e0c-8a3d-c89c3a04d731",
   "metadata": {},
   "source": [
    "### Общие параметры"
   ]
  },
  {
   "cell_type": "markdown",
   "id": "a7630f3a-6263-4179-8ee7-72ba4c0cdd6a",
   "metadata": {},
   "source": [
    "#### Баланс"
   ]
  },
  {
   "cell_type": "code",
   "execution_count": 28,
   "id": "04dfd1af-9759-4a49-bbf7-f2c939b5fc4e",
   "metadata": {},
   "outputs": [
    {
     "data": {
      "text/plain": [
       "(3150.01735808995, 2999.026997014009)"
      ]
     },
     "execution_count": 28,
     "metadata": {},
     "output_type": "execute_result"
    }
   ],
   "source": [
    "port_res['balance'].sum() / 10**9, portfolio_res['balance'].sum() / 10**9"
   ]
  },
  {
   "cell_type": "code",
   "execution_count": 29,
   "id": "c26518ba-22c7-4f65-8bf2-c348ee0a7d36",
   "metadata": {},
   "outputs": [
    {
     "name": "stdout",
     "output_type": "stream",
     "text": [
      "погрешность портфеля, %:  4.79\n",
      "погрешность портфеля, млрд:  150.99\n"
     ]
    }
   ],
   "source": [
    "# погрешность прогноза портфеля\n",
    "tmp3 = (port_res['balance'].sum() / 10**9)\n",
    "tmp4 = (portfolio_res['balance'].sum() / 10**9)\n",
    "\n",
    "print('погрешность портфеля, %: ', round((abs(tmp3-tmp4)/tmp3)*100, 2))\n",
    "print('погрешность портфеля, млрд: ', round(abs(tmp3-tmp4), 2))"
   ]
  },
  {
   "cell_type": "markdown",
   "id": "56ef5a98-91ed-4143-ba56-3ee00d88147f",
   "metadata": {},
   "source": [
    "### weight_rate"
   ]
  },
  {
   "cell_type": "code",
   "execution_count": 30,
   "id": "4fd23228-ed5e-442f-99b6-864c67e0e50e",
   "metadata": {},
   "outputs": [
    {
     "data": {
      "text/plain": [
       "7.29388958931798"
      ]
     },
     "execution_count": 30,
     "metadata": {},
     "output_type": "execute_result"
    }
   ],
   "source": [
    "(port_res['weight_rate'] * port_res['balance']).sum() / port_res['balance'].sum()"
   ]
  },
  {
   "cell_type": "code",
   "execution_count": 31,
   "id": "371e742f-8c40-4cd1-81b4-d9c502d72fc9",
   "metadata": {},
   "outputs": [
    {
     "data": {
      "text/plain": [
       "7.299215555042319"
      ]
     },
     "execution_count": 31,
     "metadata": {},
     "output_type": "execute_result"
    }
   ],
   "source": [
    "(portfolio_res['weight_rate'] * portfolio_res['balance']).sum() / portfolio_res['balance'].sum()"
   ]
  },
  {
   "cell_type": "markdown",
   "id": "9e7414f5-0e0f-4eec-bfc6-7dc6525463c7",
   "metadata": {},
   "source": [
    "### Дополнить:\n",
    "\n",
    "* дата прогноза как аргумент для расчета ftp ставок и спредов - нужно чтобы ограничить джойн, а после даты прогноза использовать сценарные ставки\n",
    "* сценарий брать - чтобы корректно джойнить\n",
    "* фтп ставки джойнить в портфеле - оттуда и брать средневшвешанные на момент открытия  \n",
    "* спреды научиться брать с сайта для старых ретро-данных "
   ]
  },
  {
   "cell_type": "markdown",
   "id": "a6d2fe32-2e11-4dae-8188-8869681812e5",
   "metadata": {},
   "source": [
    "__Замечание:__ возможно часть не билось потому что фтп бралось с данных а не со сценария "
   ]
  },
  {
   "cell_type": "code",
   "execution_count": null,
   "id": "290453d7-7dcc-4a9b-86f1-0f21ed51cf26",
   "metadata": {},
   "outputs": [],
   "source": []
  },
  {
   "cell_type": "code",
   "execution_count": null,
   "id": "21666614-066d-49b9-b387-e1bd196e00d5",
   "metadata": {},
   "outputs": [],
   "source": []
  },
  {
   "cell_type": "code",
   "execution_count": null,
   "id": "3c90e083-5b7b-483e-a8b5-0938af614fcc",
   "metadata": {},
   "outputs": [],
   "source": []
  },
  {
   "cell_type": "code",
   "execution_count": null,
   "id": "ec6c47bb-8ed2-46fc-b722-ac776861d666",
   "metadata": {},
   "outputs": [],
   "source": []
  }
 ],
 "metadata": {
  "kernelspec": {
   "display_name": "hmelevskoi_env",
   "language": "python",
   "name": "hmelevskoi_env"
  },
  "language_info": {
   "codemirror_mode": {
    "name": "ipython",
    "version": 3
   },
   "file_extension": ".py",
   "mimetype": "text/x-python",
   "name": "python",
   "nbconvert_exporter": "python",
   "pygments_lexer": "ipython3",
   "version": "3.7.16"
  }
 },
 "nbformat": 4,
 "nbformat_minor": 5
}
