{
 "cells": [
  {
   "cell_type": "code",
   "execution_count": 1,
   "id": "a64ec341-9ec8-4ba2-b1c9-a903ffee2b5b",
   "metadata": {},
   "outputs": [],
   "source": [
    "#!pip install scikit-learn --force\n",
    "#!pip install catboost"
   ]
  },
  {
   "cell_type": "code",
   "execution_count": 2,
   "id": "532f9d68-b0fc-4a7b-b166-b60981a74909",
   "metadata": {},
   "outputs": [],
   "source": [
    "import sys\n",
    "sys.path.append('../..')\n",
    "import pandas as pd\n",
    "import numpy as np\n",
    "from pandas.tseries.offsets import MonthEnd\n",
    "from datetime import datetime\n",
    "import os\n",
    "import importlib\n",
    "\n",
    "pd.set_option('display.max.columns', 300)\n",
    "\n",
    "from core.calculator.storage import ModelDB\n",
    "from core.calculator.core import ForecastConfig\n",
    "from core.calculator.core import TrainingManager\n",
    "from core.calculator.core import ForecastConfig\n",
    "from core.calculator.core import ForecastEngine\n",
    "\n",
    "from core.calculator.deposits import DepositsCalculationType\n",
    "from core.calculator.deposits import DepositIterativeCalculator\n",
    "\n",
    "from core.definitions import *\n",
    "from core.project_update import load_portfolio\n",
    "\n",
    "from core.models import DepositModels\n",
    "from warnings import filterwarnings\n",
    "filterwarnings('ignore')"
   ]
  },
  {
   "cell_type": "code",
   "execution_count": 3,
   "id": "355543ef-240d-4e09-8d1f-f377ced1575e",
   "metadata": {},
   "outputs": [],
   "source": [
    "# если хотим обучить модели\n",
    "\n",
    "from core.models.utils import run_spark_session\n",
    "#spark = run_spark_session('check_calc')\n",
    "\n",
    "spark = None #если без обучения"
   ]
  },
  {
   "cell_type": "code",
   "execution_count": 4,
   "id": "a399e7ee-f2e1-4c12-91ab-b0d07745ad75",
   "metadata": {},
   "outputs": [],
   "source": [
    "# Депозиты\n",
    "# portfolio_res = engine.calc_results['Deposits']['portfolio'] \n",
    "# agg_res = engine.calc_results['Deposits']['agg_data']"
   ]
  },
  {
   "cell_type": "code",
   "execution_count": 5,
   "id": "f0ad248d-5a82-4ca1-b8f8-3269c8b77a3d",
   "metadata": {},
   "outputs": [],
   "source": [
    "# engine.calc_results['Deposits']['portfolio'].head()"
   ]
  },
  {
   "cell_type": "code",
   "execution_count": 6,
   "id": "9db2a3aa-dc17-4b9a-99b7-5387ad983717",
   "metadata": {},
   "outputs": [],
   "source": [
    "# engine.calc_results['Deposits']['agg_data'].head()"
   ]
  },
  {
   "cell_type": "code",
   "execution_count": 7,
   "id": "1e005809-73db-4dbf-b434-4f02cb47bcba",
   "metadata": {},
   "outputs": [],
   "source": [
    "# engine.calc_results['SavingAccounts'] # накопительные счета"
   ]
  },
  {
   "cell_type": "code",
   "execution_count": null,
   "id": "e4dad38d-ac87-45c5-9d11-4dcb81284ca2",
   "metadata": {},
   "outputs": [],
   "source": []
  },
  {
   "cell_type": "code",
   "execution_count": null,
   "id": "f55a5074-eff0-4526-b4be-fd82f50aaa73",
   "metadata": {},
   "outputs": [],
   "source": []
  },
  {
   "cell_type": "markdown",
   "id": "03afbdb4-4a01-4c24-8172-b8d3dec2a3d0",
   "metadata": {},
   "source": [
    "## Калькулятор маржи"
   ]
  },
  {
   "cell_type": "markdown",
   "id": "72be3b50-06d0-4ee2-b9e3-515a4233b5b4",
   "metadata": {},
   "source": [
    "При расчете идет усреднение за большой промежуток времени (1 год и 3 года). В первом приближении предполагаем что значения по ставки сильно не меняются и основное для нас - правильный прогноз, от него будем считать все необходимые значения с умножением на трансфертную ставку"
   ]
  },
  {
   "cell_type": "code",
   "execution_count": 8,
   "id": "fd2f73da-ccdb-46bc-84ab-d1ae5599ae2a",
   "metadata": {},
   "outputs": [],
   "source": [
    "ca_fact = pd.read_csv('Current_accounts.csv')"
   ]
  },
  {
   "cell_type": "code",
   "execution_count": 9,
   "id": "59f650dc-fb82-43c4-a4c2-593a9b952c7c",
   "metadata": {},
   "outputs": [
    {
     "data": {
      "text/html": [
       "<div>\n",
       "<style scoped>\n",
       "    .dataframe tbody tr th:only-of-type {\n",
       "        vertical-align: middle;\n",
       "    }\n",
       "\n",
       "    .dataframe tbody tr th {\n",
       "        vertical-align: top;\n",
       "    }\n",
       "\n",
       "    .dataframe thead th {\n",
       "        text-align: right;\n",
       "    }\n",
       "</style>\n",
       "<table border=\"1\" class=\"dataframe\">\n",
       "  <thead>\n",
       "    <tr style=\"text-align: right;\">\n",
       "      <th></th>\n",
       "      <th>report_dt</th>\n",
       "      <th>balance</th>\n",
       "    </tr>\n",
       "  </thead>\n",
       "  <tbody>\n",
       "    <tr>\n",
       "      <th>0</th>\n",
       "      <td>2023-08-31 00:00:00</td>\n",
       "      <td>7.334889e+11</td>\n",
       "    </tr>\n",
       "    <tr>\n",
       "      <th>1</th>\n",
       "      <td>2023-08-30 00:00:00</td>\n",
       "      <td>7.230378e+11</td>\n",
       "    </tr>\n",
       "    <tr>\n",
       "      <th>2</th>\n",
       "      <td>2023-08-29 00:00:00</td>\n",
       "      <td>7.177987e+11</td>\n",
       "    </tr>\n",
       "    <tr>\n",
       "      <th>3</th>\n",
       "      <td>2023-08-28 00:00:00</td>\n",
       "      <td>7.122633e+11</td>\n",
       "    </tr>\n",
       "    <tr>\n",
       "      <th>4</th>\n",
       "      <td>2023-08-27 00:00:00</td>\n",
       "      <td>6.979975e+11</td>\n",
       "    </tr>\n",
       "  </tbody>\n",
       "</table>\n",
       "</div>"
      ],
      "text/plain": [
       "             report_dt       balance\n",
       "0  2023-08-31 00:00:00  7.334889e+11\n",
       "1  2023-08-30 00:00:00  7.230378e+11\n",
       "2  2023-08-29 00:00:00  7.177987e+11\n",
       "3  2023-08-28 00:00:00  7.122633e+11\n",
       "4  2023-08-27 00:00:00  6.979975e+11"
      ]
     },
     "execution_count": 9,
     "metadata": {},
     "output_type": "execute_result"
    }
   ],
   "source": [
    "ca_fact.head()"
   ]
  },
  {
   "cell_type": "code",
   "execution_count": 10,
   "id": "470d1d13-3a90-4d63-8731-d605b886cad9",
   "metadata": {},
   "outputs": [],
   "source": [
    "ca_agg = pd.read_csv('ca_agg_balance_v2.csv')"
   ]
  },
  {
   "cell_type": "code",
   "execution_count": 11,
   "id": "0fb1f84a-b906-4727-b277-1c1be5f544a5",
   "metadata": {},
   "outputs": [],
   "source": [
    "ca_agg = ca_agg[(ca_agg['report_dt']<'2023-08-31')&(ca_agg['report_dt']>='2023-01-01')]"
   ]
  },
  {
   "cell_type": "code",
   "execution_count": 12,
   "id": "7d1d5217-0b70-4a34-9c59-efbf6bcc8986",
   "metadata": {},
   "outputs": [
    {
     "data": {
      "text/html": [
       "<div>\n",
       "<style scoped>\n",
       "    .dataframe tbody tr th:only-of-type {\n",
       "        vertical-align: middle;\n",
       "    }\n",
       "\n",
       "    .dataframe tbody tr th {\n",
       "        vertical-align: top;\n",
       "    }\n",
       "\n",
       "    .dataframe thead th {\n",
       "        text-align: right;\n",
       "    }\n",
       "</style>\n",
       "<table border=\"1\" class=\"dataframe\">\n",
       "  <thead>\n",
       "    <tr style=\"text-align: right;\">\n",
       "      <th></th>\n",
       "      <th>report_dt</th>\n",
       "      <th>balance_eur_[general]</th>\n",
       "      <th>balance_oth_[general]</th>\n",
       "      <th>balance_rur_[general]</th>\n",
       "      <th>balance_usd_[general]</th>\n",
       "      <th>balance_rur_[vip]</th>\n",
       "      <th>balance_rur_[priv]</th>\n",
       "      <th>balance_rur_[mass]</th>\n",
       "      <th>rate_ruonia</th>\n",
       "      <th>vtb_ftp_rate_[90d]</th>\n",
       "      <th>vtb_ftp_rate_[730d]</th>\n",
       "    </tr>\n",
       "  </thead>\n",
       "  <tbody>\n",
       "    <tr>\n",
       "      <th>1</th>\n",
       "      <td>2023-07-31 00:00:00</td>\n",
       "      <td>6.054338e+08</td>\n",
       "      <td>7.213652e+09</td>\n",
       "      <td>6.794145e+11</td>\n",
       "      <td>1.215198e+09</td>\n",
       "      <td>3.729472e+10</td>\n",
       "      <td>1.410197e+11</td>\n",
       "      <td>5.011001e+11</td>\n",
       "      <td>7.830476</td>\n",
       "      <td>8.407143</td>\n",
       "      <td>9.278571</td>\n",
       "    </tr>\n",
       "    <tr>\n",
       "      <th>2</th>\n",
       "      <td>2023-06-30 00:00:00</td>\n",
       "      <td>6.377248e+08</td>\n",
       "      <td>5.303443e+09</td>\n",
       "      <td>6.426842e+11</td>\n",
       "      <td>1.256810e+09</td>\n",
       "      <td>3.331914e+10</td>\n",
       "      <td>1.367460e+11</td>\n",
       "      <td>4.726191e+11</td>\n",
       "      <td>7.292857</td>\n",
       "      <td>8.100000</td>\n",
       "      <td>9.150000</td>\n",
       "    </tr>\n",
       "    <tr>\n",
       "      <th>3</th>\n",
       "      <td>2023-05-31 00:00:00</td>\n",
       "      <td>6.555641e+08</td>\n",
       "      <td>5.233935e+09</td>\n",
       "      <td>6.104075e+11</td>\n",
       "      <td>1.281959e+09</td>\n",
       "      <td>2.917961e+10</td>\n",
       "      <td>1.218032e+11</td>\n",
       "      <td>4.594247e+11</td>\n",
       "      <td>7.211500</td>\n",
       "      <td>8.050000</td>\n",
       "      <td>9.150000</td>\n",
       "    </tr>\n",
       "    <tr>\n",
       "      <th>4</th>\n",
       "      <td>2023-04-30 00:00:00</td>\n",
       "      <td>6.782228e+08</td>\n",
       "      <td>4.935703e+09</td>\n",
       "      <td>5.880988e+11</td>\n",
       "      <td>1.317959e+09</td>\n",
       "      <td>2.824127e+10</td>\n",
       "      <td>1.185661e+11</td>\n",
       "      <td>4.412914e+11</td>\n",
       "      <td>7.149500</td>\n",
       "      <td>8.050000</td>\n",
       "      <td>9.150000</td>\n",
       "    </tr>\n",
       "    <tr>\n",
       "      <th>5</th>\n",
       "      <td>2023-03-31 00:00:00</td>\n",
       "      <td>7.042712e+08</td>\n",
       "      <td>5.305270e+09</td>\n",
       "      <td>5.667109e+11</td>\n",
       "      <td>1.374661e+09</td>\n",
       "      <td>2.847208e+10</td>\n",
       "      <td>1.145350e+11</td>\n",
       "      <td>4.237039e+11</td>\n",
       "      <td>7.339091</td>\n",
       "      <td>8.050000</td>\n",
       "      <td>9.150000</td>\n",
       "    </tr>\n",
       "    <tr>\n",
       "      <th>6</th>\n",
       "      <td>2023-02-28 00:00:00</td>\n",
       "      <td>7.247016e+08</td>\n",
       "      <td>3.493589e+09</td>\n",
       "      <td>5.415421e+11</td>\n",
       "      <td>1.390496e+09</td>\n",
       "      <td>2.555346e+10</td>\n",
       "      <td>1.095706e+11</td>\n",
       "      <td>4.064180e+11</td>\n",
       "      <td>7.135000</td>\n",
       "      <td>8.005556</td>\n",
       "      <td>9.150000</td>\n",
       "    </tr>\n",
       "    <tr>\n",
       "      <th>7</th>\n",
       "      <td>2023-01-31 00:00:00</td>\n",
       "      <td>7.434590e+08</td>\n",
       "      <td>3.134237e+09</td>\n",
       "      <td>5.529541e+11</td>\n",
       "      <td>1.390937e+09</td>\n",
       "      <td>2.626417e+10</td>\n",
       "      <td>1.127686e+11</td>\n",
       "      <td>4.139213e+11</td>\n",
       "      <td>7.000000</td>\n",
       "      <td>8.000000</td>\n",
       "      <td>9.150000</td>\n",
       "    </tr>\n",
       "  </tbody>\n",
       "</table>\n",
       "</div>"
      ],
      "text/plain": [
       "             report_dt  balance_eur_[general]  balance_oth_[general]  \\\n",
       "1  2023-07-31 00:00:00           6.054338e+08           7.213652e+09   \n",
       "2  2023-06-30 00:00:00           6.377248e+08           5.303443e+09   \n",
       "3  2023-05-31 00:00:00           6.555641e+08           5.233935e+09   \n",
       "4  2023-04-30 00:00:00           6.782228e+08           4.935703e+09   \n",
       "5  2023-03-31 00:00:00           7.042712e+08           5.305270e+09   \n",
       "6  2023-02-28 00:00:00           7.247016e+08           3.493589e+09   \n",
       "7  2023-01-31 00:00:00           7.434590e+08           3.134237e+09   \n",
       "\n",
       "   balance_rur_[general]  balance_usd_[general]  balance_rur_[vip]  \\\n",
       "1           6.794145e+11           1.215198e+09       3.729472e+10   \n",
       "2           6.426842e+11           1.256810e+09       3.331914e+10   \n",
       "3           6.104075e+11           1.281959e+09       2.917961e+10   \n",
       "4           5.880988e+11           1.317959e+09       2.824127e+10   \n",
       "5           5.667109e+11           1.374661e+09       2.847208e+10   \n",
       "6           5.415421e+11           1.390496e+09       2.555346e+10   \n",
       "7           5.529541e+11           1.390937e+09       2.626417e+10   \n",
       "\n",
       "   balance_rur_[priv]  balance_rur_[mass]  rate_ruonia  vtb_ftp_rate_[90d]  \\\n",
       "1        1.410197e+11        5.011001e+11     7.830476            8.407143   \n",
       "2        1.367460e+11        4.726191e+11     7.292857            8.100000   \n",
       "3        1.218032e+11        4.594247e+11     7.211500            8.050000   \n",
       "4        1.185661e+11        4.412914e+11     7.149500            8.050000   \n",
       "5        1.145350e+11        4.237039e+11     7.339091            8.050000   \n",
       "6        1.095706e+11        4.064180e+11     7.135000            8.005556   \n",
       "7        1.127686e+11        4.139213e+11     7.000000            8.000000   \n",
       "\n",
       "   vtb_ftp_rate_[730d]  \n",
       "1             9.278571  \n",
       "2             9.150000  \n",
       "3             9.150000  \n",
       "4             9.150000  \n",
       "5             9.150000  \n",
       "6             9.150000  \n",
       "7             9.150000  "
      ]
     },
     "execution_count": 12,
     "metadata": {},
     "output_type": "execute_result"
    }
   ],
   "source": [
    "ca_agg.head(10)"
   ]
  },
  {
   "cell_type": "code",
   "execution_count": 13,
   "id": "a0e798a8-d2ff-452b-80ab-82d873947aa1",
   "metadata": {},
   "outputs": [],
   "source": [
    "import pip"
   ]
  },
  {
   "cell_type": "code",
   "execution_count": 14,
   "id": "6e06e844-b683-4233-a477-81b932ef40dc",
   "metadata": {},
   "outputs": [],
   "source": [
    "#pip.main(['install', 'openpyxl'])"
   ]
  },
  {
   "cell_type": "code",
   "execution_count": 15,
   "id": "e8af62fd-db5e-4a4e-9b8e-26765979b9de",
   "metadata": {},
   "outputs": [],
   "source": [
    "#ca_agg.to_excel('ca_agg_balance_v2.xlsx')"
   ]
  },
  {
   "cell_type": "code",
   "execution_count": 16,
   "id": "0d8149f8-2476-46a7-9eb7-96b96c19a392",
   "metadata": {},
   "outputs": [],
   "source": [
    "# вбиваем с конца\n",
    "\n",
    "rate = pd.Series([8.5, 8.23, 8.18, 8.18, 8.12, 8.12, 8.12])\n",
    "SSV = 0.48\n",
    "FOR =  pd.Series([4.5, 4.5, 4, 4, 4, 3, 3])\n",
    "\n",
    "#weighted_rate =  pd.Series([0.49, 0.48, 0.5, 0.49, 0.51, 0.48, 0.48])\n",
    "\n",
    "weighted_rate = 0.49"
   ]
  },
  {
   "cell_type": "code",
   "execution_count": 17,
   "id": "e2feb77b-9459-40ad-ab93-ac7842734704",
   "metadata": {},
   "outputs": [],
   "source": [
    "ftp = rate * (1- FOR / 100) - SSV - weighted_rate"
   ]
  },
  {
   "cell_type": "code",
   "execution_count": 18,
   "id": "d4b94eab-32d9-4152-85fa-48922bb91daa",
   "metadata": {},
   "outputs": [
    {
     "data": {
      "text/plain": [
       "0    7.14750\n",
       "1    6.88965\n",
       "2    6.88280\n",
       "3    6.88280\n",
       "4    6.82520\n",
       "5    6.90640\n",
       "6    6.90640\n",
       "dtype: float64"
      ]
     },
     "execution_count": 18,
     "metadata": {},
     "output_type": "execute_result"
    }
   ],
   "source": [
    "ftp"
   ]
  },
  {
   "cell_type": "code",
   "execution_count": 19,
   "id": "0170b0c6-8350-40cf-a871-d6bc852d7340",
   "metadata": {},
   "outputs": [],
   "source": [
    "# для помесячной истории\n",
    "\n",
    "\n",
    "ftp_month = ((1+ftp/100)**(1/12))"
   ]
  },
  {
   "cell_type": "code",
   "execution_count": 20,
   "id": "bb72e1cd-0a9a-4a4d-96f0-50d4cfad3f31",
   "metadata": {},
   "outputs": [],
   "source": [
    "ftp_day = ((ftp/100)*(1/365))"
   ]
  },
  {
   "cell_type": "code",
   "execution_count": 21,
   "id": "34ed03a5-1abf-42c1-a22f-a57df216176d",
   "metadata": {},
   "outputs": [
    {
     "data": {
      "text/plain": [
       "0    0.000196\n",
       "1    0.000189\n",
       "2    0.000189\n",
       "3    0.000189\n",
       "4    0.000187\n",
       "5    0.000189\n",
       "6    0.000189\n",
       "dtype: float64"
      ]
     },
     "execution_count": 21,
     "metadata": {},
     "output_type": "execute_result"
    }
   ],
   "source": [
    "ftp_day"
   ]
  },
  {
   "cell_type": "code",
   "execution_count": 22,
   "id": "bdf36d5b-2e7e-4154-a266-6888db4a52d1",
   "metadata": {},
   "outputs": [],
   "source": [
    "ca_agg['perc_general'] = ca_agg['balance_rur_[general]'] * (ftp_month-1)\n",
    "ca_agg['perc_vip'] = ca_agg['balance_rur_[vip]'] * (ftp_month-1)\n",
    "ca_agg['perc_priv'] = ca_agg['balance_rur_[priv]'] * (ftp_month-1)\n",
    "ca_agg['perc_mass'] = ca_agg['balance_rur_[mass]'] * (ftp_month-1)"
   ]
  },
  {
   "cell_type": "code",
   "execution_count": 23,
   "id": "b7cdf7fe-b912-48d2-b27a-3bebfe5f4977",
   "metadata": {},
   "outputs": [
    {
     "data": {
      "text/plain": [
       "'31'"
      ]
     },
     "execution_count": 23,
     "metadata": {},
     "output_type": "execute_result"
    }
   ],
   "source": [
    "ca_agg['report_dt'].iloc[0][8:10]"
   ]
  },
  {
   "cell_type": "code",
   "execution_count": 24,
   "id": "0a85d78a-50ce-466d-8921-f737e8deed8e",
   "metadata": {},
   "outputs": [
    {
     "data": {
      "text/plain": [
       "0    0.000196\n",
       "1    0.000189\n",
       "2    0.000189\n",
       "3    0.000189\n",
       "4    0.000187\n",
       "5    0.000189\n",
       "6    0.000189\n",
       "dtype: float64"
      ]
     },
     "execution_count": 24,
     "metadata": {},
     "output_type": "execute_result"
    }
   ],
   "source": [
    "ftp_day"
   ]
  },
  {
   "cell_type": "code",
   "execution_count": 25,
   "id": "758c5fae-a373-4b37-b5c0-3f010f466a85",
   "metadata": {},
   "outputs": [
    {
     "data": {
      "text/plain": [
       "1    31\n",
       "2    30\n",
       "3    31\n",
       "4    30\n",
       "5    31\n",
       "6    28\n",
       "7    31\n",
       "Name: report_dt, dtype: int64"
      ]
     },
     "execution_count": 25,
     "metadata": {},
     "output_type": "execute_result"
    }
   ],
   "source": [
    "ca_agg['report_dt'].apply(lambda x: int(x[8:10]))"
   ]
  },
  {
   "cell_type": "code",
   "execution_count": 26,
   "id": "f0c43eff-6e5d-41f3-9132-67bd641ee7fb",
   "metadata": {},
   "outputs": [
    {
     "data": {
      "text/plain": [
       "array([0.00607048, 0.00566273, 0.00584567, 0.0056571 , 0.00579675,\n",
       "       0.00529806, 0.00586571])"
      ]
     },
     "execution_count": 26,
     "metadata": {},
     "output_type": "execute_result"
    }
   ],
   "source": [
    "(((ftp_day)*(ca_agg['report_dt'].apply(lambda x: int(x[8:10]))).values)).values"
   ]
  },
  {
   "cell_type": "code",
   "execution_count": 27,
   "id": "6aaedbb3-4a49-403b-9a4f-ce8ee91a4d15",
   "metadata": {},
   "outputs": [
    {
     "data": {
      "text/plain": [
       "0   -0.999804\n",
       "1   -0.999811\n",
       "2   -0.999811\n",
       "3   -0.999811\n",
       "4   -0.999813\n",
       "5   -0.999811\n",
       "6   -0.999811\n",
       "dtype: float64"
      ]
     },
     "execution_count": 27,
     "metadata": {},
     "output_type": "execute_result"
    }
   ],
   "source": [
    "ftp_day-1"
   ]
  },
  {
   "cell_type": "code",
   "execution_count": 28,
   "id": "f061dac5-95a3-4bd1-85f8-645c66534c3a",
   "metadata": {},
   "outputs": [
    {
     "data": {
      "text/plain": [
       "array([31, 30, 31, 30, 31, 28, 31])"
      ]
     },
     "execution_count": 28,
     "metadata": {},
     "output_type": "execute_result"
    }
   ],
   "source": [
    "ca_agg['report_dt'].apply(lambda x: int(x[8:10])).values"
   ]
  },
  {
   "cell_type": "code",
   "execution_count": 29,
   "id": "c40873df-0572-454d-9728-e57863f66fde",
   "metadata": {},
   "outputs": [],
   "source": [
    "ca_agg['perc_general'] = ca_agg['balance_rur_[general]'] * (((ftp_day)*(ca_agg['report_dt'].apply(lambda x: int(x[8:10]))).values)).values\n",
    "ca_agg['perc_vip'] = ca_agg['balance_rur_[vip]'] * (((ftp_day)*(ca_agg['report_dt'].apply(lambda x: int(x[8:10]))).values)).values\n",
    "ca_agg['perc_priv'] = ca_agg['balance_rur_[priv]'] * (((ftp_day)*(ca_agg['report_dt'].apply(lambda x: int(x[8:10]))).values)).values\n",
    "ca_agg['perc_mass'] = ca_agg['balance_rur_[mass]'] * (((ftp_day)*(ca_agg['report_dt'].apply(lambda x: int(x[8:10]))).values)).values"
   ]
  },
  {
   "cell_type": "code",
   "execution_count": 30,
   "id": "1712780f-ba20-4658-9d27-6b81fc6bdbb8",
   "metadata": {},
   "outputs": [
    {
     "data": {
      "text/plain": [
       "0    0.005770\n",
       "1    0.005568\n",
       "2    0.005562\n",
       "3    0.005562\n",
       "4    0.005517\n",
       "5    0.005581\n",
       "6    0.005581\n",
       "dtype: float64"
      ]
     },
     "execution_count": 30,
     "metadata": {},
     "output_type": "execute_result"
    }
   ],
   "source": [
    "ftp_month - 1"
   ]
  },
  {
   "cell_type": "code",
   "execution_count": 31,
   "id": "76708aba-8865-433f-a708-c940c6a49b61",
   "metadata": {},
   "outputs": [
    {
     "data": {
      "text/html": [
       "<div>\n",
       "<style scoped>\n",
       "    .dataframe tbody tr th:only-of-type {\n",
       "        vertical-align: middle;\n",
       "    }\n",
       "\n",
       "    .dataframe tbody tr th {\n",
       "        vertical-align: top;\n",
       "    }\n",
       "\n",
       "    .dataframe thead th {\n",
       "        text-align: right;\n",
       "    }\n",
       "</style>\n",
       "<table border=\"1\" class=\"dataframe\">\n",
       "  <thead>\n",
       "    <tr style=\"text-align: right;\">\n",
       "      <th></th>\n",
       "      <th>7</th>\n",
       "      <th>6</th>\n",
       "      <th>5</th>\n",
       "      <th>4</th>\n",
       "      <th>3</th>\n",
       "      <th>2</th>\n",
       "      <th>1</th>\n",
       "    </tr>\n",
       "  </thead>\n",
       "  <tbody>\n",
       "    <tr>\n",
       "      <th>report_dt</th>\n",
       "      <td>2023-01-31 00:00:00</td>\n",
       "      <td>2023-02-28 00:00:00</td>\n",
       "      <td>2023-03-31 00:00:00</td>\n",
       "      <td>2023-04-30 00:00:00</td>\n",
       "      <td>2023-05-31 00:00:00</td>\n",
       "      <td>2023-06-30 00:00:00</td>\n",
       "      <td>2023-07-31 00:00:00</td>\n",
       "    </tr>\n",
       "    <tr>\n",
       "      <th>perc_general</th>\n",
       "      <td>3243468254.741209</td>\n",
       "      <td>2869122448.003284</td>\n",
       "      <td>3285078800.273827</td>\n",
       "      <td>3326931065.278562</td>\n",
       "      <td>3568238301.551342</td>\n",
       "      <td>3639344739.293152</td>\n",
       "      <td>4124371636.512539</td>\n",
       "    </tr>\n",
       "    <tr>\n",
       "      <th>perc_vip</th>\n",
       "      <td>154057982.104066</td>\n",
       "      <td>135383779.562126</td>\n",
       "      <td>165045399.362485</td>\n",
       "      <td>159763582.438875</td>\n",
       "      <td>170574254.516088</td>\n",
       "      <td>188677135.90854</td>\n",
       "      <td>226396826.315981</td>\n",
       "    </tr>\n",
       "    <tr>\n",
       "      <th>perc_priv</th>\n",
       "      <td>661467873.870684</td>\n",
       "      <td>580511557.148642</td>\n",
       "      <td>663930080.650274</td>\n",
       "      <td>670739956.078713</td>\n",
       "      <td>712020953.858372</td>\n",
       "      <td>774355194.917042</td>\n",
       "      <td>856057119.631611</td>\n",
       "    </tr>\n",
       "    <tr>\n",
       "      <th>perc_mass</th>\n",
       "      <td>2427942398.766458</td>\n",
       "      <td>2153227111.292517</td>\n",
       "      <td>2456103320.261068</td>\n",
       "      <td>2496427526.760973</td>\n",
       "      <td>2685643093.176882</td>\n",
       "      <td>2676312408.467571</td>\n",
       "      <td>3041917690.564947</td>\n",
       "    </tr>\n",
       "  </tbody>\n",
       "</table>\n",
       "</div>"
      ],
      "text/plain": [
       "                                7                    6                    5  \\\n",
       "report_dt     2023-01-31 00:00:00  2023-02-28 00:00:00  2023-03-31 00:00:00   \n",
       "perc_general    3243468254.741209    2869122448.003284    3285078800.273827   \n",
       "perc_vip         154057982.104066     135383779.562126     165045399.362485   \n",
       "perc_priv        661467873.870684     580511557.148642     663930080.650274   \n",
       "perc_mass       2427942398.766458    2153227111.292517    2456103320.261068   \n",
       "\n",
       "                                4                    3                    2  \\\n",
       "report_dt     2023-04-30 00:00:00  2023-05-31 00:00:00  2023-06-30 00:00:00   \n",
       "perc_general    3326931065.278562    3568238301.551342    3639344739.293152   \n",
       "perc_vip         159763582.438875     170574254.516088      188677135.90854   \n",
       "perc_priv        670739956.078713     712020953.858372     774355194.917042   \n",
       "perc_mass       2496427526.760973    2685643093.176882    2676312408.467571   \n",
       "\n",
       "                                1  \n",
       "report_dt     2023-07-31 00:00:00  \n",
       "perc_general    4124371636.512539  \n",
       "perc_vip         226396826.315981  \n",
       "perc_priv        856057119.631611  \n",
       "perc_mass       3041917690.564947  "
      ]
     },
     "execution_count": 31,
     "metadata": {},
     "output_type": "execute_result"
    }
   ],
   "source": [
    "ca_agg.sort_values(by='report_dt')[['report_dt', 'perc_general', 'perc_vip', 'perc_priv', 'perc_mass']].T"
   ]
  },
  {
   "cell_type": "code",
   "execution_count": 36,
   "id": "c991d710-abc0-48ed-8557-e51e6e5d420e",
   "metadata": {},
   "outputs": [],
   "source": [
    "#ca_agg.sort_values(by='report_dt')[['report_dt', 'perc_general', 'perc_vip', 'perc_priv', 'perc_mass']].T.to_excel('ca_agg_res_v4.xlsx')"
   ]
  },
  {
   "cell_type": "code",
   "execution_count": 33,
   "id": "3042c142-65ce-48b4-beeb-1edca23f8b1a",
   "metadata": {},
   "outputs": [],
   "source": [
    "# ca_agg.to_excel('ca_agg_res.xlsx')"
   ]
  },
  {
   "cell_type": "markdown",
   "id": "630188ac-67b8-47fb-a84d-53910d25c2a2",
   "metadata": {},
   "source": [
    "Расчет идет от стабильной или волатильной части?"
   ]
  },
  {
   "cell_type": "code",
   "execution_count": 34,
   "id": "659e29b6-a1fe-43c0-93a3-e2d4e56039f0",
   "metadata": {},
   "outputs": [],
   "source": [
    "#ca_agg['perc_margin'] = ca_agg['perc'] / ca_agg['balance_rur_[general]'] * 365 / 30.3 * 100"
   ]
  },
  {
   "cell_type": "code",
   "execution_count": 35,
   "id": "2fbd98a1-7071-4874-a55c-e0f3252112ac",
   "metadata": {},
   "outputs": [],
   "source": [
    "#ca_agg"
   ]
  },
  {
   "cell_type": "code",
   "execution_count": null,
   "id": "c18fa525-49f1-45be-a22b-f945a9757206",
   "metadata": {},
   "outputs": [],
   "source": []
  },
  {
   "cell_type": "code",
   "execution_count": null,
   "id": "4612f650-5edb-489a-bbf4-ec30d2254cc6",
   "metadata": {},
   "outputs": [],
   "source": []
  }
 ],
 "metadata": {
  "kernelspec": {
   "display_name": "hmelevskoi_env",
   "language": "python",
   "name": "hmelevskoi_env"
  },
  "language_info": {
   "codemirror_mode": {
    "name": "ipython",
    "version": 3
   },
   "file_extension": ".py",
   "mimetype": "text/x-python",
   "name": "python",
   "nbconvert_exporter": "python",
   "pygments_lexer": "ipython3",
   "version": "3.7.16"
  }
 },
 "nbformat": 4,
 "nbformat_minor": 5
}
