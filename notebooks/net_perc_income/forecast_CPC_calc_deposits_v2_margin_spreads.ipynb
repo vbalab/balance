{
 "cells": [
  {
   "cell_type": "code",
   "execution_count": 1,
   "id": "a64ec341-9ec8-4ba2-b1c9-a903ffee2b5b",
   "metadata": {},
   "outputs": [],
   "source": [
    "#!pip install scikit-learn --force\n",
    "#!pip install catboost"
   ]
  },
  {
   "cell_type": "code",
   "execution_count": 2,
   "id": "532f9d68-b0fc-4a7b-b166-b60981a74909",
   "metadata": {},
   "outputs": [],
   "source": [
    "import sys\n",
    "sys.path.append('../..')\n",
    "import pandas as pd\n",
    "import numpy as np\n",
    "from pandas.tseries.offsets import MonthEnd\n",
    "\n",
    "pd.set_option('display.max.columns', 300)\n",
    "\n",
    "\n",
    "\n",
    "from core.definitions import *\n",
    "\n",
    "from warnings import filterwarnings\n",
    "filterwarnings('ignore')"
   ]
  },
  {
   "cell_type": "code",
   "execution_count": 3,
   "id": "355543ef-240d-4e09-8d1f-f377ced1575e",
   "metadata": {},
   "outputs": [
    {
     "name": "stderr",
     "output_type": "stream",
     "text": [
      "Setting default log level to \"WARN\".\n",
      "To adjust logging level use sc.setLogLevel(newLevel). For SparkR, use setLogLevel(newLevel).\n",
      "23/10/29 22:07:41 WARN util.Utils: Service 'sparkDriver' could not bind on port 30240. Attempting port 30241.\n",
      "23/10/29 22:07:41 WARN util.Utils: Service 'SparkUI' could not bind on port 4040. Attempting port 4041.\n",
      "23/10/29 22:07:43 WARN ipc.Client: Exception encountered while connecting to the server : org.apache.hadoop.ipc.RemoteException(org.apache.hadoop.ipc.StandbyException): Operation category READ is not supported in state standby. Visit https://s.apache.org/sbnn-error\n",
      "23/10/29 22:07:44 WARN ipc.Client: Exception encountered while connecting to the server : org.apache.hadoop.ipc.RemoteException(org.apache.hadoop.ipc.StandbyException): Operation category READ is not supported in state standby. Visit https://s.apache.org/sbnn-error\n",
      "23/10/29 22:07:45 WARN yarn.Client: Same path resource file:///opt/cloudera/parcels/AnacondaPy37/jars/spark-tree-plotting-0.2.jar added multiple times to distributed cache.\n",
      "23/10/29 22:08:00 WARN util.Utils: Service 'org.apache.spark.network.netty.NettyBlockTransferService' could not bind on port 61240. Attempting port 61241.\n",
      "23/10/29 22:08:00 WARN ipc.Client: Exception encountered while connecting to the server : org.apache.hadoop.ipc.RemoteException(org.apache.hadoop.ipc.StandbyException): Operation category READ is not supported in state standby. Visit https://s.apache.org/sbnn-error\n",
      "23/10/29 22:08:00 WARN cluster.YarnSchedulerBackend$YarnSchedulerEndpoint: Attempted to request executors before the AM has registered!\n"
     ]
    }
   ],
   "source": [
    "from core.models.utils import run_spark_session\n",
    "spark = run_spark_session('write_t')"
   ]
  },
  {
   "cell_type": "markdown",
   "id": "03afbdb4-4a01-4c24-8172-b8d3dec2a3d0",
   "metadata": {},
   "source": [
    "## Калькулятор маржи - Версия 2\n",
    "### Расчет через вычисление маржи по месяцам"
   ]
  },
  {
   "cell_type": "markdown",
   "id": "e0ab5c96-b9eb-45ef-b309-51c42f3000cb",
   "metadata": {},
   "source": [
    "`agg_res` - используем как портфель  \n",
    "`scenario_df` - используем для извлечения маржи  \n",
    "\n",
    "Из всей суммы начисленных процентов выразим долю связанную с маржой и перемножим эту долю на начисленные проценты\n",
    "\n",
    "Маржу рассчитываем из формулы по `weighted_rate`  \n",
    "\n",
    "`VTB_weighted_rate_[segment]_[optionality]_[maturity] = VTB_ftp_rate_[maturity] - margin_[maturity] - SSV - FOR + optionality_spread + segment_spread`  \n",
    "\n",
    "Откуда:  \n",
    "`margin_[maturity] / VTB_weighted_rate_[segment]_[optionality]_[maturity] = (VTB_ftp_rate_[maturity] - SSV - FOR + optionality_spread + segment_spread) / VTB_weighted_rate_[segment]_[optionality]_[maturity] - 1`  \n",
    "\n",
    "\n",
    "Умножаем interests на маржу для каждого:  \n",
    "* сегмента  \n",
    "* опциональности  \n",
    "* срочности  \n",
    "\n",
    "__!!!__ Подходит для flat-сценария, для боее гибкого стоит доработать исходя из перебора по"
   ]
  },
  {
   "cell_type": "markdown",
   "id": "05a14067-8994-42bb-a547-87882014369f",
   "metadata": {},
   "source": [
    "## Чтение ретро портфелей и создание выборки"
   ]
  },
  {
   "cell_type": "code",
   "execution_count": 4,
   "id": "0c42afdb-318c-408a-8da7-42cb03fc80cc",
   "metadata": {},
   "outputs": [],
   "source": [
    "BUCKETED_BALANCE_MAP_ = {\n",
    "    1: '<100k',\n",
    "    2: '100k-400k',\n",
    "    3: '400k-1000k',\n",
    "    4: '1000k-2000k',\n",
    "    5: '>2000k'\n",
    "}"
   ]
  },
  {
   "cell_type": "code",
   "execution_count": 5,
   "id": "172c33fc-9124-4e48-be4b-9fb432d1b6da",
   "metadata": {},
   "outputs": [],
   "source": [
    "portfolio_result_cols = [\n",
    "    'report_dt', 'segment', 'replenishable_flg', 'subtraction_flg', 'month_maturity','target_maturity_days', 'bucketed_balance_nm', 'bucketed_balance', 'open_month', 'close_month', \n",
    "    'weight_rate', 'balance', 'renewal_cnt', 'operations_in_month', 'early_withdrawal_in_month', 'gen_name'\n",
    "    ]"
   ]
  },
  {
   "cell_type": "code",
   "execution_count": 6,
   "id": "932cdee8-d75b-44cd-a29e-e251afd1d599",
   "metadata": {},
   "outputs": [],
   "source": [
    "def _add_cols_to_port(port):\n",
    "    port = port.copy()\n",
    "    port.loc[:, 'replenishable_flg'] = port['optional_flg'].isin([2,3]).astype(int)\n",
    "    port.loc[:, 'subtraction_flg'] = port['optional_flg'].isin([1,3]).astype(int)\n",
    "    port.loc[:, 'segment'] = port['is_vip_or_prv'].apply(lambda x: SEGMENT_MAP_[x])\n",
    "    port.loc[:, 'month_maturity'] =  (port['bucketed_period'] - 1).astype(int)\n",
    "    port.loc[:, 'target_maturity_days'] =  port.month_maturity.apply(month_to_target_maturity) \n",
    "    return port"
   ]
  },
  {
   "cell_type": "code",
   "execution_count": 7,
   "id": "7a8f6fe4-7eac-4236-9aed-096cba0ea400",
   "metadata": {},
   "outputs": [],
   "source": [
    "def _portfolio_result(port):\n",
    "    port['bucketed_balance_nm'] = port.bucketed_balance.apply(\n",
    "        lambda x: BUCKETED_BALANCE_MAP_[x] if x in BUCKETED_BALANCE_MAP_ else '<100k'\n",
    "    )\n",
    "    port.loc[:, 'renewal_cnt'] = port.weight_renewal_cnt.round()\n",
    "    port.loc[:, 'operations_in_month'] = np.where(port.optional_flg > 0, port.SER_d_cl, 0)\n",
    "    port.loc[:, 'early_withdrawal_in_month'] = np.where(port.optional_flg == 0, port.SER_d_cl, 0)\n",
    "    port.loc[:, 'balance'] = port.loc[:, 'total_generation']\n",
    "\n",
    "    #port = port[port['report_dt']>self._forecast_context.portfolio_dt+MonthEnd(-1)]\n",
    "    return port.sort_values(\n",
    "        by = ['report_dt', 'segment', 'replenishable_flg', 'subtraction_flg', 'balance'],ascending = [True, True, True, True, False], ignore_index = True\n",
    "    )"
   ]
  },
  {
   "cell_type": "code",
   "execution_count": 8,
   "id": "bd0fe606-17d7-437c-a792-5a18870abcea",
   "metadata": {},
   "outputs": [],
   "source": [
    "# читаем фактические портфели\n",
    "\n",
    "port_res = []\n",
    "\n",
    "for i in range(1, 8, 1):\n",
    "    #print(i)\n",
    "    \n",
    "    port = pd.read_csv(f'/home/vtb70186744/dynbalance/data/portfolio_data/portfolio_2023-0{i}.csv', parse_dates=True)\n",
    "    port['report_dt'] = pd.to_datetime(port['report_dt'])\n",
    "\n",
    "    port_res.append(port)"
   ]
  },
  {
   "cell_type": "code",
   "execution_count": 9,
   "id": "6959b3e9-d052-40be-9da1-cbc6ba0be601",
   "metadata": {},
   "outputs": [
    {
     "data": {
      "text/plain": [
       "161.9616661517254"
      ]
     },
     "execution_count": 9,
     "metadata": {},
     "output_type": "execute_result"
    }
   ],
   "source": [
    "port.sum()['total_interests'] / 10**9"
   ]
  },
  {
   "cell_type": "code",
   "execution_count": 10,
   "id": "105191f6-5729-44ec-806e-0971e8583c34",
   "metadata": {},
   "outputs": [
    {
     "data": {
      "text/html": [
       "<div>\n",
       "<style scoped>\n",
       "    .dataframe tbody tr th:only-of-type {\n",
       "        vertical-align: middle;\n",
       "    }\n",
       "\n",
       "    .dataframe tbody tr th {\n",
       "        vertical-align: top;\n",
       "    }\n",
       "\n",
       "    .dataframe thead th {\n",
       "        text-align: right;\n",
       "    }\n",
       "</style>\n",
       "<table border=\"1\" class=\"dataframe\">\n",
       "  <thead>\n",
       "    <tr style=\"text-align: right;\">\n",
       "      <th></th>\n",
       "      <th>report_month</th>\n",
       "      <th>bucketed_balance</th>\n",
       "      <th>is_vip_or_prv</th>\n",
       "      <th>drop_flg</th>\n",
       "      <th>optional_flg</th>\n",
       "      <th>bucketed_period</th>\n",
       "      <th>open_month</th>\n",
       "      <th>close_month</th>\n",
       "      <th>bucketed_open_rate</th>\n",
       "      <th>report_dt</th>\n",
       "      <th>total_interests</th>\n",
       "      <th>remaining_interests</th>\n",
       "      <th>weight_rate</th>\n",
       "      <th>total_generation</th>\n",
       "      <th>total_generation_cleared</th>\n",
       "      <th>weight_renewal_cnt</th>\n",
       "      <th>weight_renewal_available_flg</th>\n",
       "      <th>weight_close_plan_day</th>\n",
       "      <th>gen_name</th>\n",
       "      <th>SER_d</th>\n",
       "      <th>SER_d_cl</th>\n",
       "      <th>SER_dinamic</th>\n",
       "      <th>SER_dinamic_cl</th>\n",
       "      <th>total_generation_lag1</th>\n",
       "      <th>total_generation_cl_lag1</th>\n",
       "      <th>CUR</th>\n",
       "      <th>report_weight_open_rate_1m</th>\n",
       "      <th>report_weight_open_rate_3m</th>\n",
       "      <th>report_weight_open_rate_6m</th>\n",
       "      <th>report_weight_open_rate_12m</th>\n",
       "      <th>report_weight_open_rate_24m</th>\n",
       "      <th>report_wo_period_weight_open_rate</th>\n",
       "      <th>init_total_generation</th>\n",
       "      <th>row_count</th>\n",
       "      <th>share_period_plan</th>\n",
       "      <th>max_total_generation</th>\n",
       "      <th>max_SER_dinamic</th>\n",
       "    </tr>\n",
       "  </thead>\n",
       "  <tbody>\n",
       "    <tr>\n",
       "      <th>0</th>\n",
       "      <td>2023-07</td>\n",
       "      <td>1.0</td>\n",
       "      <td>0</td>\n",
       "      <td>NaN</td>\n",
       "      <td>3.0</td>\n",
       "      <td>25.0</td>\n",
       "      <td>2006-06</td>\n",
       "      <td>2024-06</td>\n",
       "      <td>1.0</td>\n",
       "      <td>2023-07-31</td>\n",
       "      <td>50.590822</td>\n",
       "      <td>8.29275</td>\n",
       "      <td>0.01</td>\n",
       "      <td>176824.42</td>\n",
       "      <td>176824.42</td>\n",
       "      <td>1.0</td>\n",
       "      <td>1.0</td>\n",
       "      <td>18.999929</td>\n",
       "      <td>2006-06_2024-06_1.0_25.0_1.0_3_0_RUR</td>\n",
       "      <td>1.45</td>\n",
       "      <td>1.45</td>\n",
       "      <td>0.000008</td>\n",
       "      <td>0.000008</td>\n",
       "      <td>176822.97</td>\n",
       "      <td>176822.97</td>\n",
       "      <td>RUR</td>\n",
       "      <td>NaN</td>\n",
       "      <td>NaN</td>\n",
       "      <td>NaN</td>\n",
       "      <td>NaN</td>\n",
       "      <td>NaN</td>\n",
       "      <td>NaN</td>\n",
       "      <td>176805.31</td>\n",
       "      <td>14</td>\n",
       "      <td>0.948897</td>\n",
       "      <td>176824.42</td>\n",
       "      <td>0.000008</td>\n",
       "    </tr>\n",
       "    <tr>\n",
       "      <th>1</th>\n",
       "      <td>2023-07</td>\n",
       "      <td>4.0</td>\n",
       "      <td>0</td>\n",
       "      <td>NaN</td>\n",
       "      <td>3.0</td>\n",
       "      <td>37.0</td>\n",
       "      <td>2009-06</td>\n",
       "      <td>2024-06</td>\n",
       "      <td>1.0</td>\n",
       "      <td>2023-07-31</td>\n",
       "      <td>347.708580</td>\n",
       "      <td>57.95143</td>\n",
       "      <td>0.01</td>\n",
       "      <td>1391169.32</td>\n",
       "      <td>1391169.32</td>\n",
       "      <td>1.0</td>\n",
       "      <td>1.0</td>\n",
       "      <td>16.000000</td>\n",
       "      <td>2009-06_2024-06_4.0_37.0_1.0_3_0_RUR</td>\n",
       "      <td>11.43</td>\n",
       "      <td>11.43</td>\n",
       "      <td>0.000008</td>\n",
       "      <td>0.000008</td>\n",
       "      <td>1391157.89</td>\n",
       "      <td>1391157.89</td>\n",
       "      <td>RUR</td>\n",
       "      <td>NaN</td>\n",
       "      <td>NaN</td>\n",
       "      <td>NaN</td>\n",
       "      <td>NaN</td>\n",
       "      <td>NaN</td>\n",
       "      <td>NaN</td>\n",
       "      <td>1390879.65</td>\n",
       "      <td>26</td>\n",
       "      <td>0.938675</td>\n",
       "      <td>1391169.32</td>\n",
       "      <td>0.000008</td>\n",
       "    </tr>\n",
       "    <tr>\n",
       "      <th>2</th>\n",
       "      <td>2023-07</td>\n",
       "      <td>4.0</td>\n",
       "      <td>0</td>\n",
       "      <td>NaN</td>\n",
       "      <td>3.0</td>\n",
       "      <td>19.0</td>\n",
       "      <td>2009-09</td>\n",
       "      <td>2024-10</td>\n",
       "      <td>1.0</td>\n",
       "      <td>2023-07-31</td>\n",
       "      <td>426.898800</td>\n",
       "      <td>71.14980</td>\n",
       "      <td>0.01</td>\n",
       "      <td>1670907.96</td>\n",
       "      <td>1670907.96</td>\n",
       "      <td>2.0</td>\n",
       "      <td>1.0</td>\n",
       "      <td>8.000000</td>\n",
       "      <td>2009-09_2024-10_4.0_19.0_1.0_3_0_RUR</td>\n",
       "      <td>13.73</td>\n",
       "      <td>13.73</td>\n",
       "      <td>0.000008</td>\n",
       "      <td>0.000008</td>\n",
       "      <td>1670894.23</td>\n",
       "      <td>1670894.23</td>\n",
       "      <td>RUR</td>\n",
       "      <td>NaN</td>\n",
       "      <td>NaN</td>\n",
       "      <td>NaN</td>\n",
       "      <td>NaN</td>\n",
       "      <td>NaN</td>\n",
       "      <td>NaN</td>\n",
       "      <td>1670866.31</td>\n",
       "      <td>4</td>\n",
       "      <td>0.916863</td>\n",
       "      <td>1670907.96</td>\n",
       "      <td>0.000008</td>\n",
       "    </tr>\n",
       "    <tr>\n",
       "      <th>3</th>\n",
       "      <td>2023-07</td>\n",
       "      <td>1.0</td>\n",
       "      <td>0</td>\n",
       "      <td>NaN</td>\n",
       "      <td>3.0</td>\n",
       "      <td>14.0</td>\n",
       "      <td>2012-08</td>\n",
       "      <td>2023-11</td>\n",
       "      <td>1.0</td>\n",
       "      <td>2023-07-31</td>\n",
       "      <td>8.193900</td>\n",
       "      <td>1.36565</td>\n",
       "      <td>0.01</td>\n",
       "      <td>32783.51</td>\n",
       "      <td>32783.51</td>\n",
       "      <td>2.0</td>\n",
       "      <td>1.0</td>\n",
       "      <td>30.000000</td>\n",
       "      <td>2012-08_2023-11_1.0_14.0_1.0_3_0_RUR</td>\n",
       "      <td>0.27</td>\n",
       "      <td>0.27</td>\n",
       "      <td>0.000008</td>\n",
       "      <td>0.000008</td>\n",
       "      <td>32783.24</td>\n",
       "      <td>32783.24</td>\n",
       "      <td>RUR</td>\n",
       "      <td>NaN</td>\n",
       "      <td>NaN</td>\n",
       "      <td>NaN</td>\n",
       "      <td>NaN</td>\n",
       "      <td>NaN</td>\n",
       "      <td>NaN</td>\n",
       "      <td>32781.10</td>\n",
       "      <td>10</td>\n",
       "      <td>0.970066</td>\n",
       "      <td>32783.51</td>\n",
       "      <td>0.000008</td>\n",
       "    </tr>\n",
       "    <tr>\n",
       "      <th>4</th>\n",
       "      <td>2023-07</td>\n",
       "      <td>1.0</td>\n",
       "      <td>1</td>\n",
       "      <td>NaN</td>\n",
       "      <td>3.0</td>\n",
       "      <td>25.0</td>\n",
       "      <td>2014-07</td>\n",
       "      <td>2024-07</td>\n",
       "      <td>4.0</td>\n",
       "      <td>2023-07-31</td>\n",
       "      <td>2550.000000</td>\n",
       "      <td>425.00000</td>\n",
       "      <td>2.50</td>\n",
       "      <td>30844.59</td>\n",
       "      <td>30844.59</td>\n",
       "      <td>4.0</td>\n",
       "      <td>1.0</td>\n",
       "      <td>21.000000</td>\n",
       "      <td>2014-07_2024-07_1.0_25.0_4.0_3_1_RUR</td>\n",
       "      <td>63.25</td>\n",
       "      <td>63.25</td>\n",
       "      <td>0.002055</td>\n",
       "      <td>0.002055</td>\n",
       "      <td>30781.34</td>\n",
       "      <td>30781.34</td>\n",
       "      <td>RUR</td>\n",
       "      <td>NaN</td>\n",
       "      <td>NaN</td>\n",
       "      <td>NaN</td>\n",
       "      <td>NaN</td>\n",
       "      <td>NaN</td>\n",
       "      <td>NaN</td>\n",
       "      <td>30464.95</td>\n",
       "      <td>7</td>\n",
       "      <td>0.899808</td>\n",
       "      <td>30844.59</td>\n",
       "      <td>0.002055</td>\n",
       "    </tr>\n",
       "  </tbody>\n",
       "</table>\n",
       "</div>"
      ],
      "text/plain": [
       "  report_month  bucketed_balance  is_vip_or_prv  drop_flg  optional_flg  \\\n",
       "0      2023-07               1.0              0       NaN           3.0   \n",
       "1      2023-07               4.0              0       NaN           3.0   \n",
       "2      2023-07               4.0              0       NaN           3.0   \n",
       "3      2023-07               1.0              0       NaN           3.0   \n",
       "4      2023-07               1.0              1       NaN           3.0   \n",
       "\n",
       "   bucketed_period open_month close_month  bucketed_open_rate  report_dt  \\\n",
       "0             25.0    2006-06     2024-06                 1.0 2023-07-31   \n",
       "1             37.0    2009-06     2024-06                 1.0 2023-07-31   \n",
       "2             19.0    2009-09     2024-10                 1.0 2023-07-31   \n",
       "3             14.0    2012-08     2023-11                 1.0 2023-07-31   \n",
       "4             25.0    2014-07     2024-07                 4.0 2023-07-31   \n",
       "\n",
       "   total_interests  remaining_interests  weight_rate  total_generation  \\\n",
       "0        50.590822              8.29275         0.01         176824.42   \n",
       "1       347.708580             57.95143         0.01        1391169.32   \n",
       "2       426.898800             71.14980         0.01        1670907.96   \n",
       "3         8.193900              1.36565         0.01          32783.51   \n",
       "4      2550.000000            425.00000         2.50          30844.59   \n",
       "\n",
       "   total_generation_cleared  weight_renewal_cnt  weight_renewal_available_flg  \\\n",
       "0                 176824.42                 1.0                           1.0   \n",
       "1                1391169.32                 1.0                           1.0   \n",
       "2                1670907.96                 2.0                           1.0   \n",
       "3                  32783.51                 2.0                           1.0   \n",
       "4                  30844.59                 4.0                           1.0   \n",
       "\n",
       "   weight_close_plan_day                              gen_name  SER_d  \\\n",
       "0              18.999929  2006-06_2024-06_1.0_25.0_1.0_3_0_RUR   1.45   \n",
       "1              16.000000  2009-06_2024-06_4.0_37.0_1.0_3_0_RUR  11.43   \n",
       "2               8.000000  2009-09_2024-10_4.0_19.0_1.0_3_0_RUR  13.73   \n",
       "3              30.000000  2012-08_2023-11_1.0_14.0_1.0_3_0_RUR   0.27   \n",
       "4              21.000000  2014-07_2024-07_1.0_25.0_4.0_3_1_RUR  63.25   \n",
       "\n",
       "   SER_d_cl  SER_dinamic  SER_dinamic_cl  total_generation_lag1  \\\n",
       "0      1.45     0.000008        0.000008              176822.97   \n",
       "1     11.43     0.000008        0.000008             1391157.89   \n",
       "2     13.73     0.000008        0.000008             1670894.23   \n",
       "3      0.27     0.000008        0.000008               32783.24   \n",
       "4     63.25     0.002055        0.002055               30781.34   \n",
       "\n",
       "   total_generation_cl_lag1  CUR  report_weight_open_rate_1m  \\\n",
       "0                 176822.97  RUR                         NaN   \n",
       "1                1391157.89  RUR                         NaN   \n",
       "2                1670894.23  RUR                         NaN   \n",
       "3                  32783.24  RUR                         NaN   \n",
       "4                  30781.34  RUR                         NaN   \n",
       "\n",
       "   report_weight_open_rate_3m  report_weight_open_rate_6m  \\\n",
       "0                         NaN                         NaN   \n",
       "1                         NaN                         NaN   \n",
       "2                         NaN                         NaN   \n",
       "3                         NaN                         NaN   \n",
       "4                         NaN                         NaN   \n",
       "\n",
       "   report_weight_open_rate_12m  report_weight_open_rate_24m  \\\n",
       "0                          NaN                          NaN   \n",
       "1                          NaN                          NaN   \n",
       "2                          NaN                          NaN   \n",
       "3                          NaN                          NaN   \n",
       "4                          NaN                          NaN   \n",
       "\n",
       "   report_wo_period_weight_open_rate  init_total_generation  row_count  \\\n",
       "0                                NaN              176805.31         14   \n",
       "1                                NaN             1390879.65         26   \n",
       "2                                NaN             1670866.31          4   \n",
       "3                                NaN               32781.10         10   \n",
       "4                                NaN               30464.95          7   \n",
       "\n",
       "   share_period_plan  max_total_generation  max_SER_dinamic  \n",
       "0           0.948897             176824.42         0.000008  \n",
       "1           0.938675            1391169.32         0.000008  \n",
       "2           0.916863            1670907.96         0.000008  \n",
       "3           0.970066              32783.51         0.000008  \n",
       "4           0.899808              30844.59         0.002055  "
      ]
     },
     "execution_count": 10,
     "metadata": {},
     "output_type": "execute_result"
    }
   ],
   "source": [
    "port.head()"
   ]
  },
  {
   "cell_type": "code",
   "execution_count": 11,
   "id": "9f895274-fd82-4e82-844a-9ea8f47f04d7",
   "metadata": {},
   "outputs": [],
   "source": [
    "port_res = pd.concat(port_res).reset_index(drop=True)"
   ]
  },
  {
   "cell_type": "code",
   "execution_count": 12,
   "id": "639bc017-ecf0-4622-b4b1-1102d6300932",
   "metadata": {},
   "outputs": [],
   "source": [
    "port_res = _add_cols_to_port(port_res)"
   ]
  },
  {
   "cell_type": "code",
   "execution_count": 13,
   "id": "d6359033-a7c3-45e9-9c17-4ca9c6dc0f34",
   "metadata": {},
   "outputs": [],
   "source": [
    "port_res = _portfolio_result(port_res)"
   ]
  },
  {
   "cell_type": "code",
   "execution_count": 14,
   "id": "598d90c7-39fd-4c80-9f85-075978c822bc",
   "metadata": {},
   "outputs": [
    {
     "data": {
      "text/html": [
       "<div>\n",
       "<style scoped>\n",
       "    .dataframe tbody tr th:only-of-type {\n",
       "        vertical-align: middle;\n",
       "    }\n",
       "\n",
       "    .dataframe tbody tr th {\n",
       "        vertical-align: top;\n",
       "    }\n",
       "\n",
       "    .dataframe thead th {\n",
       "        text-align: right;\n",
       "    }\n",
       "</style>\n",
       "<table border=\"1\" class=\"dataframe\">\n",
       "  <thead>\n",
       "    <tr style=\"text-align: right;\">\n",
       "      <th></th>\n",
       "      <th>report_month</th>\n",
       "      <th>bucketed_balance</th>\n",
       "      <th>is_vip_or_prv</th>\n",
       "      <th>drop_flg</th>\n",
       "      <th>optional_flg</th>\n",
       "      <th>bucketed_period</th>\n",
       "      <th>open_month</th>\n",
       "      <th>close_month</th>\n",
       "      <th>bucketed_open_rate</th>\n",
       "      <th>report_dt</th>\n",
       "      <th>total_interests</th>\n",
       "      <th>remaining_interests</th>\n",
       "      <th>weight_rate</th>\n",
       "      <th>total_generation</th>\n",
       "      <th>total_generation_cleared</th>\n",
       "      <th>weight_renewal_cnt</th>\n",
       "      <th>weight_renewal_available_flg</th>\n",
       "      <th>weight_close_plan_day</th>\n",
       "      <th>gen_name</th>\n",
       "      <th>SER_d</th>\n",
       "      <th>SER_d_cl</th>\n",
       "      <th>SER_dinamic</th>\n",
       "      <th>SER_dinamic_cl</th>\n",
       "      <th>total_generation_lag1</th>\n",
       "      <th>total_generation_cl_lag1</th>\n",
       "      <th>CUR</th>\n",
       "      <th>report_weight_open_rate_1m</th>\n",
       "      <th>report_weight_open_rate_3m</th>\n",
       "      <th>report_weight_open_rate_6m</th>\n",
       "      <th>report_weight_open_rate_12m</th>\n",
       "      <th>report_weight_open_rate_24m</th>\n",
       "      <th>report_wo_period_weight_open_rate</th>\n",
       "      <th>init_total_generation</th>\n",
       "      <th>row_count</th>\n",
       "      <th>share_period_plan</th>\n",
       "      <th>max_total_generation</th>\n",
       "      <th>max_SER_dinamic</th>\n",
       "      <th>replenishable_flg</th>\n",
       "      <th>subtraction_flg</th>\n",
       "      <th>segment</th>\n",
       "      <th>month_maturity</th>\n",
       "      <th>target_maturity_days</th>\n",
       "      <th>bucketed_balance_nm</th>\n",
       "      <th>renewal_cnt</th>\n",
       "      <th>operations_in_month</th>\n",
       "      <th>early_withdrawal_in_month</th>\n",
       "      <th>balance</th>\n",
       "    </tr>\n",
       "  </thead>\n",
       "  <tbody>\n",
       "    <tr>\n",
       "      <th>0</th>\n",
       "      <td>2023-01</td>\n",
       "      <td>4.0</td>\n",
       "      <td>0</td>\n",
       "      <td>0.0</td>\n",
       "      <td>0.0</td>\n",
       "      <td>7.0</td>\n",
       "      <td>2022-09</td>\n",
       "      <td>2023-03</td>\n",
       "      <td>8.0</td>\n",
       "      <td>2023-01-31</td>\n",
       "      <td>1.080998e+09</td>\n",
       "      <td>4.309770e+08</td>\n",
       "      <td>7.014158</td>\n",
       "      <td>3.767463e+10</td>\n",
       "      <td>3.689392e+10</td>\n",
       "      <td>0.0</td>\n",
       "      <td>0.0</td>\n",
       "      <td>7.640179</td>\n",
       "      <td>2022-09_2023-03_4.0_7.0_8.0_0_0_0.0_RUR</td>\n",
       "      <td>-1.498874e+08</td>\n",
       "      <td>-3.443082e+08</td>\n",
       "      <td>-0.003963</td>\n",
       "      <td>-0.009246</td>\n",
       "      <td>3.782452e+10</td>\n",
       "      <td>3.723822e+10</td>\n",
       "      <td>RUR</td>\n",
       "      <td>NaN</td>\n",
       "      <td>7.0</td>\n",
       "      <td>7.526670</td>\n",
       "      <td>7.469240</td>\n",
       "      <td>NaN</td>\n",
       "      <td>7.404150</td>\n",
       "      <td>4.033852e+10</td>\n",
       "      <td>5</td>\n",
       "      <td>0.674033</td>\n",
       "      <td>3.767463e+10</td>\n",
       "      <td>-0.003963</td>\n",
       "      <td>0</td>\n",
       "      <td>0</td>\n",
       "      <td>mass</td>\n",
       "      <td>6</td>\n",
       "      <td>180</td>\n",
       "      <td>1000k-2000k</td>\n",
       "      <td>0.0</td>\n",
       "      <td>0.0</td>\n",
       "      <td>-3.443082e+08</td>\n",
       "      <td>3.767463e+10</td>\n",
       "    </tr>\n",
       "    <tr>\n",
       "      <th>1</th>\n",
       "      <td>2023-01</td>\n",
       "      <td>3.0</td>\n",
       "      <td>0</td>\n",
       "      <td>0.0</td>\n",
       "      <td>0.0</td>\n",
       "      <td>7.0</td>\n",
       "      <td>2022-09</td>\n",
       "      <td>2023-03</td>\n",
       "      <td>8.0</td>\n",
       "      <td>2023-01-31</td>\n",
       "      <td>1.039290e+09</td>\n",
       "      <td>4.140946e+08</td>\n",
       "      <td>7.014465</td>\n",
       "      <td>3.624522e+10</td>\n",
       "      <td>3.546236e+10</td>\n",
       "      <td>0.0</td>\n",
       "      <td>0.0</td>\n",
       "      <td>7.765046</td>\n",
       "      <td>2022-09_2023-03_3.0_7.0_8.0_0_0_0.0_RUR</td>\n",
       "      <td>4.100963e+07</td>\n",
       "      <td>-1.568994e+08</td>\n",
       "      <td>0.001133</td>\n",
       "      <td>-0.004405</td>\n",
       "      <td>3.620421e+10</td>\n",
       "      <td>3.561926e+10</td>\n",
       "      <td>RUR</td>\n",
       "      <td>NaN</td>\n",
       "      <td>7.0</td>\n",
       "      <td>7.490077</td>\n",
       "      <td>7.450225</td>\n",
       "      <td>NaN</td>\n",
       "      <td>7.355351</td>\n",
       "      <td>3.720755e+10</td>\n",
       "      <td>5</td>\n",
       "      <td>0.674033</td>\n",
       "      <td>3.624522e+10</td>\n",
       "      <td>0.001133</td>\n",
       "      <td>0</td>\n",
       "      <td>0</td>\n",
       "      <td>mass</td>\n",
       "      <td>6</td>\n",
       "      <td>180</td>\n",
       "      <td>400k-1000k</td>\n",
       "      <td>0.0</td>\n",
       "      <td>0.0</td>\n",
       "      <td>-1.568994e+08</td>\n",
       "      <td>3.624522e+10</td>\n",
       "    </tr>\n",
       "    <tr>\n",
       "      <th>2</th>\n",
       "      <td>2023-01</td>\n",
       "      <td>4.0</td>\n",
       "      <td>0</td>\n",
       "      <td>0.0</td>\n",
       "      <td>0.0</td>\n",
       "      <td>13.0</td>\n",
       "      <td>2022-09</td>\n",
       "      <td>2023-09</td>\n",
       "      <td>8.0</td>\n",
       "      <td>2023-01-31</td>\n",
       "      <td>7.430132e+08</td>\n",
       "      <td>1.515603e+09</td>\n",
       "      <td>7.000000</td>\n",
       "      <td>2.592414e+10</td>\n",
       "      <td>2.539205e+10</td>\n",
       "      <td>0.0</td>\n",
       "      <td>0.0</td>\n",
       "      <td>14.847356</td>\n",
       "      <td>2022-09_2023-09_4.0_13.0_8.0_0_0_0.0_RUR</td>\n",
       "      <td>-6.024040e+07</td>\n",
       "      <td>-1.934322e+08</td>\n",
       "      <td>-0.002318</td>\n",
       "      <td>-0.007560</td>\n",
       "      <td>2.598438e+10</td>\n",
       "      <td>2.558548e+10</td>\n",
       "      <td>RUR</td>\n",
       "      <td>NaN</td>\n",
       "      <td>7.0</td>\n",
       "      <td>7.526670</td>\n",
       "      <td>7.469240</td>\n",
       "      <td>NaN</td>\n",
       "      <td>7.404150</td>\n",
       "      <td>2.814998e+10</td>\n",
       "      <td>5</td>\n",
       "      <td>0.334247</td>\n",
       "      <td>2.592414e+10</td>\n",
       "      <td>-0.002318</td>\n",
       "      <td>0</td>\n",
       "      <td>0</td>\n",
       "      <td>mass</td>\n",
       "      <td>12</td>\n",
       "      <td>365</td>\n",
       "      <td>1000k-2000k</td>\n",
       "      <td>0.0</td>\n",
       "      <td>0.0</td>\n",
       "      <td>-1.934322e+08</td>\n",
       "      <td>2.592414e+10</td>\n",
       "    </tr>\n",
       "  </tbody>\n",
       "</table>\n",
       "</div>"
      ],
      "text/plain": [
       "  report_month  bucketed_balance  is_vip_or_prv  drop_flg  optional_flg  \\\n",
       "0      2023-01               4.0              0       0.0           0.0   \n",
       "1      2023-01               3.0              0       0.0           0.0   \n",
       "2      2023-01               4.0              0       0.0           0.0   \n",
       "\n",
       "   bucketed_period open_month close_month  bucketed_open_rate  report_dt  \\\n",
       "0              7.0    2022-09     2023-03                 8.0 2023-01-31   \n",
       "1              7.0    2022-09     2023-03                 8.0 2023-01-31   \n",
       "2             13.0    2022-09     2023-09                 8.0 2023-01-31   \n",
       "\n",
       "   total_interests  remaining_interests  weight_rate  total_generation  \\\n",
       "0     1.080998e+09         4.309770e+08     7.014158      3.767463e+10   \n",
       "1     1.039290e+09         4.140946e+08     7.014465      3.624522e+10   \n",
       "2     7.430132e+08         1.515603e+09     7.000000      2.592414e+10   \n",
       "\n",
       "   total_generation_cleared  weight_renewal_cnt  weight_renewal_available_flg  \\\n",
       "0              3.689392e+10                 0.0                           0.0   \n",
       "1              3.546236e+10                 0.0                           0.0   \n",
       "2              2.539205e+10                 0.0                           0.0   \n",
       "\n",
       "   weight_close_plan_day                                  gen_name  \\\n",
       "0               7.640179   2022-09_2023-03_4.0_7.0_8.0_0_0_0.0_RUR   \n",
       "1               7.765046   2022-09_2023-03_3.0_7.0_8.0_0_0_0.0_RUR   \n",
       "2              14.847356  2022-09_2023-09_4.0_13.0_8.0_0_0_0.0_RUR   \n",
       "\n",
       "          SER_d      SER_d_cl  SER_dinamic  SER_dinamic_cl  \\\n",
       "0 -1.498874e+08 -3.443082e+08    -0.003963       -0.009246   \n",
       "1  4.100963e+07 -1.568994e+08     0.001133       -0.004405   \n",
       "2 -6.024040e+07 -1.934322e+08    -0.002318       -0.007560   \n",
       "\n",
       "   total_generation_lag1  total_generation_cl_lag1  CUR  \\\n",
       "0           3.782452e+10              3.723822e+10  RUR   \n",
       "1           3.620421e+10              3.561926e+10  RUR   \n",
       "2           2.598438e+10              2.558548e+10  RUR   \n",
       "\n",
       "   report_weight_open_rate_1m  report_weight_open_rate_3m  \\\n",
       "0                         NaN                         7.0   \n",
       "1                         NaN                         7.0   \n",
       "2                         NaN                         7.0   \n",
       "\n",
       "   report_weight_open_rate_6m  report_weight_open_rate_12m  \\\n",
       "0                    7.526670                     7.469240   \n",
       "1                    7.490077                     7.450225   \n",
       "2                    7.526670                     7.469240   \n",
       "\n",
       "   report_weight_open_rate_24m  report_wo_period_weight_open_rate  \\\n",
       "0                          NaN                           7.404150   \n",
       "1                          NaN                           7.355351   \n",
       "2                          NaN                           7.404150   \n",
       "\n",
       "   init_total_generation  row_count  share_period_plan  max_total_generation  \\\n",
       "0           4.033852e+10          5           0.674033          3.767463e+10   \n",
       "1           3.720755e+10          5           0.674033          3.624522e+10   \n",
       "2           2.814998e+10          5           0.334247          2.592414e+10   \n",
       "\n",
       "   max_SER_dinamic  replenishable_flg  subtraction_flg segment  \\\n",
       "0        -0.003963                  0                0    mass   \n",
       "1         0.001133                  0                0    mass   \n",
       "2        -0.002318                  0                0    mass   \n",
       "\n",
       "   month_maturity  target_maturity_days bucketed_balance_nm  renewal_cnt  \\\n",
       "0               6                   180         1000k-2000k          0.0   \n",
       "1               6                   180          400k-1000k          0.0   \n",
       "2              12                   365         1000k-2000k          0.0   \n",
       "\n",
       "   operations_in_month  early_withdrawal_in_month       balance  \n",
       "0                  0.0              -3.443082e+08  3.767463e+10  \n",
       "1                  0.0              -1.568994e+08  3.624522e+10  \n",
       "2                  0.0              -1.934322e+08  2.592414e+10  "
      ]
     },
     "execution_count": 14,
     "metadata": {},
     "output_type": "execute_result"
    }
   ],
   "source": [
    "port_res.head(3)"
   ]
  },
  {
   "cell_type": "code",
   "execution_count": 15,
   "id": "8bca7dba-2e68-4af9-bf16-21b84f0bf628",
   "metadata": {},
   "outputs": [
    {
     "data": {
      "text/plain": [
       "report_dt\n",
       "2023-01-31    2.950907e+12\n",
       "2023-02-28    3.000243e+12\n",
       "2023-03-31    3.044367e+12\n",
       "2023-04-30    3.077628e+12\n",
       "2023-05-31    3.131640e+12\n",
       "2023-06-30    3.148000e+12\n",
       "2023-07-31    3.150017e+12\n",
       "Name: balance, dtype: float64"
      ]
     },
     "execution_count": 15,
     "metadata": {},
     "output_type": "execute_result"
    }
   ],
   "source": [
    "port_res.groupby('report_dt').sum()['balance']"
   ]
  },
  {
   "cell_type": "code",
   "execution_count": 16,
   "id": "d40aae79-6265-4ab4-bb3a-3c2667f6dd22",
   "metadata": {},
   "outputs": [],
   "source": [
    "port_res['interests'] = port_res['total_generation'] - port_res['total_generation_lag1'].astype(float) - port_res['SER_d_cl']"
   ]
  },
  {
   "cell_type": "code",
   "execution_count": 17,
   "id": "c23dd74a-1d94-4ed8-bd3a-2ff715221c71",
   "metadata": {},
   "outputs": [],
   "source": []
  },
  {
   "cell_type": "code",
   "execution_count": 18,
   "id": "d005c6e0-6f07-4cef-99cc-3072c6567ac4",
   "metadata": {},
   "outputs": [],
   "source": [
    "portfolio_res = port_res.copy()"
   ]
  },
  {
   "cell_type": "code",
   "execution_count": 19,
   "id": "dcd3336a-b3b9-4001-837a-1e9af7c4b3de",
   "metadata": {},
   "outputs": [],
   "source": [
    "portfolio_res['open_month_correct'] = pd.to_datetime(portfolio_res['open_month'], format='%Y-%m')"
   ]
  },
  {
   "cell_type": "markdown",
   "id": "6578efbd-7fc1-491e-aa44-00797433e66b",
   "metadata": {},
   "source": [
    "##### "
   ]
  },
  {
   "cell_type": "code",
   "execution_count": 20,
   "id": "24b94c05-26fa-4f79-91ed-91e391ca2486",
   "metadata": {},
   "outputs": [
    {
     "data": {
      "text/plain": [
       "array([ 180,  365,   90, 1095,  548,  730])"
      ]
     },
     "execution_count": 20,
     "metadata": {},
     "output_type": "execute_result"
    }
   ],
   "source": [
    "portfolio_res['target_maturity_days'].unique()"
   ]
  },
  {
   "cell_type": "code",
   "execution_count": 21,
   "id": "cb6f9085-c984-43fc-ba1c-a148f0ae5eee",
   "metadata": {},
   "outputs": [],
   "source": [
    "maturity_dict = {90: 3,\n",
    "                180: 6,\n",
    "                365: 12,\n",
    "                548: 18,\n",
    "                730: 24,\n",
    "                1095: 36}"
   ]
  },
  {
   "cell_type": "code",
   "execution_count": 22,
   "id": "47caa5e0-2ee6-45b1-b9f9-6e913e0f524f",
   "metadata": {},
   "outputs": [],
   "source": [
    "# корректируем месяца\n",
    "portfolio_res['target_maturity_months'] = portfolio_res['target_maturity_days'].replace(maturity_dict)"
   ]
  },
  {
   "cell_type": "markdown",
   "id": "f6b675d1-af67-4ac3-a307-3d3022d90f59",
   "metadata": {},
   "source": [
    "Сделаем поле open_month_correct и нормальную дату открытия для каждого депозита"
   ]
  },
  {
   "cell_type": "code",
   "execution_count": 23,
   "id": "2aeb300a-6b6a-4176-b616-f3b41c7b03be",
   "metadata": {},
   "outputs": [
    {
     "data": {
      "text/plain": [
       "array([ 0.,  1.,  4.,  2.,  8.,  9.,  7.,  5.,  6.,  3., 10., 11., 12.])"
      ]
     },
     "execution_count": 23,
     "metadata": {},
     "output_type": "execute_result"
    }
   ],
   "source": [
    "portfolio_res.renewal_cnt.unique()"
   ]
  },
  {
   "cell_type": "code",
   "execution_count": 24,
   "id": "925c47f5-fe79-439d-8443-637f5ba88669",
   "metadata": {},
   "outputs": [
    {
     "data": {
      "text/plain": [
       "<AxesSubplot:>"
      ]
     },
     "execution_count": 24,
     "metadata": {},
     "output_type": "execute_result"
    },
    {
     "data": {
      "image/png": "[encoded data removed]",
      "text/plain": [
       "<Figure size 640x480 with 1 Axes>"
      ]
     },
     "metadata": {},
     "output_type": "display_data"
    }
   ],
   "source": [
    "portfolio_res['open_month'].value_counts().sort_index().plot()"
   ]
  },
  {
   "cell_type": "code",
   "execution_count": 25,
   "id": "d23386bc-ebec-4d2c-9f2f-a312ab960d6d",
   "metadata": {},
   "outputs": [
    {
     "data": {
      "text/plain": [
       "0.999803299013254"
      ]
     },
     "execution_count": 25,
     "metadata": {},
     "output_type": "execute_result"
    }
   ],
   "source": [
    "# 99 процентов занимают депозиты открытые позже 2017\n",
    "\n",
    "portfolio_res[portfolio_res['open_month']>='2017-01']['balance'].sum() / portfolio_res['balance'].sum()"
   ]
  },
  {
   "cell_type": "markdown",
   "id": "aa702183-0f0b-4a96-a267-63cbd548890b",
   "metadata": {},
   "source": [
    "## Корректируем дату открытия относительно даты закрытия для депозитов с пролонгацией"
   ]
  },
  {
   "cell_type": "code",
   "execution_count": 26,
   "id": "d60c6879-692e-464e-9d33-6252a2da35f7",
   "metadata": {},
   "outputs": [
    {
     "data": {
      "text/plain": [
       "report_month\n",
       "2023-01    2.950907e+12\n",
       "2023-02    3.000243e+12\n",
       "2023-03    3.044367e+12\n",
       "2023-04    3.077628e+12\n",
       "2023-05    3.131640e+12\n",
       "2023-06    3.148000e+12\n",
       "2023-07    3.150017e+12\n",
       "Name: balance, dtype: float64"
      ]
     },
     "execution_count": 26,
     "metadata": {},
     "output_type": "execute_result"
    }
   ],
   "source": [
    "portfolio_res.groupby('report_month').sum()['balance']"
   ]
  },
  {
   "cell_type": "code",
   "execution_count": 27,
   "id": "ccb40d5b-2014-4373-8640-77324e29196b",
   "metadata": {},
   "outputs": [],
   "source": []
  },
  {
   "cell_type": "code",
   "execution_count": 28,
   "id": "589ee5af-fdfc-4457-ba55-2f24a3226590",
   "metadata": {},
   "outputs": [
    {
     "data": {
      "text/html": [
       "<div>\n",
       "<style scoped>\n",
       "    .dataframe tbody tr th:only-of-type {\n",
       "        vertical-align: middle;\n",
       "    }\n",
       "\n",
       "    .dataframe tbody tr th {\n",
       "        vertical-align: top;\n",
       "    }\n",
       "\n",
       "    .dataframe thead th {\n",
       "        text-align: right;\n",
       "    }\n",
       "</style>\n",
       "<table border=\"1\" class=\"dataframe\">\n",
       "  <thead>\n",
       "    <tr style=\"text-align: right;\">\n",
       "      <th></th>\n",
       "      <th>open_month</th>\n",
       "      <th>close_month</th>\n",
       "      <th>month_maturity</th>\n",
       "      <th>renewal_cnt</th>\n",
       "    </tr>\n",
       "  </thead>\n",
       "  <tbody>\n",
       "    <tr>\n",
       "      <th>29</th>\n",
       "      <td>2022-10</td>\n",
       "      <td>2023-04</td>\n",
       "      <td>3</td>\n",
       "      <td>1.0</td>\n",
       "    </tr>\n",
       "    <tr>\n",
       "      <th>36</th>\n",
       "      <td>2022-10</td>\n",
       "      <td>2023-04</td>\n",
       "      <td>3</td>\n",
       "      <td>1.0</td>\n",
       "    </tr>\n",
       "    <tr>\n",
       "      <th>76</th>\n",
       "      <td>2022-10</td>\n",
       "      <td>2023-04</td>\n",
       "      <td>3</td>\n",
       "      <td>1.0</td>\n",
       "    </tr>\n",
       "    <tr>\n",
       "      <th>88</th>\n",
       "      <td>2022-09</td>\n",
       "      <td>2023-03</td>\n",
       "      <td>3</td>\n",
       "      <td>1.0</td>\n",
       "    </tr>\n",
       "    <tr>\n",
       "      <th>94</th>\n",
       "      <td>2022-09</td>\n",
       "      <td>2023-03</td>\n",
       "      <td>3</td>\n",
       "      <td>1.0</td>\n",
       "    </tr>\n",
       "    <tr>\n",
       "      <th>...</th>\n",
       "      <td>...</td>\n",
       "      <td>...</td>\n",
       "      <td>...</td>\n",
       "      <td>...</td>\n",
       "    </tr>\n",
       "    <tr>\n",
       "      <th>64308</th>\n",
       "      <td>2014-12</td>\n",
       "      <td>2023-12</td>\n",
       "      <td>12</td>\n",
       "      <td>2.0</td>\n",
       "    </tr>\n",
       "    <tr>\n",
       "      <th>64309</th>\n",
       "      <td>2015-02</td>\n",
       "      <td>2024-02</td>\n",
       "      <td>12</td>\n",
       "      <td>2.0</td>\n",
       "    </tr>\n",
       "    <tr>\n",
       "      <th>64310</th>\n",
       "      <td>2009-11</td>\n",
       "      <td>2023-12</td>\n",
       "      <td>12</td>\n",
       "      <td>2.0</td>\n",
       "    </tr>\n",
       "    <tr>\n",
       "      <th>64311</th>\n",
       "      <td>2019-05</td>\n",
       "      <td>2025-06</td>\n",
       "      <td>36</td>\n",
       "      <td>1.0</td>\n",
       "    </tr>\n",
       "    <tr>\n",
       "      <th>64312</th>\n",
       "      <td>2009-07</td>\n",
       "      <td>2023-08</td>\n",
       "      <td>12</td>\n",
       "      <td>2.0</td>\n",
       "    </tr>\n",
       "  </tbody>\n",
       "</table>\n",
       "<p>34691 rows × 4 columns</p>\n",
       "</div>"
      ],
      "text/plain": [
       "      open_month close_month  month_maturity  renewal_cnt\n",
       "29       2022-10     2023-04               3          1.0\n",
       "36       2022-10     2023-04               3          1.0\n",
       "76       2022-10     2023-04               3          1.0\n",
       "88       2022-09     2023-03               3          1.0\n",
       "94       2022-09     2023-03               3          1.0\n",
       "...          ...         ...             ...          ...\n",
       "64308    2014-12     2023-12              12          2.0\n",
       "64309    2015-02     2024-02              12          2.0\n",
       "64310    2009-11     2023-12              12          2.0\n",
       "64311    2019-05     2025-06              36          1.0\n",
       "64312    2009-07     2023-08              12          2.0\n",
       "\n",
       "[34691 rows x 4 columns]"
      ]
     },
     "execution_count": 28,
     "metadata": {},
     "output_type": "execute_result"
    }
   ],
   "source": [
    "portfolio_res[portfolio_res['renewal_cnt']>0][['open_month', 'close_month', 'month_maturity', 'renewal_cnt']]"
   ]
  },
  {
   "cell_type": "markdown",
   "id": "9b770ead-146d-46d7-b071-8c10285b523d",
   "metadata": {},
   "source": [
    " Формула расчета даты открытия к которой будет происходить джойн для депозитов где renewal_cnt>0: `дата закрытия` - `month_maturity`"
   ]
  },
  {
   "cell_type": "code",
   "execution_count": 29,
   "id": "343a3385-369d-4ed5-8b35-f67c01d6731b",
   "metadata": {},
   "outputs": [],
   "source": [
    "portfolio_res['close_month_dt'] = pd.to_datetime(portfolio_res['close_month']) "
   ]
  },
  {
   "cell_type": "code",
   "execution_count": 30,
   "id": "aa1bacd3-a78e-4037-9db8-f142e2ba8662",
   "metadata": {},
   "outputs": [],
   "source": [
    "portfolio_res['open_month_correct'] = pd.to_datetime(portfolio_res['open_month']) "
   ]
  },
  {
   "cell_type": "code",
   "execution_count": 31,
   "id": "a2e69e17-9265-4f41-acb1-6907acc919fd",
   "metadata": {},
   "outputs": [
    {
     "data": {
      "text/plain": [
       "array([ 6, 12,  3, 36, 18, 24])"
      ]
     },
     "execution_count": 31,
     "metadata": {},
     "output_type": "execute_result"
    }
   ],
   "source": [
    "portfolio_res['target_maturity_months'].unique()"
   ]
  },
  {
   "cell_type": "code",
   "execution_count": 32,
   "id": "902080ed-6f49-49a7-94a4-9dc9cdb8b71c",
   "metadata": {},
   "outputs": [
    {
     "data": {
      "text/plain": [
       "report_month\n",
       "2023-01    2.950907e+12\n",
       "2023-02    3.000243e+12\n",
       "2023-03    3.044367e+12\n",
       "2023-04    3.077628e+12\n",
       "2023-05    3.131640e+12\n",
       "2023-06    3.148000e+12\n",
       "2023-07    3.150017e+12\n",
       "Name: balance, dtype: float64"
      ]
     },
     "execution_count": 32,
     "metadata": {},
     "output_type": "execute_result"
    }
   ],
   "source": [
    "portfolio_res.groupby('report_month').sum()['balance']"
   ]
  },
  {
   "cell_type": "code",
   "execution_count": 33,
   "id": "0034a2c0-5cc2-4446-9ba1-c04b2f44908f",
   "metadata": {},
   "outputs": [],
   "source": [
    "for mat in portfolio_res['target_maturity_months'].unique():\n",
    "    \n",
    "    portfolio_res['open_month_correct'][(portfolio_res['renewal_cnt']>0)&(portfolio_res['target_maturity_months']==mat)] = \\\n",
    "    portfolio_res['close_month_dt'][(portfolio_res['renewal_cnt']>0)&(portfolio_res['target_maturity_months']==mat)] +  MonthEnd(-mat)\n",
    "    \n",
    "    \n",
    "    portfolio_res['open_month'][(portfolio_res['renewal_cnt']>0)&(portfolio_res['target_maturity_months']==mat)] = \\\n",
    "    portfolio_res['open_month_correct'][(portfolio_res['renewal_cnt']>0)&(portfolio_res['target_maturity_months']==mat)].apply(lambda x: str(x)[:7])"
   ]
  },
  {
   "cell_type": "code",
   "execution_count": 34,
   "id": "381bf843-5927-4b23-9c6e-172be9ac75d3",
   "metadata": {},
   "outputs": [
    {
     "data": {
      "text/plain": [
       "report_month\n",
       "2023-01    2.950907e+12\n",
       "2023-02    3.000243e+12\n",
       "2023-03    3.044367e+12\n",
       "2023-04    3.077628e+12\n",
       "2023-05    3.131640e+12\n",
       "2023-06    3.148000e+12\n",
       "2023-07    3.150017e+12\n",
       "Name: balance, dtype: float64"
      ]
     },
     "execution_count": 34,
     "metadata": {},
     "output_type": "execute_result"
    }
   ],
   "source": [
    "portfolio_res.groupby('report_month').sum()['balance']"
   ]
  },
  {
   "cell_type": "code",
   "execution_count": 35,
   "id": "4d7f5a15-acf8-4b6b-a1a2-383f55b63c40",
   "metadata": {},
   "outputs": [
    {
     "data": {
      "text/plain": [
       "<AxesSubplot:>"
      ]
     },
     "execution_count": 35,
     "metadata": {},
     "output_type": "execute_result"
    },
    {
     "data": {
      "image/png": "[encoded data removed]",
      "text/plain": [
       "<Figure size 640x480 with 1 Axes>"
      ]
     },
     "metadata": {},
     "output_type": "display_data"
    }
   ],
   "source": [
    "portfolio_res['open_month'].value_counts().sort_index().plot()"
   ]
  },
  {
   "cell_type": "markdown",
   "id": "92b7449f-e7c5-4c12-b42d-43a00dcf0fbb",
   "metadata": {},
   "source": [
    "## Парсим спреды и джойним их"
   ]
  },
  {
   "cell_type": "markdown",
   "id": "e780a393-0a10-49e0-a682-dd4874864087",
   "metadata": {},
   "source": [
    "Попробуем использовать спреды за опциональность для вычетания со срочностей"
   ]
  },
  {
   "cell_type": "code",
   "execution_count": 36,
   "id": "f66e2435-6bee-4eda-94de-8a583f16712c",
   "metadata": {},
   "outputs": [],
   "source": [
    "import pip"
   ]
  },
  {
   "cell_type": "code",
   "execution_count": 37,
   "id": "7e49b05b-6256-4939-be18-f6329dd392b0",
   "metadata": {},
   "outputs": [
    {
     "name": "stderr",
     "output_type": "stream",
     "text": [
      "WARNING: pip is being invoked by an old script wrapper. This will fail in a future version of pip.\n",
      "Please see https://github.com/pypa/pip/issues/5599 for advice on fixing the underlying issue.\n",
      "To avoid this problem you can invoke Python with '-m pip' instead of running pip directly.\n"
     ]
    },
    {
     "data": {
      "text/html": [
       "<pre style=\"white-space:pre;overflow-x:auto;line-height:normal;font-family:Menlo,'DejaVu Sans Mono',consolas,'Courier New',monospace\">Looking in indexes: http://nxrm:8081/repository/pypi/simple\n",
       "</pre>\n"
      ],
      "text/plain": [
       "Looking in indexes: http://nxrm:8081/repository/pypi/simple\n"
      ]
     },
     "metadata": {},
     "output_type": "display_data"
    },
    {
     "data": {
      "text/html": [
       "<pre style=\"white-space:pre;overflow-x:auto;line-height:normal;font-family:Menlo,'DejaVu Sans Mono',consolas,'Courier New',monospace\">Requirement already satisfied: openpyxl in /tmp/envs/hmelevskoi_env/lib/python3.7/site-packages (3.1.2)\n",
       "</pre>\n"
      ],
      "text/plain": [
       "Requirement already satisfied: openpyxl in /tmp/envs/hmelevskoi_env/lib/python3.7/site-packages (3.1.2)\n"
      ]
     },
     "metadata": {},
     "output_type": "display_data"
    },
    {
     "data": {
      "text/html": [
       "<pre style=\"white-space:pre;overflow-x:auto;line-height:normal;font-family:Menlo,'DejaVu Sans Mono',consolas,'Courier New',monospace\">Requirement already satisfied: et-xmlfile in /tmp/envs/hmelevskoi_env/lib/python3.7/site-packages (from openpyxl) (1.1.0)\n",
       "</pre>\n"
      ],
      "text/plain": [
       "Requirement already satisfied: et-xmlfile in /tmp/envs/hmelevskoi_env/lib/python3.7/site-packages (from openpyxl) (1.1.0)\n"
      ]
     },
     "metadata": {},
     "output_type": "display_data"
    },
    {
     "data": {
      "text/plain": [
       "0"
      ]
     },
     "execution_count": 37,
     "metadata": {},
     "output_type": "execute_result"
    }
   ],
   "source": [
    "pip.main(['install', 'openpyxl'])"
   ]
  },
  {
   "cell_type": "code",
   "execution_count": 38,
   "id": "aa98d6f5-defd-41d1-a766-56689047cee3",
   "metadata": {},
   "outputs": [],
   "source": [
    "spreads = pd.read_excel('spreads_deposits.xlsx')"
   ]
  },
  {
   "cell_type": "code",
   "execution_count": 39,
   "id": "d73ccf9a-6607-496a-ad90-88ecb90a0816",
   "metadata": {},
   "outputs": [],
   "source": [
    "#spreads['Дата'] = spreads['Дата'].dt.to_period('M')\n",
    "spreads = spreads[spreads['Валюта']=='RUB']"
   ]
  },
  {
   "cell_type": "code",
   "execution_count": 40,
   "id": "6ea721f5-3869-4b56-a922-94c8bc0188c1",
   "metadata": {},
   "outputs": [],
   "source": [
    "spreads_list = ['Спред по депозитам ФЛ с правом пополнения',\n",
    "                'Спред по депозитам ФЛ с правом пополнения и досрочного частичного снятия до суммы неснижаемого остатка']"
   ]
  },
  {
   "cell_type": "markdown",
   "id": "4d19ed0d-546c-4081-8097-af80da79d0fe",
   "metadata": {},
   "source": [
    "## Спред на момент выдачи или на момент расчета?"
   ]
  },
  {
   "cell_type": "code",
   "execution_count": 41,
   "id": "ece42bf5-9d78-4ae3-abf4-8fc74cc1f495",
   "metadata": {},
   "outputs": [],
   "source": [
    "spreads = spreads[spreads['Инструмент'].isin(spreads_list)]"
   ]
  },
  {
   "cell_type": "code",
   "execution_count": 42,
   "id": "5db9f160-8d30-4a24-9107-b6f4ddfd34ca",
   "metadata": {},
   "outputs": [
    {
     "data": {
      "text/plain": [
       "Index(['Дата', 'Валюта', 'Инструмент', '2 недели (14 дней)',\n",
       "       '3 недели (21 день)', '1 месяц (31 день)', '2 месяца (61 день)',\n",
       "       '3 месяца (91 день)', '6 месяцев (181 день)', '9 месяцев (271 день)',\n",
       "       '1 год (365 дней)', '1,5 года (548 дней)', '2 года (731 день)',\n",
       "       '3 года (1095 дней)', '4 года (1461 день)', '5 лет (1830 дней)',\n",
       "       'Комментарий', 'Обозначение инструмента',\n",
       "       'Обозначение базиса плавающей ставки'],\n",
       "      dtype='object')"
      ]
     },
     "execution_count": 42,
     "metadata": {},
     "output_type": "execute_result"
    }
   ],
   "source": [
    "spreads.columns"
   ]
  },
  {
   "cell_type": "code",
   "execution_count": 43,
   "id": "00b8c17b-fc70-422b-8eb9-8d63b972a5e5",
   "metadata": {},
   "outputs": [],
   "source": [
    "drop_cols = ['Валюта', \n",
    "             'Комментарий', \n",
    "             'Обозначение инструмента',\n",
    "             'Обозначение базиса плавающей ставки',\n",
    "             '4 года (1461 день)', \n",
    "             '5 лет (1830 дней)',\n",
    "             '2 недели (14 дней)', \n",
    "             '3 недели (21 день)',\n",
    "             '1 месяц (31 день)', \n",
    "             '2 месяца (61 день)',\n",
    "             '9 месяцев (271 день)']"
   ]
  },
  {
   "cell_type": "code",
   "execution_count": 44,
   "id": "e796c608-a727-4b4c-b971-7731ddddb1e3",
   "metadata": {},
   "outputs": [],
   "source": [
    "spreads.drop(columns=drop_cols, inplace=True)"
   ]
  },
  {
   "cell_type": "code",
   "execution_count": 45,
   "id": "64a6b4b5-06e7-41db-a2ff-0f3dc1e3283a",
   "metadata": {},
   "outputs": [],
   "source": [
    "spreads_maturity_dict = {'3 месяца (91 день)': '90_spread',\n",
    "                '6 месяцев (181 день)': '180_spread',\n",
    "                '1 год (365 дней)': '365_spread',\n",
    "                '1,5 года (548 дней)': '548_spread',\n",
    "                '2 года (731 день)': '730_spread',\n",
    "                '3 года (1095 дней)': '1095_spread'}"
   ]
  },
  {
   "cell_type": "code",
   "execution_count": 46,
   "id": "250436ac-fa7b-48b1-9caf-ac8daa0a74b7",
   "metadata": {},
   "outputs": [],
   "source": [
    "spreads.rename(columns=spreads_maturity_dict, inplace=True)"
   ]
  },
  {
   "cell_type": "code",
   "execution_count": 47,
   "id": "a48f1c68-06ed-4ae3-bf94-030db628397c",
   "metadata": {},
   "outputs": [
    {
     "data": {
      "text/plain": [
       "array(['Спред по депозитам ФЛ с правом пополнения',\n",
       "       'Спред по депозитам ФЛ с правом пополнения и досрочного частичного снятия до суммы неснижаемого остатка'],\n",
       "      dtype=object)"
      ]
     },
     "execution_count": 47,
     "metadata": {},
     "output_type": "execute_result"
    }
   ],
   "source": [
    "spreads['Инструмент'].unique()"
   ]
  },
  {
   "cell_type": "markdown",
   "id": "6ed7c7f4-a091-4f4b-a09d-461a15a285c9",
   "metadata": {},
   "source": [
    "r - буква, которая означает возможность пополнения вкладов (r1 - опция есть, r0 - опции нет). Происхождение: r от слова replenishable  \n",
    "s - буква, которая означает возможность расходных операций вкладов (s1 - опция есть, s0 - опции нет). Происхождение: s от слова subtraction  "
   ]
  },
  {
   "cell_type": "code",
   "execution_count": 48,
   "id": "ed852dd0-ec6c-4fbd-b2cb-311e0662875d",
   "metadata": {},
   "outputs": [],
   "source": [
    "spreads.loc[:, 'replenishable_flg'] = spreads['Инструмент'].isin(['Спред по депозитам ФЛ с правом пополнения', 'Спред по депозитам ФЛ с правом пополнения и досрочного частичного снятия до суммы неснижаемого остатка']).astype(int)\n",
    "spreads.loc[:, 'subtraction_flg'] = spreads['Инструмент'].isin(['Спред по депозитам ФЛ с правом пополнения и досрочного частичного снятия до суммы неснижаемого остатка']).astype(int)"
   ]
  },
  {
   "cell_type": "markdown",
   "id": "cb5ac1b0-d8ad-49fe-8cfc-1d7ed63d9161",
   "metadata": {},
   "source": [
    "## ПОДГОТОВИМ ДЛЯ ЗАПИСИ"
   ]
  },
  {
   "cell_type": "code",
   "execution_count": 49,
   "id": "77a7f50f-7460-4c9c-858d-04c5e88a7479",
   "metadata": {},
   "outputs": [],
   "source": [
    "spreads_tmp = spreads.rename(columns={'Дата': 'date'})"
   ]
  },
  {
   "cell_type": "code",
   "execution_count": 50,
   "id": "2daace27-07d4-4386-92c2-97e275889a9c",
   "metadata": {},
   "outputs": [
    {
     "data": {
      "text/html": [
       "<div>\n",
       "<style scoped>\n",
       "    .dataframe tbody tr th:only-of-type {\n",
       "        vertical-align: middle;\n",
       "    }\n",
       "\n",
       "    .dataframe tbody tr th {\n",
       "        vertical-align: top;\n",
       "    }\n",
       "\n",
       "    .dataframe thead th {\n",
       "        text-align: right;\n",
       "    }\n",
       "</style>\n",
       "<table border=\"1\" class=\"dataframe\">\n",
       "  <thead>\n",
       "    <tr style=\"text-align: right;\">\n",
       "      <th></th>\n",
       "      <th>date</th>\n",
       "      <th>Инструмент</th>\n",
       "      <th>90_spread</th>\n",
       "      <th>180_spread</th>\n",
       "      <th>365_spread</th>\n",
       "      <th>548_spread</th>\n",
       "      <th>730_spread</th>\n",
       "      <th>1095_spread</th>\n",
       "      <th>replenishable_flg</th>\n",
       "      <th>subtraction_flg</th>\n",
       "    </tr>\n",
       "  </thead>\n",
       "  <tbody>\n",
       "    <tr>\n",
       "      <th>0</th>\n",
       "      <td>2023-09-18</td>\n",
       "      <td>Спред по депозитам ФЛ с правом пополнения</td>\n",
       "      <td>0.0057</td>\n",
       "      <td>0.0089</td>\n",
       "      <td>0.0143</td>\n",
       "      <td>0.0147</td>\n",
       "      <td>0.0150</td>\n",
       "      <td>0.0158</td>\n",
       "      <td>1</td>\n",
       "      <td>0</td>\n",
       "    </tr>\n",
       "    <tr>\n",
       "      <th>2</th>\n",
       "      <td>2023-09-18</td>\n",
       "      <td>Спред по депозитам ФЛ с правом пополнения и до...</td>\n",
       "      <td>0.0073</td>\n",
       "      <td>0.0111</td>\n",
       "      <td>0.0171</td>\n",
       "      <td>0.0178</td>\n",
       "      <td>0.0186</td>\n",
       "      <td>0.0198</td>\n",
       "      <td>1</td>\n",
       "      <td>1</td>\n",
       "    </tr>\n",
       "    <tr>\n",
       "      <th>6</th>\n",
       "      <td>2023-08-15</td>\n",
       "      <td>Спред по депозитам ФЛ с правом пополнения</td>\n",
       "      <td>0.0050</td>\n",
       "      <td>0.0078</td>\n",
       "      <td>0.0129</td>\n",
       "      <td>0.0142</td>\n",
       "      <td>0.0154</td>\n",
       "      <td>0.0156</td>\n",
       "      <td>1</td>\n",
       "      <td>0</td>\n",
       "    </tr>\n",
       "    <tr>\n",
       "      <th>8</th>\n",
       "      <td>2023-08-15</td>\n",
       "      <td>Спред по депозитам ФЛ с правом пополнения и до...</td>\n",
       "      <td>0.0065</td>\n",
       "      <td>0.0098</td>\n",
       "      <td>0.0156</td>\n",
       "      <td>0.0175</td>\n",
       "      <td>0.0193</td>\n",
       "      <td>0.0195</td>\n",
       "      <td>1</td>\n",
       "      <td>1</td>\n",
       "    </tr>\n",
       "    <tr>\n",
       "      <th>12</th>\n",
       "      <td>2023-07-24</td>\n",
       "      <td>Спред по депозитам ФЛ с правом пополнения</td>\n",
       "      <td>0.0029</td>\n",
       "      <td>0.0048</td>\n",
       "      <td>0.0089</td>\n",
       "      <td>0.0095</td>\n",
       "      <td>0.0101</td>\n",
       "      <td>0.0106</td>\n",
       "      <td>1</td>\n",
       "      <td>0</td>\n",
       "    </tr>\n",
       "  </tbody>\n",
       "</table>\n",
       "</div>"
      ],
      "text/plain": [
       "         date                                         Инструмент  90_spread  \\\n",
       "0  2023-09-18          Спред по депозитам ФЛ с правом пополнения     0.0057   \n",
       "2  2023-09-18  Спред по депозитам ФЛ с правом пополнения и до...     0.0073   \n",
       "6  2023-08-15          Спред по депозитам ФЛ с правом пополнения     0.0050   \n",
       "8  2023-08-15  Спред по депозитам ФЛ с правом пополнения и до...     0.0065   \n",
       "12 2023-07-24          Спред по депозитам ФЛ с правом пополнения     0.0029   \n",
       "\n",
       "    180_spread  365_spread  548_spread  730_spread  1095_spread  \\\n",
       "0       0.0089      0.0143      0.0147      0.0150       0.0158   \n",
       "2       0.0111      0.0171      0.0178      0.0186       0.0198   \n",
       "6       0.0078      0.0129      0.0142      0.0154       0.0156   \n",
       "8       0.0098      0.0156      0.0175      0.0193       0.0195   \n",
       "12      0.0048      0.0089      0.0095      0.0101       0.0106   \n",
       "\n",
       "    replenishable_flg  subtraction_flg  \n",
       "0                   1                0  \n",
       "2                   1                1  \n",
       "6                   1                0  \n",
       "8                   1                1  \n",
       "12                  1                0  "
      ]
     },
     "execution_count": 50,
     "metadata": {},
     "output_type": "execute_result"
    }
   ],
   "source": [
    "spreads_tmp.head()"
   ]
  },
  {
   "cell_type": "code",
   "execution_count": 51,
   "id": "fad55a9e-79e4-473d-83fa-ce70b54910f7",
   "metadata": {},
   "outputs": [],
   "source": [
    "spreads_tmp_s0 = spreads_tmp[spreads_tmp['subtraction_flg']==0]\n",
    "spreads_tmp_s1 = spreads_tmp[spreads_tmp['subtraction_flg']==1]"
   ]
  },
  {
   "cell_type": "code",
   "execution_count": null,
   "id": "d60281bf-c6b5-4fb6-8d4e-35474501bc8d",
   "metadata": {},
   "outputs": [],
   "source": []
  },
  {
   "cell_type": "code",
   "execution_count": null,
   "id": "0d7252fb-952c-454e-a7ba-c404de77ebad",
   "metadata": {},
   "outputs": [],
   "source": []
  },
  {
   "cell_type": "code",
   "execution_count": 52,
   "id": "0633da97-2352-4f30-aa3f-02d838623c8e",
   "metadata": {},
   "outputs": [],
   "source": [
    "dates = pd.date_range(start='2005-01-01', end='2023-09-01')"
   ]
  },
  {
   "cell_type": "code",
   "execution_count": 53,
   "id": "76ac3af5-8142-4b46-bff6-72543c7b82b2",
   "metadata": {},
   "outputs": [],
   "source": [
    "dates = pd.DataFrame(dates)"
   ]
  },
  {
   "cell_type": "code",
   "execution_count": 54,
   "id": "a8f98612-13cb-42a4-b8d4-96b40de1a2d7",
   "metadata": {},
   "outputs": [],
   "source": [
    "dates.rename(columns={0: 'date'}, inplace=True)"
   ]
  },
  {
   "cell_type": "code",
   "execution_count": 55,
   "id": "dc682ced-b21f-4f24-a4ec-3e9f0fc57cef",
   "metadata": {},
   "outputs": [],
   "source": [
    "spreads_tmp_s0 = dates.merge(spreads_tmp_s0, on='date', how='left').sort_values(by='date', ascending=False).fillna(method='bfill').dropna()"
   ]
  },
  {
   "cell_type": "code",
   "execution_count": 56,
   "id": "da3950bd-1760-4b5b-95b5-b9f55a1cf1a0",
   "metadata": {},
   "outputs": [],
   "source": [
    "del spreads_tmp_s0['Инструмент']"
   ]
  },
  {
   "cell_type": "code",
   "execution_count": 57,
   "id": "53d644f5-ae94-4624-8be2-ba3e34935099",
   "metadata": {},
   "outputs": [],
   "source": [
    "spreads_tmp_s1 = dates.merge(spreads_tmp_s1, on='date', how='left').sort_values(by='date', ascending=False).fillna(method='bfill').dropna()"
   ]
  },
  {
   "cell_type": "code",
   "execution_count": 58,
   "id": "43ba87ba-906a-4e80-ba04-53a37a3b70bb",
   "metadata": {},
   "outputs": [],
   "source": [
    "del spreads_tmp_s1['Инструмент']"
   ]
  },
  {
   "cell_type": "code",
   "execution_count": 59,
   "id": "56404c31-e84d-4c29-9ba1-b8cfaa0f1002",
   "metadata": {},
   "outputs": [
    {
     "data": {
      "text/plain": [
       "(2070, 9)"
      ]
     },
     "execution_count": 59,
     "metadata": {},
     "output_type": "execute_result"
    }
   ],
   "source": [
    "spreads_tmp_s0.shape"
   ]
  },
  {
   "cell_type": "code",
   "execution_count": 60,
   "id": "585ceb8b-bb83-4db8-ba45-32250f63b9fb",
   "metadata": {},
   "outputs": [
    {
     "data": {
      "text/plain": [
       "(2070, 9)"
      ]
     },
     "execution_count": 60,
     "metadata": {},
     "output_type": "execute_result"
    }
   ],
   "source": [
    "spreads_tmp_s1.shape"
   ]
  },
  {
   "cell_type": "code",
   "execution_count": 61,
   "id": "e816efc6-8dcb-485a-a9a2-27a39503be2d",
   "metadata": {},
   "outputs": [
    {
     "data": {
      "text/plain": [
       "2957.52452839121"
      ]
     },
     "execution_count": 61,
     "metadata": {},
     "output_type": "execute_result"
    }
   ],
   "source": [
    "2957524528391.21000 / 10**9"
   ]
  },
  {
   "cell_type": "code",
   "execution_count": 62,
   "id": "c7765be9-d735-446b-ace5-f7019ec13f06",
   "metadata": {},
   "outputs": [
    {
     "data": {
      "text/html": [
       "<div>\n",
       "<style scoped>\n",
       "    .dataframe tbody tr th:only-of-type {\n",
       "        vertical-align: middle;\n",
       "    }\n",
       "\n",
       "    .dataframe tbody tr th {\n",
       "        vertical-align: top;\n",
       "    }\n",
       "\n",
       "    .dataframe thead th {\n",
       "        text-align: right;\n",
       "    }\n",
       "</style>\n",
       "<table border=\"1\" class=\"dataframe\">\n",
       "  <thead>\n",
       "    <tr style=\"text-align: right;\">\n",
       "      <th></th>\n",
       "      <th>date</th>\n",
       "      <th>90_spread</th>\n",
       "      <th>180_spread</th>\n",
       "      <th>365_spread</th>\n",
       "      <th>548_spread</th>\n",
       "      <th>730_spread</th>\n",
       "      <th>1095_spread</th>\n",
       "      <th>replenishable_flg</th>\n",
       "      <th>subtraction_flg</th>\n",
       "    </tr>\n",
       "  </thead>\n",
       "  <tbody>\n",
       "    <tr>\n",
       "      <th>6817</th>\n",
       "      <td>2023-09-01</td>\n",
       "      <td>0.0050</td>\n",
       "      <td>0.0078</td>\n",
       "      <td>0.0129</td>\n",
       "      <td>0.0142</td>\n",
       "      <td>0.0154</td>\n",
       "      <td>0.0156</td>\n",
       "      <td>1.0</td>\n",
       "      <td>0.0</td>\n",
       "    </tr>\n",
       "    <tr>\n",
       "      <th>6816</th>\n",
       "      <td>2023-08-31</td>\n",
       "      <td>0.0050</td>\n",
       "      <td>0.0078</td>\n",
       "      <td>0.0129</td>\n",
       "      <td>0.0142</td>\n",
       "      <td>0.0154</td>\n",
       "      <td>0.0156</td>\n",
       "      <td>1.0</td>\n",
       "      <td>0.0</td>\n",
       "    </tr>\n",
       "    <tr>\n",
       "      <th>6815</th>\n",
       "      <td>2023-08-30</td>\n",
       "      <td>0.0050</td>\n",
       "      <td>0.0078</td>\n",
       "      <td>0.0129</td>\n",
       "      <td>0.0142</td>\n",
       "      <td>0.0154</td>\n",
       "      <td>0.0156</td>\n",
       "      <td>1.0</td>\n",
       "      <td>0.0</td>\n",
       "    </tr>\n",
       "    <tr>\n",
       "      <th>6814</th>\n",
       "      <td>2023-08-29</td>\n",
       "      <td>0.0050</td>\n",
       "      <td>0.0078</td>\n",
       "      <td>0.0129</td>\n",
       "      <td>0.0142</td>\n",
       "      <td>0.0154</td>\n",
       "      <td>0.0156</td>\n",
       "      <td>1.0</td>\n",
       "      <td>0.0</td>\n",
       "    </tr>\n",
       "    <tr>\n",
       "      <th>6813</th>\n",
       "      <td>2023-08-28</td>\n",
       "      <td>0.0050</td>\n",
       "      <td>0.0078</td>\n",
       "      <td>0.0129</td>\n",
       "      <td>0.0142</td>\n",
       "      <td>0.0154</td>\n",
       "      <td>0.0156</td>\n",
       "      <td>1.0</td>\n",
       "      <td>0.0</td>\n",
       "    </tr>\n",
       "    <tr>\n",
       "      <th>...</th>\n",
       "      <td>...</td>\n",
       "      <td>...</td>\n",
       "      <td>...</td>\n",
       "      <td>...</td>\n",
       "      <td>...</td>\n",
       "      <td>...</td>\n",
       "      <td>...</td>\n",
       "      <td>...</td>\n",
       "      <td>...</td>\n",
       "    </tr>\n",
       "    <tr>\n",
       "      <th>4752</th>\n",
       "      <td>2018-01-05</td>\n",
       "      <td>0.0045</td>\n",
       "      <td>0.0062</td>\n",
       "      <td>0.0091</td>\n",
       "      <td>0.0105</td>\n",
       "      <td>0.0119</td>\n",
       "      <td>0.0136</td>\n",
       "      <td>1.0</td>\n",
       "      <td>1.0</td>\n",
       "    </tr>\n",
       "    <tr>\n",
       "      <th>4751</th>\n",
       "      <td>2018-01-04</td>\n",
       "      <td>0.0045</td>\n",
       "      <td>0.0062</td>\n",
       "      <td>0.0091</td>\n",
       "      <td>0.0105</td>\n",
       "      <td>0.0119</td>\n",
       "      <td>0.0136</td>\n",
       "      <td>1.0</td>\n",
       "      <td>1.0</td>\n",
       "    </tr>\n",
       "    <tr>\n",
       "      <th>4750</th>\n",
       "      <td>2018-01-03</td>\n",
       "      <td>0.0045</td>\n",
       "      <td>0.0062</td>\n",
       "      <td>0.0091</td>\n",
       "      <td>0.0105</td>\n",
       "      <td>0.0119</td>\n",
       "      <td>0.0136</td>\n",
       "      <td>1.0</td>\n",
       "      <td>1.0</td>\n",
       "    </tr>\n",
       "    <tr>\n",
       "      <th>4749</th>\n",
       "      <td>2018-01-02</td>\n",
       "      <td>0.0045</td>\n",
       "      <td>0.0062</td>\n",
       "      <td>0.0091</td>\n",
       "      <td>0.0105</td>\n",
       "      <td>0.0119</td>\n",
       "      <td>0.0136</td>\n",
       "      <td>1.0</td>\n",
       "      <td>1.0</td>\n",
       "    </tr>\n",
       "    <tr>\n",
       "      <th>4748</th>\n",
       "      <td>2018-01-01</td>\n",
       "      <td>0.0045</td>\n",
       "      <td>0.0062</td>\n",
       "      <td>0.0091</td>\n",
       "      <td>0.0105</td>\n",
       "      <td>0.0119</td>\n",
       "      <td>0.0136</td>\n",
       "      <td>1.0</td>\n",
       "      <td>1.0</td>\n",
       "    </tr>\n",
       "  </tbody>\n",
       "</table>\n",
       "<p>4140 rows × 9 columns</p>\n",
       "</div>"
      ],
      "text/plain": [
       "           date  90_spread  180_spread  365_spread  548_spread  730_spread  \\\n",
       "6817 2023-09-01     0.0050      0.0078      0.0129      0.0142      0.0154   \n",
       "6816 2023-08-31     0.0050      0.0078      0.0129      0.0142      0.0154   \n",
       "6815 2023-08-30     0.0050      0.0078      0.0129      0.0142      0.0154   \n",
       "6814 2023-08-29     0.0050      0.0078      0.0129      0.0142      0.0154   \n",
       "6813 2023-08-28     0.0050      0.0078      0.0129      0.0142      0.0154   \n",
       "...         ...        ...         ...         ...         ...         ...   \n",
       "4752 2018-01-05     0.0045      0.0062      0.0091      0.0105      0.0119   \n",
       "4751 2018-01-04     0.0045      0.0062      0.0091      0.0105      0.0119   \n",
       "4750 2018-01-03     0.0045      0.0062      0.0091      0.0105      0.0119   \n",
       "4749 2018-01-02     0.0045      0.0062      0.0091      0.0105      0.0119   \n",
       "4748 2018-01-01     0.0045      0.0062      0.0091      0.0105      0.0119   \n",
       "\n",
       "      1095_spread  replenishable_flg  subtraction_flg  \n",
       "6817       0.0156                1.0              0.0  \n",
       "6816       0.0156                1.0              0.0  \n",
       "6815       0.0156                1.0              0.0  \n",
       "6814       0.0156                1.0              0.0  \n",
       "6813       0.0156                1.0              0.0  \n",
       "...           ...                ...              ...  \n",
       "4752       0.0136                1.0              1.0  \n",
       "4751       0.0136                1.0              1.0  \n",
       "4750       0.0136                1.0              1.0  \n",
       "4749       0.0136                1.0              1.0  \n",
       "4748       0.0136                1.0              1.0  \n",
       "\n",
       "[4140 rows x 9 columns]"
      ]
     },
     "execution_count": 62,
     "metadata": {},
     "output_type": "execute_result"
    }
   ],
   "source": [
    "spreads_tmp_final = spreads_tmp_s0.append(spreads_tmp_s1)\n",
    "spreads_tmp_final"
   ]
  },
  {
   "cell_type": "code",
   "execution_count": 63,
   "id": "1ed91271-5ab6-4829-9dbb-9b3dccdee5de",
   "metadata": {},
   "outputs": [],
   "source": [
    "#sparkDF = spark.createDataFrame(spreads_tmp_final)"
   ]
  },
  {
   "cell_type": "code",
   "execution_count": 64,
   "id": "8fb0fda8-6271-445f-9ce0-8ff5dcdc1229",
   "metadata": {},
   "outputs": [],
   "source": [
    "#sparkDF.write.mode('overwrite').saveAsTable('dadm_alm_sbx.vtb_spreads_deposits')"
   ]
  },
  {
   "cell_type": "code",
   "execution_count": 65,
   "id": "aa8848d7-9eb7-40ea-96c7-7faa509fbd2d",
   "metadata": {},
   "outputs": [],
   "source": [
    "#spark.catalog.refreshTable('dadm_alm_sbx.vtb_spreads_deposits')"
   ]
  },
  {
   "cell_type": "code",
   "execution_count": null,
   "id": "4ff9cdd9-72d3-4ed1-9100-550f04a479fa",
   "metadata": {},
   "outputs": [],
   "source": []
  },
  {
   "cell_type": "code",
   "execution_count": null,
   "id": "3ea3b7d0-9477-4067-99ad-adc51547c0d8",
   "metadata": {},
   "outputs": [],
   "source": []
  },
  {
   "cell_type": "code",
   "execution_count": null,
   "id": "9d52150e-9c88-4030-87e2-0dd32b873d77",
   "metadata": {},
   "outputs": [],
   "source": []
  },
  {
   "cell_type": "code",
   "execution_count": null,
   "id": "af3d922c-94ef-4cbb-b744-a153400dbc3c",
   "metadata": {},
   "outputs": [],
   "source": []
  },
  {
   "cell_type": "code",
   "execution_count": null,
   "id": "b12878b0-04df-464f-b4ae-82267196871e",
   "metadata": {},
   "outputs": [],
   "source": []
  },
  {
   "cell_type": "code",
   "execution_count": null,
   "id": "04c02c1f-de80-4da5-9976-f868badbbe15",
   "metadata": {},
   "outputs": [],
   "source": []
  },
  {
   "cell_type": "code",
   "execution_count": null,
   "id": "f7f70ce3-ad5c-449c-914d-dc251f8be82a",
   "metadata": {},
   "outputs": [],
   "source": []
  },
  {
   "cell_type": "code",
   "execution_count": null,
   "id": "27e61218-447a-45ae-ae94-3b30b191b10b",
   "metadata": {},
   "outputs": [],
   "source": []
  },
  {
   "cell_type": "code",
   "execution_count": null,
   "id": "1d973b12-2a1a-4a46-ac7b-7b25b75d99a6",
   "metadata": {},
   "outputs": [],
   "source": []
  },
  {
   "cell_type": "code",
   "execution_count": null,
   "id": "4211069f-a038-42c5-b6d3-23bfa2ab62be",
   "metadata": {},
   "outputs": [],
   "source": []
  },
  {
   "cell_type": "markdown",
   "id": "973b68e8-541b-4717-b2c9-8c3529038300",
   "metadata": {},
   "source": [
    "## Продолжаем"
   ]
  },
  {
   "cell_type": "code",
   "execution_count": 66,
   "id": "7f6ed0fe-057e-40a9-a95e-fd6ef23f405f",
   "metadata": {},
   "outputs": [],
   "source": [
    "spreads['open_month'] = spreads['Дата'].apply(lambda x: str(x)[:7])"
   ]
  },
  {
   "cell_type": "code",
   "execution_count": 67,
   "id": "9d6f6728-a3c0-4924-97c0-5687601bd96b",
   "metadata": {},
   "outputs": [
    {
     "data": {
      "text/html": [
       "<div>\n",
       "<style scoped>\n",
       "    .dataframe tbody tr th:only-of-type {\n",
       "        vertical-align: middle;\n",
       "    }\n",
       "\n",
       "    .dataframe tbody tr th {\n",
       "        vertical-align: top;\n",
       "    }\n",
       "\n",
       "    .dataframe thead th {\n",
       "        text-align: right;\n",
       "    }\n",
       "</style>\n",
       "<table border=\"1\" class=\"dataframe\">\n",
       "  <thead>\n",
       "    <tr style=\"text-align: right;\">\n",
       "      <th></th>\n",
       "      <th>report_month</th>\n",
       "      <th>bucketed_balance</th>\n",
       "      <th>is_vip_or_prv</th>\n",
       "      <th>drop_flg</th>\n",
       "      <th>optional_flg</th>\n",
       "      <th>bucketed_period</th>\n",
       "      <th>open_month</th>\n",
       "      <th>close_month</th>\n",
       "      <th>bucketed_open_rate</th>\n",
       "      <th>report_dt</th>\n",
       "      <th>total_interests</th>\n",
       "      <th>remaining_interests</th>\n",
       "      <th>weight_rate</th>\n",
       "      <th>total_generation</th>\n",
       "      <th>total_generation_cleared</th>\n",
       "      <th>weight_renewal_cnt</th>\n",
       "      <th>weight_renewal_available_flg</th>\n",
       "      <th>weight_close_plan_day</th>\n",
       "      <th>gen_name</th>\n",
       "      <th>SER_d</th>\n",
       "      <th>SER_d_cl</th>\n",
       "      <th>SER_dinamic</th>\n",
       "      <th>SER_dinamic_cl</th>\n",
       "      <th>total_generation_lag1</th>\n",
       "      <th>total_generation_cl_lag1</th>\n",
       "      <th>CUR</th>\n",
       "      <th>report_weight_open_rate_1m</th>\n",
       "      <th>report_weight_open_rate_3m</th>\n",
       "      <th>report_weight_open_rate_6m</th>\n",
       "      <th>report_weight_open_rate_12m</th>\n",
       "      <th>report_weight_open_rate_24m</th>\n",
       "      <th>report_wo_period_weight_open_rate</th>\n",
       "      <th>init_total_generation</th>\n",
       "      <th>row_count</th>\n",
       "      <th>share_period_plan</th>\n",
       "      <th>max_total_generation</th>\n",
       "      <th>max_SER_dinamic</th>\n",
       "      <th>replenishable_flg</th>\n",
       "      <th>subtraction_flg</th>\n",
       "      <th>segment</th>\n",
       "      <th>month_maturity</th>\n",
       "      <th>target_maturity_days</th>\n",
       "      <th>bucketed_balance_nm</th>\n",
       "      <th>renewal_cnt</th>\n",
       "      <th>operations_in_month</th>\n",
       "      <th>early_withdrawal_in_month</th>\n",
       "      <th>balance</th>\n",
       "      <th>interests</th>\n",
       "      <th>open_month_correct</th>\n",
       "      <th>target_maturity_months</th>\n",
       "      <th>close_month_dt</th>\n",
       "    </tr>\n",
       "  </thead>\n",
       "  <tbody>\n",
       "    <tr>\n",
       "      <th>0</th>\n",
       "      <td>2023-01</td>\n",
       "      <td>4.0</td>\n",
       "      <td>0</td>\n",
       "      <td>0.0</td>\n",
       "      <td>0.0</td>\n",
       "      <td>7.0</td>\n",
       "      <td>2022-09</td>\n",
       "      <td>2023-03</td>\n",
       "      <td>8.0</td>\n",
       "      <td>2023-01-31</td>\n",
       "      <td>1.080998e+09</td>\n",
       "      <td>4.309770e+08</td>\n",
       "      <td>7.014158</td>\n",
       "      <td>3.767463e+10</td>\n",
       "      <td>3.689392e+10</td>\n",
       "      <td>0.0</td>\n",
       "      <td>0.0</td>\n",
       "      <td>7.640179</td>\n",
       "      <td>2022-09_2023-03_4.0_7.0_8.0_0_0_0.0_RUR</td>\n",
       "      <td>-1.498874e+08</td>\n",
       "      <td>-3.443082e+08</td>\n",
       "      <td>-0.003963</td>\n",
       "      <td>-0.009246</td>\n",
       "      <td>3.782452e+10</td>\n",
       "      <td>3.723822e+10</td>\n",
       "      <td>RUR</td>\n",
       "      <td>NaN</td>\n",
       "      <td>7.0</td>\n",
       "      <td>7.526670</td>\n",
       "      <td>7.469240</td>\n",
       "      <td>NaN</td>\n",
       "      <td>7.404150</td>\n",
       "      <td>4.033852e+10</td>\n",
       "      <td>5</td>\n",
       "      <td>0.674033</td>\n",
       "      <td>3.767463e+10</td>\n",
       "      <td>-0.003963</td>\n",
       "      <td>0</td>\n",
       "      <td>0</td>\n",
       "      <td>mass</td>\n",
       "      <td>6</td>\n",
       "      <td>180</td>\n",
       "      <td>1000k-2000k</td>\n",
       "      <td>0.0</td>\n",
       "      <td>0.0</td>\n",
       "      <td>-3.443082e+08</td>\n",
       "      <td>3.767463e+10</td>\n",
       "      <td>1.944209e+08</td>\n",
       "      <td>2022-09-01</td>\n",
       "      <td>6</td>\n",
       "      <td>2023-03-01</td>\n",
       "    </tr>\n",
       "    <tr>\n",
       "      <th>1</th>\n",
       "      <td>2023-01</td>\n",
       "      <td>3.0</td>\n",
       "      <td>0</td>\n",
       "      <td>0.0</td>\n",
       "      <td>0.0</td>\n",
       "      <td>7.0</td>\n",
       "      <td>2022-09</td>\n",
       "      <td>2023-03</td>\n",
       "      <td>8.0</td>\n",
       "      <td>2023-01-31</td>\n",
       "      <td>1.039290e+09</td>\n",
       "      <td>4.140946e+08</td>\n",
       "      <td>7.014465</td>\n",
       "      <td>3.624522e+10</td>\n",
       "      <td>3.546236e+10</td>\n",
       "      <td>0.0</td>\n",
       "      <td>0.0</td>\n",
       "      <td>7.765046</td>\n",
       "      <td>2022-09_2023-03_3.0_7.0_8.0_0_0_0.0_RUR</td>\n",
       "      <td>4.100963e+07</td>\n",
       "      <td>-1.568994e+08</td>\n",
       "      <td>0.001133</td>\n",
       "      <td>-0.004405</td>\n",
       "      <td>3.620421e+10</td>\n",
       "      <td>3.561926e+10</td>\n",
       "      <td>RUR</td>\n",
       "      <td>NaN</td>\n",
       "      <td>7.0</td>\n",
       "      <td>7.490077</td>\n",
       "      <td>7.450225</td>\n",
       "      <td>NaN</td>\n",
       "      <td>7.355351</td>\n",
       "      <td>3.720755e+10</td>\n",
       "      <td>5</td>\n",
       "      <td>0.674033</td>\n",
       "      <td>3.624522e+10</td>\n",
       "      <td>0.001133</td>\n",
       "      <td>0</td>\n",
       "      <td>0</td>\n",
       "      <td>mass</td>\n",
       "      <td>6</td>\n",
       "      <td>180</td>\n",
       "      <td>400k-1000k</td>\n",
       "      <td>0.0</td>\n",
       "      <td>0.0</td>\n",
       "      <td>-1.568994e+08</td>\n",
       "      <td>3.624522e+10</td>\n",
       "      <td>1.979090e+08</td>\n",
       "      <td>2022-09-01</td>\n",
       "      <td>6</td>\n",
       "      <td>2023-03-01</td>\n",
       "    </tr>\n",
       "    <tr>\n",
       "      <th>2</th>\n",
       "      <td>2023-01</td>\n",
       "      <td>4.0</td>\n",
       "      <td>0</td>\n",
       "      <td>0.0</td>\n",
       "      <td>0.0</td>\n",
       "      <td>13.0</td>\n",
       "      <td>2022-09</td>\n",
       "      <td>2023-09</td>\n",
       "      <td>8.0</td>\n",
       "      <td>2023-01-31</td>\n",
       "      <td>7.430132e+08</td>\n",
       "      <td>1.515603e+09</td>\n",
       "      <td>7.000000</td>\n",
       "      <td>2.592414e+10</td>\n",
       "      <td>2.539205e+10</td>\n",
       "      <td>0.0</td>\n",
       "      <td>0.0</td>\n",
       "      <td>14.847356</td>\n",
       "      <td>2022-09_2023-09_4.0_13.0_8.0_0_0_0.0_RUR</td>\n",
       "      <td>-6.024040e+07</td>\n",
       "      <td>-1.934322e+08</td>\n",
       "      <td>-0.002318</td>\n",
       "      <td>-0.007560</td>\n",
       "      <td>2.598438e+10</td>\n",
       "      <td>2.558548e+10</td>\n",
       "      <td>RUR</td>\n",
       "      <td>NaN</td>\n",
       "      <td>7.0</td>\n",
       "      <td>7.526670</td>\n",
       "      <td>7.469240</td>\n",
       "      <td>NaN</td>\n",
       "      <td>7.404150</td>\n",
       "      <td>2.814998e+10</td>\n",
       "      <td>5</td>\n",
       "      <td>0.334247</td>\n",
       "      <td>2.592414e+10</td>\n",
       "      <td>-0.002318</td>\n",
       "      <td>0</td>\n",
       "      <td>0</td>\n",
       "      <td>mass</td>\n",
       "      <td>12</td>\n",
       "      <td>365</td>\n",
       "      <td>1000k-2000k</td>\n",
       "      <td>0.0</td>\n",
       "      <td>0.0</td>\n",
       "      <td>-1.934322e+08</td>\n",
       "      <td>2.592414e+10</td>\n",
       "      <td>1.331918e+08</td>\n",
       "      <td>2022-09-01</td>\n",
       "      <td>12</td>\n",
       "      <td>2023-09-01</td>\n",
       "    </tr>\n",
       "  </tbody>\n",
       "</table>\n",
       "</div>"
      ],
      "text/plain": [
       "  report_month  bucketed_balance  is_vip_or_prv  drop_flg  optional_flg  \\\n",
       "0      2023-01               4.0              0       0.0           0.0   \n",
       "1      2023-01               3.0              0       0.0           0.0   \n",
       "2      2023-01               4.0              0       0.0           0.0   \n",
       "\n",
       "   bucketed_period open_month close_month  bucketed_open_rate  report_dt  \\\n",
       "0              7.0    2022-09     2023-03                 8.0 2023-01-31   \n",
       "1              7.0    2022-09     2023-03                 8.0 2023-01-31   \n",
       "2             13.0    2022-09     2023-09                 8.0 2023-01-31   \n",
       "\n",
       "   total_interests  remaining_interests  weight_rate  total_generation  \\\n",
       "0     1.080998e+09         4.309770e+08     7.014158      3.767463e+10   \n",
       "1     1.039290e+09         4.140946e+08     7.014465      3.624522e+10   \n",
       "2     7.430132e+08         1.515603e+09     7.000000      2.592414e+10   \n",
       "\n",
       "   total_generation_cleared  weight_renewal_cnt  weight_renewal_available_flg  \\\n",
       "0              3.689392e+10                 0.0                           0.0   \n",
       "1              3.546236e+10                 0.0                           0.0   \n",
       "2              2.539205e+10                 0.0                           0.0   \n",
       "\n",
       "   weight_close_plan_day                                  gen_name  \\\n",
       "0               7.640179   2022-09_2023-03_4.0_7.0_8.0_0_0_0.0_RUR   \n",
       "1               7.765046   2022-09_2023-03_3.0_7.0_8.0_0_0_0.0_RUR   \n",
       "2              14.847356  2022-09_2023-09_4.0_13.0_8.0_0_0_0.0_RUR   \n",
       "\n",
       "          SER_d      SER_d_cl  SER_dinamic  SER_dinamic_cl  \\\n",
       "0 -1.498874e+08 -3.443082e+08    -0.003963       -0.009246   \n",
       "1  4.100963e+07 -1.568994e+08     0.001133       -0.004405   \n",
       "2 -6.024040e+07 -1.934322e+08    -0.002318       -0.007560   \n",
       "\n",
       "   total_generation_lag1  total_generation_cl_lag1  CUR  \\\n",
       "0           3.782452e+10              3.723822e+10  RUR   \n",
       "1           3.620421e+10              3.561926e+10  RUR   \n",
       "2           2.598438e+10              2.558548e+10  RUR   \n",
       "\n",
       "   report_weight_open_rate_1m  report_weight_open_rate_3m  \\\n",
       "0                         NaN                         7.0   \n",
       "1                         NaN                         7.0   \n",
       "2                         NaN                         7.0   \n",
       "\n",
       "   report_weight_open_rate_6m  report_weight_open_rate_12m  \\\n",
       "0                    7.526670                     7.469240   \n",
       "1                    7.490077                     7.450225   \n",
       "2                    7.526670                     7.469240   \n",
       "\n",
       "   report_weight_open_rate_24m  report_wo_period_weight_open_rate  \\\n",
       "0                          NaN                           7.404150   \n",
       "1                          NaN                           7.355351   \n",
       "2                          NaN                           7.404150   \n",
       "\n",
       "   init_total_generation  row_count  share_period_plan  max_total_generation  \\\n",
       "0           4.033852e+10          5           0.674033          3.767463e+10   \n",
       "1           3.720755e+10          5           0.674033          3.624522e+10   \n",
       "2           2.814998e+10          5           0.334247          2.592414e+10   \n",
       "\n",
       "   max_SER_dinamic  replenishable_flg  subtraction_flg segment  \\\n",
       "0        -0.003963                  0                0    mass   \n",
       "1         0.001133                  0                0    mass   \n",
       "2        -0.002318                  0                0    mass   \n",
       "\n",
       "   month_maturity  target_maturity_days bucketed_balance_nm  renewal_cnt  \\\n",
       "0               6                   180         1000k-2000k          0.0   \n",
       "1               6                   180          400k-1000k          0.0   \n",
       "2              12                   365         1000k-2000k          0.0   \n",
       "\n",
       "   operations_in_month  early_withdrawal_in_month       balance     interests  \\\n",
       "0                  0.0              -3.443082e+08  3.767463e+10  1.944209e+08   \n",
       "1                  0.0              -1.568994e+08  3.624522e+10  1.979090e+08   \n",
       "2                  0.0              -1.934322e+08  2.592414e+10  1.331918e+08   \n",
       "\n",
       "  open_month_correct  target_maturity_months close_month_dt  \n",
       "0         2022-09-01                       6     2023-03-01  \n",
       "1         2022-09-01                       6     2023-03-01  \n",
       "2         2022-09-01                      12     2023-09-01  "
      ]
     },
     "execution_count": 67,
     "metadata": {},
     "output_type": "execute_result"
    }
   ],
   "source": [
    "portfolio_res.head(3)"
   ]
  },
  {
   "cell_type": "code",
   "execution_count": 68,
   "id": "b6f71531-f16a-4243-a57e-bb05b0be636e",
   "metadata": {},
   "outputs": [
    {
     "data": {
      "text/plain": [
       "Index(['Дата', 'Инструмент', '90_spread', '180_spread', '365_spread',\n",
       "       '548_spread', '730_spread', '1095_spread', 'replenishable_flg',\n",
       "       'subtraction_flg', 'open_month'],\n",
       "      dtype='object')"
      ]
     },
     "execution_count": 68,
     "metadata": {},
     "output_type": "execute_result"
    }
   ],
   "source": [
    "spreads.columns"
   ]
  },
  {
   "cell_type": "code",
   "execution_count": 69,
   "id": "f94cebc0-448a-4835-8955-0ca29eed307c",
   "metadata": {},
   "outputs": [],
   "source": [
    "spreads = spreads[['90_spread', \n",
    "                   '180_spread', \n",
    "                   '365_spread',\n",
    "                   '548_spread', \n",
    "                   '730_spread', \n",
    "                   '1095_spread', \n",
    "                   'replenishable_flg',\n",
    "                   'subtraction_flg', \n",
    "                   'open_month']]"
   ]
  },
  {
   "cell_type": "code",
   "execution_count": 70,
   "id": "bdb46e97-b335-43a2-a820-a79729350f39",
   "metadata": {},
   "outputs": [
    {
     "data": {
      "text/plain": [
       "array(['2018-01', '2018-05', '2018-10', '2019-03', '2019-06', '2019-09',\n",
       "       '2020-03', '2020-05', '2020-07', '2020-10', '2021-02', '2021-03',\n",
       "       '2021-05', '2021-06', '2021-08', '2021-09', '2021-10', '2021-11',\n",
       "       '2021-12', '2022-01', '2022-02', '2022-03', '2022-04', '2022-05',\n",
       "       '2022-06', '2022-07', '2022-08', '2022-09', '2022-10', '2023-05',\n",
       "       '2023-06', '2023-07', '2023-08', '2023-09'], dtype=object)"
      ]
     },
     "execution_count": 70,
     "metadata": {},
     "output_type": "execute_result"
    }
   ],
   "source": [
    "np.sort(spreads['open_month'].unique())"
   ]
  },
  {
   "cell_type": "code",
   "execution_count": 71,
   "id": "184cab77-8ee0-4b8b-a57f-746b520dd21f",
   "metadata": {},
   "outputs": [],
   "source": [
    "years = range(2018, 2024, 1)\n",
    "months = ['01', '02', '03', '04', '05', '06', '07', '08', '09', '10', '11', '12']\n",
    "\n",
    "\n",
    "dates_list = []\n",
    "for year in years:\n",
    "    for month in months:\n",
    "        date = str(year) + '-' + month\n",
    "        dates_list.append(date)"
   ]
  },
  {
   "cell_type": "code",
   "execution_count": 72,
   "id": "45e64250-7ead-41f6-8772-bab53e27b87c",
   "metadata": {},
   "outputs": [],
   "source": [
    "spreads.index = pd.MultiIndex.from_frame(spreads[['subtraction_flg', 'open_month']])"
   ]
  },
  {
   "cell_type": "code",
   "execution_count": 73,
   "id": "922033c6-8425-47c4-b8f0-ad610082a000",
   "metadata": {},
   "outputs": [],
   "source": [
    "spreads = spreads.drop(columns=['subtraction_flg', 'open_month'])"
   ]
  },
  {
   "cell_type": "code",
   "execution_count": 74,
   "id": "08c9018f-df7d-4a38-82f2-a04dddf5dfe2",
   "metadata": {},
   "outputs": [],
   "source": [
    "cols_sp = list(spreads.columns)"
   ]
  },
  {
   "cell_type": "code",
   "execution_count": 75,
   "id": "eb6e48d0-fce0-4d82-bbe9-a3fc499487d3",
   "metadata": {},
   "outputs": [],
   "source": [
    "for i, date in enumerate(dates_list):\n",
    "    for sub in [0,1]:\n",
    "        if (sub, date) not in spreads.index:\n",
    "            #print((sub, date))\n",
    "            spreads.loc[(sub, date), cols_sp] = spreads.loc[sub, dates_list[i-1]].reset_index()[cols_sp].values[0].tolist()"
   ]
  },
  {
   "cell_type": "code",
   "execution_count": 76,
   "id": "bcb5830d-9620-4847-bbea-6b9c59549cfc",
   "metadata": {},
   "outputs": [],
   "source": [
    "spreads = spreads.reset_index()"
   ]
  },
  {
   "cell_type": "code",
   "execution_count": 77,
   "id": "0bcd284f-b78e-459e-bf4b-6417181e7ee6",
   "metadata": {},
   "outputs": [
    {
     "data": {
      "text/plain": [
       "3.0"
      ]
     },
     "execution_count": 77,
     "metadata": {},
     "output_type": "execute_result"
    }
   ],
   "source": [
    "len(dates_list)/2/12"
   ]
  },
  {
   "cell_type": "code",
   "execution_count": 78,
   "id": "c9d014f6-a2ff-41a9-96f7-9a4eed3e9bbf",
   "metadata": {},
   "outputs": [
    {
     "data": {
      "text/html": [
       "<div>\n",
       "<style scoped>\n",
       "    .dataframe tbody tr th:only-of-type {\n",
       "        vertical-align: middle;\n",
       "    }\n",
       "\n",
       "    .dataframe tbody tr th {\n",
       "        vertical-align: top;\n",
       "    }\n",
       "\n",
       "    .dataframe thead th {\n",
       "        text-align: right;\n",
       "    }\n",
       "</style>\n",
       "<table border=\"1\" class=\"dataframe\">\n",
       "  <thead>\n",
       "    <tr style=\"text-align: right;\">\n",
       "      <th></th>\n",
       "      <th>subtraction_flg</th>\n",
       "      <th>90_spread</th>\n",
       "      <th>180_spread</th>\n",
       "      <th>365_spread</th>\n",
       "      <th>548_spread</th>\n",
       "      <th>730_spread</th>\n",
       "      <th>1095_spread</th>\n",
       "      <th>replenishable_flg</th>\n",
       "    </tr>\n",
       "    <tr>\n",
       "      <th>open_month</th>\n",
       "      <th></th>\n",
       "      <th></th>\n",
       "      <th></th>\n",
       "      <th></th>\n",
       "      <th></th>\n",
       "      <th></th>\n",
       "      <th></th>\n",
       "      <th></th>\n",
       "    </tr>\n",
       "  </thead>\n",
       "  <tbody>\n",
       "    <tr>\n",
       "      <th>2018-01</th>\n",
       "      <td>2</td>\n",
       "      <td>2</td>\n",
       "      <td>2</td>\n",
       "      <td>2</td>\n",
       "      <td>2</td>\n",
       "      <td>2</td>\n",
       "      <td>2</td>\n",
       "      <td>2</td>\n",
       "    </tr>\n",
       "    <tr>\n",
       "      <th>2018-02</th>\n",
       "      <td>2</td>\n",
       "      <td>2</td>\n",
       "      <td>2</td>\n",
       "      <td>2</td>\n",
       "      <td>2</td>\n",
       "      <td>2</td>\n",
       "      <td>2</td>\n",
       "      <td>2</td>\n",
       "    </tr>\n",
       "    <tr>\n",
       "      <th>2018-03</th>\n",
       "      <td>2</td>\n",
       "      <td>2</td>\n",
       "      <td>2</td>\n",
       "      <td>2</td>\n",
       "      <td>2</td>\n",
       "      <td>2</td>\n",
       "      <td>2</td>\n",
       "      <td>2</td>\n",
       "    </tr>\n",
       "    <tr>\n",
       "      <th>2018-04</th>\n",
       "      <td>2</td>\n",
       "      <td>2</td>\n",
       "      <td>2</td>\n",
       "      <td>2</td>\n",
       "      <td>2</td>\n",
       "      <td>2</td>\n",
       "      <td>2</td>\n",
       "      <td>2</td>\n",
       "    </tr>\n",
       "    <tr>\n",
       "      <th>2018-05</th>\n",
       "      <td>2</td>\n",
       "      <td>2</td>\n",
       "      <td>2</td>\n",
       "      <td>2</td>\n",
       "      <td>2</td>\n",
       "      <td>2</td>\n",
       "      <td>2</td>\n",
       "      <td>2</td>\n",
       "    </tr>\n",
       "    <tr>\n",
       "      <th>...</th>\n",
       "      <td>...</td>\n",
       "      <td>...</td>\n",
       "      <td>...</td>\n",
       "      <td>...</td>\n",
       "      <td>...</td>\n",
       "      <td>...</td>\n",
       "      <td>...</td>\n",
       "      <td>...</td>\n",
       "    </tr>\n",
       "    <tr>\n",
       "      <th>2023-08</th>\n",
       "      <td>2</td>\n",
       "      <td>2</td>\n",
       "      <td>2</td>\n",
       "      <td>2</td>\n",
       "      <td>2</td>\n",
       "      <td>2</td>\n",
       "      <td>2</td>\n",
       "      <td>2</td>\n",
       "    </tr>\n",
       "    <tr>\n",
       "      <th>2023-09</th>\n",
       "      <td>2</td>\n",
       "      <td>2</td>\n",
       "      <td>2</td>\n",
       "      <td>2</td>\n",
       "      <td>2</td>\n",
       "      <td>2</td>\n",
       "      <td>2</td>\n",
       "      <td>2</td>\n",
       "    </tr>\n",
       "    <tr>\n",
       "      <th>2023-10</th>\n",
       "      <td>2</td>\n",
       "      <td>2</td>\n",
       "      <td>2</td>\n",
       "      <td>2</td>\n",
       "      <td>2</td>\n",
       "      <td>2</td>\n",
       "      <td>2</td>\n",
       "      <td>2</td>\n",
       "    </tr>\n",
       "    <tr>\n",
       "      <th>2023-11</th>\n",
       "      <td>2</td>\n",
       "      <td>2</td>\n",
       "      <td>2</td>\n",
       "      <td>2</td>\n",
       "      <td>2</td>\n",
       "      <td>2</td>\n",
       "      <td>2</td>\n",
       "      <td>2</td>\n",
       "    </tr>\n",
       "    <tr>\n",
       "      <th>2023-12</th>\n",
       "      <td>2</td>\n",
       "      <td>2</td>\n",
       "      <td>2</td>\n",
       "      <td>2</td>\n",
       "      <td>2</td>\n",
       "      <td>2</td>\n",
       "      <td>2</td>\n",
       "      <td>2</td>\n",
       "    </tr>\n",
       "  </tbody>\n",
       "</table>\n",
       "<p>72 rows × 8 columns</p>\n",
       "</div>"
      ],
      "text/plain": [
       "            subtraction_flg  90_spread  180_spread  365_spread  548_spread  \\\n",
       "open_month                                                                   \n",
       "2018-01                   2          2           2           2           2   \n",
       "2018-02                   2          2           2           2           2   \n",
       "2018-03                   2          2           2           2           2   \n",
       "2018-04                   2          2           2           2           2   \n",
       "2018-05                   2          2           2           2           2   \n",
       "...                     ...        ...         ...         ...         ...   \n",
       "2023-08                   2          2           2           2           2   \n",
       "2023-09                   2          2           2           2           2   \n",
       "2023-10                   2          2           2           2           2   \n",
       "2023-11                   2          2           2           2           2   \n",
       "2023-12                   2          2           2           2           2   \n",
       "\n",
       "            730_spread  1095_spread  replenishable_flg  \n",
       "open_month                                              \n",
       "2018-01              2            2                  2  \n",
       "2018-02              2            2                  2  \n",
       "2018-03              2            2                  2  \n",
       "2018-04              2            2                  2  \n",
       "2018-05              2            2                  2  \n",
       "...                ...          ...                ...  \n",
       "2023-08              2            2                  2  \n",
       "2023-09              2            2                  2  \n",
       "2023-10              2            2                  2  \n",
       "2023-11              2            2                  2  \n",
       "2023-12              2            2                  2  \n",
       "\n",
       "[72 rows x 8 columns]"
      ]
     },
     "execution_count": 78,
     "metadata": {},
     "output_type": "execute_result"
    }
   ],
   "source": [
    "spreads.groupby('open_month').count()"
   ]
  },
  {
   "cell_type": "code",
   "execution_count": 79,
   "id": "e7e37f51-238b-41d8-8a8c-97807972590b",
   "metadata": {},
   "outputs": [],
   "source": [
    "spreads['replenishable_flg'] = spreads['replenishable_flg'].astype(int)"
   ]
  },
  {
   "cell_type": "code",
   "execution_count": 80,
   "id": "dffff71c-9c04-4ad6-b4bc-4203f9581742",
   "metadata": {},
   "outputs": [
    {
     "data": {
      "text/plain": [
       "report_month\n",
       "2023-01    2.950907e+12\n",
       "2023-02    3.000243e+12\n",
       "2023-03    3.044367e+12\n",
       "2023-04    3.077628e+12\n",
       "2023-05    3.131640e+12\n",
       "2023-06    3.148000e+12\n",
       "2023-07    3.150017e+12\n",
       "Name: balance, dtype: float64"
      ]
     },
     "execution_count": 80,
     "metadata": {},
     "output_type": "execute_result"
    }
   ],
   "source": [
    "portfolio_res.groupby('report_month').sum()['balance']"
   ]
  },
  {
   "cell_type": "code",
   "execution_count": 81,
   "id": "045cb212-3ca6-4523-a342-3a087fa1aa65",
   "metadata": {},
   "outputs": [],
   "source": [
    "spreads = spreads.drop_duplicates(subset=['open_month', 'subtraction_flg', 'replenishable_flg'])"
   ]
  },
  {
   "cell_type": "code",
   "execution_count": 82,
   "id": "5e0fc12a-da68-4b76-a96e-a43e3d1143c0",
   "metadata": {},
   "outputs": [],
   "source": [
    "portfolio_res = portfolio_res.merge(spreads, on=['replenishable_flg', 'subtraction_flg', 'open_month'], how='left')"
   ]
  },
  {
   "cell_type": "code",
   "execution_count": 83,
   "id": "3dd35db5-9584-4600-829b-25a4da2537a5",
   "metadata": {},
   "outputs": [
    {
     "data": {
      "text/plain": [
       "report_month\n",
       "2023-01    2.950907e+12\n",
       "2023-02    3.000243e+12\n",
       "2023-03    3.044367e+12\n",
       "2023-04    3.077628e+12\n",
       "2023-05    3.131640e+12\n",
       "2023-06    3.148000e+12\n",
       "2023-07    3.150017e+12\n",
       "Name: balance, dtype: float64"
      ]
     },
     "execution_count": 83,
     "metadata": {},
     "output_type": "execute_result"
    }
   ],
   "source": [
    "portfolio_res.groupby('report_month').sum()['balance']"
   ]
  },
  {
   "cell_type": "code",
   "execution_count": 84,
   "id": "dce4043d-920b-4f33-b77e-5099a1d25958",
   "metadata": {},
   "outputs": [
    {
     "data": {
      "text/plain": [
       "array([ 180,  365,   90, 1095,  548,  730])"
      ]
     },
     "execution_count": 84,
     "metadata": {},
     "output_type": "execute_result"
    }
   ],
   "source": [
    "portfolio_res['target_maturity_days'].unique()"
   ]
  },
  {
   "cell_type": "code",
   "execution_count": 85,
   "id": "cf3f7d24-d804-40a1-b32c-2ff4499305a2",
   "metadata": {},
   "outputs": [],
   "source": [
    "portfolio_res['spreads_mat'] = np.nan\n",
    "\n",
    "for day in portfolio_res['target_maturity_days'].unique():\n",
    "    \n",
    "    # выбираем колонку\n",
    "    col = f'{day}_spread'\n",
    "    \n",
    "    portfolio_res['spreads_mat'][portfolio_res['target_maturity_days']==day] = portfolio_res[col][portfolio_res['target_maturity_days']==day]"
   ]
  },
  {
   "cell_type": "code",
   "execution_count": null,
   "id": "ae51d6fb-60a1-4a5e-838f-7b71e3ad0699",
   "metadata": {},
   "outputs": [],
   "source": []
  },
  {
   "cell_type": "code",
   "execution_count": 86,
   "id": "428a9043-61fc-4470-9d9e-ec6f7c28b776",
   "metadata": {},
   "outputs": [],
   "source": [
    "# проверить количество пропусков тут"
   ]
  },
  {
   "cell_type": "code",
   "execution_count": null,
   "id": "42a568eb-0192-4459-b48a-b5e6ab43da48",
   "metadata": {},
   "outputs": [],
   "source": []
  },
  {
   "cell_type": "code",
   "execution_count": 87,
   "id": "5b7669ab-3f40-426e-ad8f-ad84acd0356d",
   "metadata": {},
   "outputs": [],
   "source": [
    "portfolio_res['spreads_mat'] = portfolio_res['spreads_mat'].fillna(0)*100"
   ]
  },
  {
   "cell_type": "code",
   "execution_count": 88,
   "id": "46a17ef7-1d98-4400-81d2-693457b647d6",
   "metadata": {},
   "outputs": [
    {
     "data": {
      "text/plain": [
       "count    64313.000000\n",
       "mean         0.378100\n",
       "std          0.468541\n",
       "min          0.000000\n",
       "25%          0.000000\n",
       "50%          0.370000\n",
       "75%          0.640000\n",
       "max          2.250000\n",
       "Name: spreads_mat, dtype: float64"
      ]
     },
     "execution_count": 88,
     "metadata": {},
     "output_type": "execute_result"
    }
   ],
   "source": [
    "portfolio_res['spreads_mat'].describe()"
   ]
  },
  {
   "cell_type": "markdown",
   "id": "3b14fb97-7e00-47df-8897-3c32821568f0",
   "metadata": {},
   "source": [
    "## Джойн FTP ставок"
   ]
  },
  {
   "cell_type": "code",
   "execution_count": 89,
   "id": "a89d231f-283f-4dd8-8509-c26500779d70",
   "metadata": {},
   "outputs": [],
   "source": [
    "# Код выгрузки\n",
    "\n",
    "query = \"\"\"\n",
    "SELECT \n",
    "year(report_date) as report_year, \n",
    "month(report_date) as report_month, \n",
    "AVG(`vtb_[1095d]_ftp_rate`) as `VTB_[1095d]_ftp_rate`, \n",
    "AVG(`vtb_[180d]_ftp_rate`) as `VTB_[180d]_ftp_rate`,\n",
    "AVG(`vtb_[365d]_ftp_rate`) as `VTB_[365d]_ftp_rate`,\n",
    "AVG(`vtb_[548d]_ftp_rate`) as `VTB_[548d]_ftp_rate`,\n",
    "AVG(`vtb_[730d]_ftp_rate`) as `VTB_[730d]_ftp_rate`,\n",
    "AVG(`vtb_[90d]_ftp_rate`) as `VTB_[90d]_ftp_rate`\n",
    "\n",
    "FROM dadm_alm_sbx.vtb_ftp_rates \n",
    "\n",
    "GROUP BY year(report_date), month(report_date)\n",
    "ORDER BY year(report_date) desc, month(report_date) desc;\n",
    "\"\"\""
   ]
  },
  {
   "cell_type": "code",
   "execution_count": 90,
   "id": "4e154b2f-be4c-4b91-95bd-1652fd7fc19a",
   "metadata": {},
   "outputs": [],
   "source": [
    "ftp_table = pd.read_csv('ftp.csv')"
   ]
  },
  {
   "cell_type": "code",
   "execution_count": 91,
   "id": "b899cf8d-8caf-42b2-add9-1238412a1a6f",
   "metadata": {},
   "outputs": [
    {
     "data": {
      "text/html": [
       "<div>\n",
       "<style scoped>\n",
       "    .dataframe tbody tr th:only-of-type {\n",
       "        vertical-align: middle;\n",
       "    }\n",
       "\n",
       "    .dataframe tbody tr th {\n",
       "        vertical-align: top;\n",
       "    }\n",
       "\n",
       "    .dataframe thead th {\n",
       "        text-align: right;\n",
       "    }\n",
       "</style>\n",
       "<table border=\"1\" class=\"dataframe\">\n",
       "  <thead>\n",
       "    <tr style=\"text-align: right;\">\n",
       "      <th></th>\n",
       "      <th>report_year</th>\n",
       "      <th>report_month</th>\n",
       "      <th>vtb_[1095d]_ftp_rate</th>\n",
       "      <th>vtb_[180d]_ftp_rate</th>\n",
       "      <th>vtb_[365d]_ftp_rate</th>\n",
       "      <th>vtb_[548d]_ftp_rate</th>\n",
       "      <th>vtb_[730d]_ftp_rate</th>\n",
       "      <th>vtb_[90d]_ftp_rate</th>\n",
       "    </tr>\n",
       "  </thead>\n",
       "  <tbody>\n",
       "    <tr>\n",
       "      <th>12</th>\n",
       "      <td>2022</td>\n",
       "      <td>9</td>\n",
       "      <td>8.25</td>\n",
       "      <td>7.891304</td>\n",
       "      <td>8.0</td>\n",
       "      <td>8.1</td>\n",
       "      <td>8.15</td>\n",
       "      <td>7.847826</td>\n",
       "    </tr>\n",
       "  </tbody>\n",
       "</table>\n",
       "</div>"
      ],
      "text/plain": [
       "    report_year  report_month  vtb_[1095d]_ftp_rate  vtb_[180d]_ftp_rate  \\\n",
       "12         2022             9                  8.25             7.891304   \n",
       "\n",
       "    vtb_[365d]_ftp_rate  vtb_[548d]_ftp_rate  vtb_[730d]_ftp_rate  \\\n",
       "12                  8.0                  8.1                 8.15   \n",
       "\n",
       "    vtb_[90d]_ftp_rate  \n",
       "12            7.847826  "
      ]
     },
     "execution_count": 91,
     "metadata": {},
     "output_type": "execute_result"
    }
   ],
   "source": [
    "ftp_table[(ftp_table['report_year']==2022)&(ftp_table['report_month']==9)]"
   ]
  },
  {
   "cell_type": "code",
   "execution_count": 92,
   "id": "3674d820-5152-4393-af03-bd406292024c",
   "metadata": {},
   "outputs": [
    {
     "data": {
      "text/html": [
       "<div>\n",
       "<style scoped>\n",
       "    .dataframe tbody tr th:only-of-type {\n",
       "        vertical-align: middle;\n",
       "    }\n",
       "\n",
       "    .dataframe tbody tr th {\n",
       "        vertical-align: top;\n",
       "    }\n",
       "\n",
       "    .dataframe thead th {\n",
       "        text-align: right;\n",
       "    }\n",
       "</style>\n",
       "<table border=\"1\" class=\"dataframe\">\n",
       "  <thead>\n",
       "    <tr style=\"text-align: right;\">\n",
       "      <th></th>\n",
       "      <th>report_year</th>\n",
       "      <th>report_month</th>\n",
       "      <th>vtb_[1095d]_ftp_rate</th>\n",
       "      <th>vtb_[180d]_ftp_rate</th>\n",
       "      <th>vtb_[365d]_ftp_rate</th>\n",
       "      <th>vtb_[548d]_ftp_rate</th>\n",
       "      <th>vtb_[730d]_ftp_rate</th>\n",
       "      <th>vtb_[90d]_ftp_rate</th>\n",
       "    </tr>\n",
       "  </thead>\n",
       "  <tbody>\n",
       "    <tr>\n",
       "      <th>13</th>\n",
       "      <td>2022</td>\n",
       "      <td>8</td>\n",
       "      <td>8.25</td>\n",
       "      <td>8.0</td>\n",
       "      <td>8.0</td>\n",
       "      <td>8.1</td>\n",
       "      <td>8.15</td>\n",
       "      <td>8.0</td>\n",
       "    </tr>\n",
       "  </tbody>\n",
       "</table>\n",
       "</div>"
      ],
      "text/plain": [
       "    report_year  report_month  vtb_[1095d]_ftp_rate  vtb_[180d]_ftp_rate  \\\n",
       "13         2022             8                  8.25                  8.0   \n",
       "\n",
       "    vtb_[365d]_ftp_rate  vtb_[548d]_ftp_rate  vtb_[730d]_ftp_rate  \\\n",
       "13                  8.0                  8.1                 8.15   \n",
       "\n",
       "    vtb_[90d]_ftp_rate  \n",
       "13                 8.0  "
      ]
     },
     "execution_count": 92,
     "metadata": {},
     "output_type": "execute_result"
    }
   ],
   "source": [
    "ftp_table[(ftp_table['report_year']==2022)&(ftp_table['report_month']==8)]"
   ]
  },
  {
   "cell_type": "code",
   "execution_count": 93,
   "id": "d4a5cb12-9afe-464f-9445-d52668f9e8cc",
   "metadata": {},
   "outputs": [
    {
     "data": {
      "text/plain": [
       "2543.02188334737"
      ]
     },
     "execution_count": 93,
     "metadata": {},
     "output_type": "execute_result"
    }
   ],
   "source": [
    "2543021883347.37000 / 10**9"
   ]
  },
  {
   "cell_type": "markdown",
   "id": "9b98559e-f4b5-46a0-accb-f5cd4978a70f",
   "metadata": {},
   "source": [
    "## Корректируем ставку за февраль 2022 в связи с резкими притоками"
   ]
  },
  {
   "cell_type": "code",
   "execution_count": 94,
   "id": "5c1d4178-9c94-42da-b4c3-2a9b6272365e",
   "metadata": {},
   "outputs": [],
   "source": [
    "ind = ftp_table[(ftp_table['report_year']==2022)&(ftp_table['report_month']==2)].index"
   ]
  },
  {
   "cell_type": "code",
   "execution_count": 95,
   "id": "4c9b3aea-f71c-484c-afd5-30e6c029dfb5",
   "metadata": {},
   "outputs": [],
   "source": [
    "cols = ftp_table.columns[2:]"
   ]
  },
  {
   "cell_type": "code",
   "execution_count": 96,
   "id": "99998e6b-37e1-41b7-b0b8-a593faa2f829",
   "metadata": {},
   "outputs": [
    {
     "data": {
      "text/plain": [
       "Index(['vtb_[1095d]_ftp_rate', 'vtb_[180d]_ftp_rate', 'vtb_[365d]_ftp_rate',\n",
       "       'vtb_[548d]_ftp_rate', 'vtb_[730d]_ftp_rate', 'vtb_[90d]_ftp_rate'],\n",
       "      dtype='object')"
      ]
     },
     "execution_count": 96,
     "metadata": {},
     "output_type": "execute_result"
    }
   ],
   "source": [
    "cols"
   ]
  },
  {
   "cell_type": "code",
   "execution_count": 97,
   "id": "e3089c64-35ae-41ae-9198-ab5566226be7",
   "metadata": {},
   "outputs": [],
   "source": [
    "w1 = 5\n",
    "w2 = 1"
   ]
  },
  {
   "cell_type": "code",
   "execution_count": 98,
   "id": "7e51c045-4073-418b-b5d5-e9bcaf1c64c7",
   "metadata": {},
   "outputs": [],
   "source": [
    "new_ftp = ((ftp_table[(ftp_table['report_year']==2022)&(ftp_table['report_month']==2)][cols]*w1).values + (ftp_table[(ftp_table['report_year']==2022)&(ftp_table['report_month']==3)][cols]*w2).values)/(w1+w2)"
   ]
  },
  {
   "cell_type": "code",
   "execution_count": 99,
   "id": "4f41b63f-7e98-4d61-9996-91792a80f8b7",
   "metadata": {},
   "outputs": [
    {
     "data": {
      "text/plain": [
       "array([[12.46052632, 12.5530303 , 12.53947368, 12.51973684, 12.5       ,\n",
       "        12.47408293]])"
      ]
     },
     "execution_count": 99,
     "metadata": {},
     "output_type": "execute_result"
    }
   ],
   "source": [
    "new_ftp"
   ]
  },
  {
   "cell_type": "code",
   "execution_count": 100,
   "id": "5ea0be48-37a0-4e2c-a7a9-094a415cacb1",
   "metadata": {},
   "outputs": [],
   "source": [
    "ftp_table.at[ind, cols] = new_ftp"
   ]
  },
  {
   "cell_type": "code",
   "execution_count": 101,
   "id": "9ed04c4c-7b04-4bfc-ab4d-491538ebefa5",
   "metadata": {},
   "outputs": [
    {
     "data": {
      "text/html": [
       "<div>\n",
       "<style scoped>\n",
       "    .dataframe tbody tr th:only-of-type {\n",
       "        vertical-align: middle;\n",
       "    }\n",
       "\n",
       "    .dataframe tbody tr th {\n",
       "        vertical-align: top;\n",
       "    }\n",
       "\n",
       "    .dataframe thead th {\n",
       "        text-align: right;\n",
       "    }\n",
       "</style>\n",
       "<table border=\"1\" class=\"dataframe\">\n",
       "  <thead>\n",
       "    <tr style=\"text-align: right;\">\n",
       "      <th></th>\n",
       "      <th>report_year</th>\n",
       "      <th>report_month</th>\n",
       "      <th>vtb_[1095d]_ftp_rate</th>\n",
       "      <th>vtb_[180d]_ftp_rate</th>\n",
       "      <th>vtb_[365d]_ftp_rate</th>\n",
       "      <th>vtb_[548d]_ftp_rate</th>\n",
       "      <th>vtb_[730d]_ftp_rate</th>\n",
       "      <th>vtb_[90d]_ftp_rate</th>\n",
       "    </tr>\n",
       "  </thead>\n",
       "  <tbody>\n",
       "    <tr>\n",
       "      <th>19</th>\n",
       "      <td>2022</td>\n",
       "      <td>2</td>\n",
       "      <td>12.460526</td>\n",
       "      <td>12.55303</td>\n",
       "      <td>12.539474</td>\n",
       "      <td>12.519737</td>\n",
       "      <td>12.5</td>\n",
       "      <td>12.474083</td>\n",
       "    </tr>\n",
       "  </tbody>\n",
       "</table>\n",
       "</div>"
      ],
      "text/plain": [
       "    report_year  report_month  vtb_[1095d]_ftp_rate  vtb_[180d]_ftp_rate  \\\n",
       "19         2022             2             12.460526             12.55303   \n",
       "\n",
       "    vtb_[365d]_ftp_rate  vtb_[548d]_ftp_rate  vtb_[730d]_ftp_rate  \\\n",
       "19            12.539474            12.519737                 12.5   \n",
       "\n",
       "    vtb_[90d]_ftp_rate  \n",
       "19           12.474083  "
      ]
     },
     "execution_count": 101,
     "metadata": {},
     "output_type": "execute_result"
    }
   ],
   "source": [
    "ftp_table[(ftp_table['report_year']==2022)&(ftp_table['report_month']==2)]"
   ]
  },
  {
   "cell_type": "code",
   "execution_count": 102,
   "id": "443cd2c6-c1d1-4ebf-96c3-c3efb8ff3f89",
   "metadata": {},
   "outputs": [
    {
     "data": {
      "text/plain": [
       "Int64Index([19], dtype='int64')"
      ]
     },
     "execution_count": 102,
     "metadata": {},
     "output_type": "execute_result"
    }
   ],
   "source": [
    "ind"
   ]
  },
  {
   "cell_type": "code",
   "execution_count": 103,
   "id": "851c0e73-93e1-4e7d-8ef6-cb20bd8ab045",
   "metadata": {},
   "outputs": [],
   "source": [
    "ftp_table.at[ind, 'report_month'] = 2"
   ]
  },
  {
   "cell_type": "code",
   "execution_count": 104,
   "id": "f4da4150-73fb-4405-b40c-771024aee167",
   "metadata": {},
   "outputs": [],
   "source": [
    "ftp_table['report_month'][ftp_table['report_month']<=9] = ftp_table['report_month'][ftp_table['report_month']<=9].apply(lambda x: '0'+str(x))"
   ]
  },
  {
   "cell_type": "code",
   "execution_count": 105,
   "id": "1eb9c815-10ce-49c4-b780-2d600e15a7db",
   "metadata": {},
   "outputs": [],
   "source": [
    "ftp_table['report_month'] = ftp_table['report_month'].astype(str)"
   ]
  },
  {
   "cell_type": "code",
   "execution_count": 106,
   "id": "3adddf22-9db2-4f72-8a2a-4cbed79a737b",
   "metadata": {},
   "outputs": [],
   "source": [
    "ftp_table['report_year'] = ftp_table['report_year'].astype(str)"
   ]
  },
  {
   "cell_type": "code",
   "execution_count": 107,
   "id": "27400587-f9ce-4243-947d-7ec7eb6ad0d7",
   "metadata": {},
   "outputs": [],
   "source": [
    "ftp_table['open_month'] = ftp_table['report_year'] + '-' + ftp_table['report_month']"
   ]
  },
  {
   "cell_type": "code",
   "execution_count": 108,
   "id": "afcd6d96-8b91-4f1a-a8a7-3c5c7c18d669",
   "metadata": {},
   "outputs": [],
   "source": [
    "del ftp_table['report_month']\n",
    "del ftp_table['report_year']"
   ]
  },
  {
   "cell_type": "code",
   "execution_count": 109,
   "id": "b64090fa-19b8-45ea-aece-a57d8f72a808",
   "metadata": {},
   "outputs": [],
   "source": [
    "# дополнить этот момент\n",
    "# для новых вкладов лучше брать новые ставки\n",
    "\n",
    "portfolio_res['open_month'][portfolio_res['open_month']>'2023-09'] = '2023-09'\n",
    "\n",
    "portfolio_res = portfolio_res.merge(ftp_table, on='open_month', how='left')"
   ]
  },
  {
   "cell_type": "code",
   "execution_count": 110,
   "id": "449bfbf2-c1f3-43fc-ba17-810d63c371a9",
   "metadata": {},
   "outputs": [],
   "source": [
    "portfolio_res['ftp'] = np.nan\n",
    "\n",
    "\n",
    "\n",
    "for day in portfolio_res['target_maturity_days'].unique():\n",
    "    \n",
    "    # выбираем колонку\n",
    "    col = f'vtb_[{day}d]_ftp_rate'\n",
    "    \n",
    "    portfolio_res['ftp'][portfolio_res['target_maturity_days']==day] = portfolio_res[col][portfolio_res['target_maturity_days']==day]"
   ]
  },
  {
   "cell_type": "code",
   "execution_count": 111,
   "id": "96ef87c1-e444-486c-9834-e9b275249ec4",
   "metadata": {},
   "outputs": [
    {
     "data": {
      "text/plain": [
       "8035799.78"
      ]
     },
     "execution_count": 111,
     "metadata": {},
     "output_type": "execute_result"
    }
   ],
   "source": [
    "portfolio_res[portfolio_res['ftp'].isnull()]['balance'].sum()"
   ]
  },
  {
   "cell_type": "code",
   "execution_count": 112,
   "id": "3cf27699-33a3-4488-ac71-73d159c11984",
   "metadata": {},
   "outputs": [
    {
     "data": {
      "text/plain": [
       "3.7370944238484547e-07"
      ]
     },
     "execution_count": 112,
     "metadata": {},
     "output_type": "execute_result"
    }
   ],
   "source": [
    "# доля пропусков\n",
    "\n",
    "portfolio_res[portfolio_res['ftp'].isnull()]['balance'].sum() / portfolio_res['balance'].sum()"
   ]
  },
  {
   "cell_type": "code",
   "execution_count": 113,
   "id": "3075000a-f318-4570-b0a5-a4e0427d0326",
   "metadata": {},
   "outputs": [
    {
     "data": {
      "text/plain": [
       "1900-01    7\n",
       "1994-01    7\n",
       "2005-02    2\n",
       "2005-03    4\n",
       "2005-04    3\n",
       "2005-09    7\n",
       "2007-01    2\n",
       "2007-02    1\n",
       "2009-02    1\n",
       "2010-11    7\n",
       "2011-05    4\n",
       "2014-07    1\n",
       "2017-03    2\n",
       "Name: open_month, dtype: int64"
      ]
     },
     "execution_count": 113,
     "metadata": {},
     "output_type": "execute_result"
    }
   ],
   "source": [
    "portfolio_res[portfolio_res['ftp'].isnull()]['open_month'].value_counts().sort_index()"
   ]
  },
  {
   "cell_type": "markdown",
   "id": "8eb60ad6-ead3-4671-b03d-59496ac84480",
   "metadata": {},
   "source": [
    "формула для пролонгаций = дата открытия + срочность * число пролонгаций - это фактическая open_dt   \n",
    "\n",
    "Можно подойти через плановая дата закрытия - срочность  "
   ]
  },
  {
   "cell_type": "code",
   "execution_count": 114,
   "id": "b4499b31-2586-4252-bc82-47743fe8d1c5",
   "metadata": {},
   "outputs": [],
   "source": [
    "d = {'2023-01': [3], \n",
    "     '2023-02': [3], \n",
    "     '2023-03': [4], \n",
    "     '2023-04': [4], \n",
    "     '2023-05': [4], \n",
    "     '2023-06': [4.5],\n",
    "     '2023-07': [4.5]}"
   ]
  },
  {
   "cell_type": "code",
   "execution_count": 115,
   "id": "51ac09ca-352a-491d-86ae-93af65a41c23",
   "metadata": {},
   "outputs": [],
   "source": [
    "FOR = pd.DataFrame(data=d, index=None).T"
   ]
  },
  {
   "cell_type": "code",
   "execution_count": 116,
   "id": "945a6bfd-159b-47ef-8eed-980ada03cd7c",
   "metadata": {},
   "outputs": [],
   "source": [
    "FOR = FOR.reset_index().rename(columns={'index': 'report_month', 0: 'FOR'})"
   ]
  },
  {
   "cell_type": "code",
   "execution_count": 117,
   "id": "a7f93eba-b7e4-42f3-856f-e88b9e57bf16",
   "metadata": {},
   "outputs": [],
   "source": [
    "portfolio_res = portfolio_res.merge(FOR, on='report_month', how='left')"
   ]
  },
  {
   "cell_type": "code",
   "execution_count": 118,
   "id": "19b6a0ca-c7e9-4411-9900-b81fbc634160",
   "metadata": {},
   "outputs": [],
   "source": [
    "portfolio_res['SSV'] = 0.48"
   ]
  },
  {
   "cell_type": "markdown",
   "id": "8bebe8dc-dfe9-449d-85f3-1144d08d2759",
   "metadata": {},
   "source": [
    "### Найдем взвешанные FTP ставки "
   ]
  },
  {
   "cell_type": "code",
   "execution_count": 119,
   "id": "f390d713-d40e-456f-8afd-870e12731bd1",
   "metadata": {},
   "outputs": [],
   "source": [
    "portfolio_res['balance_x_ftp'] = portfolio_res['balance'] * portfolio_res['ftp']"
   ]
  },
  {
   "cell_type": "code",
   "execution_count": 120,
   "id": "35ed3392-8584-4ca4-8e18-8bb999897816",
   "metadata": {},
   "outputs": [
    {
     "data": {
      "text/html": [
       "<div>\n",
       "<style scoped>\n",
       "    .dataframe tbody tr th:only-of-type {\n",
       "        vertical-align: middle;\n",
       "    }\n",
       "\n",
       "    .dataframe tbody tr th {\n",
       "        vertical-align: top;\n",
       "    }\n",
       "\n",
       "    .dataframe thead th {\n",
       "        text-align: right;\n",
       "    }\n",
       "</style>\n",
       "<table border=\"1\" class=\"dataframe\">\n",
       "  <thead>\n",
       "    <tr style=\"text-align: right;\">\n",
       "      <th></th>\n",
       "      <th>0</th>\n",
       "      <th>1</th>\n",
       "      <th>2</th>\n",
       "      <th>3</th>\n",
       "      <th>4</th>\n",
       "      <th>5</th>\n",
       "      <th>6</th>\n",
       "    </tr>\n",
       "  </thead>\n",
       "  <tbody>\n",
       "    <tr>\n",
       "      <th>report_month</th>\n",
       "      <td>2023-01</td>\n",
       "      <td>2023-02</td>\n",
       "      <td>2023-03</td>\n",
       "      <td>2023-04</td>\n",
       "      <td>2023-05</td>\n",
       "      <td>2023-06</td>\n",
       "      <td>2023-07</td>\n",
       "    </tr>\n",
       "    <tr>\n",
       "      <th>0</th>\n",
       "      <td>9.249199</td>\n",
       "      <td>8.962533</td>\n",
       "      <td>8.967941</td>\n",
       "      <td>8.710867</td>\n",
       "      <td>8.56629</td>\n",
       "      <td>8.583002</td>\n",
       "      <td>8.559867</td>\n",
       "    </tr>\n",
       "  </tbody>\n",
       "</table>\n",
       "</div>"
      ],
      "text/plain": [
       "                     0         1         2         3        4         5  \\\n",
       "report_month   2023-01   2023-02   2023-03   2023-04  2023-05   2023-06   \n",
       "0             9.249199  8.962533  8.967941  8.710867  8.56629  8.583002   \n",
       "\n",
       "                     6  \n",
       "report_month   2023-07  \n",
       "0             8.559867  "
      ]
     },
     "execution_count": 120,
     "metadata": {},
     "output_type": "execute_result"
    }
   ],
   "source": [
    "(portfolio_res.groupby('report_month').sum()['balance_x_ftp'] / portfolio_res.groupby('report_month').sum()['balance']).reset_index().T"
   ]
  },
  {
   "cell_type": "code",
   "execution_count": 121,
   "id": "1c9b4f53-1704-4b40-ace9-ced50a0c53b6",
   "metadata": {},
   "outputs": [
    {
     "data": {
      "text/plain": [
       "report_month\n",
       "2023-01    2.950907e+12\n",
       "2023-02    3.000243e+12\n",
       "2023-03    3.044367e+12\n",
       "2023-04    3.077628e+12\n",
       "2023-05    3.131640e+12\n",
       "2023-06    3.148000e+12\n",
       "2023-07    3.150017e+12\n",
       "Name: balance, dtype: float64"
      ]
     },
     "execution_count": 121,
     "metadata": {},
     "output_type": "execute_result"
    }
   ],
   "source": [
    "portfolio_res.groupby('report_month').sum()['balance']"
   ]
  },
  {
   "cell_type": "markdown",
   "id": "7ce9c81b-bc4f-4c42-8b95-21be73eb8c1a",
   "metadata": {},
   "source": [
    "## Сравним FTP для оттоков "
   ]
  },
  {
   "cell_type": "code",
   "execution_count": 122,
   "id": "f0264b01-7a7a-4593-a54b-9f2b790b5ddb",
   "metadata": {},
   "outputs": [],
   "source": [
    "portfolo_res3 = portfolio_res.copy()"
   ]
  },
  {
   "cell_type": "code",
   "execution_count": 123,
   "id": "ae5a8581-51db-4eb7-b6c6-499a97cd0eea",
   "metadata": {},
   "outputs": [],
   "source": [
    "portfolo_res3['balance'] = portfolo_res3['balance'] - portfolo_res3['SER_d_cl']"
   ]
  },
  {
   "cell_type": "code",
   "execution_count": 124,
   "id": "747fda3c-7ef0-4bed-a153-8fbf02d0606e",
   "metadata": {},
   "outputs": [],
   "source": [
    "portfolo_res3['ftp'] = portfolo_res3['ftp'] - portfolo_res3['spreads_mat']"
   ]
  },
  {
   "cell_type": "code",
   "execution_count": 125,
   "id": "80676dcf-5bf8-422f-93b2-fd48a93e85f4",
   "metadata": {},
   "outputs": [],
   "source": [
    "portfolo_res3['balance_x_ftp'] = portfolo_res3['balance'] * portfolo_res3['ftp']"
   ]
  },
  {
   "cell_type": "code",
   "execution_count": 126,
   "id": "1fe8a86f-56f2-4898-a795-8580733a7834",
   "metadata": {},
   "outputs": [
    {
     "data": {
      "text/html": [
       "<div>\n",
       "<style scoped>\n",
       "    .dataframe tbody tr th:only-of-type {\n",
       "        vertical-align: middle;\n",
       "    }\n",
       "\n",
       "    .dataframe tbody tr th {\n",
       "        vertical-align: top;\n",
       "    }\n",
       "\n",
       "    .dataframe thead th {\n",
       "        text-align: right;\n",
       "    }\n",
       "</style>\n",
       "<table border=\"1\" class=\"dataframe\">\n",
       "  <thead>\n",
       "    <tr style=\"text-align: right;\">\n",
       "      <th></th>\n",
       "      <th>0</th>\n",
       "      <th>1</th>\n",
       "      <th>2</th>\n",
       "      <th>3</th>\n",
       "      <th>4</th>\n",
       "      <th>5</th>\n",
       "      <th>6</th>\n",
       "    </tr>\n",
       "  </thead>\n",
       "  <tbody>\n",
       "    <tr>\n",
       "      <th>report_month</th>\n",
       "      <td>2023-01</td>\n",
       "      <td>2023-02</td>\n",
       "      <td>2023-03</td>\n",
       "      <td>2023-04</td>\n",
       "      <td>2023-05</td>\n",
       "      <td>2023-06</td>\n",
       "      <td>2023-07</td>\n",
       "    </tr>\n",
       "    <tr>\n",
       "      <th>0</th>\n",
       "      <td>8.852036</td>\n",
       "      <td>8.6828</td>\n",
       "      <td>8.772822</td>\n",
       "      <td>8.462136</td>\n",
       "      <td>8.321142</td>\n",
       "      <td>8.310824</td>\n",
       "      <td>8.300232</td>\n",
       "    </tr>\n",
       "  </tbody>\n",
       "</table>\n",
       "</div>"
      ],
      "text/plain": [
       "                     0        1         2         3         4         5  \\\n",
       "report_month   2023-01  2023-02   2023-03   2023-04   2023-05   2023-06   \n",
       "0             8.852036   8.6828  8.772822  8.462136  8.321142  8.310824   \n",
       "\n",
       "                     6  \n",
       "report_month   2023-07  \n",
       "0             8.300232  "
      ]
     },
     "execution_count": 126,
     "metadata": {},
     "output_type": "execute_result"
    }
   ],
   "source": [
    "(portfolo_res3.groupby('report_month').sum()['balance_x_ftp'] / portfolo_res3.groupby('report_month').sum()['balance']).reset_index().T"
   ]
  },
  {
   "cell_type": "markdown",
   "id": "7c3bbade-63c7-4710-b3ee-b1d51bd98954",
   "metadata": {},
   "source": [
    "## FTP ставки с учетом спредов"
   ]
  },
  {
   "cell_type": "code",
   "execution_count": 127,
   "id": "def6365f-977b-4b82-bc81-c9c4af9d310f",
   "metadata": {},
   "outputs": [],
   "source": [
    "portfolo_res_sp = portfolio_res.copy()"
   ]
  },
  {
   "cell_type": "code",
   "execution_count": 128,
   "id": "0e644f54-0e3c-470a-add8-6828136f2c7e",
   "metadata": {},
   "outputs": [],
   "source": [
    "portfolo_res_sp['ftp'] = portfolo_res_sp['ftp'] - portfolo_res_sp['spreads_mat']"
   ]
  },
  {
   "cell_type": "code",
   "execution_count": 129,
   "id": "4f406db4-700c-416f-a316-48fe70cd4eb8",
   "metadata": {},
   "outputs": [],
   "source": [
    "portfolo_res_sp['balance_x_ftp'] = portfolo_res_sp['balance'] * portfolo_res_sp['ftp']"
   ]
  },
  {
   "cell_type": "code",
   "execution_count": 130,
   "id": "7e9739cf-8228-4897-8676-6deef3180f97",
   "metadata": {},
   "outputs": [
    {
     "data": {
      "text/html": [
       "<div>\n",
       "<style scoped>\n",
       "    .dataframe tbody tr th:only-of-type {\n",
       "        vertical-align: middle;\n",
       "    }\n",
       "\n",
       "    .dataframe tbody tr th {\n",
       "        vertical-align: top;\n",
       "    }\n",
       "\n",
       "    .dataframe thead th {\n",
       "        text-align: right;\n",
       "    }\n",
       "</style>\n",
       "<table border=\"1\" class=\"dataframe\">\n",
       "  <thead>\n",
       "    <tr style=\"text-align: right;\">\n",
       "      <th></th>\n",
       "      <th>0</th>\n",
       "      <th>1</th>\n",
       "      <th>2</th>\n",
       "      <th>3</th>\n",
       "      <th>4</th>\n",
       "      <th>5</th>\n",
       "      <th>6</th>\n",
       "    </tr>\n",
       "  </thead>\n",
       "  <tbody>\n",
       "    <tr>\n",
       "      <th>report_month</th>\n",
       "      <td>2023-01</td>\n",
       "      <td>2023-02</td>\n",
       "      <td>2023-03</td>\n",
       "      <td>2023-04</td>\n",
       "      <td>2023-05</td>\n",
       "      <td>2023-06</td>\n",
       "      <td>2023-07</td>\n",
       "    </tr>\n",
       "    <tr>\n",
       "      <th>0</th>\n",
       "      <td>8.792019</td>\n",
       "      <td>8.654219</td>\n",
       "      <td>8.680528</td>\n",
       "      <td>8.455197</td>\n",
       "      <td>8.302097</td>\n",
       "      <td>8.307393</td>\n",
       "      <td>8.315339</td>\n",
       "    </tr>\n",
       "  </tbody>\n",
       "</table>\n",
       "</div>"
      ],
      "text/plain": [
       "                     0         1         2         3         4         5  \\\n",
       "report_month   2023-01   2023-02   2023-03   2023-04   2023-05   2023-06   \n",
       "0             8.792019  8.654219  8.680528  8.455197  8.302097  8.307393   \n",
       "\n",
       "                     6  \n",
       "report_month   2023-07  \n",
       "0             8.315339  "
      ]
     },
     "execution_count": 130,
     "metadata": {},
     "output_type": "execute_result"
    }
   ],
   "source": [
    "(portfolo_res_sp.groupby('report_month').sum()['balance_x_ftp'] / portfolo_res_sp.groupby('report_month').sum()['balance']).reset_index().T"
   ]
  },
  {
   "cell_type": "code",
   "execution_count": 131,
   "id": "63856b69-f92e-44a9-8634-77e8becb0977",
   "metadata": {},
   "outputs": [
    {
     "data": {
      "text/html": [
       "<div>\n",
       "<style scoped>\n",
       "    .dataframe tbody tr th:only-of-type {\n",
       "        vertical-align: middle;\n",
       "    }\n",
       "\n",
       "    .dataframe tbody tr th {\n",
       "        vertical-align: top;\n",
       "    }\n",
       "\n",
       "    .dataframe thead th {\n",
       "        text-align: right;\n",
       "    }\n",
       "</style>\n",
       "<table border=\"1\" class=\"dataframe\">\n",
       "  <thead>\n",
       "    <tr style=\"text-align: right;\">\n",
       "      <th></th>\n",
       "      <th>0</th>\n",
       "      <th>3</th>\n",
       "      <th>6</th>\n",
       "      <th>9</th>\n",
       "      <th>12</th>\n",
       "      <th>15</th>\n",
       "      <th>18</th>\n",
       "      <th>1</th>\n",
       "      <th>4</th>\n",
       "      <th>7</th>\n",
       "      <th>10</th>\n",
       "      <th>13</th>\n",
       "      <th>16</th>\n",
       "      <th>19</th>\n",
       "      <th>2</th>\n",
       "      <th>5</th>\n",
       "      <th>8</th>\n",
       "      <th>11</th>\n",
       "      <th>14</th>\n",
       "      <th>17</th>\n",
       "      <th>20</th>\n",
       "    </tr>\n",
       "  </thead>\n",
       "  <tbody>\n",
       "    <tr>\n",
       "      <th>report_month</th>\n",
       "      <td>2023-01</td>\n",
       "      <td>2023-02</td>\n",
       "      <td>2023-03</td>\n",
       "      <td>2023-04</td>\n",
       "      <td>2023-05</td>\n",
       "      <td>2023-06</td>\n",
       "      <td>2023-07</td>\n",
       "      <td>2023-01</td>\n",
       "      <td>2023-02</td>\n",
       "      <td>2023-03</td>\n",
       "      <td>2023-04</td>\n",
       "      <td>2023-05</td>\n",
       "      <td>2023-06</td>\n",
       "      <td>2023-07</td>\n",
       "      <td>2023-01</td>\n",
       "      <td>2023-02</td>\n",
       "      <td>2023-03</td>\n",
       "      <td>2023-04</td>\n",
       "      <td>2023-05</td>\n",
       "      <td>2023-06</td>\n",
       "      <td>2023-07</td>\n",
       "    </tr>\n",
       "    <tr>\n",
       "      <th>segment</th>\n",
       "      <td>mass</td>\n",
       "      <td>mass</td>\n",
       "      <td>mass</td>\n",
       "      <td>mass</td>\n",
       "      <td>mass</td>\n",
       "      <td>mass</td>\n",
       "      <td>mass</td>\n",
       "      <td>priv</td>\n",
       "      <td>priv</td>\n",
       "      <td>priv</td>\n",
       "      <td>priv</td>\n",
       "      <td>priv</td>\n",
       "      <td>priv</td>\n",
       "      <td>priv</td>\n",
       "      <td>vip</td>\n",
       "      <td>vip</td>\n",
       "      <td>vip</td>\n",
       "      <td>vip</td>\n",
       "      <td>vip</td>\n",
       "      <td>vip</td>\n",
       "      <td>vip</td>\n",
       "    </tr>\n",
       "    <tr>\n",
       "      <th>0</th>\n",
       "      <td>8.303248</td>\n",
       "      <td>8.300528</td>\n",
       "      <td>8.37125</td>\n",
       "      <td>8.342517</td>\n",
       "      <td>8.332169</td>\n",
       "      <td>8.353844</td>\n",
       "      <td>8.405688</td>\n",
       "      <td>8.307073</td>\n",
       "      <td>8.245416</td>\n",
       "      <td>8.314816</td>\n",
       "      <td>8.282724</td>\n",
       "      <td>8.29404</td>\n",
       "      <td>8.349154</td>\n",
       "      <td>8.397805</td>\n",
       "      <td>9.387687</td>\n",
       "      <td>9.148315</td>\n",
       "      <td>9.150361</td>\n",
       "      <td>8.660361</td>\n",
       "      <td>8.287098</td>\n",
       "      <td>8.246714</td>\n",
       "      <td>8.194318</td>\n",
       "    </tr>\n",
       "  </tbody>\n",
       "</table>\n",
       "</div>"
      ],
      "text/plain": [
       "                    0         3        6         9         12        15  \\\n",
       "report_month   2023-01   2023-02  2023-03   2023-04   2023-05   2023-06   \n",
       "segment           mass      mass     mass      mass      mass      mass   \n",
       "0             8.303248  8.300528  8.37125  8.342517  8.332169  8.353844   \n",
       "\n",
       "                    18        1         4         7         10       13  \\\n",
       "report_month   2023-07   2023-01   2023-02   2023-03   2023-04  2023-05   \n",
       "segment           mass      priv      priv      priv      priv     priv   \n",
       "0             8.405688  8.307073  8.245416  8.314816  8.282724  8.29404   \n",
       "\n",
       "                    16        19        2         5         8         11  \\\n",
       "report_month   2023-06   2023-07   2023-01   2023-02   2023-03   2023-04   \n",
       "segment           priv      priv       vip       vip       vip       vip   \n",
       "0             8.349154  8.397805  9.387687  9.148315  9.150361  8.660361   \n",
       "\n",
       "                    14        17        20  \n",
       "report_month   2023-05   2023-06   2023-07  \n",
       "segment            vip       vip       vip  \n",
       "0             8.287098  8.246714  8.194318  "
      ]
     },
     "execution_count": 131,
     "metadata": {},
     "output_type": "execute_result"
    }
   ],
   "source": [
    "tmp_ftp = (portfolo_res_sp.groupby(['report_month', 'segment']).sum()['balance_x_ftp'] / portfolo_res_sp.groupby(['report_month', 'segment']).sum()['balance']).reset_index().sort_values(by=['segment', 'report_month']).T\n",
    "tmp_ftp"
   ]
  },
  {
   "cell_type": "code",
   "execution_count": 132,
   "id": "3ffef584-e576-4d0d-abb0-73c8427bff76",
   "metadata": {},
   "outputs": [],
   "source": [
    "#tmp_ftp.to_excel('ftp_dep_segm.xlsx')"
   ]
  },
  {
   "cell_type": "markdown",
   "id": "a1c1aa23-5750-46d0-9ee3-9130e00a62ad",
   "metadata": {},
   "source": [
    "### Найдем взвешанные ставки по депозитам"
   ]
  },
  {
   "cell_type": "code",
   "execution_count": 133,
   "id": "3faa4c9e-e5ed-4ac7-8cfc-28cf498551a5",
   "metadata": {},
   "outputs": [],
   "source": [
    "portfolio_res['balance_x_weight_rate'] = portfolio_res['balance'] * portfolio_res['weight_rate']"
   ]
  },
  {
   "cell_type": "code",
   "execution_count": 134,
   "id": "31c7a528-05e1-4450-bb3d-e79d7af19026",
   "metadata": {},
   "outputs": [
    {
     "data": {
      "text/html": [
       "<div>\n",
       "<style scoped>\n",
       "    .dataframe tbody tr th:only-of-type {\n",
       "        vertical-align: middle;\n",
       "    }\n",
       "\n",
       "    .dataframe tbody tr th {\n",
       "        vertical-align: top;\n",
       "    }\n",
       "\n",
       "    .dataframe thead th {\n",
       "        text-align: right;\n",
       "    }\n",
       "</style>\n",
       "<table border=\"1\" class=\"dataframe\">\n",
       "  <thead>\n",
       "    <tr style=\"text-align: right;\">\n",
       "      <th></th>\n",
       "      <th>0</th>\n",
       "      <th>1</th>\n",
       "      <th>2</th>\n",
       "      <th>3</th>\n",
       "      <th>4</th>\n",
       "      <th>5</th>\n",
       "      <th>6</th>\n",
       "    </tr>\n",
       "  </thead>\n",
       "  <tbody>\n",
       "    <tr>\n",
       "      <th>report_month</th>\n",
       "      <td>2023-01</td>\n",
       "      <td>2023-02</td>\n",
       "      <td>2023-03</td>\n",
       "      <td>2023-04</td>\n",
       "      <td>2023-05</td>\n",
       "      <td>2023-06</td>\n",
       "      <td>2023-07</td>\n",
       "    </tr>\n",
       "    <tr>\n",
       "      <th>0</th>\n",
       "      <td>7.459766</td>\n",
       "      <td>7.285003</td>\n",
       "      <td>7.340237</td>\n",
       "      <td>7.279567</td>\n",
       "      <td>7.231137</td>\n",
       "      <td>7.235336</td>\n",
       "      <td>7.29389</td>\n",
       "    </tr>\n",
       "  </tbody>\n",
       "</table>\n",
       "</div>"
      ],
      "text/plain": [
       "                     0         1         2         3         4         5  \\\n",
       "report_month   2023-01   2023-02   2023-03   2023-04   2023-05   2023-06   \n",
       "0             7.459766  7.285003  7.340237  7.279567  7.231137  7.235336   \n",
       "\n",
       "                    6  \n",
       "report_month  2023-07  \n",
       "0             7.29389  "
      ]
     },
     "execution_count": 134,
     "metadata": {},
     "output_type": "execute_result"
    }
   ],
   "source": [
    "(portfolio_res.groupby('report_month').sum()['balance_x_weight_rate'] / portfolio_res.groupby('report_month').sum()['balance']).reset_index().T"
   ]
  },
  {
   "cell_type": "code",
   "execution_count": 135,
   "id": "3881f687-8924-4dbe-bc32-2191e6a9ba27",
   "metadata": {},
   "outputs": [
    {
     "data": {
      "text/html": [
       "<div>\n",
       "<style scoped>\n",
       "    .dataframe tbody tr th:only-of-type {\n",
       "        vertical-align: middle;\n",
       "    }\n",
       "\n",
       "    .dataframe tbody tr th {\n",
       "        vertical-align: top;\n",
       "    }\n",
       "\n",
       "    .dataframe thead th {\n",
       "        text-align: right;\n",
       "    }\n",
       "</style>\n",
       "<table border=\"1\" class=\"dataframe\">\n",
       "  <thead>\n",
       "    <tr style=\"text-align: right;\">\n",
       "      <th></th>\n",
       "      <th>0</th>\n",
       "      <th>3</th>\n",
       "      <th>6</th>\n",
       "      <th>9</th>\n",
       "      <th>12</th>\n",
       "      <th>15</th>\n",
       "      <th>18</th>\n",
       "      <th>1</th>\n",
       "      <th>4</th>\n",
       "      <th>7</th>\n",
       "      <th>10</th>\n",
       "      <th>13</th>\n",
       "      <th>16</th>\n",
       "      <th>19</th>\n",
       "      <th>2</th>\n",
       "      <th>5</th>\n",
       "      <th>8</th>\n",
       "      <th>11</th>\n",
       "      <th>14</th>\n",
       "      <th>17</th>\n",
       "      <th>20</th>\n",
       "    </tr>\n",
       "  </thead>\n",
       "  <tbody>\n",
       "    <tr>\n",
       "      <th>report_month</th>\n",
       "      <td>2023-01</td>\n",
       "      <td>2023-02</td>\n",
       "      <td>2023-03</td>\n",
       "      <td>2023-04</td>\n",
       "      <td>2023-05</td>\n",
       "      <td>2023-06</td>\n",
       "      <td>2023-07</td>\n",
       "      <td>2023-01</td>\n",
       "      <td>2023-02</td>\n",
       "      <td>2023-03</td>\n",
       "      <td>2023-04</td>\n",
       "      <td>2023-05</td>\n",
       "      <td>2023-06</td>\n",
       "      <td>2023-07</td>\n",
       "      <td>2023-01</td>\n",
       "      <td>2023-02</td>\n",
       "      <td>2023-03</td>\n",
       "      <td>2023-04</td>\n",
       "      <td>2023-05</td>\n",
       "      <td>2023-06</td>\n",
       "      <td>2023-07</td>\n",
       "    </tr>\n",
       "    <tr>\n",
       "      <th>segment</th>\n",
       "      <td>mass</td>\n",
       "      <td>mass</td>\n",
       "      <td>mass</td>\n",
       "      <td>mass</td>\n",
       "      <td>mass</td>\n",
       "      <td>mass</td>\n",
       "      <td>mass</td>\n",
       "      <td>priv</td>\n",
       "      <td>priv</td>\n",
       "      <td>priv</td>\n",
       "      <td>priv</td>\n",
       "      <td>priv</td>\n",
       "      <td>priv</td>\n",
       "      <td>priv</td>\n",
       "      <td>vip</td>\n",
       "      <td>vip</td>\n",
       "      <td>vip</td>\n",
       "      <td>vip</td>\n",
       "      <td>vip</td>\n",
       "      <td>vip</td>\n",
       "      <td>vip</td>\n",
       "    </tr>\n",
       "    <tr>\n",
       "      <th>0</th>\n",
       "      <td>7.167951</td>\n",
       "      <td>7.199995</td>\n",
       "      <td>7.280011</td>\n",
       "      <td>7.239681</td>\n",
       "      <td>7.206404</td>\n",
       "      <td>7.201391</td>\n",
       "      <td>7.240452</td>\n",
       "      <td>7.170281</td>\n",
       "      <td>7.146036</td>\n",
       "      <td>7.199649</td>\n",
       "      <td>7.177744</td>\n",
       "      <td>7.17364</td>\n",
       "      <td>7.186424</td>\n",
       "      <td>7.235298</td>\n",
       "      <td>7.815372</td>\n",
       "      <td>7.430612</td>\n",
       "      <td>7.48057</td>\n",
       "      <td>7.381834</td>\n",
       "      <td>7.287986</td>\n",
       "      <td>7.292637</td>\n",
       "      <td>7.372529</td>\n",
       "    </tr>\n",
       "  </tbody>\n",
       "</table>\n",
       "</div>"
      ],
      "text/plain": [
       "                    0         3         6         9         12        15  \\\n",
       "report_month   2023-01   2023-02   2023-03   2023-04   2023-05   2023-06   \n",
       "segment           mass      mass      mass      mass      mass      mass   \n",
       "0             7.167951  7.199995  7.280011  7.239681  7.206404  7.201391   \n",
       "\n",
       "                    18        1         4         7         10       13  \\\n",
       "report_month   2023-07   2023-01   2023-02   2023-03   2023-04  2023-05   \n",
       "segment           mass      priv      priv      priv      priv     priv   \n",
       "0             7.240452  7.170281  7.146036  7.199649  7.177744  7.17364   \n",
       "\n",
       "                    16        19        2         5        8         11  \\\n",
       "report_month   2023-06   2023-07   2023-01   2023-02  2023-03   2023-04   \n",
       "segment           priv      priv       vip       vip      vip       vip   \n",
       "0             7.186424  7.235298  7.815372  7.430612  7.48057  7.381834   \n",
       "\n",
       "                    14        17        20  \n",
       "report_month   2023-05   2023-06   2023-07  \n",
       "segment            vip       vip       vip  \n",
       "0             7.287986  7.292637  7.372529  "
      ]
     },
     "execution_count": 135,
     "metadata": {},
     "output_type": "execute_result"
    }
   ],
   "source": [
    "tmp_wr = (portfolio_res.groupby(['report_month', 'segment']).sum()['balance_x_weight_rate'] / portfolio_res.groupby(['report_month', 'segment']).sum()['balance']).reset_index().sort_values(by=['segment', 'report_month']).T\n",
    "tmp_wr"
   ]
  },
  {
   "cell_type": "code",
   "execution_count": 136,
   "id": "ccbef266-867f-4230-a7c4-4240c624862f",
   "metadata": {},
   "outputs": [],
   "source": [
    "tmp_wr.to_excel('wr_dep_segm.xlsx')"
   ]
  },
  {
   "cell_type": "markdown",
   "id": "13a08b9b-6a2e-49e1-8635-20a02fbe3538",
   "metadata": {},
   "source": [
    "## Взвешанные ставки с учетом оттоков"
   ]
  },
  {
   "cell_type": "code",
   "execution_count": 137,
   "id": "81152711-4b5a-4105-a7c9-58976ddc7445",
   "metadata": {},
   "outputs": [],
   "source": [
    "portfolo_res3['balance_x_weight_rate'] = portfolo_res3['balance'] * portfolo_res3['weight_rate']"
   ]
  },
  {
   "cell_type": "code",
   "execution_count": 138,
   "id": "1d61c7cf-a265-4da2-8e62-72b0b01da558",
   "metadata": {},
   "outputs": [
    {
     "data": {
      "text/html": [
       "<div>\n",
       "<style scoped>\n",
       "    .dataframe tbody tr th:only-of-type {\n",
       "        vertical-align: middle;\n",
       "    }\n",
       "\n",
       "    .dataframe tbody tr th {\n",
       "        vertical-align: top;\n",
       "    }\n",
       "\n",
       "    .dataframe thead th {\n",
       "        text-align: right;\n",
       "    }\n",
       "</style>\n",
       "<table border=\"1\" class=\"dataframe\">\n",
       "  <thead>\n",
       "    <tr style=\"text-align: right;\">\n",
       "      <th></th>\n",
       "      <th>0</th>\n",
       "      <th>1</th>\n",
       "      <th>2</th>\n",
       "      <th>3</th>\n",
       "      <th>4</th>\n",
       "      <th>5</th>\n",
       "      <th>6</th>\n",
       "    </tr>\n",
       "  </thead>\n",
       "  <tbody>\n",
       "    <tr>\n",
       "      <th>report_month</th>\n",
       "      <td>2023-01</td>\n",
       "      <td>2023-02</td>\n",
       "      <td>2023-03</td>\n",
       "      <td>2023-04</td>\n",
       "      <td>2023-05</td>\n",
       "      <td>2023-06</td>\n",
       "      <td>2023-07</td>\n",
       "    </tr>\n",
       "    <tr>\n",
       "      <th>0</th>\n",
       "      <td>7.488949</td>\n",
       "      <td>7.302237</td>\n",
       "      <td>7.393401</td>\n",
       "      <td>7.295637</td>\n",
       "      <td>7.259178</td>\n",
       "      <td>7.254725</td>\n",
       "      <td>7.215133</td>\n",
       "    </tr>\n",
       "  </tbody>\n",
       "</table>\n",
       "</div>"
      ],
      "text/plain": [
       "                     0         1         2         3         4         5  \\\n",
       "report_month   2023-01   2023-02   2023-03   2023-04   2023-05   2023-06   \n",
       "0             7.488949  7.302237  7.393401  7.295637  7.259178  7.254725   \n",
       "\n",
       "                     6  \n",
       "report_month   2023-07  \n",
       "0             7.215133  "
      ]
     },
     "execution_count": 138,
     "metadata": {},
     "output_type": "execute_result"
    }
   ],
   "source": [
    "(portfolo_res3.groupby('report_month').sum()['balance_x_weight_rate'] / portfolo_res3.groupby('report_month').sum()['balance']).reset_index().T"
   ]
  },
  {
   "cell_type": "markdown",
   "id": "12da7f60-877a-42ea-80c8-05b2d18c501b",
   "metadata": {},
   "source": [
    "### Вычтем FOR и SSV и перейдем к расчетам"
   ]
  },
  {
   "cell_type": "code",
   "execution_count": 139,
   "id": "cd46dc3b-24ab-47e2-abd6-d3aef6258e3b",
   "metadata": {},
   "outputs": [],
   "source": [
    "portfolio_res['ftp'] = portfolio_res['ftp'] * (1 - portfolio_res['FOR']/100) - portfolio_res['SSV'] - portfolio_res['spreads_mat']"
   ]
  },
  {
   "cell_type": "markdown",
   "id": "ece5f95f-9c3e-435b-ae5a-9df461b58a76",
   "metadata": {},
   "source": [
    "### Расчет ЧПД"
   ]
  },
  {
   "cell_type": "code",
   "execution_count": 140,
   "id": "50595627-e1d4-4cf7-98db-0ff71b1914ee",
   "metadata": {},
   "outputs": [],
   "source": [
    "portfolio_res['margin_year'] = portfolio_res['ftp'] - portfolio_res['weight_rate']"
   ]
  },
  {
   "cell_type": "code",
   "execution_count": 141,
   "id": "f6608b47-4bbc-4196-88ca-9aa20958e127",
   "metadata": {},
   "outputs": [
    {
     "data": {
      "text/plain": [
       "3.7370944238484547e-07"
      ]
     },
     "execution_count": 141,
     "metadata": {},
     "output_type": "execute_result"
    }
   ],
   "source": [
    "portfolio_res[portfolio_res['margin_year'].isnull()]['balance'].sum() / portfolio_res['balance'].sum()"
   ]
  },
  {
   "cell_type": "code",
   "execution_count": 142,
   "id": "6c193823-cd9b-46be-9e90-ac906dc85585",
   "metadata": {},
   "outputs": [
    {
     "data": {
      "text/plain": [
       "report_month\n",
       "2023-01    3.985601\n",
       "2023-02    3.913845\n",
       "2023-03    3.575490\n",
       "2023-04    3.362568\n",
       "2023-05    3.258737\n",
       "2023-06    3.353615\n",
       "2023-07    3.438296\n",
       "Name: margin_year, dtype: float64"
      ]
     },
     "execution_count": 142,
     "metadata": {},
     "output_type": "execute_result"
    }
   ],
   "source": [
    "portfolio_res.groupby('report_month').mean()['margin_year']"
   ]
  },
  {
   "cell_type": "code",
   "execution_count": 143,
   "id": "ecdae69e-5d49-434e-b920-dc347748834f",
   "metadata": {},
   "outputs": [
    {
     "data": {
      "text/plain": [
       "0        0.160407\n",
       "1        0.160100\n",
       "2        0.280000\n",
       "3        0.280000\n",
       "4        0.840485\n",
       "           ...   \n",
       "64308    7.035250\n",
       "64309    7.035250\n",
       "64310    7.035250\n",
       "64311    7.839762\n",
       "64312    6.720000\n",
       "Name: margin_year, Length: 64313, dtype: float64"
      ]
     },
     "execution_count": 143,
     "metadata": {},
     "output_type": "execute_result"
    }
   ],
   "source": [
    "portfolio_res['margin_year']"
   ]
  },
  {
   "cell_type": "code",
   "execution_count": 144,
   "id": "8d08be77-6fed-481a-b749-dd3f133951ff",
   "metadata": {},
   "outputs": [],
   "source": [
    "portfolio_res['margin_month'] = (1+(portfolio_res['margin_year']/100))**(1/12) - 1"
   ]
  },
  {
   "cell_type": "code",
   "execution_count": 145,
   "id": "ec8cc7f5-183b-4eee-aaee-4b7b4a166c96",
   "metadata": {},
   "outputs": [],
   "source": [
    "portfolio_res['margin_day'] = (portfolio_res['margin_year']/100)*(1/365)"
   ]
  },
  {
   "cell_type": "code",
   "execution_count": 146,
   "id": "572bdada-c77d-4f92-ba29-5414c6a8e8b1",
   "metadata": {},
   "outputs": [
    {
     "data": {
      "text/plain": [
       "31"
      ]
     },
     "execution_count": 146,
     "metadata": {},
     "output_type": "execute_result"
    }
   ],
   "source": [
    "int(portfolio_res['report_dt'].astype(str).iloc[1][-2:])"
   ]
  },
  {
   "cell_type": "code",
   "execution_count": 147,
   "id": "2020220e-14d8-4e46-989b-295811288a8e",
   "metadata": {},
   "outputs": [],
   "source": [
    "portfolio_res['report_dt_days'] = portfolio_res['report_dt'].apply(lambda x: (x.day))"
   ]
  },
  {
   "cell_type": "code",
   "execution_count": 148,
   "id": "bb242d5e-f4d9-4ede-8a4b-6bc2c6b8d85f",
   "metadata": {},
   "outputs": [],
   "source": [
    "portfolio_res['margin_value'] = portfolio_res['balance'] * portfolio_res['margin_day'] * portfolio_res['report_dt_days']"
   ]
  },
  {
   "cell_type": "code",
   "execution_count": 149,
   "id": "4a6d1566-1bfd-471e-801c-a9b838e59ac9",
   "metadata": {},
   "outputs": [],
   "source": [
    "#portfolio_res['margin_value'] = portfolio_res['balance'] * portfolio_res['margin_month'] #* portfolio_res['report_dt_days']"
   ]
  },
  {
   "cell_type": "code",
   "execution_count": 150,
   "id": "b946ce45-4db7-446b-8967-96cecdecab37",
   "metadata": {},
   "outputs": [],
   "source": [
    "#portfolio_res['margin_value'] = (portfolio_res['balance'] - portfolio_res['SER_d_cl']) * portfolio_res['margin_month']"
   ]
  },
  {
   "cell_type": "code",
   "execution_count": 179,
   "id": "ae300447-d49c-4bcc-8275-42f6193c7794",
   "metadata": {},
   "outputs": [
    {
     "data": {
      "text/plain": [
       "report_dt\n",
       "2023-01-31    1440.538299\n",
       "2023-02-28    1427.747648\n",
       "2023-03-31    1296.883723\n",
       "2023-04-30     878.252268\n",
       "2023-05-31     660.436617\n",
       "2023-06-30     532.543585\n",
       "2023-07-31     418.039714\n",
       "Name: margin_value, dtype: float64"
      ]
     },
     "execution_count": 179,
     "metadata": {},
     "output_type": "execute_result"
    }
   ],
   "source": [
    "portfolio_res.groupby('report_dt').sum()['margin_value'] / 1000000"
   ]
  },
  {
   "cell_type": "markdown",
   "id": "fd2460d5-4804-4989-bcbf-ff21bd6e564d",
   "metadata": {},
   "source": [
    "## Разбираемся с FTP ставками и датой открытия"
   ]
  },
  {
   "cell_type": "code",
   "execution_count": 151,
   "id": "5954b48b-9251-4d6e-8e1e-8c14e9094392",
   "metadata": {},
   "outputs": [
    {
     "data": {
      "text/html": [
       "<div>\n",
       "<style scoped>\n",
       "    .dataframe tbody tr th:only-of-type {\n",
       "        vertical-align: middle;\n",
       "    }\n",
       "\n",
       "    .dataframe tbody tr th {\n",
       "        vertical-align: top;\n",
       "    }\n",
       "\n",
       "    .dataframe thead th {\n",
       "        text-align: right;\n",
       "    }\n",
       "</style>\n",
       "<table border=\"1\" class=\"dataframe\">\n",
       "  <thead>\n",
       "    <tr style=\"text-align: right;\">\n",
       "      <th></th>\n",
       "      <th>report_month</th>\n",
       "      <th>bucketed_balance</th>\n",
       "      <th>is_vip_or_prv</th>\n",
       "      <th>drop_flg</th>\n",
       "      <th>optional_flg</th>\n",
       "      <th>bucketed_period</th>\n",
       "      <th>open_month</th>\n",
       "      <th>close_month</th>\n",
       "      <th>bucketed_open_rate</th>\n",
       "      <th>report_dt</th>\n",
       "      <th>total_interests</th>\n",
       "      <th>remaining_interests</th>\n",
       "      <th>weight_rate</th>\n",
       "      <th>total_generation</th>\n",
       "      <th>total_generation_cleared</th>\n",
       "      <th>weight_renewal_cnt</th>\n",
       "      <th>weight_renewal_available_flg</th>\n",
       "      <th>weight_close_plan_day</th>\n",
       "      <th>gen_name</th>\n",
       "      <th>SER_d</th>\n",
       "      <th>SER_d_cl</th>\n",
       "      <th>SER_dinamic</th>\n",
       "      <th>SER_dinamic_cl</th>\n",
       "      <th>total_generation_lag1</th>\n",
       "      <th>total_generation_cl_lag1</th>\n",
       "      <th>CUR</th>\n",
       "      <th>report_weight_open_rate_1m</th>\n",
       "      <th>report_weight_open_rate_3m</th>\n",
       "      <th>report_weight_open_rate_6m</th>\n",
       "      <th>report_weight_open_rate_12m</th>\n",
       "      <th>report_weight_open_rate_24m</th>\n",
       "      <th>report_wo_period_weight_open_rate</th>\n",
       "      <th>init_total_generation</th>\n",
       "      <th>row_count</th>\n",
       "      <th>share_period_plan</th>\n",
       "      <th>max_total_generation</th>\n",
       "      <th>max_SER_dinamic</th>\n",
       "      <th>replenishable_flg</th>\n",
       "      <th>subtraction_flg</th>\n",
       "      <th>segment</th>\n",
       "      <th>month_maturity</th>\n",
       "      <th>target_maturity_days</th>\n",
       "      <th>bucketed_balance_nm</th>\n",
       "      <th>renewal_cnt</th>\n",
       "      <th>operations_in_month</th>\n",
       "      <th>early_withdrawal_in_month</th>\n",
       "      <th>balance</th>\n",
       "      <th>interests</th>\n",
       "      <th>open_month_correct</th>\n",
       "      <th>target_maturity_months</th>\n",
       "      <th>close_month_dt</th>\n",
       "      <th>90_spread</th>\n",
       "      <th>180_spread</th>\n",
       "      <th>365_spread</th>\n",
       "      <th>548_spread</th>\n",
       "      <th>730_spread</th>\n",
       "      <th>1095_spread</th>\n",
       "      <th>spreads_mat</th>\n",
       "      <th>vtb_[1095d]_ftp_rate</th>\n",
       "      <th>vtb_[180d]_ftp_rate</th>\n",
       "      <th>vtb_[365d]_ftp_rate</th>\n",
       "      <th>vtb_[548d]_ftp_rate</th>\n",
       "      <th>vtb_[730d]_ftp_rate</th>\n",
       "      <th>vtb_[90d]_ftp_rate</th>\n",
       "      <th>ftp</th>\n",
       "      <th>FOR</th>\n",
       "      <th>SSV</th>\n",
       "      <th>balance_x_ftp</th>\n",
       "      <th>balance_x_weight_rate</th>\n",
       "      <th>margin_year</th>\n",
       "      <th>margin_month</th>\n",
       "      <th>margin_day</th>\n",
       "      <th>report_dt_days</th>\n",
       "      <th>margin_value</th>\n",
       "    </tr>\n",
       "  </thead>\n",
       "  <tbody>\n",
       "    <tr>\n",
       "      <th>0</th>\n",
       "      <td>2023-01</td>\n",
       "      <td>4.0</td>\n",
       "      <td>0</td>\n",
       "      <td>0.0</td>\n",
       "      <td>0.0</td>\n",
       "      <td>7.0</td>\n",
       "      <td>2022-09</td>\n",
       "      <td>2023-03</td>\n",
       "      <td>8.0</td>\n",
       "      <td>2023-01-31</td>\n",
       "      <td>1.080998e+09</td>\n",
       "      <td>4.309770e+08</td>\n",
       "      <td>7.014158</td>\n",
       "      <td>3.767463e+10</td>\n",
       "      <td>3.689392e+10</td>\n",
       "      <td>0.0</td>\n",
       "      <td>0.0</td>\n",
       "      <td>7.640179</td>\n",
       "      <td>2022-09_2023-03_4.0_7.0_8.0_0_0_0.0_RUR</td>\n",
       "      <td>-1.498874e+08</td>\n",
       "      <td>-3.443082e+08</td>\n",
       "      <td>-0.003963</td>\n",
       "      <td>-0.009246</td>\n",
       "      <td>3.782452e+10</td>\n",
       "      <td>3.723822e+10</td>\n",
       "      <td>RUR</td>\n",
       "      <td>NaN</td>\n",
       "      <td>7.0</td>\n",
       "      <td>7.526670</td>\n",
       "      <td>7.469240</td>\n",
       "      <td>NaN</td>\n",
       "      <td>7.404150</td>\n",
       "      <td>4.033852e+10</td>\n",
       "      <td>5</td>\n",
       "      <td>0.674033</td>\n",
       "      <td>3.767463e+10</td>\n",
       "      <td>-0.003963</td>\n",
       "      <td>0</td>\n",
       "      <td>0</td>\n",
       "      <td>mass</td>\n",
       "      <td>6</td>\n",
       "      <td>180</td>\n",
       "      <td>1000k-2000k</td>\n",
       "      <td>0.0</td>\n",
       "      <td>0.0</td>\n",
       "      <td>-3.443082e+08</td>\n",
       "      <td>3.767463e+10</td>\n",
       "      <td>1.944209e+08</td>\n",
       "      <td>2022-09-01</td>\n",
       "      <td>6</td>\n",
       "      <td>2023-03-01</td>\n",
       "      <td>NaN</td>\n",
       "      <td>NaN</td>\n",
       "      <td>NaN</td>\n",
       "      <td>NaN</td>\n",
       "      <td>NaN</td>\n",
       "      <td>NaN</td>\n",
       "      <td>0.0</td>\n",
       "      <td>8.25</td>\n",
       "      <td>7.891304</td>\n",
       "      <td>8.0</td>\n",
       "      <td>8.1</td>\n",
       "      <td>8.15</td>\n",
       "      <td>7.847826</td>\n",
       "      <td>7.174565</td>\n",
       "      <td>3.0</td>\n",
       "      <td>0.48</td>\n",
       "      <td>2.973020e+11</td>\n",
       "      <td>2.642558e+11</td>\n",
       "      <td>0.160407</td>\n",
       "      <td>0.000134</td>\n",
       "      <td>0.000004</td>\n",
       "      <td>31</td>\n",
       "      <td>5.132651e+06</td>\n",
       "    </tr>\n",
       "    <tr>\n",
       "      <th>1</th>\n",
       "      <td>2023-01</td>\n",
       "      <td>3.0</td>\n",
       "      <td>0</td>\n",
       "      <td>0.0</td>\n",
       "      <td>0.0</td>\n",
       "      <td>7.0</td>\n",
       "      <td>2022-09</td>\n",
       "      <td>2023-03</td>\n",
       "      <td>8.0</td>\n",
       "      <td>2023-01-31</td>\n",
       "      <td>1.039290e+09</td>\n",
       "      <td>4.140946e+08</td>\n",
       "      <td>7.014465</td>\n",
       "      <td>3.624522e+10</td>\n",
       "      <td>3.546236e+10</td>\n",
       "      <td>0.0</td>\n",
       "      <td>0.0</td>\n",
       "      <td>7.765046</td>\n",
       "      <td>2022-09_2023-03_3.0_7.0_8.0_0_0_0.0_RUR</td>\n",
       "      <td>4.100963e+07</td>\n",
       "      <td>-1.568994e+08</td>\n",
       "      <td>0.001133</td>\n",
       "      <td>-0.004405</td>\n",
       "      <td>3.620421e+10</td>\n",
       "      <td>3.561926e+10</td>\n",
       "      <td>RUR</td>\n",
       "      <td>NaN</td>\n",
       "      <td>7.0</td>\n",
       "      <td>7.490077</td>\n",
       "      <td>7.450225</td>\n",
       "      <td>NaN</td>\n",
       "      <td>7.355351</td>\n",
       "      <td>3.720755e+10</td>\n",
       "      <td>5</td>\n",
       "      <td>0.674033</td>\n",
       "      <td>3.624522e+10</td>\n",
       "      <td>0.001133</td>\n",
       "      <td>0</td>\n",
       "      <td>0</td>\n",
       "      <td>mass</td>\n",
       "      <td>6</td>\n",
       "      <td>180</td>\n",
       "      <td>400k-1000k</td>\n",
       "      <td>0.0</td>\n",
       "      <td>0.0</td>\n",
       "      <td>-1.568994e+08</td>\n",
       "      <td>3.624522e+10</td>\n",
       "      <td>1.979090e+08</td>\n",
       "      <td>2022-09-01</td>\n",
       "      <td>6</td>\n",
       "      <td>2023-03-01</td>\n",
       "      <td>NaN</td>\n",
       "      <td>NaN</td>\n",
       "      <td>NaN</td>\n",
       "      <td>NaN</td>\n",
       "      <td>NaN</td>\n",
       "      <td>NaN</td>\n",
       "      <td>0.0</td>\n",
       "      <td>8.25</td>\n",
       "      <td>7.891304</td>\n",
       "      <td>8.0</td>\n",
       "      <td>8.1</td>\n",
       "      <td>8.15</td>\n",
       "      <td>7.847826</td>\n",
       "      <td>7.174565</td>\n",
       "      <td>3.0</td>\n",
       "      <td>0.48</td>\n",
       "      <td>2.860221e+11</td>\n",
       "      <td>2.542409e+11</td>\n",
       "      <td>0.160100</td>\n",
       "      <td>0.000133</td>\n",
       "      <td>0.000004</td>\n",
       "      <td>31</td>\n",
       "      <td>4.928463e+06</td>\n",
       "    </tr>\n",
       "    <tr>\n",
       "      <th>2</th>\n",
       "      <td>2023-01</td>\n",
       "      <td>4.0</td>\n",
       "      <td>0</td>\n",
       "      <td>0.0</td>\n",
       "      <td>0.0</td>\n",
       "      <td>13.0</td>\n",
       "      <td>2022-09</td>\n",
       "      <td>2023-09</td>\n",
       "      <td>8.0</td>\n",
       "      <td>2023-01-31</td>\n",
       "      <td>7.430132e+08</td>\n",
       "      <td>1.515603e+09</td>\n",
       "      <td>7.000000</td>\n",
       "      <td>2.592414e+10</td>\n",
       "      <td>2.539205e+10</td>\n",
       "      <td>0.0</td>\n",
       "      <td>0.0</td>\n",
       "      <td>14.847356</td>\n",
       "      <td>2022-09_2023-09_4.0_13.0_8.0_0_0_0.0_RUR</td>\n",
       "      <td>-6.024040e+07</td>\n",
       "      <td>-1.934322e+08</td>\n",
       "      <td>-0.002318</td>\n",
       "      <td>-0.007560</td>\n",
       "      <td>2.598438e+10</td>\n",
       "      <td>2.558548e+10</td>\n",
       "      <td>RUR</td>\n",
       "      <td>NaN</td>\n",
       "      <td>7.0</td>\n",
       "      <td>7.526670</td>\n",
       "      <td>7.469240</td>\n",
       "      <td>NaN</td>\n",
       "      <td>7.404150</td>\n",
       "      <td>2.814998e+10</td>\n",
       "      <td>5</td>\n",
       "      <td>0.334247</td>\n",
       "      <td>2.592414e+10</td>\n",
       "      <td>-0.002318</td>\n",
       "      <td>0</td>\n",
       "      <td>0</td>\n",
       "      <td>mass</td>\n",
       "      <td>12</td>\n",
       "      <td>365</td>\n",
       "      <td>1000k-2000k</td>\n",
       "      <td>0.0</td>\n",
       "      <td>0.0</td>\n",
       "      <td>-1.934322e+08</td>\n",
       "      <td>2.592414e+10</td>\n",
       "      <td>1.331918e+08</td>\n",
       "      <td>2022-09-01</td>\n",
       "      <td>12</td>\n",
       "      <td>2023-09-01</td>\n",
       "      <td>NaN</td>\n",
       "      <td>NaN</td>\n",
       "      <td>NaN</td>\n",
       "      <td>NaN</td>\n",
       "      <td>NaN</td>\n",
       "      <td>NaN</td>\n",
       "      <td>0.0</td>\n",
       "      <td>8.25</td>\n",
       "      <td>7.891304</td>\n",
       "      <td>8.0</td>\n",
       "      <td>8.1</td>\n",
       "      <td>8.15</td>\n",
       "      <td>7.847826</td>\n",
       "      <td>7.280000</td>\n",
       "      <td>3.0</td>\n",
       "      <td>0.48</td>\n",
       "      <td>2.073931e+11</td>\n",
       "      <td>1.814690e+11</td>\n",
       "      <td>0.280000</td>\n",
       "      <td>0.000233</td>\n",
       "      <td>0.000008</td>\n",
       "      <td>31</td>\n",
       "      <td>6.164974e+06</td>\n",
       "    </tr>\n",
       "    <tr>\n",
       "      <th>3</th>\n",
       "      <td>2023-01</td>\n",
       "      <td>3.0</td>\n",
       "      <td>0</td>\n",
       "      <td>0.0</td>\n",
       "      <td>0.0</td>\n",
       "      <td>13.0</td>\n",
       "      <td>2022-09</td>\n",
       "      <td>2023-09</td>\n",
       "      <td>8.0</td>\n",
       "      <td>2023-01-31</td>\n",
       "      <td>5.089354e+08</td>\n",
       "      <td>1.039455e+09</td>\n",
       "      <td>7.000000</td>\n",
       "      <td>1.776910e+10</td>\n",
       "      <td>1.738503e+10</td>\n",
       "      <td>0.0</td>\n",
       "      <td>0.0</td>\n",
       "      <td>15.224293</td>\n",
       "      <td>2022-09_2023-09_3.0_13.0_8.0_0_0_0.0_RUR</td>\n",
       "      <td>1.400735e+07</td>\n",
       "      <td>-8.303355e+07</td>\n",
       "      <td>0.000789</td>\n",
       "      <td>-0.004753</td>\n",
       "      <td>1.775509e+10</td>\n",
       "      <td>1.746806e+10</td>\n",
       "      <td>RUR</td>\n",
       "      <td>NaN</td>\n",
       "      <td>7.0</td>\n",
       "      <td>7.490077</td>\n",
       "      <td>7.450225</td>\n",
       "      <td>NaN</td>\n",
       "      <td>7.355351</td>\n",
       "      <td>1.879756e+10</td>\n",
       "      <td>5</td>\n",
       "      <td>0.334247</td>\n",
       "      <td>1.776910e+10</td>\n",
       "      <td>0.000789</td>\n",
       "      <td>0</td>\n",
       "      <td>0</td>\n",
       "      <td>mass</td>\n",
       "      <td>12</td>\n",
       "      <td>365</td>\n",
       "      <td>400k-1000k</td>\n",
       "      <td>0.0</td>\n",
       "      <td>0.0</td>\n",
       "      <td>-8.303355e+07</td>\n",
       "      <td>1.776910e+10</td>\n",
       "      <td>9.704090e+07</td>\n",
       "      <td>2022-09-01</td>\n",
       "      <td>12</td>\n",
       "      <td>2023-09-01</td>\n",
       "      <td>NaN</td>\n",
       "      <td>NaN</td>\n",
       "      <td>NaN</td>\n",
       "      <td>NaN</td>\n",
       "      <td>NaN</td>\n",
       "      <td>NaN</td>\n",
       "      <td>0.0</td>\n",
       "      <td>8.25</td>\n",
       "      <td>7.891304</td>\n",
       "      <td>8.0</td>\n",
       "      <td>8.1</td>\n",
       "      <td>8.15</td>\n",
       "      <td>7.847826</td>\n",
       "      <td>7.280000</td>\n",
       "      <td>3.0</td>\n",
       "      <td>0.48</td>\n",
       "      <td>1.421528e+11</td>\n",
       "      <td>1.243837e+11</td>\n",
       "      <td>0.280000</td>\n",
       "      <td>0.000233</td>\n",
       "      <td>0.000008</td>\n",
       "      <td>31</td>\n",
       "      <td>4.225637e+06</td>\n",
       "    </tr>\n",
       "    <tr>\n",
       "      <th>4</th>\n",
       "      <td>2023-01</td>\n",
       "      <td>3.0</td>\n",
       "      <td>0</td>\n",
       "      <td>0.0</td>\n",
       "      <td>0.0</td>\n",
       "      <td>7.0</td>\n",
       "      <td>2022-09</td>\n",
       "      <td>2023-03</td>\n",
       "      <td>7.0</td>\n",
       "      <td>2023-01-31</td>\n",
       "      <td>4.124332e+08</td>\n",
       "      <td>1.643192e+08</td>\n",
       "      <td>6.334080</td>\n",
       "      <td>1.590330e+10</td>\n",
       "      <td>1.558651e+10</td>\n",
       "      <td>0.0</td>\n",
       "      <td>0.0</td>\n",
       "      <td>15.142723</td>\n",
       "      <td>2022-09_2023-03_3.0_7.0_7.0_0_0_0.0_RUR</td>\n",
       "      <td>2.768054e+07</td>\n",
       "      <td>-5.264548e+07</td>\n",
       "      <td>0.001744</td>\n",
       "      <td>-0.003366</td>\n",
       "      <td>1.587562e+10</td>\n",
       "      <td>1.563915e+10</td>\n",
       "      <td>RUR</td>\n",
       "      <td>NaN</td>\n",
       "      <td>7.0</td>\n",
       "      <td>7.490077</td>\n",
       "      <td>7.450225</td>\n",
       "      <td>NaN</td>\n",
       "      <td>7.355351</td>\n",
       "      <td>1.666473e+10</td>\n",
       "      <td>5</td>\n",
       "      <td>0.674033</td>\n",
       "      <td>1.590330e+10</td>\n",
       "      <td>0.001744</td>\n",
       "      <td>0</td>\n",
       "      <td>0</td>\n",
       "      <td>mass</td>\n",
       "      <td>6</td>\n",
       "      <td>180</td>\n",
       "      <td>400k-1000k</td>\n",
       "      <td>0.0</td>\n",
       "      <td>0.0</td>\n",
       "      <td>-5.264548e+07</td>\n",
       "      <td>1.590330e+10</td>\n",
       "      <td>8.032602e+07</td>\n",
       "      <td>2022-09-01</td>\n",
       "      <td>6</td>\n",
       "      <td>2023-03-01</td>\n",
       "      <td>NaN</td>\n",
       "      <td>NaN</td>\n",
       "      <td>NaN</td>\n",
       "      <td>NaN</td>\n",
       "      <td>NaN</td>\n",
       "      <td>NaN</td>\n",
       "      <td>0.0</td>\n",
       "      <td>8.25</td>\n",
       "      <td>7.891304</td>\n",
       "      <td>8.0</td>\n",
       "      <td>8.1</td>\n",
       "      <td>8.15</td>\n",
       "      <td>7.847826</td>\n",
       "      <td>7.174565</td>\n",
       "      <td>3.0</td>\n",
       "      <td>0.48</td>\n",
       "      <td>1.254978e+11</td>\n",
       "      <td>1.007328e+11</td>\n",
       "      <td>0.840485</td>\n",
       "      <td>0.000698</td>\n",
       "      <td>0.000023</td>\n",
       "      <td>31</td>\n",
       "      <td>1.135236e+07</td>\n",
       "    </tr>\n",
       "  </tbody>\n",
       "</table>\n",
       "</div>"
      ],
      "text/plain": [
       "  report_month  bucketed_balance  is_vip_or_prv  drop_flg  optional_flg  \\\n",
       "0      2023-01               4.0              0       0.0           0.0   \n",
       "1      2023-01               3.0              0       0.0           0.0   \n",
       "2      2023-01               4.0              0       0.0           0.0   \n",
       "3      2023-01               3.0              0       0.0           0.0   \n",
       "4      2023-01               3.0              0       0.0           0.0   \n",
       "\n",
       "   bucketed_period open_month close_month  bucketed_open_rate  report_dt  \\\n",
       "0              7.0    2022-09     2023-03                 8.0 2023-01-31   \n",
       "1              7.0    2022-09     2023-03                 8.0 2023-01-31   \n",
       "2             13.0    2022-09     2023-09                 8.0 2023-01-31   \n",
       "3             13.0    2022-09     2023-09                 8.0 2023-01-31   \n",
       "4              7.0    2022-09     2023-03                 7.0 2023-01-31   \n",
       "\n",
       "   total_interests  remaining_interests  weight_rate  total_generation  \\\n",
       "0     1.080998e+09         4.309770e+08     7.014158      3.767463e+10   \n",
       "1     1.039290e+09         4.140946e+08     7.014465      3.624522e+10   \n",
       "2     7.430132e+08         1.515603e+09     7.000000      2.592414e+10   \n",
       "3     5.089354e+08         1.039455e+09     7.000000      1.776910e+10   \n",
       "4     4.124332e+08         1.643192e+08     6.334080      1.590330e+10   \n",
       "\n",
       "   total_generation_cleared  weight_renewal_cnt  weight_renewal_available_flg  \\\n",
       "0              3.689392e+10                 0.0                           0.0   \n",
       "1              3.546236e+10                 0.0                           0.0   \n",
       "2              2.539205e+10                 0.0                           0.0   \n",
       "3              1.738503e+10                 0.0                           0.0   \n",
       "4              1.558651e+10                 0.0                           0.0   \n",
       "\n",
       "   weight_close_plan_day                                  gen_name  \\\n",
       "0               7.640179   2022-09_2023-03_4.0_7.0_8.0_0_0_0.0_RUR   \n",
       "1               7.765046   2022-09_2023-03_3.0_7.0_8.0_0_0_0.0_RUR   \n",
       "2              14.847356  2022-09_2023-09_4.0_13.0_8.0_0_0_0.0_RUR   \n",
       "3              15.224293  2022-09_2023-09_3.0_13.0_8.0_0_0_0.0_RUR   \n",
       "4              15.142723   2022-09_2023-03_3.0_7.0_7.0_0_0_0.0_RUR   \n",
       "\n",
       "          SER_d      SER_d_cl  SER_dinamic  SER_dinamic_cl  \\\n",
       "0 -1.498874e+08 -3.443082e+08    -0.003963       -0.009246   \n",
       "1  4.100963e+07 -1.568994e+08     0.001133       -0.004405   \n",
       "2 -6.024040e+07 -1.934322e+08    -0.002318       -0.007560   \n",
       "3  1.400735e+07 -8.303355e+07     0.000789       -0.004753   \n",
       "4  2.768054e+07 -5.264548e+07     0.001744       -0.003366   \n",
       "\n",
       "   total_generation_lag1  total_generation_cl_lag1  CUR  \\\n",
       "0           3.782452e+10              3.723822e+10  RUR   \n",
       "1           3.620421e+10              3.561926e+10  RUR   \n",
       "2           2.598438e+10              2.558548e+10  RUR   \n",
       "3           1.775509e+10              1.746806e+10  RUR   \n",
       "4           1.587562e+10              1.563915e+10  RUR   \n",
       "\n",
       "   report_weight_open_rate_1m  report_weight_open_rate_3m  \\\n",
       "0                         NaN                         7.0   \n",
       "1                         NaN                         7.0   \n",
       "2                         NaN                         7.0   \n",
       "3                         NaN                         7.0   \n",
       "4                         NaN                         7.0   \n",
       "\n",
       "   report_weight_open_rate_6m  report_weight_open_rate_12m  \\\n",
       "0                    7.526670                     7.469240   \n",
       "1                    7.490077                     7.450225   \n",
       "2                    7.526670                     7.469240   \n",
       "3                    7.490077                     7.450225   \n",
       "4                    7.490077                     7.450225   \n",
       "\n",
       "   report_weight_open_rate_24m  report_wo_period_weight_open_rate  \\\n",
       "0                          NaN                           7.404150   \n",
       "1                          NaN                           7.355351   \n",
       "2                          NaN                           7.404150   \n",
       "3                          NaN                           7.355351   \n",
       "4                          NaN                           7.355351   \n",
       "\n",
       "   init_total_generation  row_count  share_period_plan  max_total_generation  \\\n",
       "0           4.033852e+10          5           0.674033          3.767463e+10   \n",
       "1           3.720755e+10          5           0.674033          3.624522e+10   \n",
       "2           2.814998e+10          5           0.334247          2.592414e+10   \n",
       "3           1.879756e+10          5           0.334247          1.776910e+10   \n",
       "4           1.666473e+10          5           0.674033          1.590330e+10   \n",
       "\n",
       "   max_SER_dinamic  replenishable_flg  subtraction_flg segment  \\\n",
       "0        -0.003963                  0                0    mass   \n",
       "1         0.001133                  0                0    mass   \n",
       "2        -0.002318                  0                0    mass   \n",
       "3         0.000789                  0                0    mass   \n",
       "4         0.001744                  0                0    mass   \n",
       "\n",
       "   month_maturity  target_maturity_days bucketed_balance_nm  renewal_cnt  \\\n",
       "0               6                   180         1000k-2000k          0.0   \n",
       "1               6                   180          400k-1000k          0.0   \n",
       "2              12                   365         1000k-2000k          0.0   \n",
       "3              12                   365          400k-1000k          0.0   \n",
       "4               6                   180          400k-1000k          0.0   \n",
       "\n",
       "   operations_in_month  early_withdrawal_in_month       balance     interests  \\\n",
       "0                  0.0              -3.443082e+08  3.767463e+10  1.944209e+08   \n",
       "1                  0.0              -1.568994e+08  3.624522e+10  1.979090e+08   \n",
       "2                  0.0              -1.934322e+08  2.592414e+10  1.331918e+08   \n",
       "3                  0.0              -8.303355e+07  1.776910e+10  9.704090e+07   \n",
       "4                  0.0              -5.264548e+07  1.590330e+10  8.032602e+07   \n",
       "\n",
       "  open_month_correct  target_maturity_months close_month_dt  90_spread  \\\n",
       "0         2022-09-01                       6     2023-03-01        NaN   \n",
       "1         2022-09-01                       6     2023-03-01        NaN   \n",
       "2         2022-09-01                      12     2023-09-01        NaN   \n",
       "3         2022-09-01                      12     2023-09-01        NaN   \n",
       "4         2022-09-01                       6     2023-03-01        NaN   \n",
       "\n",
       "   180_spread  365_spread  548_spread  730_spread  1095_spread  spreads_mat  \\\n",
       "0         NaN         NaN         NaN         NaN          NaN          0.0   \n",
       "1         NaN         NaN         NaN         NaN          NaN          0.0   \n",
       "2         NaN         NaN         NaN         NaN          NaN          0.0   \n",
       "3         NaN         NaN         NaN         NaN          NaN          0.0   \n",
       "4         NaN         NaN         NaN         NaN          NaN          0.0   \n",
       "\n",
       "   vtb_[1095d]_ftp_rate  vtb_[180d]_ftp_rate  vtb_[365d]_ftp_rate  \\\n",
       "0                  8.25             7.891304                  8.0   \n",
       "1                  8.25             7.891304                  8.0   \n",
       "2                  8.25             7.891304                  8.0   \n",
       "3                  8.25             7.891304                  8.0   \n",
       "4                  8.25             7.891304                  8.0   \n",
       "\n",
       "   vtb_[548d]_ftp_rate  vtb_[730d]_ftp_rate  vtb_[90d]_ftp_rate       ftp  \\\n",
       "0                  8.1                 8.15            7.847826  7.174565   \n",
       "1                  8.1                 8.15            7.847826  7.174565   \n",
       "2                  8.1                 8.15            7.847826  7.280000   \n",
       "3                  8.1                 8.15            7.847826  7.280000   \n",
       "4                  8.1                 8.15            7.847826  7.174565   \n",
       "\n",
       "   FOR   SSV  balance_x_ftp  balance_x_weight_rate  margin_year  margin_month  \\\n",
       "0  3.0  0.48   2.973020e+11           2.642558e+11     0.160407      0.000134   \n",
       "1  3.0  0.48   2.860221e+11           2.542409e+11     0.160100      0.000133   \n",
       "2  3.0  0.48   2.073931e+11           1.814690e+11     0.280000      0.000233   \n",
       "3  3.0  0.48   1.421528e+11           1.243837e+11     0.280000      0.000233   \n",
       "4  3.0  0.48   1.254978e+11           1.007328e+11     0.840485      0.000698   \n",
       "\n",
       "   margin_day  report_dt_days  margin_value  \n",
       "0    0.000004              31  5.132651e+06  \n",
       "1    0.000004              31  4.928463e+06  \n",
       "2    0.000008              31  6.164974e+06  \n",
       "3    0.000008              31  4.225637e+06  \n",
       "4    0.000023              31  1.135236e+07  "
      ]
     },
     "execution_count": 151,
     "metadata": {},
     "output_type": "execute_result"
    }
   ],
   "source": [
    "portfolio_res.head()"
   ]
  },
  {
   "cell_type": "code",
   "execution_count": 152,
   "id": "aa3158e4-d95c-4b69-b87f-220c41437195",
   "metadata": {},
   "outputs": [],
   "source": [
    "port_01 = portfolio_res[(portfolio_res['report_month']=='2023-01')&(portfolio_res['open_month']>='2021-07')]\n",
    "port_02 = portfolio_res[(portfolio_res['report_month']=='2023-02')&(portfolio_res['open_month']>='2021-07')]\n",
    "port_04 = portfolio_res[(portfolio_res['report_month']=='2023-04')&(portfolio_res['open_month']>='2021-07')]\n",
    "port_05 = portfolio_res[(portfolio_res['report_month']=='2023-05')&(portfolio_res['open_month']>='2021-07')]\n",
    "port_06 = portfolio_res[(portfolio_res['report_month']=='2023-06')&(portfolio_res['open_month']>='2021-07')]\n",
    "port_07 = portfolio_res[(portfolio_res['report_month']=='2023-07')&(portfolio_res['open_month']>='2021-07')]"
   ]
  },
  {
   "cell_type": "code",
   "execution_count": 153,
   "id": "863ae25d-5656-4a00-be30-4285c64f1fce",
   "metadata": {},
   "outputs": [
    {
     "data": {
      "text/plain": [
       "<AxesSubplot:xlabel='open_month'>"
      ]
     },
     "execution_count": 153,
     "metadata": {},
     "output_type": "execute_result"
    },
    {
     "data": {
      "image/png": "[encoded data removed]",
      "text/plain": [
       "<Figure size 640x480 with 1 Axes>"
      ]
     },
     "metadata": {},
     "output_type": "display_data"
    }
   ],
   "source": [
    "port_01.groupby('open_month').sum()['balance'].sort_index().plot()"
   ]
  },
  {
   "cell_type": "code",
   "execution_count": 154,
   "id": "c6123983-4b58-48cf-8d33-e28711fa45aa",
   "metadata": {},
   "outputs": [
    {
     "data": {
      "text/plain": [
       "<AxesSubplot:xlabel='open_month'>"
      ]
     },
     "execution_count": 154,
     "metadata": {},
     "output_type": "execute_result"
    },
    {
     "data": {
      "image/png": "[encoded data removed]",
      "text/plain": [
       "<Figure size 640x480 with 1 Axes>"
      ]
     },
     "metadata": {},
     "output_type": "display_data"
    }
   ],
   "source": [
    "port_02.groupby('open_month').sum()['balance'].sort_index().plot()"
   ]
  },
  {
   "cell_type": "code",
   "execution_count": 155,
   "id": "e5238d76-60ba-4003-a81f-c8be4effeb83",
   "metadata": {},
   "outputs": [],
   "source": [
    "import matplotlib.pyplot as plt"
   ]
  },
  {
   "cell_type": "code",
   "execution_count": 156,
   "id": "00962511-8448-4fb3-bd5a-b9c9be0c02f2",
   "metadata": {},
   "outputs": [
    {
     "data": {
      "text/plain": [
       "<matplotlib.legend.Legend at 0x7f1ec6b5a290>"
      ]
     },
     "execution_count": 156,
     "metadata": {},
     "output_type": "execute_result"
    },
    {
     "data": {
      "image/png": "[encoded data removed]",
      "text/plain": [
       "<Figure size 640x480 with 1 Axes>"
      ]
     },
     "metadata": {},
     "output_type": "display_data"
    }
   ],
   "source": [
    "port_01.groupby('open_month').sum()['balance'].sort_index().plot(label='01')\n",
    "port_02.groupby('open_month').sum()['balance'].sort_index().plot(label='02')\n",
    "#port_03.groupby('open_month').sum()['balance'].sort_index().plot(label='03')\n",
    "plt.xticks(rotation=90)\n",
    "plt.legend()"
   ]
  },
  {
   "cell_type": "code",
   "execution_count": 157,
   "id": "fe79615a-977b-4edb-bdc8-b1f714de2189",
   "metadata": {},
   "outputs": [
    {
     "data": {
      "text/plain": [
       "<matplotlib.legend.Legend at 0x7f1ec6bb4dd0>"
      ]
     },
     "execution_count": 157,
     "metadata": {},
     "output_type": "execute_result"
    },
    {
     "data": {
      "image/png": "[encoded data removed]",
      "text/plain": [
       "<Figure size 640x480 with 1 Axes>"
      ]
     },
     "metadata": {},
     "output_type": "display_data"
    }
   ],
   "source": [
    "port_04.groupby('open_month').sum()['balance'].sort_index().plot(label='04')\n",
    "port_05.groupby('open_month').sum()['balance'].sort_index().plot(label='05')\n",
    "port_06.groupby('open_month').sum()['balance'].sort_index().plot(label='06')\n",
    "\n",
    "plt.xticks(rotation=90)\n",
    "plt.legend()"
   ]
  },
  {
   "cell_type": "code",
   "execution_count": 158,
   "id": "e2b39335-f51d-4f01-957f-205f09f5a0d7",
   "metadata": {},
   "outputs": [
    {
     "data": {
      "text/plain": [
       "open_month\n",
       "2021-07      0.522347\n",
       "2021-08      1.586428\n",
       "2021-09      1.320511\n",
       "2021-10      3.248352\n",
       "2021-11    122.648671\n",
       "2021-12     42.218594\n",
       "2022-01     12.277057\n",
       "2022-02     10.638817\n",
       "2022-03      1.879564\n",
       "2022-04     10.524877\n",
       "2022-05    139.304831\n",
       "2022-06    170.397494\n",
       "2022-07     11.137572\n",
       "2022-08     89.577380\n",
       "2022-09    306.670825\n",
       "2022-10    115.577991\n",
       "2022-11    206.514030\n",
       "2022-12    204.939715\n",
       "2023-01    208.569610\n",
       "2023-02    476.440505\n",
       "2023-03    636.813482\n",
       "2023-04    299.174483\n",
       "2023-05      0.174670\n",
       "2023-06      0.020239\n",
       "2023-07      0.001360\n",
       "2023-08      0.003721\n",
       "2023-09      0.034013\n",
       "Name: balance, dtype: float64"
      ]
     },
     "execution_count": 158,
     "metadata": {},
     "output_type": "execute_result"
    }
   ],
   "source": [
    "port_04.groupby('open_month').sum()['balance'].sort_index() / 10**9"
   ]
  },
  {
   "cell_type": "markdown",
   "id": "b6b8a336-7109-44c0-acc7-d23908e61fc5",
   "metadata": {},
   "source": [
    "1) Проверить сбор портфеля - возможно собранный за январь 2023 года некорректный  \n",
    "2) Куда делись открытые депозиты (возможно неправильно заджойнились ставки за февраль 2022 года, вышло где меньше ставка, что некорректно)"
   ]
  },
  {
   "cell_type": "code",
   "execution_count": 159,
   "id": "2047be0c-3006-4243-88fe-c169e7656bff",
   "metadata": {},
   "outputs": [
    {
     "data": {
      "text/plain": [
       "open_month\n",
       "2021-07      0.614094\n",
       "2021-08      9.331593\n",
       "2021-09     14.131178\n",
       "2021-10     12.896274\n",
       "2021-11     68.836165\n",
       "2021-12     27.085326\n",
       "2022-01     58.145998\n",
       "2022-02    298.679229\n",
       "2022-03     12.490886\n",
       "2022-04     81.285228\n",
       "2022-05    112.895942\n",
       "2022-06    144.675446\n",
       "2022-07     10.949159\n",
       "2022-08    208.909815\n",
       "2022-09    705.089563\n",
       "2022-10    254.948238\n",
       "2022-11    260.303031\n",
       "2022-12    323.692025\n",
       "2023-01    332.084256\n",
       "2023-02      7.538553\n",
       "2023-03      0.031487\n",
       "2023-04      0.000305\n",
       "2023-05      0.017766\n",
       "2023-06      0.000170\n",
       "2023-07      0.001349\n",
       "2023-08      0.003690\n",
       "2023-09      0.008650\n",
       "Name: balance, dtype: float64"
      ]
     },
     "execution_count": 159,
     "metadata": {},
     "output_type": "execute_result"
    }
   ],
   "source": [
    "port_01.groupby('open_month').sum()['balance'].sort_index() / 10**9"
   ]
  },
  {
   "cell_type": "code",
   "execution_count": 160,
   "id": "8a4b5a46-d554-42b8-8c0f-c006eaba05b0",
   "metadata": {},
   "outputs": [
    {
     "data": {
      "text/plain": [
       "open_month\n",
       "2021-07     6.959344\n",
       "2021-08     7.319155\n",
       "2021-09     7.404844\n",
       "2021-10     7.790768\n",
       "2021-11     8.800000\n",
       "2021-12     9.245455\n",
       "2022-01     9.562500\n",
       "2022-02    12.505755\n",
       "2022-03    21.500000\n",
       "2022-04    18.121345\n",
       "2022-05    12.583327\n",
       "2022-06     9.571405\n",
       "2022-07     8.756242\n",
       "2022-08     8.001999\n",
       "2022-09     7.941635\n",
       "2022-10     8.392362\n",
       "2022-11     8.456489\n",
       "2022-12     8.297449\n",
       "2023-01     8.554613\n",
       "2023-02     8.457104\n",
       "2023-03     8.522878\n",
       "2023-04     8.246669\n",
       "2023-05     9.500000\n",
       "2023-06     9.500000\n",
       "2023-07     9.642857\n",
       "2023-08    11.130435\n",
       "2023-09    12.000000\n",
       "dtype: float64"
      ]
     },
     "execution_count": 160,
     "metadata": {},
     "output_type": "execute_result"
    }
   ],
   "source": [
    "port_02.groupby('open_month').sum()['balance_x_ftp'].sort_index() / port_02.groupby('open_month').sum()['balance'].sort_index()"
   ]
  },
  {
   "cell_type": "code",
   "execution_count": 161,
   "id": "0f68bfc4-d27b-4eb9-acaf-358163315f58",
   "metadata": {},
   "outputs": [],
   "source": [
    "port_tmp = port_01[port_01['open_month']=='2022-02']"
   ]
  },
  {
   "cell_type": "code",
   "execution_count": 162,
   "id": "9223acc0-eb4a-4b21-8634-3d1ece49e924",
   "metadata": {},
   "outputs": [
    {
     "data": {
      "text/plain": [
       "target_maturity_days\n",
       "365     0.979659\n",
       "548     0.002742\n",
       "730     0.012307\n",
       "1095    0.005293\n",
       "Name: balance, dtype: float64"
      ]
     },
     "execution_count": 162,
     "metadata": {},
     "output_type": "execute_result"
    }
   ],
   "source": [
    "port_tmp.groupby('target_maturity_days').sum()['balance'] / port_tmp.balance.sum()"
   ]
  },
  {
   "cell_type": "code",
   "execution_count": 163,
   "id": "ee530d97-cbae-4779-9d42-0b858cc2a6ad",
   "metadata": {},
   "outputs": [],
   "source": [
    "port_tmp2 = port_01[port_01['open_month']=='2022-03']"
   ]
  },
  {
   "cell_type": "code",
   "execution_count": 164,
   "id": "5691d543-71a4-4af0-b093-dff9f6ef74de",
   "metadata": {},
   "outputs": [
    {
     "data": {
      "text/plain": [
       "target_maturity_days\n",
       "365     0.878875\n",
       "548     0.080535\n",
       "730     0.039900\n",
       "1095    0.000690\n",
       "Name: balance, dtype: float64"
      ]
     },
     "execution_count": 164,
     "metadata": {},
     "output_type": "execute_result"
    }
   ],
   "source": [
    "port_tmp2.groupby('target_maturity_days').sum()['balance'] / port_tmp2.balance.sum()"
   ]
  },
  {
   "cell_type": "code",
   "execution_count": null,
   "id": "f9bc9716-6f67-4208-a544-c8741f5cbce4",
   "metadata": {},
   "outputs": [],
   "source": []
  },
  {
   "cell_type": "code",
   "execution_count": 165,
   "id": "e88aded0-5d98-40b7-a541-5bcc469e4eb1",
   "metadata": {},
   "outputs": [],
   "source": [
    "port_tmp5 = port_05[port_05['open_month']=='2022-09']\n",
    "port_tmp6 = port_06[port_06['open_month']=='2022-09']"
   ]
  },
  {
   "cell_type": "code",
   "execution_count": 166,
   "id": "2a958b98-d45b-4e1c-83c1-e944ef5a8606",
   "metadata": {},
   "outputs": [
    {
     "data": {
      "text/plain": [
       "target_maturity_days\n",
       "365     0.998328\n",
       "548     0.000786\n",
       "730     0.000820\n",
       "1095    0.000065\n",
       "Name: balance, dtype: float64"
      ]
     },
     "execution_count": 166,
     "metadata": {},
     "output_type": "execute_result"
    }
   ],
   "source": [
    "port_tmp5.groupby('target_maturity_days').sum()['balance'] / port_tmp5.balance.sum()"
   ]
  },
  {
   "cell_type": "code",
   "execution_count": 167,
   "id": "bd5f287a-840c-41db-8faa-a2e6f08cc6a0",
   "metadata": {},
   "outputs": [
    {
     "data": {
      "text/plain": [
       "target_maturity_days\n",
       "365     0.996715\n",
       "548     0.001510\n",
       "730     0.001649\n",
       "1095    0.000126\n",
       "Name: balance, dtype: float64"
      ]
     },
     "execution_count": 167,
     "metadata": {},
     "output_type": "execute_result"
    }
   ],
   "source": [
    "port_tmp6.groupby('target_maturity_days').sum()['balance'] / port_tmp6.balance.sum()"
   ]
  },
  {
   "cell_type": "code",
   "execution_count": 168,
   "id": "c4afa16a-0719-4c5b-81b1-6261d864c3f9",
   "metadata": {},
   "outputs": [
    {
     "data": {
      "text/plain": [
       "array([ 180,  365,   90, 1095,  548,  730])"
      ]
     },
     "execution_count": 168,
     "metadata": {},
     "output_type": "execute_result"
    }
   ],
   "source": [
    "portfolio_res.target_maturity_days.unique()"
   ]
  },
  {
   "cell_type": "code",
   "execution_count": null,
   "id": "575485f2-5ce4-4ecc-8759-7103a87ebbdc",
   "metadata": {},
   "outputs": [],
   "source": []
  },
  {
   "cell_type": "code",
   "execution_count": null,
   "id": "b9ea1beb-60b0-4a31-85c8-e7230808463c",
   "metadata": {},
   "outputs": [],
   "source": []
  },
  {
   "cell_type": "code",
   "execution_count": null,
   "id": "e78d0d72-a740-496d-b77c-8a26ed54ec3f",
   "metadata": {},
   "outputs": [],
   "source": []
  },
  {
   "cell_type": "code",
   "execution_count": null,
   "id": "8e2031fc-f822-4d23-bf64-b71c7ab3d793",
   "metadata": {},
   "outputs": [],
   "source": []
  },
  {
   "cell_type": "code",
   "execution_count": null,
   "id": "9d017fc3-6721-4f93-9437-e753b3e6cb7d",
   "metadata": {},
   "outputs": [],
   "source": []
  },
  {
   "cell_type": "code",
   "execution_count": null,
   "id": "7827d763-299c-4fc3-b147-001e07e16737",
   "metadata": {},
   "outputs": [],
   "source": []
  },
  {
   "cell_type": "code",
   "execution_count": null,
   "id": "8b5bd36b-7468-4aad-a507-f1c0c0cf7485",
   "metadata": {},
   "outputs": [],
   "source": []
  },
  {
   "cell_type": "markdown",
   "id": "51ab9337-b321-4833-a71a-98062072c865",
   "metadata": {},
   "source": [
    "## Идея - при досрочном отзыве не откатываются проценты по депозитам части клиентов"
   ]
  },
  {
   "cell_type": "code",
   "execution_count": 169,
   "id": "673b46b6-4115-4716-9def-f9e9a1e124ff",
   "metadata": {},
   "outputs": [
    {
     "data": {
      "text/html": [
       "<div>\n",
       "<style scoped>\n",
       "    .dataframe tbody tr th:only-of-type {\n",
       "        vertical-align: middle;\n",
       "    }\n",
       "\n",
       "    .dataframe tbody tr th {\n",
       "        vertical-align: top;\n",
       "    }\n",
       "\n",
       "    .dataframe thead th {\n",
       "        text-align: right;\n",
       "    }\n",
       "</style>\n",
       "<table border=\"1\" class=\"dataframe\">\n",
       "  <thead>\n",
       "    <tr style=\"text-align: right;\">\n",
       "      <th></th>\n",
       "      <th>0</th>\n",
       "      <th>1</th>\n",
       "      <th>2</th>\n",
       "      <th>3</th>\n",
       "      <th>4</th>\n",
       "      <th>5</th>\n",
       "      <th>6</th>\n",
       "    </tr>\n",
       "  </thead>\n",
       "  <tbody>\n",
       "    <tr>\n",
       "      <th>report_dt</th>\n",
       "      <td>2023-01-31 00:00:00</td>\n",
       "      <td>2023-02-28 00:00:00</td>\n",
       "      <td>2023-03-31 00:00:00</td>\n",
       "      <td>2023-04-30 00:00:00</td>\n",
       "      <td>2023-05-31 00:00:00</td>\n",
       "      <td>2023-06-30 00:00:00</td>\n",
       "      <td>2023-07-31 00:00:00</td>\n",
       "    </tr>\n",
       "    <tr>\n",
       "      <th>margin_value</th>\n",
       "      <td>1440538299.066452</td>\n",
       "      <td>1427747648.233747</td>\n",
       "      <td>1296883722.519096</td>\n",
       "      <td>878252268.291305</td>\n",
       "      <td>660436617.182639</td>\n",
       "      <td>532543585.475366</td>\n",
       "      <td>418039713.735082</td>\n",
       "    </tr>\n",
       "  </tbody>\n",
       "</table>\n",
       "</div>"
      ],
      "text/plain": [
       "                                0                    1                    2  \\\n",
       "report_dt     2023-01-31 00:00:00  2023-02-28 00:00:00  2023-03-31 00:00:00   \n",
       "margin_value    1440538299.066452    1427747648.233747    1296883722.519096   \n",
       "\n",
       "                                3                    4                    5  \\\n",
       "report_dt     2023-04-30 00:00:00  2023-05-31 00:00:00  2023-06-30 00:00:00   \n",
       "margin_value     878252268.291305     660436617.182639     532543585.475366   \n",
       "\n",
       "                                6  \n",
       "report_dt     2023-07-31 00:00:00  \n",
       "margin_value     418039713.735082  "
      ]
     },
     "execution_count": 169,
     "metadata": {},
     "output_type": "execute_result"
    }
   ],
   "source": [
    "portfolio_res.groupby('report_dt').sum()['margin_value'].reset_index().T"
   ]
  },
  {
   "cell_type": "code",
   "execution_count": 170,
   "id": "a8c3e728-54bc-4374-9844-e33e13ab9529",
   "metadata": {},
   "outputs": [
    {
     "data": {
      "text/plain": [
       "Index(['report_month', 'bucketed_balance', 'is_vip_or_prv', 'drop_flg',\n",
       "       'optional_flg', 'bucketed_period', 'open_month', 'close_month',\n",
       "       'bucketed_open_rate', 'report_dt', 'total_interests',\n",
       "       'remaining_interests', 'weight_rate', 'total_generation',\n",
       "       'total_generation_cleared', 'weight_renewal_cnt',\n",
       "       'weight_renewal_available_flg', 'weight_close_plan_day', 'gen_name',\n",
       "       'SER_d', 'SER_d_cl', 'SER_dinamic', 'SER_dinamic_cl',\n",
       "       'total_generation_lag1', 'total_generation_cl_lag1', 'CUR',\n",
       "       'report_weight_open_rate_1m', 'report_weight_open_rate_3m',\n",
       "       'report_weight_open_rate_6m', 'report_weight_open_rate_12m',\n",
       "       'report_weight_open_rate_24m', 'report_wo_period_weight_open_rate',\n",
       "       'init_total_generation', 'row_count', 'share_period_plan',\n",
       "       'max_total_generation', 'max_SER_dinamic', 'replenishable_flg',\n",
       "       'subtraction_flg', 'segment', 'month_maturity', 'target_maturity_days',\n",
       "       'bucketed_balance_nm', 'renewal_cnt', 'operations_in_month',\n",
       "       'early_withdrawal_in_month', 'balance', 'interests',\n",
       "       'open_month_correct', 'target_maturity_months', 'close_month_dt',\n",
       "       '90_spread', '180_spread', '365_spread', '548_spread', '730_spread',\n",
       "       '1095_spread', 'spreads_mat', 'vtb_[1095d]_ftp_rate',\n",
       "       'vtb_[180d]_ftp_rate', 'vtb_[365d]_ftp_rate', 'vtb_[548d]_ftp_rate',\n",
       "       'vtb_[730d]_ftp_rate', 'vtb_[90d]_ftp_rate', 'ftp', 'FOR', 'SSV',\n",
       "       'balance_x_ftp', 'balance_x_weight_rate', 'margin_year', 'margin_month',\n",
       "       'margin_day', 'report_dt_days', 'margin_value'],\n",
       "      dtype='object')"
      ]
     },
     "execution_count": 170,
     "metadata": {},
     "output_type": "execute_result"
    }
   ],
   "source": [
    "portfolio_res.columns"
   ]
  },
  {
   "cell_type": "code",
   "execution_count": 171,
   "id": "516f7a4e-ad88-4c9f-9b20-cf4009eff807",
   "metadata": {},
   "outputs": [
    {
     "data": {
      "text/plain": [
       "report_dt\n",
       "2023-01-31    -26.471669\n",
       "2023-02-28     83.763361\n",
       "2023-03-31    -97.584631\n",
       "2023-04-30     21.501889\n",
       "2023-05-31     68.632893\n",
       "2023-06-30    -11.659184\n",
       "2023-07-31   -315.613841\n",
       "Name: SER_d_cl, dtype: float64"
      ]
     },
     "execution_count": 171,
     "metadata": {},
     "output_type": "execute_result"
    }
   ],
   "source": [
    "portfolio_res.groupby('report_dt').sum()['SER_d_cl'] / 10**9"
   ]
  },
  {
   "cell_type": "code",
   "execution_count": 172,
   "id": "90a9121f-230c-4f3c-bae0-194085787c69",
   "metadata": {},
   "outputs": [
    {
     "data": {
      "text/html": [
       "<div>\n",
       "<style scoped>\n",
       "    .dataframe tbody tr th:only-of-type {\n",
       "        vertical-align: middle;\n",
       "    }\n",
       "\n",
       "    .dataframe tbody tr th {\n",
       "        vertical-align: top;\n",
       "    }\n",
       "\n",
       "    .dataframe thead th {\n",
       "        text-align: right;\n",
       "    }\n",
       "</style>\n",
       "<table border=\"1\" class=\"dataframe\">\n",
       "  <thead>\n",
       "    <tr style=\"text-align: right;\">\n",
       "      <th></th>\n",
       "      <th>0</th>\n",
       "      <th>1</th>\n",
       "      <th>2</th>\n",
       "      <th>3</th>\n",
       "      <th>4</th>\n",
       "      <th>5</th>\n",
       "      <th>6</th>\n",
       "    </tr>\n",
       "  </thead>\n",
       "  <tbody>\n",
       "    <tr>\n",
       "      <th>report_dt</th>\n",
       "      <td>2023-01-31 00:00:00</td>\n",
       "      <td>2023-02-28 00:00:00</td>\n",
       "      <td>2023-03-31 00:00:00</td>\n",
       "      <td>2023-04-30 00:00:00</td>\n",
       "      <td>2023-05-31 00:00:00</td>\n",
       "      <td>2023-06-30 00:00:00</td>\n",
       "      <td>2023-07-31 00:00:00</td>\n",
       "    </tr>\n",
       "    <tr>\n",
       "      <th>margin_value</th>\n",
       "      <td>1440538299.066452</td>\n",
       "      <td>1427747648.233747</td>\n",
       "      <td>1296883722.519096</td>\n",
       "      <td>878252268.291305</td>\n",
       "      <td>660436617.182639</td>\n",
       "      <td>532543585.475366</td>\n",
       "      <td>418039713.735082</td>\n",
       "    </tr>\n",
       "  </tbody>\n",
       "</table>\n",
       "</div>"
      ],
      "text/plain": [
       "                                0                    1                    2  \\\n",
       "report_dt     2023-01-31 00:00:00  2023-02-28 00:00:00  2023-03-31 00:00:00   \n",
       "margin_value    1440538299.066452    1427747648.233747    1296883722.519096   \n",
       "\n",
       "                                3                    4                    5  \\\n",
       "report_dt     2023-04-30 00:00:00  2023-05-31 00:00:00  2023-06-30 00:00:00   \n",
       "margin_value     878252268.291305     660436617.182639     532543585.475366   \n",
       "\n",
       "                                6  \n",
       "report_dt     2023-07-31 00:00:00  \n",
       "margin_value     418039713.735082  "
      ]
     },
     "execution_count": 172,
     "metadata": {},
     "output_type": "execute_result"
    }
   ],
   "source": [
    "portfolio_res.groupby('report_dt').sum()['margin_value'].reset_index().T"
   ]
  },
  {
   "cell_type": "code",
   "execution_count": 173,
   "id": "a64d14f4-29b0-49d0-8773-0d7104035be3",
   "metadata": {},
   "outputs": [],
   "source": [
    "#portfolio_res.groupby(['report_dt', 'segment']).sum()['margin_value'].reset_index().sort_values(by=['segment', 'report_dt']).T.to_excel('deposits_res.xlsx')"
   ]
  },
  {
   "cell_type": "code",
   "execution_count": 174,
   "id": "0e7f0e14-ce4b-4651-b663-8a63395e9dd8",
   "metadata": {},
   "outputs": [
    {
     "data": {
      "text/plain": [
       "report_dt\n",
       "2023-01-31    0.488168\n",
       "2023-02-28    0.475877\n",
       "2023-03-31    0.425995\n",
       "2023-04-30    0.285367\n",
       "2023-05-31    0.210892\n",
       "2023-06-30    0.169169\n",
       "2023-07-31    0.132710\n",
       "dtype: float64"
      ]
     },
     "execution_count": 174,
     "metadata": {},
     "output_type": "execute_result"
    }
   ],
   "source": [
    "(portfolio_res.groupby('report_dt').sum()['margin_value'] / portfolio_res.groupby('report_dt').sum()['balance'])*100*10"
   ]
  },
  {
   "cell_type": "code",
   "execution_count": 175,
   "id": "c998bb4b-c15d-43c4-ac55-72c4020f9eb1",
   "metadata": {},
   "outputs": [],
   "source": [
    "import seaborn as sns"
   ]
  },
  {
   "cell_type": "code",
   "execution_count": 176,
   "id": "2cfde93e-eb2e-48ee-be37-7b5f8e0fc32f",
   "metadata": {},
   "outputs": [
    {
     "data": {
      "text/plain": [
       "<AxesSubplot:xlabel='margin_month', ylabel='Density'>"
      ]
     },
     "execution_count": 176,
     "metadata": {},
     "output_type": "execute_result"
    },
    {
     "data": {
      "image/png": "[encoded data removed]",
      "text/plain": [
       "<Figure size 640x480 with 1 Axes>"
      ]
     },
     "metadata": {},
     "output_type": "display_data"
    }
   ],
   "source": [
    "sns.distplot(portfolio_res['margin_month']*100)"
   ]
  },
  {
   "cell_type": "code",
   "execution_count": 177,
   "id": "24cd0da3-f034-406d-af55-34cf891636b3",
   "metadata": {},
   "outputs": [
    {
     "data": {
      "text/plain": [
       "<AxesSubplot:xlabel='margin_month', ylabel='Density'>"
      ]
     },
     "execution_count": 177,
     "metadata": {},
     "output_type": "execute_result"
    },
    {
     "data": {
      "image/png": "[encoded data removed]",
      "text/plain": [
       "<Figure size 640x480 with 1 Axes>"
      ]
     },
     "metadata": {},
     "output_type": "display_data"
    }
   ],
   "source": [
    "sns.distplot(portfolio_res['margin_month']*100)"
   ]
  },
  {
   "cell_type": "markdown",
   "id": "57ad3ef0-ccad-4a78-ac3f-24e3038367ac",
   "metadata": {},
   "source": []
  },
  {
   "cell_type": "code",
   "execution_count": null,
   "id": "ee5b7475-6605-4196-b928-5aa64848d61a",
   "metadata": {},
   "outputs": [],
   "source": []
  },
  {
   "cell_type": "code",
   "execution_count": null,
   "id": "8e320e8a-3737-490f-b8da-f166161d86ec",
   "metadata": {},
   "outputs": [],
   "source": []
  },
  {
   "cell_type": "code",
   "execution_count": null,
   "id": "52222ad2-8ab8-4fc2-ba7a-6eada4d8a851",
   "metadata": {},
   "outputs": [],
   "source": []
  },
  {
   "cell_type": "code",
   "execution_count": null,
   "id": "25533300-82f3-412e-a151-732993983f2e",
   "metadata": {},
   "outputs": [],
   "source": []
  },
  {
   "cell_type": "code",
   "execution_count": null,
   "id": "e8806fb5-2550-47ff-8faa-702ee0eace73",
   "metadata": {},
   "outputs": [],
   "source": []
  },
  {
   "cell_type": "code",
   "execution_count": null,
   "id": "65b10f0e-651d-40f9-92de-85614508b6e9",
   "metadata": {},
   "outputs": [],
   "source": []
  },
  {
   "cell_type": "code",
   "execution_count": null,
   "id": "abaf377e-6cc7-4353-b76d-937623f2c5d2",
   "metadata": {},
   "outputs": [],
   "source": []
  }
 ],
 "metadata": {
  "kernelspec": {
   "display_name": "hmelevskoi_env",
   "language": "python",
   "name": "hmelevskoi_env"
  },
  "language_info": {
   "codemirror_mode": {
    "name": "ipython",
    "version": 3
   },
   "file_extension": ".py",
   "mimetype": "text/x-python",
   "name": "python",
   "nbconvert_exporter": "python",
   "pygments_lexer": "ipython3",
   "version": "3.7.16"
  }
 },
 "nbformat": 4,
 "nbformat_minor": 5
}
