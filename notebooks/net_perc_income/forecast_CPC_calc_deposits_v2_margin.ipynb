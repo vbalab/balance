{
 "cells": [
  {
   "cell_type": "code",
   "execution_count": 1,
   "id": "a64ec341-9ec8-4ba2-b1c9-a903ffee2b5b",
   "metadata": {},
   "outputs": [],
   "source": [
    "#!pip install scikit-learn --force\n",
    "#!pip install catboost"
   ]
  },
  {
   "cell_type": "code",
   "execution_count": 2,
   "id": "532f9d68-b0fc-4a7b-b166-b60981a74909",
   "metadata": {},
   "outputs": [],
   "source": [
    "import sys\n",
    "sys.path.append('../..')\n",
    "import pandas as pd\n",
    "import numpy as np\n",
    "from pandas.tseries.offsets import MonthEnd\n",
    "from datetime import datetime\n",
    "import os\n",
    "import importlib\n",
    "\n",
    "pd.set_option('display.max.columns', 300)\n",
    "\n",
    "from core.calculator.storage import ModelDB\n",
    "from core.calculator.core import ForecastConfig\n",
    "from core.calculator.core import TrainingManager\n",
    "from core.calculator.core import ForecastConfig\n",
    "from core.calculator.core import ForecastEngine\n",
    "\n",
    "from core.calculator.deposits import DepositsCalculationType\n",
    "from core.calculator.deposits import DepositIterativeCalculator\n",
    "\n",
    "from core.definitions import *\n",
    "from core.project_update import load_portfolio\n",
    "\n",
    "from core.models import DepositModels\n",
    "from warnings import filterwarnings\n",
    "filterwarnings('ignore')"
   ]
  },
  {
   "cell_type": "code",
   "execution_count": 3,
   "id": "355543ef-240d-4e09-8d1f-f377ced1575e",
   "metadata": {},
   "outputs": [],
   "source": [
    "from core.models.utils import run_spark_session\n",
    "#spark = run_spark_session('check_calc')"
   ]
  },
  {
   "cell_type": "markdown",
   "id": "03afbdb4-4a01-4c24-8172-b8d3dec2a3d0",
   "metadata": {},
   "source": [
    "## Калькулятор маржи - Версия 2\n",
    "### Расчет через вычисление маржи по месяцам"
   ]
  },
  {
   "cell_type": "markdown",
   "id": "e0ab5c96-b9eb-45ef-b309-51c42f3000cb",
   "metadata": {},
   "source": [
    "`agg_res` - используем как портфель  \n",
    "`scenario_df` - используем для извлечения маржи  \n",
    "\n",
    "Из всей суммы начисленных процентов выразим долю связанную с маржой и перемножим эту долю на начисленные проценты\n",
    "\n",
    "Маржу рассчитываем из формулы по `weighted_rate`  \n",
    "\n",
    "`VTB_weighted_rate_[segment]_[optionality]_[maturity] = VTB_ftp_rate_[maturity] - margin_[maturity] - SSV - FOR + optionality_spread + segment_spread`  \n",
    "\n",
    "Откуда:  \n",
    "`margin_[maturity] / VTB_weighted_rate_[segment]_[optionality]_[maturity] = (VTB_ftp_rate_[maturity] - SSV - FOR + optionality_spread + segment_spread) / VTB_weighted_rate_[segment]_[optionality]_[maturity] - 1`  \n",
    "\n",
    "\n",
    "Умножаем interests на маржу для каждого:  \n",
    "* сегмента  \n",
    "* опциональности  \n",
    "* срочности  \n",
    "\n",
    "__!!!__ Подходит для flat-сценария, для боее гибкого стоит доработать исходя из перебора по"
   ]
  },
  {
   "cell_type": "markdown",
   "id": "05a14067-8994-42bb-a547-87882014369f",
   "metadata": {},
   "source": [
    "## Чтение ретро портфелей и создание выборки"
   ]
  },
  {
   "cell_type": "code",
   "execution_count": 4,
   "id": "0c42afdb-318c-408a-8da7-42cb03fc80cc",
   "metadata": {},
   "outputs": [],
   "source": [
    "BUCKETED_BALANCE_MAP_ = {\n",
    "    1: '<100k',\n",
    "    2: '100k-400k',\n",
    "    3: '400k-1000k',\n",
    "    4: '1000k-2000k',\n",
    "    5: '>2000k'\n",
    "}"
   ]
  },
  {
   "cell_type": "code",
   "execution_count": 5,
   "id": "172c33fc-9124-4e48-be4b-9fb432d1b6da",
   "metadata": {},
   "outputs": [],
   "source": [
    "portfolio_result_cols = [\n",
    "    'report_dt', 'segment', 'replenishable_flg', 'subtraction_flg', 'month_maturity','target_maturity_days', 'bucketed_balance_nm', 'bucketed_balance', 'open_month', 'close_month', \n",
    "    'weight_rate', 'balance', 'renewal_cnt', 'operations_in_month', 'early_withdrawal_in_month', 'gen_name'\n",
    "    ]"
   ]
  },
  {
   "cell_type": "code",
   "execution_count": 6,
   "id": "932cdee8-d75b-44cd-a29e-e251afd1d599",
   "metadata": {},
   "outputs": [],
   "source": [
    "def _add_cols_to_port(port):\n",
    "    port = port.copy()\n",
    "    port.loc[:, 'replenishable_flg'] = port['optional_flg'].isin([2,3]).astype(int)\n",
    "    port.loc[:, 'subtraction_flg'] = port['optional_flg'].isin([1,3]).astype(int)\n",
    "    port.loc[:, 'segment'] = port['is_vip_or_prv'].apply(lambda x: SEGMENT_MAP_[x])\n",
    "    port.loc[:, 'month_maturity'] =  (port['bucketed_period'] - 1).astype(int)\n",
    "    port.loc[:, 'target_maturity_days'] =  port.month_maturity.apply(month_to_target_maturity) \n",
    "    return port"
   ]
  },
  {
   "cell_type": "code",
   "execution_count": 7,
   "id": "7a8f6fe4-7eac-4236-9aed-096cba0ea400",
   "metadata": {},
   "outputs": [],
   "source": [
    "def _portfolio_result(port):\n",
    "    port['bucketed_balance_nm'] = port.bucketed_balance.apply(\n",
    "        lambda x: BUCKETED_BALANCE_MAP_[x] if x in BUCKETED_BALANCE_MAP_ else '<100k'\n",
    "    )\n",
    "    port.loc[:, 'renewal_cnt'] = port.weight_renewal_cnt.round()\n",
    "    port.loc[:, 'operations_in_month'] = np.where(port.optional_flg > 0, port.SER_d_cl, 0)\n",
    "    port.loc[:, 'early_withdrawal_in_month'] = np.where(port.optional_flg == 0, port.SER_d_cl, 0)\n",
    "    port.loc[:, 'balance'] = port.loc[:, 'total_generation']\n",
    "\n",
    "    #port = port[port['report_dt']>self._forecast_context.portfolio_dt+MonthEnd(-1)]\n",
    "    return port.sort_values(\n",
    "        by = ['report_dt', 'segment', 'replenishable_flg', 'subtraction_flg', 'balance'],ascending = [True, True, True, True, False], ignore_index = True\n",
    "    )"
   ]
  },
  {
   "cell_type": "code",
   "execution_count": 8,
   "id": "bd0fe606-17d7-437c-a792-5a18870abcea",
   "metadata": {},
   "outputs": [],
   "source": [
    "# читаем фактические портфели\n",
    "\n",
    "port_res = []\n",
    "\n",
    "for i in range(1, 8, 1):\n",
    "    #print(i)\n",
    "    \n",
    "    port = pd.read_csv(f'/home/vtb70186744/dynbalance/data/portfolio_data/portfolio_2023-0{i}.csv', parse_dates=True)\n",
    "    port['report_dt'] = pd.to_datetime(port['report_dt'])\n",
    "\n",
    "    port_res.append(port)"
   ]
  },
  {
   "cell_type": "code",
   "execution_count": 9,
   "id": "6959b3e9-d052-40be-9da1-cbc6ba0be601",
   "metadata": {},
   "outputs": [
    {
     "data": {
      "text/plain": [
       "156.13730427985934"
      ]
     },
     "execution_count": 9,
     "metadata": {},
     "output_type": "execute_result"
    }
   ],
   "source": [
    "port.sum()['total_interests'] / 10**9"
   ]
  },
  {
   "cell_type": "code",
   "execution_count": 10,
   "id": "105191f6-5729-44ec-806e-0971e8583c34",
   "metadata": {},
   "outputs": [
    {
     "data": {
      "text/html": [
       "<div>\n",
       "<style scoped>\n",
       "    .dataframe tbody tr th:only-of-type {\n",
       "        vertical-align: middle;\n",
       "    }\n",
       "\n",
       "    .dataframe tbody tr th {\n",
       "        vertical-align: top;\n",
       "    }\n",
       "\n",
       "    .dataframe thead th {\n",
       "        text-align: right;\n",
       "    }\n",
       "</style>\n",
       "<table border=\"1\" class=\"dataframe\">\n",
       "  <thead>\n",
       "    <tr style=\"text-align: right;\">\n",
       "      <th></th>\n",
       "      <th>report_month</th>\n",
       "      <th>bucketed_balance</th>\n",
       "      <th>is_vip_or_prv</th>\n",
       "      <th>drop_flg</th>\n",
       "      <th>optional_flg</th>\n",
       "      <th>bucketed_period</th>\n",
       "      <th>open_month</th>\n",
       "      <th>close_month</th>\n",
       "      <th>bucketed_open_rate</th>\n",
       "      <th>report_dt</th>\n",
       "      <th>total_interests</th>\n",
       "      <th>remaining_interests</th>\n",
       "      <th>weight_rate</th>\n",
       "      <th>total_generation</th>\n",
       "      <th>total_generation_cleared</th>\n",
       "      <th>weight_renewal_cnt</th>\n",
       "      <th>weight_renewal_available_flg</th>\n",
       "      <th>weight_close_plan_day</th>\n",
       "      <th>gen_name</th>\n",
       "      <th>SER_d</th>\n",
       "      <th>SER_d_cl</th>\n",
       "      <th>SER_dinamic</th>\n",
       "      <th>SER_dinamic_cl</th>\n",
       "      <th>total_generation_lag1</th>\n",
       "      <th>total_generation_cl_lag1</th>\n",
       "      <th>CUR</th>\n",
       "      <th>report_weight_open_rate_1m</th>\n",
       "      <th>report_weight_open_rate_3m</th>\n",
       "      <th>report_weight_open_rate_6m</th>\n",
       "      <th>report_weight_open_rate_12m</th>\n",
       "      <th>report_weight_open_rate_24m</th>\n",
       "      <th>report_wo_period_weight_open_rate</th>\n",
       "      <th>init_total_generation</th>\n",
       "      <th>row_count</th>\n",
       "      <th>share_period_plan</th>\n",
       "      <th>max_total_generation</th>\n",
       "      <th>max_SER_dinamic</th>\n",
       "    </tr>\n",
       "  </thead>\n",
       "  <tbody>\n",
       "    <tr>\n",
       "      <th>0</th>\n",
       "      <td>2023-07</td>\n",
       "      <td>1.0</td>\n",
       "      <td>0</td>\n",
       "      <td>NaN</td>\n",
       "      <td>3.0</td>\n",
       "      <td>25.0</td>\n",
       "      <td>2006-06</td>\n",
       "      <td>2024-06</td>\n",
       "      <td>1.0</td>\n",
       "      <td>2023-07-31</td>\n",
       "      <td>50.590822</td>\n",
       "      <td>4.975650</td>\n",
       "      <td>0.01</td>\n",
       "      <td>176822.97</td>\n",
       "      <td>176822.97</td>\n",
       "      <td>1.0</td>\n",
       "      <td>1.0</td>\n",
       "      <td>18.999929</td>\n",
       "      <td>2006-06_2024-06_1.0_25.0_1.0_3_0_RUR</td>\n",
       "      <td>0.00</td>\n",
       "      <td>0.00</td>\n",
       "      <td>0.000000</td>\n",
       "      <td>0.000000</td>\n",
       "      <td>176822.97</td>\n",
       "      <td>176822.97</td>\n",
       "      <td>RUR</td>\n",
       "      <td>NaN</td>\n",
       "      <td>NaN</td>\n",
       "      <td>NaN</td>\n",
       "      <td>NaN</td>\n",
       "      <td>NaN</td>\n",
       "      <td>NaN</td>\n",
       "      <td>176805.31</td>\n",
       "      <td>14</td>\n",
       "      <td>0.948897</td>\n",
       "      <td>176822.97</td>\n",
       "      <td>0.000000</td>\n",
       "    </tr>\n",
       "    <tr>\n",
       "      <th>1</th>\n",
       "      <td>2023-07</td>\n",
       "      <td>4.0</td>\n",
       "      <td>0</td>\n",
       "      <td>NaN</td>\n",
       "      <td>3.0</td>\n",
       "      <td>37.0</td>\n",
       "      <td>2009-06</td>\n",
       "      <td>2024-06</td>\n",
       "      <td>1.0</td>\n",
       "      <td>2023-07-31</td>\n",
       "      <td>347.708580</td>\n",
       "      <td>34.770858</td>\n",
       "      <td>0.01</td>\n",
       "      <td>1391157.89</td>\n",
       "      <td>1391157.89</td>\n",
       "      <td>1.0</td>\n",
       "      <td>1.0</td>\n",
       "      <td>16.000000</td>\n",
       "      <td>2009-06_2024-06_4.0_37.0_1.0_3_0_RUR</td>\n",
       "      <td>0.00</td>\n",
       "      <td>0.00</td>\n",
       "      <td>0.000000</td>\n",
       "      <td>0.000000</td>\n",
       "      <td>1391157.89</td>\n",
       "      <td>1391157.89</td>\n",
       "      <td>RUR</td>\n",
       "      <td>NaN</td>\n",
       "      <td>NaN</td>\n",
       "      <td>NaN</td>\n",
       "      <td>NaN</td>\n",
       "      <td>NaN</td>\n",
       "      <td>NaN</td>\n",
       "      <td>1390879.65</td>\n",
       "      <td>26</td>\n",
       "      <td>0.938675</td>\n",
       "      <td>1391157.89</td>\n",
       "      <td>0.000000</td>\n",
       "    </tr>\n",
       "    <tr>\n",
       "      <th>2</th>\n",
       "      <td>2023-07</td>\n",
       "      <td>4.0</td>\n",
       "      <td>0</td>\n",
       "      <td>NaN</td>\n",
       "      <td>3.0</td>\n",
       "      <td>19.0</td>\n",
       "      <td>2009-09</td>\n",
       "      <td>2024-10</td>\n",
       "      <td>1.0</td>\n",
       "      <td>2023-07-31</td>\n",
       "      <td>426.898800</td>\n",
       "      <td>42.689880</td>\n",
       "      <td>0.01</td>\n",
       "      <td>1670907.96</td>\n",
       "      <td>1670907.96</td>\n",
       "      <td>2.0</td>\n",
       "      <td>1.0</td>\n",
       "      <td>8.000000</td>\n",
       "      <td>2009-09_2024-10_4.0_19.0_1.0_3_0_RUR</td>\n",
       "      <td>13.73</td>\n",
       "      <td>13.73</td>\n",
       "      <td>0.000008</td>\n",
       "      <td>0.000008</td>\n",
       "      <td>1670894.23</td>\n",
       "      <td>1670894.23</td>\n",
       "      <td>RUR</td>\n",
       "      <td>NaN</td>\n",
       "      <td>NaN</td>\n",
       "      <td>NaN</td>\n",
       "      <td>NaN</td>\n",
       "      <td>NaN</td>\n",
       "      <td>NaN</td>\n",
       "      <td>1670866.31</td>\n",
       "      <td>4</td>\n",
       "      <td>0.916863</td>\n",
       "      <td>1670907.96</td>\n",
       "      <td>0.000008</td>\n",
       "    </tr>\n",
       "    <tr>\n",
       "      <th>3</th>\n",
       "      <td>2023-07</td>\n",
       "      <td>1.0</td>\n",
       "      <td>0</td>\n",
       "      <td>NaN</td>\n",
       "      <td>3.0</td>\n",
       "      <td>14.0</td>\n",
       "      <td>2012-08</td>\n",
       "      <td>2023-11</td>\n",
       "      <td>1.0</td>\n",
       "      <td>2023-07-31</td>\n",
       "      <td>8.193900</td>\n",
       "      <td>0.819390</td>\n",
       "      <td>0.01</td>\n",
       "      <td>32783.24</td>\n",
       "      <td>32783.24</td>\n",
       "      <td>2.0</td>\n",
       "      <td>1.0</td>\n",
       "      <td>30.000000</td>\n",
       "      <td>2012-08_2023-11_1.0_14.0_1.0_3_0_RUR</td>\n",
       "      <td>0.00</td>\n",
       "      <td>0.00</td>\n",
       "      <td>0.000000</td>\n",
       "      <td>0.000000</td>\n",
       "      <td>32783.24</td>\n",
       "      <td>32783.24</td>\n",
       "      <td>RUR</td>\n",
       "      <td>NaN</td>\n",
       "      <td>NaN</td>\n",
       "      <td>NaN</td>\n",
       "      <td>NaN</td>\n",
       "      <td>NaN</td>\n",
       "      <td>NaN</td>\n",
       "      <td>32781.10</td>\n",
       "      <td>10</td>\n",
       "      <td>0.970066</td>\n",
       "      <td>32783.24</td>\n",
       "      <td>0.000000</td>\n",
       "    </tr>\n",
       "    <tr>\n",
       "      <th>4</th>\n",
       "      <td>2023-07</td>\n",
       "      <td>1.0</td>\n",
       "      <td>1</td>\n",
       "      <td>NaN</td>\n",
       "      <td>3.0</td>\n",
       "      <td>25.0</td>\n",
       "      <td>2014-07</td>\n",
       "      <td>2024-07</td>\n",
       "      <td>4.0</td>\n",
       "      <td>2023-07-31</td>\n",
       "      <td>2550.000000</td>\n",
       "      <td>255.000000</td>\n",
       "      <td>2.50</td>\n",
       "      <td>30781.34</td>\n",
       "      <td>30781.34</td>\n",
       "      <td>4.0</td>\n",
       "      <td>1.0</td>\n",
       "      <td>21.000000</td>\n",
       "      <td>2014-07_2024-07_1.0_25.0_4.0_3_1_RUR</td>\n",
       "      <td>0.00</td>\n",
       "      <td>0.00</td>\n",
       "      <td>0.000000</td>\n",
       "      <td>0.000000</td>\n",
       "      <td>30781.34</td>\n",
       "      <td>30781.34</td>\n",
       "      <td>RUR</td>\n",
       "      <td>NaN</td>\n",
       "      <td>NaN</td>\n",
       "      <td>NaN</td>\n",
       "      <td>NaN</td>\n",
       "      <td>NaN</td>\n",
       "      <td>NaN</td>\n",
       "      <td>30464.95</td>\n",
       "      <td>7</td>\n",
       "      <td>0.899808</td>\n",
       "      <td>30781.34</td>\n",
       "      <td>0.000000</td>\n",
       "    </tr>\n",
       "  </tbody>\n",
       "</table>\n",
       "</div>"
      ],
      "text/plain": [
       "  report_month  bucketed_balance  is_vip_or_prv  drop_flg  optional_flg  \\\n",
       "0      2023-07               1.0              0       NaN           3.0   \n",
       "1      2023-07               4.0              0       NaN           3.0   \n",
       "2      2023-07               4.0              0       NaN           3.0   \n",
       "3      2023-07               1.0              0       NaN           3.0   \n",
       "4      2023-07               1.0              1       NaN           3.0   \n",
       "\n",
       "   bucketed_period open_month close_month  bucketed_open_rate  report_dt  \\\n",
       "0             25.0    2006-06     2024-06                 1.0 2023-07-31   \n",
       "1             37.0    2009-06     2024-06                 1.0 2023-07-31   \n",
       "2             19.0    2009-09     2024-10                 1.0 2023-07-31   \n",
       "3             14.0    2012-08     2023-11                 1.0 2023-07-31   \n",
       "4             25.0    2014-07     2024-07                 4.0 2023-07-31   \n",
       "\n",
       "   total_interests  remaining_interests  weight_rate  total_generation  \\\n",
       "0        50.590822             4.975650         0.01         176822.97   \n",
       "1       347.708580            34.770858         0.01        1391157.89   \n",
       "2       426.898800            42.689880         0.01        1670907.96   \n",
       "3         8.193900             0.819390         0.01          32783.24   \n",
       "4      2550.000000           255.000000         2.50          30781.34   \n",
       "\n",
       "   total_generation_cleared  weight_renewal_cnt  weight_renewal_available_flg  \\\n",
       "0                 176822.97                 1.0                           1.0   \n",
       "1                1391157.89                 1.0                           1.0   \n",
       "2                1670907.96                 2.0                           1.0   \n",
       "3                  32783.24                 2.0                           1.0   \n",
       "4                  30781.34                 4.0                           1.0   \n",
       "\n",
       "   weight_close_plan_day                              gen_name  SER_d  \\\n",
       "0              18.999929  2006-06_2024-06_1.0_25.0_1.0_3_0_RUR   0.00   \n",
       "1              16.000000  2009-06_2024-06_4.0_37.0_1.0_3_0_RUR   0.00   \n",
       "2               8.000000  2009-09_2024-10_4.0_19.0_1.0_3_0_RUR  13.73   \n",
       "3              30.000000  2012-08_2023-11_1.0_14.0_1.0_3_0_RUR   0.00   \n",
       "4              21.000000  2014-07_2024-07_1.0_25.0_4.0_3_1_RUR   0.00   \n",
       "\n",
       "   SER_d_cl  SER_dinamic  SER_dinamic_cl  total_generation_lag1  \\\n",
       "0      0.00     0.000000        0.000000              176822.97   \n",
       "1      0.00     0.000000        0.000000             1391157.89   \n",
       "2     13.73     0.000008        0.000008             1670894.23   \n",
       "3      0.00     0.000000        0.000000               32783.24   \n",
       "4      0.00     0.000000        0.000000               30781.34   \n",
       "\n",
       "   total_generation_cl_lag1  CUR  report_weight_open_rate_1m  \\\n",
       "0                 176822.97  RUR                         NaN   \n",
       "1                1391157.89  RUR                         NaN   \n",
       "2                1670894.23  RUR                         NaN   \n",
       "3                  32783.24  RUR                         NaN   \n",
       "4                  30781.34  RUR                         NaN   \n",
       "\n",
       "   report_weight_open_rate_3m  report_weight_open_rate_6m  \\\n",
       "0                         NaN                         NaN   \n",
       "1                         NaN                         NaN   \n",
       "2                         NaN                         NaN   \n",
       "3                         NaN                         NaN   \n",
       "4                         NaN                         NaN   \n",
       "\n",
       "   report_weight_open_rate_12m  report_weight_open_rate_24m  \\\n",
       "0                          NaN                          NaN   \n",
       "1                          NaN                          NaN   \n",
       "2                          NaN                          NaN   \n",
       "3                          NaN                          NaN   \n",
       "4                          NaN                          NaN   \n",
       "\n",
       "   report_wo_period_weight_open_rate  init_total_generation  row_count  \\\n",
       "0                                NaN              176805.31         14   \n",
       "1                                NaN             1390879.65         26   \n",
       "2                                NaN             1670866.31          4   \n",
       "3                                NaN               32781.10         10   \n",
       "4                                NaN               30464.95          7   \n",
       "\n",
       "   share_period_plan  max_total_generation  max_SER_dinamic  \n",
       "0           0.948897             176822.97         0.000000  \n",
       "1           0.938675            1391157.89         0.000000  \n",
       "2           0.916863            1670907.96         0.000008  \n",
       "3           0.970066              32783.24         0.000000  \n",
       "4           0.899808              30781.34         0.000000  "
      ]
     },
     "execution_count": 10,
     "metadata": {},
     "output_type": "execute_result"
    }
   ],
   "source": [
    "port.head()"
   ]
  },
  {
   "cell_type": "code",
   "execution_count": 11,
   "id": "9f895274-fd82-4e82-844a-9ea8f47f04d7",
   "metadata": {},
   "outputs": [],
   "source": [
    "port_res = pd.concat(port_res).reset_index(drop=True)"
   ]
  },
  {
   "cell_type": "code",
   "execution_count": 12,
   "id": "639bc017-ecf0-4622-b4b1-1102d6300932",
   "metadata": {},
   "outputs": [],
   "source": [
    "port_res = _add_cols_to_port(port_res)"
   ]
  },
  {
   "cell_type": "code",
   "execution_count": 13,
   "id": "d6359033-a7c3-45e9-9c17-4ca9c6dc0f34",
   "metadata": {},
   "outputs": [],
   "source": [
    "port_res = _portfolio_result(port_res)"
   ]
  },
  {
   "cell_type": "code",
   "execution_count": 14,
   "id": "598d90c7-39fd-4c80-9f85-075978c822bc",
   "metadata": {},
   "outputs": [
    {
     "data": {
      "text/html": [
       "<div>\n",
       "<style scoped>\n",
       "    .dataframe tbody tr th:only-of-type {\n",
       "        vertical-align: middle;\n",
       "    }\n",
       "\n",
       "    .dataframe tbody tr th {\n",
       "        vertical-align: top;\n",
       "    }\n",
       "\n",
       "    .dataframe thead th {\n",
       "        text-align: right;\n",
       "    }\n",
       "</style>\n",
       "<table border=\"1\" class=\"dataframe\">\n",
       "  <thead>\n",
       "    <tr style=\"text-align: right;\">\n",
       "      <th></th>\n",
       "      <th>report_month</th>\n",
       "      <th>bucketed_balance</th>\n",
       "      <th>is_vip_or_prv</th>\n",
       "      <th>drop_flg</th>\n",
       "      <th>optional_flg</th>\n",
       "      <th>bucketed_period</th>\n",
       "      <th>open_month</th>\n",
       "      <th>close_month</th>\n",
       "      <th>bucketed_open_rate</th>\n",
       "      <th>report_dt</th>\n",
       "      <th>total_interests</th>\n",
       "      <th>remaining_interests</th>\n",
       "      <th>weight_rate</th>\n",
       "      <th>total_generation</th>\n",
       "      <th>total_generation_cleared</th>\n",
       "      <th>weight_renewal_cnt</th>\n",
       "      <th>weight_renewal_available_flg</th>\n",
       "      <th>weight_close_plan_day</th>\n",
       "      <th>gen_name</th>\n",
       "      <th>SER_d</th>\n",
       "      <th>SER_d_cl</th>\n",
       "      <th>SER_dinamic</th>\n",
       "      <th>SER_dinamic_cl</th>\n",
       "      <th>total_generation_lag1</th>\n",
       "      <th>total_generation_cl_lag1</th>\n",
       "      <th>CUR</th>\n",
       "      <th>report_weight_open_rate_1m</th>\n",
       "      <th>report_weight_open_rate_3m</th>\n",
       "      <th>report_weight_open_rate_6m</th>\n",
       "      <th>report_weight_open_rate_12m</th>\n",
       "      <th>report_weight_open_rate_24m</th>\n",
       "      <th>report_wo_period_weight_open_rate</th>\n",
       "      <th>init_total_generation</th>\n",
       "      <th>row_count</th>\n",
       "      <th>share_period_plan</th>\n",
       "      <th>max_total_generation</th>\n",
       "      <th>max_SER_dinamic</th>\n",
       "      <th>replenishable_flg</th>\n",
       "      <th>subtraction_flg</th>\n",
       "      <th>segment</th>\n",
       "      <th>month_maturity</th>\n",
       "      <th>target_maturity_days</th>\n",
       "      <th>bucketed_balance_nm</th>\n",
       "      <th>renewal_cnt</th>\n",
       "      <th>operations_in_month</th>\n",
       "      <th>early_withdrawal_in_month</th>\n",
       "      <th>balance</th>\n",
       "    </tr>\n",
       "  </thead>\n",
       "  <tbody>\n",
       "    <tr>\n",
       "      <th>0</th>\n",
       "      <td>2023-01</td>\n",
       "      <td>4.0</td>\n",
       "      <td>0</td>\n",
       "      <td>0.0</td>\n",
       "      <td>0.0</td>\n",
       "      <td>7.0</td>\n",
       "      <td>2022-09</td>\n",
       "      <td>2023-03</td>\n",
       "      <td>8.0</td>\n",
       "      <td>2023-01-31</td>\n",
       "      <td>1.080998e+09</td>\n",
       "      <td>4.309770e+08</td>\n",
       "      <td>7.014158</td>\n",
       "      <td>3.767463e+10</td>\n",
       "      <td>3.689392e+10</td>\n",
       "      <td>0.0</td>\n",
       "      <td>0.0</td>\n",
       "      <td>7.640179</td>\n",
       "      <td>2022-09_2023-03_4.0_7.0_8.0_0_0_0.0_RUR</td>\n",
       "      <td>-1.498874e+08</td>\n",
       "      <td>-3.443082e+08</td>\n",
       "      <td>-0.003963</td>\n",
       "      <td>-0.009246</td>\n",
       "      <td>3.782452e+10</td>\n",
       "      <td>3.723822e+10</td>\n",
       "      <td>RUR</td>\n",
       "      <td>NaN</td>\n",
       "      <td>7.0</td>\n",
       "      <td>7.526670</td>\n",
       "      <td>7.469240</td>\n",
       "      <td>NaN</td>\n",
       "      <td>7.404150</td>\n",
       "      <td>4.033852e+10</td>\n",
       "      <td>5</td>\n",
       "      <td>0.674033</td>\n",
       "      <td>3.767463e+10</td>\n",
       "      <td>-0.003963</td>\n",
       "      <td>0</td>\n",
       "      <td>0</td>\n",
       "      <td>mass</td>\n",
       "      <td>6</td>\n",
       "      <td>180</td>\n",
       "      <td>1000k-2000k</td>\n",
       "      <td>0.0</td>\n",
       "      <td>0.0</td>\n",
       "      <td>-3.443082e+08</td>\n",
       "      <td>3.767463e+10</td>\n",
       "    </tr>\n",
       "    <tr>\n",
       "      <th>1</th>\n",
       "      <td>2023-01</td>\n",
       "      <td>3.0</td>\n",
       "      <td>0</td>\n",
       "      <td>0.0</td>\n",
       "      <td>0.0</td>\n",
       "      <td>7.0</td>\n",
       "      <td>2022-09</td>\n",
       "      <td>2023-03</td>\n",
       "      <td>8.0</td>\n",
       "      <td>2023-01-31</td>\n",
       "      <td>1.039290e+09</td>\n",
       "      <td>4.140946e+08</td>\n",
       "      <td>7.014465</td>\n",
       "      <td>3.624522e+10</td>\n",
       "      <td>3.546236e+10</td>\n",
       "      <td>0.0</td>\n",
       "      <td>0.0</td>\n",
       "      <td>7.765046</td>\n",
       "      <td>2022-09_2023-03_3.0_7.0_8.0_0_0_0.0_RUR</td>\n",
       "      <td>4.100963e+07</td>\n",
       "      <td>-1.568994e+08</td>\n",
       "      <td>0.001133</td>\n",
       "      <td>-0.004405</td>\n",
       "      <td>3.620421e+10</td>\n",
       "      <td>3.561926e+10</td>\n",
       "      <td>RUR</td>\n",
       "      <td>NaN</td>\n",
       "      <td>7.0</td>\n",
       "      <td>7.490077</td>\n",
       "      <td>7.450225</td>\n",
       "      <td>NaN</td>\n",
       "      <td>7.355351</td>\n",
       "      <td>3.720755e+10</td>\n",
       "      <td>5</td>\n",
       "      <td>0.674033</td>\n",
       "      <td>3.624522e+10</td>\n",
       "      <td>0.001133</td>\n",
       "      <td>0</td>\n",
       "      <td>0</td>\n",
       "      <td>mass</td>\n",
       "      <td>6</td>\n",
       "      <td>180</td>\n",
       "      <td>400k-1000k</td>\n",
       "      <td>0.0</td>\n",
       "      <td>0.0</td>\n",
       "      <td>-1.568994e+08</td>\n",
       "      <td>3.624522e+10</td>\n",
       "    </tr>\n",
       "    <tr>\n",
       "      <th>2</th>\n",
       "      <td>2023-01</td>\n",
       "      <td>4.0</td>\n",
       "      <td>0</td>\n",
       "      <td>0.0</td>\n",
       "      <td>0.0</td>\n",
       "      <td>13.0</td>\n",
       "      <td>2022-09</td>\n",
       "      <td>2023-09</td>\n",
       "      <td>8.0</td>\n",
       "      <td>2023-01-31</td>\n",
       "      <td>7.430132e+08</td>\n",
       "      <td>1.515603e+09</td>\n",
       "      <td>7.000000</td>\n",
       "      <td>2.592414e+10</td>\n",
       "      <td>2.539205e+10</td>\n",
       "      <td>0.0</td>\n",
       "      <td>0.0</td>\n",
       "      <td>14.847356</td>\n",
       "      <td>2022-09_2023-09_4.0_13.0_8.0_0_0_0.0_RUR</td>\n",
       "      <td>-6.024040e+07</td>\n",
       "      <td>-1.934322e+08</td>\n",
       "      <td>-0.002318</td>\n",
       "      <td>-0.007560</td>\n",
       "      <td>2.598438e+10</td>\n",
       "      <td>2.558548e+10</td>\n",
       "      <td>RUR</td>\n",
       "      <td>NaN</td>\n",
       "      <td>7.0</td>\n",
       "      <td>7.526670</td>\n",
       "      <td>7.469240</td>\n",
       "      <td>NaN</td>\n",
       "      <td>7.404150</td>\n",
       "      <td>2.814998e+10</td>\n",
       "      <td>5</td>\n",
       "      <td>0.334247</td>\n",
       "      <td>2.592414e+10</td>\n",
       "      <td>-0.002318</td>\n",
       "      <td>0</td>\n",
       "      <td>0</td>\n",
       "      <td>mass</td>\n",
       "      <td>12</td>\n",
       "      <td>365</td>\n",
       "      <td>1000k-2000k</td>\n",
       "      <td>0.0</td>\n",
       "      <td>0.0</td>\n",
       "      <td>-1.934322e+08</td>\n",
       "      <td>2.592414e+10</td>\n",
       "    </tr>\n",
       "  </tbody>\n",
       "</table>\n",
       "</div>"
      ],
      "text/plain": [
       "  report_month  bucketed_balance  is_vip_or_prv  drop_flg  optional_flg  \\\n",
       "0      2023-01               4.0              0       0.0           0.0   \n",
       "1      2023-01               3.0              0       0.0           0.0   \n",
       "2      2023-01               4.0              0       0.0           0.0   \n",
       "\n",
       "   bucketed_period open_month close_month  bucketed_open_rate  report_dt  \\\n",
       "0              7.0    2022-09     2023-03                 8.0 2023-01-31   \n",
       "1              7.0    2022-09     2023-03                 8.0 2023-01-31   \n",
       "2             13.0    2022-09     2023-09                 8.0 2023-01-31   \n",
       "\n",
       "   total_interests  remaining_interests  weight_rate  total_generation  \\\n",
       "0     1.080998e+09         4.309770e+08     7.014158      3.767463e+10   \n",
       "1     1.039290e+09         4.140946e+08     7.014465      3.624522e+10   \n",
       "2     7.430132e+08         1.515603e+09     7.000000      2.592414e+10   \n",
       "\n",
       "   total_generation_cleared  weight_renewal_cnt  weight_renewal_available_flg  \\\n",
       "0              3.689392e+10                 0.0                           0.0   \n",
       "1              3.546236e+10                 0.0                           0.0   \n",
       "2              2.539205e+10                 0.0                           0.0   \n",
       "\n",
       "   weight_close_plan_day                                  gen_name  \\\n",
       "0               7.640179   2022-09_2023-03_4.0_7.0_8.0_0_0_0.0_RUR   \n",
       "1               7.765046   2022-09_2023-03_3.0_7.0_8.0_0_0_0.0_RUR   \n",
       "2              14.847356  2022-09_2023-09_4.0_13.0_8.0_0_0_0.0_RUR   \n",
       "\n",
       "          SER_d      SER_d_cl  SER_dinamic  SER_dinamic_cl  \\\n",
       "0 -1.498874e+08 -3.443082e+08    -0.003963       -0.009246   \n",
       "1  4.100963e+07 -1.568994e+08     0.001133       -0.004405   \n",
       "2 -6.024040e+07 -1.934322e+08    -0.002318       -0.007560   \n",
       "\n",
       "   total_generation_lag1  total_generation_cl_lag1  CUR  \\\n",
       "0           3.782452e+10              3.723822e+10  RUR   \n",
       "1           3.620421e+10              3.561926e+10  RUR   \n",
       "2           2.598438e+10              2.558548e+10  RUR   \n",
       "\n",
       "   report_weight_open_rate_1m  report_weight_open_rate_3m  \\\n",
       "0                         NaN                         7.0   \n",
       "1                         NaN                         7.0   \n",
       "2                         NaN                         7.0   \n",
       "\n",
       "   report_weight_open_rate_6m  report_weight_open_rate_12m  \\\n",
       "0                    7.526670                     7.469240   \n",
       "1                    7.490077                     7.450225   \n",
       "2                    7.526670                     7.469240   \n",
       "\n",
       "   report_weight_open_rate_24m  report_wo_period_weight_open_rate  \\\n",
       "0                          NaN                           7.404150   \n",
       "1                          NaN                           7.355351   \n",
       "2                          NaN                           7.404150   \n",
       "\n",
       "   init_total_generation  row_count  share_period_plan  max_total_generation  \\\n",
       "0           4.033852e+10          5           0.674033          3.767463e+10   \n",
       "1           3.720755e+10          5           0.674033          3.624522e+10   \n",
       "2           2.814998e+10          5           0.334247          2.592414e+10   \n",
       "\n",
       "   max_SER_dinamic  replenishable_flg  subtraction_flg segment  \\\n",
       "0        -0.003963                  0                0    mass   \n",
       "1         0.001133                  0                0    mass   \n",
       "2        -0.002318                  0                0    mass   \n",
       "\n",
       "   month_maturity  target_maturity_days bucketed_balance_nm  renewal_cnt  \\\n",
       "0               6                   180         1000k-2000k          0.0   \n",
       "1               6                   180          400k-1000k          0.0   \n",
       "2              12                   365         1000k-2000k          0.0   \n",
       "\n",
       "   operations_in_month  early_withdrawal_in_month       balance  \n",
       "0                  0.0              -3.443082e+08  3.767463e+10  \n",
       "1                  0.0              -1.568994e+08  3.624522e+10  \n",
       "2                  0.0              -1.934322e+08  2.592414e+10  "
      ]
     },
     "execution_count": 14,
     "metadata": {},
     "output_type": "execute_result"
    }
   ],
   "source": [
    "port_res.head(3)"
   ]
  },
  {
   "cell_type": "code",
   "execution_count": 15,
   "id": "8bca7dba-2e68-4af9-bf16-21b84f0bf628",
   "metadata": {},
   "outputs": [
    {
     "data": {
      "text/plain": [
       "report_dt\n",
       "2023-01-31    2.950907e+12\n",
       "2023-02-28    3.000243e+12\n",
       "2023-03-31    3.044367e+12\n",
       "2023-04-30    3.077628e+12\n",
       "2023-05-31    3.131640e+12\n",
       "2023-06-30    3.148000e+12\n",
       "2023-07-31    2.990741e+12\n",
       "Name: balance, dtype: float64"
      ]
     },
     "execution_count": 15,
     "metadata": {},
     "output_type": "execute_result"
    }
   ],
   "source": [
    "port_res.groupby('report_dt').sum()['balance']"
   ]
  },
  {
   "cell_type": "code",
   "execution_count": 16,
   "id": "d40aae79-6265-4ab4-bb3a-3c2667f6dd22",
   "metadata": {},
   "outputs": [],
   "source": [
    "port_res['interests'] = port_res['total_generation'] - port_res['total_generation_lag1'].astype(float) - port_res['SER_d_cl']"
   ]
  },
  {
   "cell_type": "code",
   "execution_count": 17,
   "id": "c23dd74a-1d94-4ed8-bd3a-2ff715221c71",
   "metadata": {},
   "outputs": [],
   "source": [
    "from pandas.tseries.offsets import MonthEnd"
   ]
  },
  {
   "cell_type": "code",
   "execution_count": 18,
   "id": "d005c6e0-6f07-4cef-99cc-3072c6567ac4",
   "metadata": {},
   "outputs": [],
   "source": [
    "portfolio_res = port_res.copy()"
   ]
  },
  {
   "cell_type": "code",
   "execution_count": 19,
   "id": "dcd3336a-b3b9-4001-837a-1e9af7c4b3de",
   "metadata": {},
   "outputs": [],
   "source": [
    "portfolio_res['open_month_correct'] = pd.to_datetime(portfolio_res['open_month'], format='%Y-%m')"
   ]
  },
  {
   "cell_type": "markdown",
   "id": "6578efbd-7fc1-491e-aa44-00797433e66b",
   "metadata": {},
   "source": [
    "##### "
   ]
  },
  {
   "cell_type": "code",
   "execution_count": 20,
   "id": "24b94c05-26fa-4f79-91ed-91e391ca2486",
   "metadata": {},
   "outputs": [
    {
     "data": {
      "text/plain": [
       "array([ 180,  365,   90, 1095,  548,  730])"
      ]
     },
     "execution_count": 20,
     "metadata": {},
     "output_type": "execute_result"
    }
   ],
   "source": [
    "portfolio_res['target_maturity_days'].unique()"
   ]
  },
  {
   "cell_type": "code",
   "execution_count": 21,
   "id": "cb6f9085-c984-43fc-ba1c-a148f0ae5eee",
   "metadata": {},
   "outputs": [],
   "source": [
    "maturity_dict = {90: 3,\n",
    "                180: 6,\n",
    "                365: 12,\n",
    "                548: 18,\n",
    "                730: 24,\n",
    "                1095: 36}"
   ]
  },
  {
   "cell_type": "code",
   "execution_count": 22,
   "id": "47caa5e0-2ee6-45b1-b9f9-6e913e0f524f",
   "metadata": {},
   "outputs": [],
   "source": [
    "# корректируем месяца\n",
    "portfolio_res['target_maturity_months'] = portfolio_res['target_maturity_days'].replace(maturity_dict)"
   ]
  },
  {
   "cell_type": "markdown",
   "id": "f6b675d1-af67-4ac3-a307-3d3022d90f59",
   "metadata": {},
   "source": [
    "Сделаем поле open_month_correct и нормальную дату открытия для каждого депозита"
   ]
  },
  {
   "cell_type": "code",
   "execution_count": 23,
   "id": "2aeb300a-6b6a-4176-b616-f3b41c7b03be",
   "metadata": {},
   "outputs": [
    {
     "data": {
      "text/plain": [
       "array([ 0.,  1.,  4.,  2.,  8.,  9.,  7.,  5.,  6.,  3., 10., 11.])"
      ]
     },
     "execution_count": 23,
     "metadata": {},
     "output_type": "execute_result"
    }
   ],
   "source": [
    "portfolio_res.renewal_cnt.unique()"
   ]
  },
  {
   "cell_type": "code",
   "execution_count": 24,
   "id": "925c47f5-fe79-439d-8443-637f5ba88669",
   "metadata": {},
   "outputs": [
    {
     "data": {
      "text/plain": [
       "<AxesSubplot:>"
      ]
     },
     "execution_count": 24,
     "metadata": {},
     "output_type": "execute_result"
    },
    {
     "data": {
      "image/png": "[encoded data removed]",
      "text/plain": [
       "<Figure size 640x480 with 1 Axes>"
      ]
     },
     "metadata": {},
     "output_type": "display_data"
    }
   ],
   "source": [
    "portfolio_res['open_month'].value_counts().sort_index().plot()"
   ]
  },
  {
   "cell_type": "code",
   "execution_count": 25,
   "id": "d23386bc-ebec-4d2c-9f2f-a312ab960d6d",
   "metadata": {},
   "outputs": [
    {
     "data": {
      "text/plain": [
       "0.9998023064063406"
      ]
     },
     "execution_count": 25,
     "metadata": {},
     "output_type": "execute_result"
    }
   ],
   "source": [
    "# 99 процентов занимают депозиты открытые позже 2017\n",
    "\n",
    "portfolio_res[portfolio_res['open_month']>='2017-01']['balance'].sum() / portfolio_res['balance'].sum()"
   ]
  },
  {
   "cell_type": "markdown",
   "id": "aa702183-0f0b-4a96-a267-63cbd548890b",
   "metadata": {},
   "source": [
    "## Корректируем дату открытия относительно даты закрытия для депозитов с пролонгацией"
   ]
  },
  {
   "cell_type": "code",
   "execution_count": 26,
   "id": "ccb40d5b-2014-4373-8640-77324e29196b",
   "metadata": {},
   "outputs": [],
   "source": [
    "from pandas.tseries.offsets import MonthEnd"
   ]
  },
  {
   "cell_type": "code",
   "execution_count": 27,
   "id": "589ee5af-fdfc-4457-ba55-2f24a3226590",
   "metadata": {},
   "outputs": [
    {
     "data": {
      "text/html": [
       "<div>\n",
       "<style scoped>\n",
       "    .dataframe tbody tr th:only-of-type {\n",
       "        vertical-align: middle;\n",
       "    }\n",
       "\n",
       "    .dataframe tbody tr th {\n",
       "        vertical-align: top;\n",
       "    }\n",
       "\n",
       "    .dataframe thead th {\n",
       "        text-align: right;\n",
       "    }\n",
       "</style>\n",
       "<table border=\"1\" class=\"dataframe\">\n",
       "  <thead>\n",
       "    <tr style=\"text-align: right;\">\n",
       "      <th></th>\n",
       "      <th>open_month</th>\n",
       "      <th>close_month</th>\n",
       "      <th>month_maturity</th>\n",
       "      <th>renewal_cnt</th>\n",
       "    </tr>\n",
       "  </thead>\n",
       "  <tbody>\n",
       "    <tr>\n",
       "      <th>29</th>\n",
       "      <td>2022-10</td>\n",
       "      <td>2023-04</td>\n",
       "      <td>3</td>\n",
       "      <td>1.0</td>\n",
       "    </tr>\n",
       "    <tr>\n",
       "      <th>36</th>\n",
       "      <td>2022-10</td>\n",
       "      <td>2023-04</td>\n",
       "      <td>3</td>\n",
       "      <td>1.0</td>\n",
       "    </tr>\n",
       "    <tr>\n",
       "      <th>76</th>\n",
       "      <td>2022-10</td>\n",
       "      <td>2023-04</td>\n",
       "      <td>3</td>\n",
       "      <td>1.0</td>\n",
       "    </tr>\n",
       "    <tr>\n",
       "      <th>88</th>\n",
       "      <td>2022-09</td>\n",
       "      <td>2023-03</td>\n",
       "      <td>3</td>\n",
       "      <td>1.0</td>\n",
       "    </tr>\n",
       "    <tr>\n",
       "      <th>94</th>\n",
       "      <td>2022-09</td>\n",
       "      <td>2023-03</td>\n",
       "      <td>3</td>\n",
       "      <td>1.0</td>\n",
       "    </tr>\n",
       "    <tr>\n",
       "      <th>...</th>\n",
       "      <td>...</td>\n",
       "      <td>...</td>\n",
       "      <td>...</td>\n",
       "      <td>...</td>\n",
       "    </tr>\n",
       "    <tr>\n",
       "      <th>63789</th>\n",
       "      <td>2014-12</td>\n",
       "      <td>2023-12</td>\n",
       "      <td>12</td>\n",
       "      <td>2.0</td>\n",
       "    </tr>\n",
       "    <tr>\n",
       "      <th>63790</th>\n",
       "      <td>2015-02</td>\n",
       "      <td>2024-02</td>\n",
       "      <td>12</td>\n",
       "      <td>2.0</td>\n",
       "    </tr>\n",
       "    <tr>\n",
       "      <th>63791</th>\n",
       "      <td>2009-11</td>\n",
       "      <td>2023-12</td>\n",
       "      <td>12</td>\n",
       "      <td>2.0</td>\n",
       "    </tr>\n",
       "    <tr>\n",
       "      <th>63792</th>\n",
       "      <td>2019-05</td>\n",
       "      <td>2025-06</td>\n",
       "      <td>36</td>\n",
       "      <td>1.0</td>\n",
       "    </tr>\n",
       "    <tr>\n",
       "      <th>63793</th>\n",
       "      <td>2009-07</td>\n",
       "      <td>2023-08</td>\n",
       "      <td>12</td>\n",
       "      <td>2.0</td>\n",
       "    </tr>\n",
       "  </tbody>\n",
       "</table>\n",
       "<p>34364 rows × 4 columns</p>\n",
       "</div>"
      ],
      "text/plain": [
       "      open_month close_month  month_maturity  renewal_cnt\n",
       "29       2022-10     2023-04               3          1.0\n",
       "36       2022-10     2023-04               3          1.0\n",
       "76       2022-10     2023-04               3          1.0\n",
       "88       2022-09     2023-03               3          1.0\n",
       "94       2022-09     2023-03               3          1.0\n",
       "...          ...         ...             ...          ...\n",
       "63789    2014-12     2023-12              12          2.0\n",
       "63790    2015-02     2024-02              12          2.0\n",
       "63791    2009-11     2023-12              12          2.0\n",
       "63792    2019-05     2025-06              36          1.0\n",
       "63793    2009-07     2023-08              12          2.0\n",
       "\n",
       "[34364 rows x 4 columns]"
      ]
     },
     "execution_count": 27,
     "metadata": {},
     "output_type": "execute_result"
    }
   ],
   "source": [
    "portfolio_res[portfolio_res['renewal_cnt']>0][['open_month', 'close_month', 'month_maturity', 'renewal_cnt']]"
   ]
  },
  {
   "cell_type": "markdown",
   "id": "9b770ead-146d-46d7-b071-8c10285b523d",
   "metadata": {},
   "source": [
    " Формула расчета даты открытия к которой будет происходить джойн для депозитов где renewal_cnt>0: `дата закрытия` - `month_maturity`"
   ]
  },
  {
   "cell_type": "code",
   "execution_count": 28,
   "id": "343a3385-369d-4ed5-8b35-f67c01d6731b",
   "metadata": {},
   "outputs": [],
   "source": [
    "portfolio_res['close_month_dt'] = pd.to_datetime(portfolio_res['close_month']) "
   ]
  },
  {
   "cell_type": "code",
   "execution_count": 29,
   "id": "aa1bacd3-a78e-4037-9db8-f142e2ba8662",
   "metadata": {},
   "outputs": [],
   "source": [
    "portfolio_res['open_month_correct'] = pd.to_datetime(portfolio_res['open_month']) "
   ]
  },
  {
   "cell_type": "code",
   "execution_count": 30,
   "id": "a2e69e17-9265-4f41-acb1-6907acc919fd",
   "metadata": {},
   "outputs": [
    {
     "data": {
      "text/plain": [
       "array([ 6, 12,  3, 36, 18, 24])"
      ]
     },
     "execution_count": 30,
     "metadata": {},
     "output_type": "execute_result"
    }
   ],
   "source": [
    "portfolio_res['target_maturity_months'].unique()"
   ]
  },
  {
   "cell_type": "code",
   "execution_count": 31,
   "id": "0034a2c0-5cc2-4446-9ba1-c04b2f44908f",
   "metadata": {},
   "outputs": [],
   "source": [
    "for mat in portfolio_res['target_maturity_months'].unique():\n",
    "    \n",
    "    portfolio_res['open_month_correct'][(portfolio_res['renewal_cnt']>0)&(portfolio_res['target_maturity_months']==mat)] = \\\n",
    "    portfolio_res['close_month_dt'][(portfolio_res['renewal_cnt']>0)&(portfolio_res['target_maturity_months']==mat)] +  MonthEnd(-mat)\n",
    "    \n",
    "    \n",
    "    portfolio_res['open_month'][(portfolio_res['renewal_cnt']>0)&(portfolio_res['target_maturity_months']==mat)] = \\\n",
    "    portfolio_res['open_month_correct'][(portfolio_res['renewal_cnt']>0)&(portfolio_res['target_maturity_months']==mat)].apply(lambda x: str(x)[:7])"
   ]
  },
  {
   "cell_type": "code",
   "execution_count": 32,
   "id": "4d7f5a15-acf8-4b6b-a1a2-383f55b63c40",
   "metadata": {},
   "outputs": [
    {
     "data": {
      "text/plain": [
       "<AxesSubplot:>"
      ]
     },
     "execution_count": 32,
     "metadata": {},
     "output_type": "execute_result"
    },
    {
     "data": {
      "image/png": "[encoded data removed]",
      "text/plain": [
       "<Figure size 640x480 with 1 Axes>"
      ]
     },
     "metadata": {},
     "output_type": "display_data"
    }
   ],
   "source": [
    "portfolio_res['open_month'].value_counts().sort_index().plot()"
   ]
  },
  {
   "cell_type": "markdown",
   "id": "3b14fb97-7e00-47df-8897-3c32821568f0",
   "metadata": {},
   "source": [
    "## Джойн FTP ставок"
   ]
  },
  {
   "cell_type": "code",
   "execution_count": 33,
   "id": "a89d231f-283f-4dd8-8509-c26500779d70",
   "metadata": {},
   "outputs": [],
   "source": [
    "# Код выгрузки\n",
    "\n",
    "query = \"\"\"\n",
    "SELECT \n",
    "year(report_date) as report_year, \n",
    "month(report_date) as report_month, \n",
    "AVG(`vtb_[1095d]_ftp_rate`) as `VTB_[1095d]_ftp_rate`, \n",
    "AVG(`vtb_[180d]_ftp_rate`) as `VTB_[180d]_ftp_rate`,\n",
    "AVG(`vtb_[365d]_ftp_rate`) as `VTB_[365d]_ftp_rate`,\n",
    "AVG(`vtb_[548d]_ftp_rate`) as `VTB_[548d]_ftp_rate`,\n",
    "AVG(`vtb_[730d]_ftp_rate`) as `VTB_[730d]_ftp_rate`,\n",
    "AVG(`vtb_[90d]_ftp_rate`) as `VTB_[90d]_ftp_rate`\n",
    "\n",
    "FROM dadm_alm_sbx.vtb_ftp_rates \n",
    "\n",
    "GROUP BY year(report_date), month(report_date)\n",
    "ORDER BY year(report_date) desc, month(report_date) desc;\n",
    "\"\"\""
   ]
  },
  {
   "cell_type": "code",
   "execution_count": 34,
   "id": "4e154b2f-be4c-4b91-95bd-1652fd7fc19a",
   "metadata": {},
   "outputs": [],
   "source": [
    "ftp_table = pd.read_csv('ftp.csv')"
   ]
  },
  {
   "cell_type": "code",
   "execution_count": 35,
   "id": "f4da4150-73fb-4405-b40c-771024aee167",
   "metadata": {},
   "outputs": [],
   "source": [
    "ftp_table['report_month'][ftp_table['report_month']<=9] = ftp_table['report_month'][ftp_table['report_month']<=9].apply(lambda x: '0'+str(x))"
   ]
  },
  {
   "cell_type": "code",
   "execution_count": 36,
   "id": "1eb9c815-10ce-49c4-b780-2d600e15a7db",
   "metadata": {},
   "outputs": [],
   "source": [
    "ftp_table['report_month'] = ftp_table['report_month'].astype(str)"
   ]
  },
  {
   "cell_type": "code",
   "execution_count": 37,
   "id": "3adddf22-9db2-4f72-8a2a-4cbed79a737b",
   "metadata": {},
   "outputs": [],
   "source": [
    "ftp_table['report_year'] = ftp_table['report_year'].astype(str)"
   ]
  },
  {
   "cell_type": "code",
   "execution_count": 38,
   "id": "27400587-f9ce-4243-947d-7ec7eb6ad0d7",
   "metadata": {},
   "outputs": [],
   "source": [
    "ftp_table['open_month'] = ftp_table['report_year'] + '-' + ftp_table['report_month']"
   ]
  },
  {
   "cell_type": "code",
   "execution_count": 39,
   "id": "afcd6d96-8b91-4f1a-a8a7-3c5c7c18d669",
   "metadata": {},
   "outputs": [],
   "source": [
    "del ftp_table['report_month']\n",
    "del ftp_table['report_year']"
   ]
  },
  {
   "cell_type": "code",
   "execution_count": 40,
   "id": "b64090fa-19b8-45ea-aece-a57d8f72a808",
   "metadata": {},
   "outputs": [],
   "source": [
    "# дополнить этот момент\n",
    "# для новых вкладов лучше брать новые ставки\n",
    "\n",
    "portfolio_res['open_month'][portfolio_res['open_month']>'2023-09'] = '2023-09'\n",
    "\n",
    "portfolio_res = portfolio_res.merge(ftp_table, on='open_month', how='left')"
   ]
  },
  {
   "cell_type": "code",
   "execution_count": 41,
   "id": "449bfbf2-c1f3-43fc-ba17-810d63c371a9",
   "metadata": {},
   "outputs": [],
   "source": [
    "portfolio_res['ftp'] = np.nan\n",
    "\n",
    "\n",
    "\n",
    "for day in portfolio_res['target_maturity_days'].unique():\n",
    "    \n",
    "    # выбираем колонку\n",
    "    col = f'vtb_[{day}d]_ftp_rate'\n",
    "    \n",
    "    portfolio_res['ftp'][portfolio_res['target_maturity_days']==day] = portfolio_res[col][portfolio_res['target_maturity_days']==day]"
   ]
  },
  {
   "cell_type": "code",
   "execution_count": 42,
   "id": "96ef87c1-e444-486c-9834-e9b275249ec4",
   "metadata": {},
   "outputs": [
    {
     "data": {
      "text/plain": [
       "8035796.890000001"
      ]
     },
     "execution_count": 42,
     "metadata": {},
     "output_type": "execute_result"
    }
   ],
   "source": [
    "portfolio_res[portfolio_res['ftp'].isnull()]['balance'].sum()"
   ]
  },
  {
   "cell_type": "code",
   "execution_count": 43,
   "id": "3cf27699-33a3-4488-ac71-73d159c11984",
   "metadata": {},
   "outputs": [
    {
     "data": {
      "text/plain": [
       "3.7649811342871016e-07"
      ]
     },
     "execution_count": 43,
     "metadata": {},
     "output_type": "execute_result"
    }
   ],
   "source": [
    "# доля пропусков\n",
    "\n",
    "portfolio_res[portfolio_res['ftp'].isnull()]['balance'].sum() / portfolio_res['balance'].sum()"
   ]
  },
  {
   "cell_type": "code",
   "execution_count": 44,
   "id": "3075000a-f318-4570-b0a5-a4e0427d0326",
   "metadata": {},
   "outputs": [
    {
     "data": {
      "text/plain": [
       "1900-01    7\n",
       "1994-01    7\n",
       "2005-02    2\n",
       "2005-03    4\n",
       "2005-04    3\n",
       "2005-09    7\n",
       "2007-01    2\n",
       "2007-02    1\n",
       "2009-02    1\n",
       "2010-11    7\n",
       "2011-05    4\n",
       "2014-07    1\n",
       "2017-03    2\n",
       "Name: open_month, dtype: int64"
      ]
     },
     "execution_count": 44,
     "metadata": {},
     "output_type": "execute_result"
    }
   ],
   "source": [
    "portfolio_res[portfolio_res['ftp'].isnull()]['open_month'].value_counts().sort_index()"
   ]
  },
  {
   "cell_type": "markdown",
   "id": "8eb60ad6-ead3-4671-b03d-59496ac84480",
   "metadata": {},
   "source": [
    "формула для пролонгаций = дата открытия + срочность * число пролонгаций - это фактическая open_dt   \n",
    "\n",
    "Можно подойти через плановая дата закрытия - срочность  "
   ]
  },
  {
   "cell_type": "code",
   "execution_count": 45,
   "id": "b4499b31-2586-4252-bc82-47743fe8d1c5",
   "metadata": {},
   "outputs": [],
   "source": [
    "d = {'2023-01': [3], \n",
    "     '2023-02': [3], \n",
    "     '2023-03': [4], \n",
    "     '2023-04': [4], \n",
    "     '2023-05': [4], \n",
    "     '2023-06': [4.5],\n",
    "     '2023-07': [4.5]}"
   ]
  },
  {
   "cell_type": "code",
   "execution_count": 46,
   "id": "51ac09ca-352a-491d-86ae-93af65a41c23",
   "metadata": {},
   "outputs": [],
   "source": [
    "FOR = pd.DataFrame(data=d, index=None).T"
   ]
  },
  {
   "cell_type": "code",
   "execution_count": 47,
   "id": "945a6bfd-159b-47ef-8eed-980ada03cd7c",
   "metadata": {},
   "outputs": [],
   "source": [
    "FOR = FOR.reset_index().rename(columns={'index': 'report_month', 0: 'FOR'})"
   ]
  },
  {
   "cell_type": "code",
   "execution_count": 48,
   "id": "a7f93eba-b7e4-42f3-856f-e88b9e57bf16",
   "metadata": {},
   "outputs": [],
   "source": [
    "portfolio_res = portfolio_res.merge(FOR, on='report_month', how='left')"
   ]
  },
  {
   "cell_type": "code",
   "execution_count": 49,
   "id": "19b6a0ca-c7e9-4411-9900-b81fbc634160",
   "metadata": {},
   "outputs": [],
   "source": [
    "portfolio_res['SSV'] = 0.48"
   ]
  },
  {
   "cell_type": "markdown",
   "id": "8bebe8dc-dfe9-449d-85f3-1144d08d2759",
   "metadata": {},
   "source": [
    "### Найдем взвешанные FTP ставки "
   ]
  },
  {
   "cell_type": "code",
   "execution_count": 50,
   "id": "f390d713-d40e-456f-8afd-870e12731bd1",
   "metadata": {},
   "outputs": [],
   "source": [
    "portfolio_res['balance_x_ftp'] = portfolio_res['balance'] * portfolio_res['ftp']"
   ]
  },
  {
   "cell_type": "code",
   "execution_count": 51,
   "id": "35ed3392-8584-4ca4-8e18-8bb999897816",
   "metadata": {},
   "outputs": [
    {
     "data": {
      "text/html": [
       "<div>\n",
       "<style scoped>\n",
       "    .dataframe tbody tr th:only-of-type {\n",
       "        vertical-align: middle;\n",
       "    }\n",
       "\n",
       "    .dataframe tbody tr th {\n",
       "        vertical-align: top;\n",
       "    }\n",
       "\n",
       "    .dataframe thead th {\n",
       "        text-align: right;\n",
       "    }\n",
       "</style>\n",
       "<table border=\"1\" class=\"dataframe\">\n",
       "  <thead>\n",
       "    <tr style=\"text-align: right;\">\n",
       "      <th></th>\n",
       "      <th>0</th>\n",
       "      <th>1</th>\n",
       "      <th>2</th>\n",
       "      <th>3</th>\n",
       "      <th>4</th>\n",
       "      <th>5</th>\n",
       "      <th>6</th>\n",
       "    </tr>\n",
       "  </thead>\n",
       "  <tbody>\n",
       "    <tr>\n",
       "      <th>report_month</th>\n",
       "      <td>2023-01</td>\n",
       "      <td>2023-02</td>\n",
       "      <td>2023-03</td>\n",
       "      <td>2023-04</td>\n",
       "      <td>2023-05</td>\n",
       "      <td>2023-06</td>\n",
       "      <td>2023-07</td>\n",
       "    </tr>\n",
       "    <tr>\n",
       "      <th>0</th>\n",
       "      <td>9.06779</td>\n",
       "      <td>8.952411</td>\n",
       "      <td>8.961927</td>\n",
       "      <td>8.704633</td>\n",
       "      <td>8.5601</td>\n",
       "      <td>8.576667</td>\n",
       "      <td>8.579139</td>\n",
       "    </tr>\n",
       "  </tbody>\n",
       "</table>\n",
       "</div>"
      ],
      "text/plain": [
       "                    0         1         2         3        4         5  \\\n",
       "report_month  2023-01   2023-02   2023-03   2023-04  2023-05   2023-06   \n",
       "0             9.06779  8.952411  8.961927  8.704633   8.5601  8.576667   \n",
       "\n",
       "                     6  \n",
       "report_month   2023-07  \n",
       "0             8.579139  "
      ]
     },
     "execution_count": 51,
     "metadata": {},
     "output_type": "execute_result"
    }
   ],
   "source": [
    "(portfolio_res.groupby('report_month').sum()['balance_x_ftp'] / portfolio_res.groupby('report_month').sum()['balance']).reset_index().T"
   ]
  },
  {
   "cell_type": "code",
   "execution_count": 52,
   "id": "1c9b4f53-1704-4b40-ace9-ced50a0c53b6",
   "metadata": {},
   "outputs": [
    {
     "data": {
      "text/plain": [
       "report_month\n",
       "2023-01    2.950907e+12\n",
       "2023-02    3.000243e+12\n",
       "2023-03    3.044367e+12\n",
       "2023-04    3.077628e+12\n",
       "2023-05    3.131640e+12\n",
       "2023-06    3.148000e+12\n",
       "2023-07    2.990741e+12\n",
       "Name: balance, dtype: float64"
      ]
     },
     "execution_count": 52,
     "metadata": {},
     "output_type": "execute_result"
    }
   ],
   "source": [
    "portfolio_res.groupby('report_month').sum()['balance']"
   ]
  },
  {
   "cell_type": "markdown",
   "id": "7ce9c81b-bc4f-4c42-8b95-21be73eb8c1a",
   "metadata": {},
   "source": [
    "## Сравним FTP для оттоков "
   ]
  },
  {
   "cell_type": "code",
   "execution_count": 53,
   "id": "f0264b01-7a7a-4593-a54b-9f2b790b5ddb",
   "metadata": {},
   "outputs": [],
   "source": [
    "portfolo_res3 = portfolio_res.copy()"
   ]
  },
  {
   "cell_type": "code",
   "execution_count": 54,
   "id": "ae5a8581-51db-4eb7-b6c6-499a97cd0eea",
   "metadata": {},
   "outputs": [],
   "source": [
    "portfolo_res3['balance'] = portfolo_res3['balance'] - port_res['SER_d_cl']"
   ]
  },
  {
   "cell_type": "code",
   "execution_count": 55,
   "id": "80676dcf-5bf8-422f-93b2-fd48a93e85f4",
   "metadata": {},
   "outputs": [],
   "source": [
    "portfolo_res3['balance_x_ftp'] = portfolo_res3['balance'] * portfolo_res3['ftp']"
   ]
  },
  {
   "cell_type": "code",
   "execution_count": 56,
   "id": "1fe8a86f-56f2-4898-a795-8580733a7834",
   "metadata": {},
   "outputs": [
    {
     "data": {
      "text/html": [
       "<div>\n",
       "<style scoped>\n",
       "    .dataframe tbody tr th:only-of-type {\n",
       "        vertical-align: middle;\n",
       "    }\n",
       "\n",
       "    .dataframe tbody tr th {\n",
       "        vertical-align: top;\n",
       "    }\n",
       "\n",
       "    .dataframe thead th {\n",
       "        text-align: right;\n",
       "    }\n",
       "</style>\n",
       "<table border=\"1\" class=\"dataframe\">\n",
       "  <thead>\n",
       "    <tr style=\"text-align: right;\">\n",
       "      <th></th>\n",
       "      <th>0</th>\n",
       "      <th>1</th>\n",
       "      <th>2</th>\n",
       "      <th>3</th>\n",
       "      <th>4</th>\n",
       "      <th>5</th>\n",
       "      <th>6</th>\n",
       "    </tr>\n",
       "  </thead>\n",
       "  <tbody>\n",
       "    <tr>\n",
       "      <th>report_month</th>\n",
       "      <td>2023-01</td>\n",
       "      <td>2023-02</td>\n",
       "      <td>2023-03</td>\n",
       "      <td>2023-04</td>\n",
       "      <td>2023-05</td>\n",
       "      <td>2023-06</td>\n",
       "      <td>2023-07</td>\n",
       "    </tr>\n",
       "    <tr>\n",
       "      <th>0</th>\n",
       "      <td>9.11807</td>\n",
       "      <td>8.943081</td>\n",
       "      <td>9.0974</td>\n",
       "      <td>8.716419</td>\n",
       "      <td>8.570128</td>\n",
       "      <td>8.589512</td>\n",
       "      <td>8.574114</td>\n",
       "    </tr>\n",
       "  </tbody>\n",
       "</table>\n",
       "</div>"
      ],
      "text/plain": [
       "                    0         1        2         3         4         5  \\\n",
       "report_month  2023-01   2023-02  2023-03   2023-04   2023-05   2023-06   \n",
       "0             9.11807  8.943081   9.0974  8.716419  8.570128  8.589512   \n",
       "\n",
       "                     6  \n",
       "report_month   2023-07  \n",
       "0             8.574114  "
      ]
     },
     "execution_count": 56,
     "metadata": {},
     "output_type": "execute_result"
    }
   ],
   "source": [
    "(portfolo_res3.groupby('report_month').sum()['balance_x_ftp'] / portfolo_res3.groupby('report_month').sum()['balance']).reset_index().T"
   ]
  },
  {
   "cell_type": "markdown",
   "id": "a1c1aa23-5750-46d0-9ee3-9130e00a62ad",
   "metadata": {},
   "source": [
    "### Найдем взвешанные ставки по депозитам"
   ]
  },
  {
   "cell_type": "code",
   "execution_count": 57,
   "id": "3faa4c9e-e5ed-4ac7-8cfc-28cf498551a5",
   "metadata": {},
   "outputs": [],
   "source": [
    "portfolio_res['balance_x_weight_rate'] = portfolio_res['balance'] * portfolio_res['weight_rate']"
   ]
  },
  {
   "cell_type": "code",
   "execution_count": 58,
   "id": "31c7a528-05e1-4450-bb3d-e79d7af19026",
   "metadata": {},
   "outputs": [
    {
     "data": {
      "text/html": [
       "<div>\n",
       "<style scoped>\n",
       "    .dataframe tbody tr th:only-of-type {\n",
       "        vertical-align: middle;\n",
       "    }\n",
       "\n",
       "    .dataframe tbody tr th {\n",
       "        vertical-align: top;\n",
       "    }\n",
       "\n",
       "    .dataframe thead th {\n",
       "        text-align: right;\n",
       "    }\n",
       "</style>\n",
       "<table border=\"1\" class=\"dataframe\">\n",
       "  <thead>\n",
       "    <tr style=\"text-align: right;\">\n",
       "      <th></th>\n",
       "      <th>0</th>\n",
       "      <th>1</th>\n",
       "      <th>2</th>\n",
       "      <th>3</th>\n",
       "      <th>4</th>\n",
       "      <th>5</th>\n",
       "      <th>6</th>\n",
       "    </tr>\n",
       "  </thead>\n",
       "  <tbody>\n",
       "    <tr>\n",
       "      <th>report_month</th>\n",
       "      <td>2023-01</td>\n",
       "      <td>2023-02</td>\n",
       "      <td>2023-03</td>\n",
       "      <td>2023-04</td>\n",
       "      <td>2023-05</td>\n",
       "      <td>2023-06</td>\n",
       "      <td>2023-07</td>\n",
       "    </tr>\n",
       "    <tr>\n",
       "      <th>0</th>\n",
       "      <td>7.459766</td>\n",
       "      <td>7.285003</td>\n",
       "      <td>7.340237</td>\n",
       "      <td>7.279567</td>\n",
       "      <td>7.231137</td>\n",
       "      <td>7.235336</td>\n",
       "      <td>7.210445</td>\n",
       "    </tr>\n",
       "  </tbody>\n",
       "</table>\n",
       "</div>"
      ],
      "text/plain": [
       "                     0         1         2         3         4         5  \\\n",
       "report_month   2023-01   2023-02   2023-03   2023-04   2023-05   2023-06   \n",
       "0             7.459766  7.285003  7.340237  7.279567  7.231137  7.235336   \n",
       "\n",
       "                     6  \n",
       "report_month   2023-07  \n",
       "0             7.210445  "
      ]
     },
     "execution_count": 58,
     "metadata": {},
     "output_type": "execute_result"
    }
   ],
   "source": [
    "(portfolio_res.groupby('report_month').sum()['balance_x_weight_rate'] / portfolio_res.groupby('report_month').sum()['balance']).reset_index().T"
   ]
  },
  {
   "cell_type": "markdown",
   "id": "13a08b9b-6a2e-49e1-8635-20a02fbe3538",
   "metadata": {},
   "source": [
    "## Взвешанные ставки с учетом оттоков"
   ]
  },
  {
   "cell_type": "code",
   "execution_count": 59,
   "id": "81152711-4b5a-4105-a7c9-58976ddc7445",
   "metadata": {},
   "outputs": [],
   "source": [
    "portfolo_res3['balance_x_weight_rate'] = portfolo_res3['balance'] * portfolo_res3['weight_rate']"
   ]
  },
  {
   "cell_type": "code",
   "execution_count": 60,
   "id": "1d61c7cf-a265-4da2-8e62-72b0b01da558",
   "metadata": {},
   "outputs": [
    {
     "data": {
      "text/html": [
       "<div>\n",
       "<style scoped>\n",
       "    .dataframe tbody tr th:only-of-type {\n",
       "        vertical-align: middle;\n",
       "    }\n",
       "\n",
       "    .dataframe tbody tr th {\n",
       "        vertical-align: top;\n",
       "    }\n",
       "\n",
       "    .dataframe thead th {\n",
       "        text-align: right;\n",
       "    }\n",
       "</style>\n",
       "<table border=\"1\" class=\"dataframe\">\n",
       "  <thead>\n",
       "    <tr style=\"text-align: right;\">\n",
       "      <th></th>\n",
       "      <th>0</th>\n",
       "      <th>1</th>\n",
       "      <th>2</th>\n",
       "      <th>3</th>\n",
       "      <th>4</th>\n",
       "      <th>5</th>\n",
       "      <th>6</th>\n",
       "    </tr>\n",
       "  </thead>\n",
       "  <tbody>\n",
       "    <tr>\n",
       "      <th>report_month</th>\n",
       "      <td>2023-01</td>\n",
       "      <td>2023-02</td>\n",
       "      <td>2023-03</td>\n",
       "      <td>2023-04</td>\n",
       "      <td>2023-05</td>\n",
       "      <td>2023-06</td>\n",
       "      <td>2023-07</td>\n",
       "    </tr>\n",
       "    <tr>\n",
       "      <th>0</th>\n",
       "      <td>7.488949</td>\n",
       "      <td>7.302237</td>\n",
       "      <td>7.393401</td>\n",
       "      <td>7.295637</td>\n",
       "      <td>7.259178</td>\n",
       "      <td>7.254725</td>\n",
       "      <td>7.211382</td>\n",
       "    </tr>\n",
       "  </tbody>\n",
       "</table>\n",
       "</div>"
      ],
      "text/plain": [
       "                     0         1         2         3         4         5  \\\n",
       "report_month   2023-01   2023-02   2023-03   2023-04   2023-05   2023-06   \n",
       "0             7.488949  7.302237  7.393401  7.295637  7.259178  7.254725   \n",
       "\n",
       "                     6  \n",
       "report_month   2023-07  \n",
       "0             7.211382  "
      ]
     },
     "execution_count": 60,
     "metadata": {},
     "output_type": "execute_result"
    }
   ],
   "source": [
    "(portfolo_res3.groupby('report_month').sum()['balance_x_weight_rate'] / portfolo_res3.groupby('report_month').sum()['balance']).reset_index().T"
   ]
  },
  {
   "cell_type": "markdown",
   "id": "12da7f60-877a-42ea-80c8-05b2d18c501b",
   "metadata": {},
   "source": [
    "### Вычтем FOR и SSV и перейдем к расчетам"
   ]
  },
  {
   "cell_type": "code",
   "execution_count": 61,
   "id": "cd46dc3b-24ab-47e2-abd6-d3aef6258e3b",
   "metadata": {},
   "outputs": [],
   "source": [
    "portfolio_res['ftp'] = portfolio_res['ftp'] * (1 - portfolio_res['FOR']/100) - portfolio_res['SSV']"
   ]
  },
  {
   "cell_type": "markdown",
   "id": "ece5f95f-9c3e-435b-ae5a-9df461b58a76",
   "metadata": {},
   "source": [
    "### Расчет ЧПД"
   ]
  },
  {
   "cell_type": "code",
   "execution_count": 62,
   "id": "50595627-e1d4-4cf7-98db-0ff71b1914ee",
   "metadata": {},
   "outputs": [],
   "source": [
    "portfolio_res['margin_year'] = portfolio_res['ftp'] - portfolio_res['weight_rate']"
   ]
  },
  {
   "cell_type": "code",
   "execution_count": 63,
   "id": "f6608b47-4bbc-4196-88ca-9aa20958e127",
   "metadata": {},
   "outputs": [
    {
     "data": {
      "text/plain": [
       "3.7649811342871016e-07"
      ]
     },
     "execution_count": 63,
     "metadata": {},
     "output_type": "execute_result"
    }
   ],
   "source": [
    "portfolio_res[portfolio_res['margin_year'].isnull()]['balance'].sum() / portfolio_res['balance'].sum()"
   ]
  },
  {
   "cell_type": "code",
   "execution_count": 64,
   "id": "6c193823-cd9b-46be-9e90-ac906dc85585",
   "metadata": {},
   "outputs": [
    {
     "data": {
      "text/plain": [
       "report_month\n",
       "2023-01    4.322952\n",
       "2023-02    4.275824\n",
       "2023-03    3.924336\n",
       "2023-04    3.695995\n",
       "2023-05    3.592223\n",
       "2023-06    3.686777\n",
       "2023-07    3.743985\n",
       "Name: margin_year, dtype: float64"
      ]
     },
     "execution_count": 64,
     "metadata": {},
     "output_type": "execute_result"
    }
   ],
   "source": [
    "portfolio_res.groupby('report_month').mean()['margin_year']"
   ]
  },
  {
   "cell_type": "code",
   "execution_count": 65,
   "id": "ecdae69e-5d49-434e-b920-dc347748834f",
   "metadata": {},
   "outputs": [
    {
     "data": {
      "text/plain": [
       "0        0.160407\n",
       "1        0.160100\n",
       "2        0.280000\n",
       "3        0.280000\n",
       "4        0.840485\n",
       "           ...   \n",
       "63789    7.675250\n",
       "63790    7.675250\n",
       "63791    7.675250\n",
       "63792    8.559762\n",
       "63793    7.150000\n",
       "Name: margin_year, Length: 63794, dtype: float64"
      ]
     },
     "execution_count": 65,
     "metadata": {},
     "output_type": "execute_result"
    }
   ],
   "source": [
    "portfolio_res['margin_year']"
   ]
  },
  {
   "cell_type": "code",
   "execution_count": 66,
   "id": "8d08be77-6fed-481a-b749-dd3f133951ff",
   "metadata": {},
   "outputs": [],
   "source": [
    "portfolio_res['margin_month'] = (1+(portfolio_res['margin_year']/100))**(1/12) - 1"
   ]
  },
  {
   "cell_type": "code",
   "execution_count": 67,
   "id": "b9b9900a-144f-4084-b338-68d1275ea103",
   "metadata": {},
   "outputs": [
    {
     "data": {
      "text/plain": [
       "0        0.000134\n",
       "1        0.000133\n",
       "2        0.000233\n",
       "3        0.000233\n",
       "4        0.000698\n",
       "           ...   \n",
       "63789    0.006181\n",
       "63790    0.006181\n",
       "63791    0.006181\n",
       "63792    0.006868\n",
       "63793    0.005772\n",
       "Name: margin_month, Length: 63794, dtype: float64"
      ]
     },
     "execution_count": 67,
     "metadata": {},
     "output_type": "execute_result"
    }
   ],
   "source": [
    "portfolio_res['margin_month']"
   ]
  },
  {
   "cell_type": "code",
   "execution_count": 68,
   "id": "e14f048b-5e14-42d7-822f-d177051f8978",
   "metadata": {},
   "outputs": [
    {
     "data": {
      "text/plain": [
       "0        0.160407\n",
       "1        0.160100\n",
       "2        0.280000\n",
       "3        0.280000\n",
       "4        0.840485\n",
       "           ...   \n",
       "63789    7.675250\n",
       "63790    7.675250\n",
       "63791    7.675250\n",
       "63792    8.559762\n",
       "63793    7.150000\n",
       "Name: margin_year, Length: 63794, dtype: float64"
      ]
     },
     "execution_count": 68,
     "metadata": {},
     "output_type": "execute_result"
    }
   ],
   "source": [
    "portfolio_res['margin_year']"
   ]
  },
  {
   "cell_type": "code",
   "execution_count": 69,
   "id": "ec8cc7f5-183b-4eee-aaee-4b7b4a166c96",
   "metadata": {},
   "outputs": [],
   "source": [
    "portfolio_res['margin_day'] = (portfolio_res['margin_year']/100)*(1/365)"
   ]
  },
  {
   "cell_type": "code",
   "execution_count": 70,
   "id": "572bdada-c77d-4f92-ba29-5414c6a8e8b1",
   "metadata": {},
   "outputs": [
    {
     "data": {
      "text/plain": [
       "31"
      ]
     },
     "execution_count": 70,
     "metadata": {},
     "output_type": "execute_result"
    }
   ],
   "source": [
    "int(portfolio_res['report_dt'].astype(str).iloc[1][-2:])"
   ]
  },
  {
   "cell_type": "code",
   "execution_count": 71,
   "id": "2020220e-14d8-4e46-989b-295811288a8e",
   "metadata": {},
   "outputs": [],
   "source": [
    "portfolio_res['report_dt_days'] = portfolio_res['report_dt'].apply(lambda x: (x.day))"
   ]
  },
  {
   "cell_type": "code",
   "execution_count": 72,
   "id": "bb242d5e-f4d9-4ede-8a4b-6bc2c6b8d85f",
   "metadata": {},
   "outputs": [],
   "source": [
    "portfolio_res['margin_value'] = portfolio_res['balance'] * portfolio_res['margin_day'] * portfolio_res['report_dt_days']"
   ]
  },
  {
   "cell_type": "code",
   "execution_count": 73,
   "id": "4a6d1566-1bfd-471e-801c-a9b838e59ac9",
   "metadata": {},
   "outputs": [],
   "source": [
    "portfolio_res['margin_value'] = portfolio_res['balance'] * portfolio_res['margin_month'] #* portfolio_res['report_dt_days']"
   ]
  },
  {
   "cell_type": "code",
   "execution_count": 74,
   "id": "b946ce45-4db7-446b-8967-96cecdecab37",
   "metadata": {},
   "outputs": [],
   "source": [
    "#portfolio_res['margin_value'] = (portfolio_res['balance'] - portfolio_res['SER_d_cl']) * portfolio_res['margin_month']"
   ]
  },
  {
   "cell_type": "markdown",
   "id": "51ab9337-b321-4833-a71a-98062072c865",
   "metadata": {},
   "source": [
    "## Идея - при досрочном отзыве не откатываются проценты по депозитам части клиентов"
   ]
  },
  {
   "cell_type": "code",
   "execution_count": 75,
   "id": "673b46b6-4115-4716-9def-f9e9a1e124ff",
   "metadata": {},
   "outputs": [
    {
     "data": {
      "text/html": [
       "<div>\n",
       "<style scoped>\n",
       "    .dataframe tbody tr th:only-of-type {\n",
       "        vertical-align: middle;\n",
       "    }\n",
       "\n",
       "    .dataframe tbody tr th {\n",
       "        vertical-align: top;\n",
       "    }\n",
       "\n",
       "    .dataframe thead th {\n",
       "        text-align: right;\n",
       "    }\n",
       "</style>\n",
       "<table border=\"1\" class=\"dataframe\">\n",
       "  <thead>\n",
       "    <tr style=\"text-align: right;\">\n",
       "      <th></th>\n",
       "      <th>0</th>\n",
       "      <th>1</th>\n",
       "      <th>2</th>\n",
       "      <th>3</th>\n",
       "      <th>4</th>\n",
       "      <th>5</th>\n",
       "      <th>6</th>\n",
       "    </tr>\n",
       "  </thead>\n",
       "  <tbody>\n",
       "    <tr>\n",
       "      <th>report_dt</th>\n",
       "      <td>2023-01-31 00:00:00</td>\n",
       "      <td>2023-02-28 00:00:00</td>\n",
       "      <td>2023-03-31 00:00:00</td>\n",
       "      <td>2023-04-30 00:00:00</td>\n",
       "      <td>2023-05-31 00:00:00</td>\n",
       "      <td>2023-06-30 00:00:00</td>\n",
       "      <td>2023-07-31 00:00:00</td>\n",
       "    </tr>\n",
       "    <tr>\n",
       "      <th>margin_value</th>\n",
       "      <td>2067905840.138926</td>\n",
       "      <td>2255681059.577069</td>\n",
       "      <td>1951548682.826265</td>\n",
       "      <td>1514047837.936218</td>\n",
       "      <td>1310268092.394586</td>\n",
       "      <td>1234291028.186403</td>\n",
       "      <td>1239651289.083116</td>\n",
       "    </tr>\n",
       "  </tbody>\n",
       "</table>\n",
       "</div>"
      ],
      "text/plain": [
       "                                0                    1                    2  \\\n",
       "report_dt     2023-01-31 00:00:00  2023-02-28 00:00:00  2023-03-31 00:00:00   \n",
       "margin_value    2067905840.138926    2255681059.577069    1951548682.826265   \n",
       "\n",
       "                                3                    4                    5  \\\n",
       "report_dt     2023-04-30 00:00:00  2023-05-31 00:00:00  2023-06-30 00:00:00   \n",
       "margin_value    1514047837.936218    1310268092.394586    1234291028.186403   \n",
       "\n",
       "                                6  \n",
       "report_dt     2023-07-31 00:00:00  \n",
       "margin_value    1239651289.083116  "
      ]
     },
     "execution_count": 75,
     "metadata": {},
     "output_type": "execute_result"
    }
   ],
   "source": [
    "portfolio_res.groupby('report_dt').sum()['margin_value'].reset_index().T"
   ]
  },
  {
   "cell_type": "code",
   "execution_count": 76,
   "id": "0e7f0e14-ce4b-4651-b663-8a63395e9dd8",
   "metadata": {},
   "outputs": [
    {
     "data": {
      "text/plain": [
       "report_dt\n",
       "2023-01-31    0.700770\n",
       "2023-02-28    0.751833\n",
       "2023-03-31    0.641036\n",
       "2023-04-30    0.491953\n",
       "2023-05-31    0.418397\n",
       "2023-06-30    0.392087\n",
       "2023-07-31    0.414496\n",
       "dtype: float64"
      ]
     },
     "execution_count": 76,
     "metadata": {},
     "output_type": "execute_result"
    }
   ],
   "source": [
    "(portfolio_res.groupby('report_dt').sum()['margin_value'] / portfolio_res.groupby('report_dt').sum()['balance'])*100*10"
   ]
  },
  {
   "cell_type": "code",
   "execution_count": 77,
   "id": "c998bb4b-c15d-43c4-ac55-72c4020f9eb1",
   "metadata": {},
   "outputs": [],
   "source": [
    "import seaborn as sns"
   ]
  },
  {
   "cell_type": "code",
   "execution_count": 78,
   "id": "2cfde93e-eb2e-48ee-be37-7b5f8e0fc32f",
   "metadata": {},
   "outputs": [
    {
     "data": {
      "text/plain": [
       "<AxesSubplot:xlabel='margin_month', ylabel='Density'>"
      ]
     },
     "execution_count": 78,
     "metadata": {},
     "output_type": "execute_result"
    },
    {
     "data": {
      "image/png": "[encoded data removed]",
      "text/plain": [
       "<Figure size 640x480 with 1 Axes>"
      ]
     },
     "metadata": {},
     "output_type": "display_data"
    }
   ],
   "source": [
    "sns.distplot(portfolio_res['margin_month']*100)"
   ]
  },
  {
   "cell_type": "code",
   "execution_count": 79,
   "id": "24cd0da3-f034-406d-af55-34cf891636b3",
   "metadata": {},
   "outputs": [
    {
     "data": {
      "text/plain": [
       "<AxesSubplot:xlabel='margin_month', ylabel='Density'>"
      ]
     },
     "execution_count": 79,
     "metadata": {},
     "output_type": "execute_result"
    },
    {
     "data": {
      "image/png": "[encoded data removed]",
      "text/plain": [
       "<Figure size 640x480 with 1 Axes>"
      ]
     },
     "metadata": {},
     "output_type": "display_data"
    }
   ],
   "source": [
    "sns.distplot(portfolio_res['margin_month']*100)"
   ]
  },
  {
   "cell_type": "markdown",
   "id": "57ad3ef0-ccad-4a78-ac3f-24e3038367ac",
   "metadata": {},
   "source": []
  },
  {
   "cell_type": "code",
   "execution_count": null,
   "id": "ee5b7475-6605-4196-b928-5aa64848d61a",
   "metadata": {},
   "outputs": [],
   "source": []
  },
  {
   "cell_type": "code",
   "execution_count": null,
   "id": "8e320e8a-3737-490f-b8da-f166161d86ec",
   "metadata": {},
   "outputs": [],
   "source": []
  }
 ],
 "metadata": {
  "kernelspec": {
   "display_name": "hmelevskoi_env",
   "language": "python",
   "name": "hmelevskoi_env"
  },
  "language_info": {
   "codemirror_mode": {
    "name": "ipython",
    "version": 3
   },
   "file_extension": ".py",
   "mimetype": "text/x-python",
   "name": "python",
   "nbconvert_exporter": "python",
   "pygments_lexer": "ipython3",
   "version": "3.7.16"
  }
 },
 "nbformat": 4,
 "nbformat_minor": 5
}
