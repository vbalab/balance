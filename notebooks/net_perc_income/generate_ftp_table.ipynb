{
 "cells": [
  {
   "cell_type": "code",
   "execution_count": null,
   "id": "a64ec341-9ec8-4ba2-b1c9-a903ffee2b5b",
   "metadata": {},
   "outputs": [],
   "source": [
    "#!pip install scikit-learn --force\n",
    "#!pip install catboost"
   ]
  },
  {
   "cell_type": "code",
   "execution_count": 1,
   "id": "532f9d68-b0fc-4a7b-b166-b60981a74909",
   "metadata": {},
   "outputs": [],
   "source": [
    "import sys\n",
    "sys.path.append('../..')\n",
    "import pandas as pd\n",
    "import numpy as np\n",
    "from pandas.tseries.offsets import MonthEnd\n",
    "from datetime import datetime\n",
    "import os\n",
    "import importlib\n",
    "\n",
    "pd.set_option('display.max.columns', 300)\n",
    "\n",
    "from core.calculator.storage import ModelDB\n",
    "from core.calculator.core import ForecastConfig\n",
    "from core.calculator.core import TrainingManager\n",
    "from core.calculator.core import ForecastConfig\n",
    "from core.calculator.core import ForecastEngine\n",
    "\n",
    "# from core.calculator.deposits import DepositsCalculationType\n",
    "# from core.calculator.deposits import DepositIterativeCalculator\n",
    "\n",
    "from core.definitions import *\n",
    "# from core.project_update import load_portfolio\n",
    "\n",
    "# from core.models import DepositModels\n",
    "from warnings import filterwarnings\n",
    "filterwarnings('ignore')"
   ]
  },
  {
   "cell_type": "code",
   "execution_count": 2,
   "id": "355543ef-240d-4e09-8d1f-f377ced1575e",
   "metadata": {},
   "outputs": [
    {
     "name": "stderr",
     "output_type": "stream",
     "text": [
      "Setting default log level to \"WARN\".\n",
      "To adjust logging level use sc.setLogLevel(newLevel). For SparkR, use setLogLevel(newLevel).\n",
      "23/10/17 13:44:34 WARN ipc.Client: Exception encountered while connecting to the server : org.apache.hadoop.ipc.RemoteException(org.apache.hadoop.ipc.StandbyException): Operation category READ is not supported in state standby. Visit https://s.apache.org/sbnn-error\n",
      "23/10/17 13:44:35 WARN ipc.Client: Exception encountered while connecting to the server : org.apache.hadoop.ipc.RemoteException(org.apache.hadoop.ipc.StandbyException): Operation category READ is not supported in state standby. Visit https://s.apache.org/sbnn-error\n",
      "23/10/17 13:44:47 WARN yarn.Client: Same path resource file:///opt/cloudera/parcels/AnacondaPy37/jars/spark-tree-plotting-0.2.jar added multiple times to distributed cache.\n",
      "23/10/17 13:44:59 WARN ipc.Client: Exception encountered while connecting to the server : org.apache.hadoop.ipc.RemoteException(org.apache.hadoop.ipc.StandbyException): Operation category READ is not supported in state standby. Visit https://s.apache.org/sbnn-error\n",
      "23/10/17 13:45:00 WARN cluster.YarnSchedulerBackend$YarnSchedulerEndpoint: Attempted to request executors before the AM has registered!\n"
     ]
    }
   ],
   "source": [
    "from core.models.utils import run_spark_session\n",
    "spark = run_spark_session('create_ftp_t1')"
   ]
  },
  {
   "cell_type": "markdown",
   "id": "03afbdb4-4a01-4c24-8172-b8d3dec2a3d0",
   "metadata": {},
   "source": [
    "## Создание таблички\n",
    "Сначал заджойним и уберем пропуски у фтп ставок, затем приджойним запущенное к основной таблице\n",
    "\n",
    "пропуски можно будетт убрать методом bfill"
   ]
  },
  {
   "cell_type": "code",
   "execution_count": null,
   "id": "8e320e8a-3737-490f-b8da-f166161d86ec",
   "metadata": {},
   "outputs": [],
   "source": [
    "query = \"\"\"\n",
    "with calendar_dates \n",
    "\n",
    "as \n",
    "(\n",
    "select report_date from dadm_alm_sbx.t_enhanced_calendar\n",
    "where report_date >= '2005-01-01'\n",
    "and report_date <= '2023-09-11'\n",
    ")\n",
    "\n",
    "\n",
    "SELECT \n",
    "calendar_dates.report_date,\n",
    "ftp.`vtb_[1095d]_ftp_rate`,\n",
    "ftp.`vtb_[180d]_ftp_rate`,\n",
    "ftp.`vtb_[365d]_ftp_rate`,\n",
    "ftp.`vtb_[548d]_ftp_rate`,\n",
    "ftp.`vtb_[730d]_ftp_rate`,\n",
    "ftp.`vtb_[90d]_ftp_rate`\n",
    "\n",
    "FROM calendar_dates\n",
    "\n",
    "left join dadm_alm_sbx.vtb_ftp_rates ftp\n",
    "on calendar_dates.report_date = ftp.report_date\n",
    "ORDER BY report_date \n",
    "\"\"\""
   ]
  },
  {
   "cell_type": "code",
   "execution_count": null,
   "id": "52222ad2-8ab8-4fc2-ba7a-6eada4d8a851",
   "metadata": {},
   "outputs": [],
   "source": [
    "df = spark.sql(query)"
   ]
  },
  {
   "cell_type": "code",
   "execution_count": null,
   "id": "25533300-82f3-412e-a151-732993983f2e",
   "metadata": {},
   "outputs": [],
   "source": [
    "pd_df = df.toPandas()"
   ]
  },
  {
   "cell_type": "code",
   "execution_count": null,
   "id": "65b10f0e-651d-40f9-92de-85614508b6e9",
   "metadata": {},
   "outputs": [],
   "source": [
    "pd_df = pd_df.sort_values(by='report_date', ascending=False).fillna(method='bfill')"
   ]
  },
  {
   "cell_type": "code",
   "execution_count": null,
   "id": "deb7cd52-bf0e-4a5f-9c25-1cc5e8e37b29",
   "metadata": {},
   "outputs": [],
   "source": [
    "sparkDF = spark.createDataFrame(pd_df)"
   ]
  },
  {
   "cell_type": "code",
   "execution_count": null,
   "id": "705f4ae1-05fd-4d6c-bab0-45ae8f071998",
   "metadata": {},
   "outputs": [],
   "source": [
    "#sparkDF.write.mode('overwrite').saveAsTable('dadm_alm_sbx.vtb_ftp_rates_full')"
   ]
  },
  {
   "cell_type": "code",
   "execution_count": null,
   "id": "bcf02573-2528-4537-b6db-3f952c6b5d3b",
   "metadata": {},
   "outputs": [],
   "source": [
    "spark.catalog.refreshTable('dadm_alm_sbx.vtb_ftp_rates_full')"
   ]
  },
  {
   "cell_type": "code",
   "execution_count": null,
   "id": "aeebdc30-ac46-4593-9dff-a21227e6b04f",
   "metadata": {},
   "outputs": [],
   "source": [
    "query2 = \"\"\"\n",
    "--agreement_balance_amt - целевая переменная\n",
    "\n",
    "with joined_table as\n",
    "(\n",
    "\n",
    "\n",
    "with filtered_table as\n",
    "\n",
    "(\n",
    "select *,\n",
    "case \n",
    "when datediff(open_dt, last_renewal_dt)>10 and close_plan_dt< '2030-01-01' then date_add(close_plan_dt, -weighted_plan_period)\n",
    "else open_dt\n",
    "end\n",
    "as open_dt_correct\n",
    "\n",
    "from prod_dadm_alm_sbx.almde_fl_dpst_rate_bal_strt2010\n",
    "where report_dt>='2023-01-01'\n",
    "and report_dt<='2023-01-31'\n",
    "and currency_rk='rur'\n",
    "and category_full like '%dep%'\n",
    "and close_fact_dt >= report_dt\n",
    "and open_dt <= report_dt)\n",
    "\n",
    "\n",
    "select *,\n",
    "case \n",
    "when abs(1095-weighted_plan_period)<25 then `vtb_[1095d]_ftp_rate`\n",
    "when abs(180-weighted_plan_period)<25 then `vtb_[180d]_ftp_rate`\n",
    "when abs(365-weighted_plan_period)<25 then `vtb_[365d]_ftp_rate`\n",
    "when abs(548-weighted_plan_period)<25 then `vtb_[548d]_ftp_rate`\n",
    "when abs(730-weighted_plan_period)<25 then `vtb_[730d]_ftp_rate`\n",
    "when abs(90-weighted_plan_period)<25 then `vtb_[90d]_ftp_rate`\n",
    "end\n",
    "as ftp\n",
    "from filtered_table\n",
    "left join dadm_alm_sbx.vtb_ftp_rates_full as ftp\n",
    "on filtered_table.open_dt_correct = ftp.report_date\n",
    ")\n",
    "\n",
    "\n",
    "select \n",
    "report_dt, \n",
    "sum(agreement_balance_amt) as balance\n",
    "--open_dt, \n",
    "--weighted_plan_period,\n",
    "--open_dt_correct,\n",
    "--close_plan_dt,\n",
    "--ftp,\n",
    "--`vtb_[90d]_ftp_rate`,\n",
    "--`vtb_[180d]_ftp_rate`,\n",
    "--`vtb_[365d]_ftp_rate`,\n",
    "--`vtb_[548d]_ftp_rate`,\n",
    "--`vtb_[730d]_ftp_rate`,\n",
    "--`vtb_[1095d]_ftp_rate`\n",
    "\n",
    "\n",
    "\n",
    "from joined_table\n",
    "where ftp is not null\n",
    "group by report_dt\n",
    "order by report_dt\n",
    "\n",
    "\"\"\"\n"
   ]
  },
  {
   "cell_type": "code",
   "execution_count": null,
   "id": "44a0c103-c091-4119-a570-2de8ca569464",
   "metadata": {},
   "outputs": [],
   "source": [
    "df2 = spark.sql(query2)"
   ]
  },
  {
   "cell_type": "code",
   "execution_count": null,
   "id": "e010118f-e878-4b24-a638-9b6070325310",
   "metadata": {},
   "outputs": [],
   "source": [
    "pd_df2"
   ]
  },
  {
   "cell_type": "markdown",
   "id": "4929c42e-ea97-4423-80f4-0a9aaef232f3",
   "metadata": {},
   "source": [
    "### Извлечение запроса"
   ]
  },
  {
   "cell_type": "code",
   "execution_count": 7,
   "id": "cabd0393-4109-4e9a-84ea-3d9a1d374f91",
   "metadata": {},
   "outputs": [],
   "source": [
    "query3 = \"\"\"\n",
    "with joined_table as\n",
    "(\n",
    "\n",
    "\n",
    "with filtered_table as\n",
    "\n",
    "(\n",
    "select *,\n",
    "case \n",
    "when datediff(open_dt, last_renewal_dt)>10 and close_plan_dt< '2030-01-01' then date_add(close_plan_dt, -weighted_plan_period)\n",
    "else open_dt\n",
    "end\n",
    "as open_dt_correct\n",
    "\n",
    "from prod_dadm_alm_sbx.almde_fl_dpst_rate_bal_strt2010\n",
    "where report_dt>='2023-01-01'\n",
    "and report_dt<='2023-01-31'\n",
    "and currency_rk='rur'\n",
    "and category_full like '%dep%'\n",
    "and close_fact_dt >= report_dt\n",
    "and open_dt <= report_dt)\n",
    "\n",
    "\n",
    "select *,\n",
    "case \n",
    "when abs(1095-weighted_plan_period)<25 then `vtb_[1095d]_ftp_rate`\n",
    "when abs(180-weighted_plan_period)<25 then `vtb_[180d]_ftp_rate`\n",
    "when abs(365-weighted_plan_period)<25 then `vtb_[365d]_ftp_rate`\n",
    "when abs(548-weighted_plan_period)<25 then `vtb_[548d]_ftp_rate`\n",
    "when abs(730-weighted_plan_period)<25 then `vtb_[730d]_ftp_rate`\n",
    "when abs(90-weighted_plan_period)<25 then `vtb_[90d]_ftp_rate`\n",
    "end\n",
    "as ftp,\n",
    "\n",
    "case \n",
    "when abs(1095-weighted_plan_period)<25 then 1095\n",
    "when abs(180-weighted_plan_period)<25 then 180\n",
    "when abs(365-weighted_plan_period)<25 then 365\n",
    "when abs(548-weighted_plan_period)<25 then 548\n",
    "when abs(730-weighted_plan_period)<25 then 730\n",
    "when abs(90-weighted_plan_period)<25 then 90\n",
    "end\n",
    "as maturity,\n",
    "\n",
    "case \n",
    "when category_full='dep_repl' or category_full='dep_repl_sub' then 1\n",
    "else 0 \n",
    "end \n",
    "as replenishable_flg,\n",
    "\n",
    "case \n",
    "when category_full='dep_sub' or category_full='dep_repl_sub' then 1\n",
    "else 0 \n",
    "end \n",
    "as subtraction_flg\n",
    "\n",
    "\n",
    "\n",
    "from filtered_table\n",
    "left join dadm_alm_sbx.vtb_ftp_rates_full as ftp\n",
    "on filtered_table.open_dt_correct = ftp.report_date\n",
    "\n",
    "\n",
    ")\n",
    "\n",
    "\n",
    "select \n",
    "report_dt,\n",
    "agreement_balance_amt,\n",
    "case\n",
    "when ftp is Null then 0\n",
    "else ftp\n",
    "end\n",
    "as ftp,\n",
    "spread as spread\n",
    "\n",
    "\n",
    "from\n",
    "(\n",
    "select joined_table.*,\n",
    "case \n",
    "when maturity=90 and `date` is not NULL then 90_spread*100\n",
    "when maturity=180 and `date` is not NULL then 180_spread*100\n",
    "when maturity=365 and `date` is not NULL then 365_spread*100\n",
    "when maturity=548 and `date` is not NULL then 548_spread*100\n",
    "when maturity=730 and `date` is not NULL then 730_spread*100\n",
    "when maturity=1095 and `date` is not NULL then 1095_spread*100\n",
    "else 0\n",
    "end \n",
    "as spread\n",
    "\n",
    "from joined_table\n",
    "\n",
    "left join dadm_alm_sbx.vtb_spreads_deposits as spreads\n",
    "on joined_table.open_dt_correct = spreads.`date`\n",
    "and joined_table.replenishable_flg = spreads.replenishable_flg\n",
    "and joined_table.subtraction_flg = spreads.subtraction_flg\n",
    "\n",
    ") tmp\n",
    "\n",
    "\"\"\""
   ]
  },
  {
   "cell_type": "code",
   "execution_count": 8,
   "id": "64041653-2806-46bd-b590-70519952ad1e",
   "metadata": {},
   "outputs": [],
   "source": [
    "sp_df = spark.sql(query3)"
   ]
  },
  {
   "cell_type": "code",
   "execution_count": 9,
   "id": "d85e4664-9359-480b-b935-03cddab2068c",
   "metadata": {},
   "outputs": [
    {
     "name": "stderr",
     "output_type": "stream",
     "text": [
      "[Stage 0:>                                                        (0 + 28) / 45]23/10/17 13:48:14 ERROR cluster.YarnScheduler: Lost executor 2 on p0drp0-db5033xp.region.vtb.ru: Unable to create executor due to Address already in use: Service 'org.apache.spark.network.netty.NettyBlockTransferService' failed after 5 retries (starting from 63535)! Consider explicitly setting the appropriate port for the service 'org.apache.spark.network.netty.NettyBlockTransferService' (for example spark.ui.port for SparkUI) to an available port or increasing spark.port.maxRetries.\n",
      "                                                                                \r"
     ]
    }
   ],
   "source": [
    "sp_df.write.mode('overwrite').saveAsTable('dadm_alm_sbx.t_tmp_res_tnd_dep_v3')"
   ]
  },
  {
   "cell_type": "code",
   "execution_count": 3,
   "id": "4ed4a1dc-0d6e-4c9d-8c26-f574df825c90",
   "metadata": {},
   "outputs": [
    {
     "data": {
      "text/html": [
       "\n",
       "            <div>\n",
       "                <p><b>SparkSession - hive</b></p>\n",
       "                \n",
       "        <div>\n",
       "            <p><b>SparkContext</b></p>\n",
       "\n",
       "            <p><a href=\"http://10.183.10.45:4040\">Spark UI</a></p>\n",
       "\n",
       "            <dl>\n",
       "              <dt>Version</dt>\n",
       "                <dd><code>v2.4.0-cdh6.3.4</code></dd>\n",
       "              <dt>Master</dt>\n",
       "                <dd><code>yarn</code></dd>\n",
       "              <dt>AppName</dt>\n",
       "                <dd><code>create_ftp_t1</code></dd>\n",
       "            </dl>\n",
       "        </div>\n",
       "        \n",
       "            </div>\n",
       "        "
      ],
      "text/plain": [
       "<pyspark.sql.session.SparkSession at 0x7fc517d0da50>"
      ]
     },
     "execution_count": 3,
     "metadata": {},
     "output_type": "execute_result"
    }
   ],
   "source": [
    "spark"
   ]
  },
  {
   "cell_type": "code",
   "execution_count": 10,
   "id": "78093a75-d865-4b6b-bdf7-1daf97fd051c",
   "metadata": {},
   "outputs": [],
   "source": [
    "df2 = spark.table('dadm_alm_sbx.t_tmp_res_tnd_dep_v3')"
   ]
  },
  {
   "cell_type": "code",
   "execution_count": 11,
   "id": "714812f7-b650-4402-abc6-05cc8942fb31",
   "metadata": {},
   "outputs": [
    {
     "name": "stdout",
     "output_type": "stream",
     "text": [
      "root\n",
      " |-- report_dt: timestamp (nullable = true)\n",
      " |-- agreement_balance_amt: decimal(23,5) (nullable = true)\n",
      " |-- ftp: double (nullable = true)\n",
      " |-- spread: double (nullable = true)\n",
      "\n"
     ]
    }
   ],
   "source": [
    "df2.printSchema()"
   ]
  },
  {
   "cell_type": "code",
   "execution_count": 12,
   "id": "d7e9c844-09dc-4922-9f5c-f2bf639441a2",
   "metadata": {},
   "outputs": [],
   "source": [
    "from pyspark.sql.types import DecimalType"
   ]
  },
  {
   "cell_type": "code",
   "execution_count": 13,
   "id": "356cac9b-9d38-4089-9710-5d4a18f30cc3",
   "metadata": {},
   "outputs": [],
   "source": [
    "# меняем схему\n",
    "\n",
    "df2 = df2.withColumn('ftp1', df2['ftp'].cast(DecimalType(23,5)))\n",
    "df2 = df2.withColumn('spread1', df2['spread'].cast(DecimalType(23,5)))"
   ]
  },
  {
   "cell_type": "code",
   "execution_count": 14,
   "id": "263e0be4-5af2-4dea-946d-85937fa146d1",
   "metadata": {},
   "outputs": [
    {
     "name": "stdout",
     "output_type": "stream",
     "text": [
      "root\n",
      " |-- report_dt: timestamp (nullable = true)\n",
      " |-- agreement_balance_amt: decimal(23,5) (nullable = true)\n",
      " |-- ftp: double (nullable = true)\n",
      " |-- spread: double (nullable = true)\n",
      " |-- ftp1: decimal(23,5) (nullable = true)\n",
      " |-- spread1: decimal(23,5) (nullable = true)\n",
      "\n"
     ]
    }
   ],
   "source": [
    "df2.printSchema()"
   ]
  },
  {
   "cell_type": "code",
   "execution_count": 15,
   "id": "9692c689-2683-471c-a75a-1d389ddf77ae",
   "metadata": {},
   "outputs": [
    {
     "name": "stderr",
     "output_type": "stream",
     "text": [
      "[Stage 0:>                                                          (0 + 1) / 1]"
     ]
    },
    {
     "name": "stdout",
     "output_type": "stream",
     "text": [
      "+-------------------+---------------------+-----+-------------------+--------+-------+\n",
      "|          report_dt|agreement_balance_amt|  ftp|             spread|    ftp1|spread1|\n",
      "+-------------------+---------------------+-----+-------------------+--------+-------+\n",
      "|2023-01-16 00:00:00|         967548.47000|  8.0|0.13999999999999999| 8.00000|0.14000|\n",
      "|2023-01-14 00:00:00|           1199.39000|  7.6|               0.61| 7.60000|0.61000|\n",
      "|2023-01-07 00:00:00|         235000.00000|  8.0|                0.2| 8.00000|0.20000|\n",
      "|2023-01-28 00:00:00|         205275.01000|  8.0|                0.0| 8.00000|0.00000|\n",
      "|2023-01-18 00:00:00|         528567.12000| 8.25|                0.0| 8.25000|0.00000|\n",
      "|2023-01-25 00:00:00|        1072868.50000|  8.0|                0.0| 8.00000|0.00000|\n",
      "|2023-01-18 00:00:00|         208313.23000|  8.0|                0.0| 8.00000|0.00000|\n",
      "|2023-01-09 00:00:00|        1500000.00000| 8.25|                0.0| 8.25000|0.00000|\n",
      "|2023-01-17 00:00:00|          54628.09000|  9.0|                0.0| 9.00000|0.00000|\n",
      "|2023-01-11 00:00:00|         921242.99000|  8.0|                0.0| 8.00000|0.00000|\n",
      "|2023-01-02 00:00:00|        1014404.23000| 7.75|                0.0| 7.75000|0.00000|\n",
      "|2023-01-02 00:00:00|         709119.33000| 8.25|                0.0| 8.25000|0.00000|\n",
      "|2023-01-20 00:00:00|        1125963.66000|  8.0|                0.0| 8.00000|0.00000|\n",
      "|2023-01-23 00:00:00|        1063679.01000| 8.25|                0.0| 8.25000|0.00000|\n",
      "|2023-01-19 00:00:00|       13300000.00000|22.55|               1.04|22.55000|1.04000|\n",
      "|2023-01-11 00:00:00|         500000.00000| 8.25|                0.0| 8.25000|0.00000|\n",
      "|2023-01-27 00:00:00|        1012417.29000|  8.0|                0.0| 8.00000|0.00000|\n",
      "|2023-01-14 00:00:00|        2024239.19000|  8.0|0.13999999999999999| 8.00000|0.14000|\n",
      "|2023-01-10 00:00:00|          50287.67000|  8.0|0.13999999999999999| 8.00000|0.14000|\n",
      "|2023-01-28 00:00:00|         509856.38000| 8.25|                0.0| 8.25000|0.00000|\n",
      "+-------------------+---------------------+-----+-------------------+--------+-------+\n",
      "only showing top 20 rows\n",
      "\n"
     ]
    },
    {
     "name": "stderr",
     "output_type": "stream",
     "text": [
      "                                                                                \r"
     ]
    }
   ],
   "source": [
    "df2.show()"
   ]
  },
  {
   "cell_type": "code",
   "execution_count": 15,
   "id": "cc4f4f71-c30a-4806-ae08-c6eb333ba04a",
   "metadata": {},
   "outputs": [],
   "source": [
    "df2 = df2.withColumn('delta1', df2['ftp1'] - df2['spread1'])"
   ]
  },
  {
   "cell_type": "code",
   "execution_count": 16,
   "id": "b5e45738-9bd6-4530-a5f8-ea83735c6630",
   "metadata": {},
   "outputs": [],
   "source": [
    "df2 = df2.withColumn('balance_x_ftp', df2['delta1'] * df2['agreement_balance_amt'])"
   ]
  },
  {
   "cell_type": "code",
   "execution_count": null,
   "id": "74c2dcc7-9d07-454e-8e04-a59d8cef38ed",
   "metadata": {},
   "outputs": [],
   "source": []
  },
  {
   "cell_type": "code",
   "execution_count": null,
   "id": "9abdbc19-ad25-4bf8-af7e-1d4486c78b25",
   "metadata": {},
   "outputs": [],
   "source": []
  },
  {
   "cell_type": "code",
   "execution_count": 17,
   "id": "6af7626b-ad2e-47e5-baa7-2ef2dd094acf",
   "metadata": {},
   "outputs": [],
   "source": [
    "import pyspark.sql.functions as f"
   ]
  },
  {
   "cell_type": "code",
   "execution_count": 18,
   "id": "87f2f99b-147e-4a08-92e6-abe723fee4f8",
   "metadata": {},
   "outputs": [],
   "source": [
    "tmp = df2.groupBy('report_dt').agg((f.sum('balance_x_ftp')/f.sum('agreement_balance_amt')).alias('weighted_rate'), f.sum('agreement_balance_amt').alias('balance'))"
   ]
  },
  {
   "cell_type": "code",
   "execution_count": 20,
   "id": "ce5072d0-1b56-4766-9746-421a8c7d1631",
   "metadata": {},
   "outputs": [
    {
     "name": "stderr",
     "output_type": "stream",
     "text": [
      "                                                                                \r"
     ]
    },
    {
     "name": "stdout",
     "output_type": "stream",
     "text": [
      "+-------------------+-------------+-------------------+\n",
      "|          report_dt|weighted_rate|            balance|\n",
      "+-------------------+-------------+-------------------+\n",
      "|2023-01-05 00:00:00|     8.993548|2854769817711.27000|\n",
      "|2023-01-20 00:00:00|     8.951083|2945331175795.57000|\n",
      "|2023-01-08 00:00:00|     8.993178|2859336559709.23000|\n",
      "|2023-01-17 00:00:00|     8.960339|2924235969047.83000|\n",
      "|2023-01-26 00:00:00|     8.936219|2944653859925.65000|\n",
      "|2023-01-06 00:00:00|     8.993180|2856608049264.13000|\n",
      "|2023-01-23 00:00:00|     8.948751|2944642834031.13000|\n",
      "|2023-01-01 00:00:00|     8.995965|2841777066195.82000|\n",
      "|2023-01-13 00:00:00|     8.983424|2874665680674.62000|\n",
      "|2023-01-22 00:00:00|     8.950401|2948370173488.47000|\n",
      "|2023-01-21 00:00:00|     8.950560|2947572208504.23000|\n",
      "|2023-01-27 00:00:00|     8.931322|2948099584055.09000|\n",
      "|2023-01-02 00:00:00|     8.994704|2846112716320.90000|\n",
      "|2023-01-14 00:00:00|     8.982986|2877194558750.68000|\n",
      "|2023-01-10 00:00:00|     8.986914|2859623938651.42000|\n",
      "|2023-01-07 00:00:00|     8.993059|2857894139313.47000|\n",
      "|2023-01-24 00:00:00|     8.944286|2944908261780.17000|\n",
      "|2023-01-18 00:00:00|     8.954106|2933449889593.27000|\n",
      "|2023-01-09 00:00:00|     8.987748|2851436383165.84000|\n",
      "|2023-01-11 00:00:00|     8.985623|2865103937445.61000|\n",
      "+-------------------+-------------+-------------------+\n",
      "only showing top 20 rows\n",
      "\n"
     ]
    }
   ],
   "source": [
    "tmp.show()"
   ]
  },
  {
   "cell_type": "code",
   "execution_count": 21,
   "id": "1739d084-9c5a-45ad-a4da-48fb9545b284",
   "metadata": {},
   "outputs": [
    {
     "name": "stderr",
     "output_type": "stream",
     "text": [
      "                                                                                \r"
     ]
    }
   ],
   "source": [
    "tmp_df = tmp.toPandas()"
   ]
  },
  {
   "cell_type": "code",
   "execution_count": 22,
   "id": "ffa3c64a-15d0-4d13-932c-32ac7b6c74c5",
   "metadata": {},
   "outputs": [
    {
     "data": {
      "text/html": [
       "<div>\n",
       "<style scoped>\n",
       "    .dataframe tbody tr th:only-of-type {\n",
       "        vertical-align: middle;\n",
       "    }\n",
       "\n",
       "    .dataframe tbody tr th {\n",
       "        vertical-align: top;\n",
       "    }\n",
       "\n",
       "    .dataframe thead th {\n",
       "        text-align: right;\n",
       "    }\n",
       "</style>\n",
       "<table border=\"1\" class=\"dataframe\">\n",
       "  <thead>\n",
       "    <tr style=\"text-align: right;\">\n",
       "      <th></th>\n",
       "      <th>report_dt</th>\n",
       "      <th>weighted_rate</th>\n",
       "      <th>balance</th>\n",
       "    </tr>\n",
       "  </thead>\n",
       "  <tbody>\n",
       "    <tr>\n",
       "      <th>7</th>\n",
       "      <td>2023-01-01</td>\n",
       "      <td>8.995965</td>\n",
       "      <td>2841777066195.82000</td>\n",
       "    </tr>\n",
       "    <tr>\n",
       "      <th>12</th>\n",
       "      <td>2023-01-02</td>\n",
       "      <td>8.994704</td>\n",
       "      <td>2846112716320.90000</td>\n",
       "    </tr>\n",
       "    <tr>\n",
       "      <th>24</th>\n",
       "      <td>2023-01-03</td>\n",
       "      <td>8.993645</td>\n",
       "      <td>2848976060265.15000</td>\n",
       "    </tr>\n",
       "    <tr>\n",
       "      <th>28</th>\n",
       "      <td>2023-01-04</td>\n",
       "      <td>8.993524</td>\n",
       "      <td>2852350030171.56000</td>\n",
       "    </tr>\n",
       "    <tr>\n",
       "      <th>0</th>\n",
       "      <td>2023-01-05</td>\n",
       "      <td>8.993548</td>\n",
       "      <td>2854769817711.27000</td>\n",
       "    </tr>\n",
       "    <tr>\n",
       "      <th>5</th>\n",
       "      <td>2023-01-06</td>\n",
       "      <td>8.993180</td>\n",
       "      <td>2856608049264.13000</td>\n",
       "    </tr>\n",
       "    <tr>\n",
       "      <th>15</th>\n",
       "      <td>2023-01-07</td>\n",
       "      <td>8.993059</td>\n",
       "      <td>2857894139313.47000</td>\n",
       "    </tr>\n",
       "    <tr>\n",
       "      <th>2</th>\n",
       "      <td>2023-01-08</td>\n",
       "      <td>8.993178</td>\n",
       "      <td>2859336559709.23000</td>\n",
       "    </tr>\n",
       "    <tr>\n",
       "      <th>18</th>\n",
       "      <td>2023-01-09</td>\n",
       "      <td>8.987748</td>\n",
       "      <td>2851436383165.84000</td>\n",
       "    </tr>\n",
       "    <tr>\n",
       "      <th>14</th>\n",
       "      <td>2023-01-10</td>\n",
       "      <td>8.986914</td>\n",
       "      <td>2859623938651.42000</td>\n",
       "    </tr>\n",
       "    <tr>\n",
       "      <th>19</th>\n",
       "      <td>2023-01-11</td>\n",
       "      <td>8.985623</td>\n",
       "      <td>2865103937445.61000</td>\n",
       "    </tr>\n",
       "    <tr>\n",
       "      <th>29</th>\n",
       "      <td>2023-01-12</td>\n",
       "      <td>8.983068</td>\n",
       "      <td>2868884347900.42000</td>\n",
       "    </tr>\n",
       "    <tr>\n",
       "      <th>8</th>\n",
       "      <td>2023-01-13</td>\n",
       "      <td>8.983424</td>\n",
       "      <td>2874665680674.62000</td>\n",
       "    </tr>\n",
       "    <tr>\n",
       "      <th>13</th>\n",
       "      <td>2023-01-14</td>\n",
       "      <td>8.982986</td>\n",
       "      <td>2877194558750.68000</td>\n",
       "    </tr>\n",
       "    <tr>\n",
       "      <th>21</th>\n",
       "      <td>2023-01-15</td>\n",
       "      <td>8.982229</td>\n",
       "      <td>2878086154221.77000</td>\n",
       "    </tr>\n",
       "    <tr>\n",
       "      <th>25</th>\n",
       "      <td>2023-01-16</td>\n",
       "      <td>8.963389</td>\n",
       "      <td>2921943485132.36000</td>\n",
       "    </tr>\n",
       "    <tr>\n",
       "      <th>3</th>\n",
       "      <td>2023-01-17</td>\n",
       "      <td>8.960339</td>\n",
       "      <td>2924235969047.83000</td>\n",
       "    </tr>\n",
       "    <tr>\n",
       "      <th>17</th>\n",
       "      <td>2023-01-18</td>\n",
       "      <td>8.954106</td>\n",
       "      <td>2933449889593.27000</td>\n",
       "    </tr>\n",
       "    <tr>\n",
       "      <th>23</th>\n",
       "      <td>2023-01-19</td>\n",
       "      <td>8.953646</td>\n",
       "      <td>2941614901427.61000</td>\n",
       "    </tr>\n",
       "    <tr>\n",
       "      <th>1</th>\n",
       "      <td>2023-01-20</td>\n",
       "      <td>8.951083</td>\n",
       "      <td>2945331175795.57000</td>\n",
       "    </tr>\n",
       "    <tr>\n",
       "      <th>10</th>\n",
       "      <td>2023-01-21</td>\n",
       "      <td>8.950560</td>\n",
       "      <td>2947572208504.23000</td>\n",
       "    </tr>\n",
       "    <tr>\n",
       "      <th>9</th>\n",
       "      <td>2023-01-22</td>\n",
       "      <td>8.950401</td>\n",
       "      <td>2948370173488.47000</td>\n",
       "    </tr>\n",
       "    <tr>\n",
       "      <th>6</th>\n",
       "      <td>2023-01-23</td>\n",
       "      <td>8.948751</td>\n",
       "      <td>2944642834031.13000</td>\n",
       "    </tr>\n",
       "    <tr>\n",
       "      <th>16</th>\n",
       "      <td>2023-01-24</td>\n",
       "      <td>8.944286</td>\n",
       "      <td>2944908261780.17000</td>\n",
       "    </tr>\n",
       "    <tr>\n",
       "      <th>22</th>\n",
       "      <td>2023-01-25</td>\n",
       "      <td>8.941716</td>\n",
       "      <td>2944508214767.45000</td>\n",
       "    </tr>\n",
       "    <tr>\n",
       "      <th>4</th>\n",
       "      <td>2023-01-26</td>\n",
       "      <td>8.936219</td>\n",
       "      <td>2944653859925.65000</td>\n",
       "    </tr>\n",
       "    <tr>\n",
       "      <th>11</th>\n",
       "      <td>2023-01-27</td>\n",
       "      <td>8.931322</td>\n",
       "      <td>2948099584055.09000</td>\n",
       "    </tr>\n",
       "    <tr>\n",
       "      <th>27</th>\n",
       "      <td>2023-01-28</td>\n",
       "      <td>8.931512</td>\n",
       "      <td>2949557632043.75000</td>\n",
       "    </tr>\n",
       "    <tr>\n",
       "      <th>26</th>\n",
       "      <td>2023-01-29</td>\n",
       "      <td>8.931323</td>\n",
       "      <td>2950355960805.19000</td>\n",
       "    </tr>\n",
       "    <tr>\n",
       "      <th>20</th>\n",
       "      <td>2023-01-30</td>\n",
       "      <td>8.924048</td>\n",
       "      <td>2944846621444.58000</td>\n",
       "    </tr>\n",
       "  </tbody>\n",
       "</table>\n",
       "</div>"
      ],
      "text/plain": [
       "    report_dt weighted_rate              balance\n",
       "7  2023-01-01      8.995965  2841777066195.82000\n",
       "12 2023-01-02      8.994704  2846112716320.90000\n",
       "24 2023-01-03      8.993645  2848976060265.15000\n",
       "28 2023-01-04      8.993524  2852350030171.56000\n",
       "0  2023-01-05      8.993548  2854769817711.27000\n",
       "5  2023-01-06      8.993180  2856608049264.13000\n",
       "15 2023-01-07      8.993059  2857894139313.47000\n",
       "2  2023-01-08      8.993178  2859336559709.23000\n",
       "18 2023-01-09      8.987748  2851436383165.84000\n",
       "14 2023-01-10      8.986914  2859623938651.42000\n",
       "19 2023-01-11      8.985623  2865103937445.61000\n",
       "29 2023-01-12      8.983068  2868884347900.42000\n",
       "8  2023-01-13      8.983424  2874665680674.62000\n",
       "13 2023-01-14      8.982986  2877194558750.68000\n",
       "21 2023-01-15      8.982229  2878086154221.77000\n",
       "25 2023-01-16      8.963389  2921943485132.36000\n",
       "3  2023-01-17      8.960339  2924235969047.83000\n",
       "17 2023-01-18      8.954106  2933449889593.27000\n",
       "23 2023-01-19      8.953646  2941614901427.61000\n",
       "1  2023-01-20      8.951083  2945331175795.57000\n",
       "10 2023-01-21      8.950560  2947572208504.23000\n",
       "9  2023-01-22      8.950401  2948370173488.47000\n",
       "6  2023-01-23      8.948751  2944642834031.13000\n",
       "16 2023-01-24      8.944286  2944908261780.17000\n",
       "22 2023-01-25      8.941716  2944508214767.45000\n",
       "4  2023-01-26      8.936219  2944653859925.65000\n",
       "11 2023-01-27      8.931322  2948099584055.09000\n",
       "27 2023-01-28      8.931512  2949557632043.75000\n",
       "26 2023-01-29      8.931323  2950355960805.19000\n",
       "20 2023-01-30      8.924048  2944846621444.58000"
      ]
     },
     "execution_count": 22,
     "metadata": {},
     "output_type": "execute_result"
    }
   ],
   "source": [
    "tmp_df.sort_values(by='report_dt')"
   ]
  },
  {
   "cell_type": "code",
   "execution_count": 23,
   "id": "6b886a3b-731a-4488-ad47-909ae6dc3af4",
   "metadata": {},
   "outputs": [
    {
     "data": {
      "text/plain": [
       "8.518824039999998"
      ]
     },
     "execution_count": 23,
     "metadata": {},
     "output_type": "execute_result"
    }
   ],
   "source": [
    "tmp_df['weighted_rate'].mean()*0.95"
   ]
  },
  {
   "cell_type": "code",
   "execution_count": 24,
   "id": "9c9d3a21-3e4d-4c33-9290-97bba4a3b301",
   "metadata": {},
   "outputs": [],
   "source": [
    "tmp_df.to_csv('res_jun_ftp_v2.csv')"
   ]
  },
  {
   "cell_type": "code",
   "execution_count": null,
   "id": "b972880c-51b1-4cd5-a1e3-46a7e62ecf58",
   "metadata": {},
   "outputs": [],
   "source": []
  }
 ],
 "metadata": {
  "kernelspec": {
   "display_name": "hmelevskoi_env",
   "language": "python",
   "name": "hmelevskoi_env"
  },
  "language_info": {
   "codemirror_mode": {
    "name": "ipython",
    "version": 3
   },
   "file_extension": ".py",
   "mimetype": "text/x-python",
   "name": "python",
   "nbconvert_exporter": "python",
   "pygments_lexer": "ipython3",
   "version": "3.7.16"
  }
 },
 "nbformat": 4,
 "nbformat_minor": 5
}
