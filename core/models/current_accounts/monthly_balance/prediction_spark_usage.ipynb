{
 "cells": [
  {
   "cell_type": "markdown",
   "metadata": {},
   "source": [
    "# Monthly current account forecasting with Spark data\n\n",
    "This notebook illustrates how to train and score the monthly balance forecaster\n",
    "using production tables available through Spark.  Unlike the synthetic demo,\n",
    "here we rely on live extracts loaded by `MonthlyBalanceDataLoader` and reuse the\n",
    "helpers in `core/models/current_accounts/monthly_balance/prediction.py`."
   ]
  },
  {
   "cell_type": "markdown",
   "metadata": {},
   "source": [
    "## Prerequisites\n\n",
    "* Access to Spark with the tables referenced by `MonthlyBalanceConfig`.\n",
    "* A CSV with historical key-rate data (update `key_rate_path` if needed).\n",
    "* The utilities defined in `prediction.py` available on the Python path."
   ]
  },
  {
   "cell_type": "code",
   "execution_count": null,
   "metadata": {},
   "outputs": [],
   "source": "import pandas as pd\nimport polars as pl\nfrom dateutil.relativedelta import relativedelta\nfrom pyspark.sql import SparkSession\n\nfrom core.models.current_accounts.monthly_balance.prediction import (\n    MonthlyBalanceConfig,\n    MonthlyBalanceDataLoader,\n    MonthlyBalanceModelTrainer,\n)"
  },
  {
   "cell_type": "markdown",
   "metadata": {},
   "source": [
    "## Connect to Spark\n\n",
    "Initialise or reuse a Spark session so the loader can query the source tables."
   ]
  },
  {
   "cell_type": "code",
   "execution_count": null,
   "metadata": {},
   "outputs": [],
   "source": "spark = SparkSession.builder.getOrCreate()\n\nspark"
  },
  {
   "cell_type": "markdown",
   "metadata": {},
   "source": [
    "## Discover the available training window\n\n",
    "The loader inspects the account aggregate table to determine the earliest and\n",
    "latest report dates we can use for modelling.  Adjust `key_rate_path` if the\n",
    "default CSV location differs in your environment."
   ]
  },
  {
   "cell_type": "code",
   "execution_count": null,
   "metadata": {},
   "outputs": [],
   "source": "config = MonthlyBalanceConfig(\n    key_rate_path='/path/to/key_rate.csv'  # update with the actual file location\n)\nloader = MonthlyBalanceDataLoader(config)\ntrainer = MonthlyBalanceModelTrainer(config)\n\ntrain_start, train_end = loader.get_maximum_train_range(spark)\ntrain_start, train_end"
  },
  {
   "cell_type": "markdown",
   "metadata": {},
   "source": [
    "## Fit the forecaster on the historical window\n\n",
    "Here we retrain the linear baseline on the full range.  Persist the fitted\n",
    "model with `trainer.save_trained_model` if you want to reuse it later."
   ]
  },
  {
   "cell_type": "code",
   "execution_count": null,
   "metadata": {},
   "outputs": [],
   "source": "model = trainer.get_trained_model(spark=spark, end_date=train_end, start_date=train_start)"
  },
  {
   "cell_type": "markdown",
   "metadata": {},
   "source": [
    "## Load the latest aggregates for scoring\n\n",
    "The prediction payload reuses the same extracts as the trainer.  We keep the\n",
    "frames in Polars so they can be passed directly to `MonthlyBalanceForecaster`."
   ]
  },
  {
   "cell_type": "code",
   "execution_count": null,
   "metadata": {},
   "outputs": [],
   "source": "prediction_frames = loader.get_prediction_data(spark, start_date=train_start, end_date=train_end)\n\ncurrent_accounts = pl.DataFrame(prediction_frames['current_accounts']).with_columns(\n    pl.col('report_dt').cast(pl.Date)\n)\nftp_rates = pl.DataFrame(prediction_frames['ftp_rates']).with_columns(\n    pl.col('report_dt').cast(pl.Date)\n)\nmarket_rates = pl.DataFrame(prediction_frames['market_rates']).with_columns(\n    pl.col('report_dt').cast(pl.Date)\n)"
  },
  {
   "cell_type": "markdown",
   "metadata": {},
   "source": [
    "## Build a baseline scenario\n\n",
    "The forecaster needs future paths for FTP and key rates.  Replace the block\n",
    "below with your scenario feeds (for example, corporate planning files or risk\n",
    "scenarios).  As a placeholder we keep the last observed values constant over\n",
    "the forecast horizon."
   ]
  },
  {
   "cell_type": "code",
   "execution_count": null,
   "metadata": {},
   "outputs": [],
   "source": "forecast_dates = pd.date_range(train_end + relativedelta(months=1), periods=config.horizon, freq='M')\n\nftp_history = ftp_rates.to_pandas().sort_values('report_dt')\nmarket_history = market_rates.to_pandas().sort_values('report_dt')\n\nlast_ftp = ftp_history.iloc[-1]\nlast_market = market_history.iloc[-1]\n\nscenario_pdf = pd.DataFrame({\n    'report_dt': forecast_dates,\n    'VTB_90d_ftp_rate': last_ftp['VTB_90d_ftp_rate'],\n    'VTB_365d_ftp_rate': last_ftp['VTB_365d_ftp_rate'],\n    'key_rate': last_market['key_rate'],\n})\n\nftp_scenario = pl.DataFrame(scenario_pdf[['report_dt', 'VTB_90d_ftp_rate', 'VTB_365d_ftp_rate']]).with_columns(\n    pl.col('report_dt').cast(pl.Date)\n)\nmarket_scenario = pl.DataFrame(scenario_pdf[['report_dt', 'key_rate']]).with_columns(\n    pl.col('report_dt').cast(pl.Date)\n)"
  },
  {
   "cell_type": "markdown",
   "metadata": {},
   "source": [
    "## Run the forecast\n\n",
    "Invoke the fitted forecaster with the assembled scenario to obtain the balance\n",
    "projection for each segment."
   ]
  },
  {
   "cell_type": "code",
   "execution_count": null,
   "metadata": {},
   "outputs": [],
   "source": "forecast_start = forecast_dates[0].date()\n\nforecast_df = model.predict(\n    current_accounts=current_accounts,\n    ftp_rates=ftp_rates,\n    ftp_rates_scenario=ftp_scenario,\n    market_rates=market_rates,\n    market_rates_scenario=market_scenario,\n    forecast_start=forecast_start,\n    horizon=config.horizon,\n)\n\nforecast_df.head()"
  },
  {
   "cell_type": "markdown",
   "metadata": {},
   "source": [
    "## Persist the results (optional)\n\n",
    "Export the forecast to a warehouse or a CSV as required by your workflow."
   ]
  },
  {
   "cell_type": "code",
   "execution_count": null,
   "metadata": {},
   "outputs": [],
   "source": "forecast_df.to_csv('monthly_balance_forecast.csv', index=False)\nforecast_df.shape"
  }
 ],
 "metadata": {
  "kernelspec": {
   "display_name": "Python 3",
   "language": "python",
   "name": "python3"
  },
  "language_info": {
   "name": "python",
   "version": "3.10"
  }
 },
 "nbformat": 4,
 "nbformat_minor": 5
}